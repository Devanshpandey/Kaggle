{
 "cells": [
  {
   "cell_type": "markdown",
   "metadata": {},
   "source": [
    "# Simple XGBoost Analysis\n",
    "* Data: [Adult Data Set](https://archive.ics.uci.edu/ml/datasets/Adult) from UCI Machine Learning Repository\n",
    "* Link: [Adult data](https://archive.ics.uci.edu/ml/machine-learning-databases/adult/)"
   ]
  },
  {
   "cell_type": "code",
   "execution_count": 2,
   "metadata": {},
   "outputs": [
    {
     "name": "stdout",
     "output_type": "stream",
     "text": [
      "Scikit-learn:\t 0.19.0\n",
      "Numpy:\t\t 1.13.3\n",
      "Pandas:\t\t 0.20.3\n",
      "Matplotlib:\t 2.0.2\n",
      "XGBoost:\t 0.6\n"
     ]
    }
   ],
   "source": [
    "import warnings\n",
    "import numpy as np\n",
    "import pandas as pd\n",
    "import matplotlib as mpl\n",
    "import matplotlib.pyplot as plt\n",
    "import sklearn\n",
    "import xgboost as xgb\n",
    "from sklearn.metrics import confusion_matrix\n",
    "from sklearn.metrics import accuracy_score\n",
    "from sklearn.model_selection import GridSearchCV\n",
    "\n",
    "warnings.simplefilter('ignore')\n",
    "%matplotlib inline\n",
    "\n",
    "print('Scikit-learn:\\t', sklearn.__version__)\n",
    "print('Numpy:\\t\\t', np.__version__)\n",
    "print('Pandas:\\t\\t', pd.__version__)\n",
    "print('Matplotlib:\\t', mpl.__version__)\n",
    "print('XGBoost:\\t', xgb.__version__)"
   ]
  },
  {
   "cell_type": "markdown",
   "metadata": {},
   "source": [
    "## Read Data"
   ]
  },
  {
   "cell_type": "code",
   "execution_count": 3,
   "metadata": {
    "collapsed": true
   },
   "outputs": [],
   "source": [
    "names = ['age', 'workclass', 'fnlwget', 'education', 'education-num', \n",
    "         'marital-status', 'occupation','relation', 'race', 'sex', \n",
    "         'capital-gain', 'capital-loss', 'hours-per-week', 'native-country', 'target']\n",
    "train = pd.read_csv('./data/Adult/adult.data', header=None, names=names, na_values=' ?')\n",
    "test = pd.read_csv('./data/Adult/adult.test', header=None, names=names, skiprows=1, na_values=' ?')"
   ]
  },
  {
   "cell_type": "code",
   "execution_count": 4,
   "metadata": {},
   "outputs": [
    {
     "data": {
      "text/html": [
       "<div>\n",
       "<style>\n",
       "    .dataframe thead tr:only-child th {\n",
       "        text-align: right;\n",
       "    }\n",
       "\n",
       "    .dataframe thead th {\n",
       "        text-align: left;\n",
       "    }\n",
       "\n",
       "    .dataframe tbody tr th {\n",
       "        vertical-align: top;\n",
       "    }\n",
       "</style>\n",
       "<table border=\"1\" class=\"dataframe\">\n",
       "  <thead>\n",
       "    <tr style=\"text-align: right;\">\n",
       "      <th></th>\n",
       "      <th>age</th>\n",
       "      <th>workclass</th>\n",
       "      <th>fnlwget</th>\n",
       "      <th>education</th>\n",
       "      <th>education-num</th>\n",
       "      <th>marital-status</th>\n",
       "      <th>occupation</th>\n",
       "      <th>relation</th>\n",
       "      <th>race</th>\n",
       "      <th>sex</th>\n",
       "      <th>capital-gain</th>\n",
       "      <th>capital-loss</th>\n",
       "      <th>hours-per-week</th>\n",
       "      <th>native-country</th>\n",
       "      <th>target</th>\n",
       "    </tr>\n",
       "  </thead>\n",
       "  <tbody>\n",
       "    <tr>\n",
       "      <th>0</th>\n",
       "      <td>39</td>\n",
       "      <td>State-gov</td>\n",
       "      <td>77516</td>\n",
       "      <td>Bachelors</td>\n",
       "      <td>13</td>\n",
       "      <td>Never-married</td>\n",
       "      <td>Adm-clerical</td>\n",
       "      <td>Not-in-family</td>\n",
       "      <td>White</td>\n",
       "      <td>Male</td>\n",
       "      <td>2174</td>\n",
       "      <td>0</td>\n",
       "      <td>40</td>\n",
       "      <td>United-States</td>\n",
       "      <td>&lt;=50K</td>\n",
       "    </tr>\n",
       "    <tr>\n",
       "      <th>1</th>\n",
       "      <td>50</td>\n",
       "      <td>Self-emp-not-inc</td>\n",
       "      <td>83311</td>\n",
       "      <td>Bachelors</td>\n",
       "      <td>13</td>\n",
       "      <td>Married-civ-spouse</td>\n",
       "      <td>Exec-managerial</td>\n",
       "      <td>Husband</td>\n",
       "      <td>White</td>\n",
       "      <td>Male</td>\n",
       "      <td>0</td>\n",
       "      <td>0</td>\n",
       "      <td>13</td>\n",
       "      <td>United-States</td>\n",
       "      <td>&lt;=50K</td>\n",
       "    </tr>\n",
       "    <tr>\n",
       "      <th>2</th>\n",
       "      <td>38</td>\n",
       "      <td>Private</td>\n",
       "      <td>215646</td>\n",
       "      <td>HS-grad</td>\n",
       "      <td>9</td>\n",
       "      <td>Divorced</td>\n",
       "      <td>Handlers-cleaners</td>\n",
       "      <td>Not-in-family</td>\n",
       "      <td>White</td>\n",
       "      <td>Male</td>\n",
       "      <td>0</td>\n",
       "      <td>0</td>\n",
       "      <td>40</td>\n",
       "      <td>United-States</td>\n",
       "      <td>&lt;=50K</td>\n",
       "    </tr>\n",
       "    <tr>\n",
       "      <th>3</th>\n",
       "      <td>53</td>\n",
       "      <td>Private</td>\n",
       "      <td>234721</td>\n",
       "      <td>11th</td>\n",
       "      <td>7</td>\n",
       "      <td>Married-civ-spouse</td>\n",
       "      <td>Handlers-cleaners</td>\n",
       "      <td>Husband</td>\n",
       "      <td>Black</td>\n",
       "      <td>Male</td>\n",
       "      <td>0</td>\n",
       "      <td>0</td>\n",
       "      <td>40</td>\n",
       "      <td>United-States</td>\n",
       "      <td>&lt;=50K</td>\n",
       "    </tr>\n",
       "    <tr>\n",
       "      <th>4</th>\n",
       "      <td>28</td>\n",
       "      <td>Private</td>\n",
       "      <td>338409</td>\n",
       "      <td>Bachelors</td>\n",
       "      <td>13</td>\n",
       "      <td>Married-civ-spouse</td>\n",
       "      <td>Prof-specialty</td>\n",
       "      <td>Wife</td>\n",
       "      <td>Black</td>\n",
       "      <td>Female</td>\n",
       "      <td>0</td>\n",
       "      <td>0</td>\n",
       "      <td>40</td>\n",
       "      <td>Cuba</td>\n",
       "      <td>&lt;=50K</td>\n",
       "    </tr>\n",
       "  </tbody>\n",
       "</table>\n",
       "</div>"
      ],
      "text/plain": [
       "   age          workclass  fnlwget   education  education-num  \\\n",
       "0   39          State-gov    77516   Bachelors             13   \n",
       "1   50   Self-emp-not-inc    83311   Bachelors             13   \n",
       "2   38            Private   215646     HS-grad              9   \n",
       "3   53            Private   234721        11th              7   \n",
       "4   28            Private   338409   Bachelors             13   \n",
       "\n",
       "        marital-status          occupation        relation    race      sex  \\\n",
       "0        Never-married        Adm-clerical   Not-in-family   White     Male   \n",
       "1   Married-civ-spouse     Exec-managerial         Husband   White     Male   \n",
       "2             Divorced   Handlers-cleaners   Not-in-family   White     Male   \n",
       "3   Married-civ-spouse   Handlers-cleaners         Husband   Black     Male   \n",
       "4   Married-civ-spouse      Prof-specialty            Wife   Black   Female   \n",
       "\n",
       "   capital-gain  capital-loss  hours-per-week  native-country  target  \n",
       "0          2174             0              40   United-States   <=50K  \n",
       "1             0             0              13   United-States   <=50K  \n",
       "2             0             0              40   United-States   <=50K  \n",
       "3             0             0              40   United-States   <=50K  \n",
       "4             0             0              40            Cuba   <=50K  "
      ]
     },
     "execution_count": 4,
     "metadata": {},
     "output_type": "execute_result"
    }
   ],
   "source": [
    "train.head()"
   ]
  },
  {
   "cell_type": "markdown",
   "metadata": {},
   "source": [
    "## Exploratory Data Analysis"
   ]
  },
  {
   "cell_type": "code",
   "execution_count": 5,
   "metadata": {},
   "outputs": [
    {
     "name": "stdout",
     "output_type": "stream",
     "text": [
      "<class 'pandas.core.frame.DataFrame'>\n",
      "RangeIndex: 32561 entries, 0 to 32560\n",
      "Data columns (total 15 columns):\n",
      "age               32561 non-null int64\n",
      "workclass         30725 non-null object\n",
      "fnlwget           32561 non-null int64\n",
      "education         32561 non-null object\n",
      "education-num     32561 non-null int64\n",
      "marital-status    32561 non-null object\n",
      "occupation        30718 non-null object\n",
      "relation          32561 non-null object\n",
      "race              32561 non-null object\n",
      "sex               32561 non-null object\n",
      "capital-gain      32561 non-null int64\n",
      "capital-loss      32561 non-null int64\n",
      "hours-per-week    32561 non-null int64\n",
      "native-country    31978 non-null object\n",
      "target            32561 non-null object\n",
      "dtypes: int64(6), object(9)\n",
      "memory usage: 3.7+ MB\n"
     ]
    }
   ],
   "source": [
    "train.info()"
   ]
  },
  {
   "cell_type": "code",
   "execution_count": 6,
   "metadata": {},
   "outputs": [
    {
     "data": {
      "text/plain": [
       "age                  0\n",
       "workclass         1836\n",
       "fnlwget              0\n",
       "education            0\n",
       "education-num        0\n",
       "marital-status       0\n",
       "occupation        1843\n",
       "relation             0\n",
       "race                 0\n",
       "sex                  0\n",
       "capital-gain         0\n",
       "capital-loss         0\n",
       "hours-per-week       0\n",
       "native-country     583\n",
       "target               0\n",
       "dtype: int64"
      ]
     },
     "execution_count": 6,
     "metadata": {},
     "output_type": "execute_result"
    }
   ],
   "source": [
    "# missing values\n",
    "train.isnull().sum()"
   ]
  },
  {
   "cell_type": "code",
   "execution_count": 7,
   "metadata": {},
   "outputs": [
    {
     "data": {
      "text/plain": [
       "age                 0\n",
       "workclass         963\n",
       "fnlwget             0\n",
       "education           0\n",
       "education-num       0\n",
       "marital-status      0\n",
       "occupation        966\n",
       "relation            0\n",
       "race                0\n",
       "sex                 0\n",
       "capital-gain        0\n",
       "capital-loss        0\n",
       "hours-per-week      0\n",
       "native-country    274\n",
       "target              0\n",
       "dtype: int64"
      ]
     },
     "execution_count": 7,
     "metadata": {},
     "output_type": "execute_result"
    }
   ],
   "source": [
    "test.isnull().sum()"
   ]
  },
  {
   "cell_type": "markdown",
   "metadata": {},
   "source": [
    "## Feature Engineering"
   ]
  },
  {
   "cell_type": "code",
   "execution_count": 8,
   "metadata": {
    "collapsed": true
   },
   "outputs": [],
   "source": [
    "# fill missing value with string 'missing'\n",
    "train.loc[train['workclass'].isnull(), 'workclass'] = 'missing'\n",
    "test.loc[test['workclass'].isnull(), 'workclass'] = 'missing'\n",
    "\n",
    "train.loc[train['occupation'].isnull(), 'occupation'] = 'missing'\n",
    "test.loc[test['occupation'].isnull(), 'occupation'] = 'missing'\n",
    "\n",
    "train.loc[train['native-country'].isnull(), 'native-country'] = 'missing'\n",
    "test.loc[test['native-country'].isnull(), 'native-country'] = 'missing'"
   ]
  },
  {
   "cell_type": "code",
   "execution_count": 9,
   "metadata": {
    "collapsed": true
   },
   "outputs": [],
   "source": [
    "# categorical and numerical features\n",
    "cat_feature = ['workclass', 'education', 'marital-status', 'occupation', 'relation', 'race', 'sex', 'native-country']\n",
    "num_feature = ['age', 'fnlwget', 'education-num', 'capital-gain', 'capital-loss', 'hours-per-week']"
   ]
  },
  {
   "cell_type": "code",
   "execution_count": 10,
   "metadata": {
    "collapsed": true
   },
   "outputs": [],
   "source": [
    "# trim the space for categorical features\n",
    "for name in cat_feature + ['target']:\n",
    "    train[name] = train[name].apply(lambda x: x.strip())\n",
    "    test[name] = test[name].apply(lambda x: x.strip())"
   ]
  },
  {
   "cell_type": "code",
   "execution_count": 11,
   "metadata": {},
   "outputs": [
    {
     "name": "stdout",
     "output_type": "stream",
     "text": [
      "train:\t ['<=50K' '>50K']\n",
      "test:\t ['<=50K.' '>50K.']\n"
     ]
    }
   ],
   "source": [
    "# transform target values\n",
    "print('train:\\t', train['target'].unique())\n",
    "print('test:\\t', test['target'].unique())\n",
    "\n",
    "# transform into binary\n",
    "train_tr = train['target'].apply(lambda x: 0 if x == '<=50K' else 1).values\n",
    "test_tr = test['target'].apply(lambda x: 0 if x == '<=50K.' else 1).values"
   ]
  },
  {
   "cell_type": "code",
   "execution_count": 12,
   "metadata": {
    "collapsed": true
   },
   "outputs": [],
   "source": [
    "# drop target values\n",
    "train = train.drop('target', axis=1)\n",
    "test = test.drop('target', axis=1)"
   ]
  },
  {
   "cell_type": "code",
   "execution_count": 13,
   "metadata": {},
   "outputs": [
    {
     "name": "stdout",
     "output_type": "stream",
     "text": [
      "train:\t ['Male' 'Female']\n",
      "test:\t ['Male' 'Female']\n"
     ]
    }
   ],
   "source": [
    "# transform sex values\n",
    "print('train:\\t', train['sex'].unique())\n",
    "print('test:\\t', test['sex'].unique())\n",
    "\n",
    "# transform into binary\n",
    "train['sex'] = train['sex'].apply(lambda x: 0 if x == 'Male' else 1)\n",
    "test['sex'] = test['sex'].apply(lambda x: 0 if x == 'Male' else 1)"
   ]
  },
  {
   "cell_type": "code",
   "execution_count": 14,
   "metadata": {},
   "outputs": [
    {
     "data": {
      "text/html": [
       "<div>\n",
       "<style>\n",
       "    .dataframe thead tr:only-child th {\n",
       "        text-align: right;\n",
       "    }\n",
       "\n",
       "    .dataframe thead th {\n",
       "        text-align: left;\n",
       "    }\n",
       "\n",
       "    .dataframe tbody tr th {\n",
       "        vertical-align: top;\n",
       "    }\n",
       "</style>\n",
       "<table border=\"1\" class=\"dataframe\">\n",
       "  <thead>\n",
       "    <tr style=\"text-align: right;\">\n",
       "      <th></th>\n",
       "      <th>age</th>\n",
       "      <th>workclass</th>\n",
       "      <th>fnlwget</th>\n",
       "      <th>education</th>\n",
       "      <th>education-num</th>\n",
       "      <th>marital-status</th>\n",
       "      <th>occupation</th>\n",
       "      <th>relation</th>\n",
       "      <th>race</th>\n",
       "      <th>sex</th>\n",
       "      <th>capital-gain</th>\n",
       "      <th>capital-loss</th>\n",
       "      <th>hours-per-week</th>\n",
       "      <th>native-country</th>\n",
       "    </tr>\n",
       "  </thead>\n",
       "  <tbody>\n",
       "    <tr>\n",
       "      <th>0</th>\n",
       "      <td>39</td>\n",
       "      <td>State-gov</td>\n",
       "      <td>77516</td>\n",
       "      <td>Bachelors</td>\n",
       "      <td>13</td>\n",
       "      <td>Never-married</td>\n",
       "      <td>Adm-clerical</td>\n",
       "      <td>Not-in-family</td>\n",
       "      <td>White</td>\n",
       "      <td>0</td>\n",
       "      <td>2174</td>\n",
       "      <td>0</td>\n",
       "      <td>40</td>\n",
       "      <td>United-States</td>\n",
       "    </tr>\n",
       "    <tr>\n",
       "      <th>1</th>\n",
       "      <td>50</td>\n",
       "      <td>Self-emp-not-inc</td>\n",
       "      <td>83311</td>\n",
       "      <td>Bachelors</td>\n",
       "      <td>13</td>\n",
       "      <td>Married-civ-spouse</td>\n",
       "      <td>Exec-managerial</td>\n",
       "      <td>Husband</td>\n",
       "      <td>White</td>\n",
       "      <td>0</td>\n",
       "      <td>0</td>\n",
       "      <td>0</td>\n",
       "      <td>13</td>\n",
       "      <td>United-States</td>\n",
       "    </tr>\n",
       "    <tr>\n",
       "      <th>2</th>\n",
       "      <td>38</td>\n",
       "      <td>Private</td>\n",
       "      <td>215646</td>\n",
       "      <td>HS-grad</td>\n",
       "      <td>9</td>\n",
       "      <td>Divorced</td>\n",
       "      <td>Handlers-cleaners</td>\n",
       "      <td>Not-in-family</td>\n",
       "      <td>White</td>\n",
       "      <td>0</td>\n",
       "      <td>0</td>\n",
       "      <td>0</td>\n",
       "      <td>40</td>\n",
       "      <td>United-States</td>\n",
       "    </tr>\n",
       "    <tr>\n",
       "      <th>3</th>\n",
       "      <td>53</td>\n",
       "      <td>Private</td>\n",
       "      <td>234721</td>\n",
       "      <td>11th</td>\n",
       "      <td>7</td>\n",
       "      <td>Married-civ-spouse</td>\n",
       "      <td>Handlers-cleaners</td>\n",
       "      <td>Husband</td>\n",
       "      <td>Black</td>\n",
       "      <td>0</td>\n",
       "      <td>0</td>\n",
       "      <td>0</td>\n",
       "      <td>40</td>\n",
       "      <td>United-States</td>\n",
       "    </tr>\n",
       "    <tr>\n",
       "      <th>4</th>\n",
       "      <td>28</td>\n",
       "      <td>Private</td>\n",
       "      <td>338409</td>\n",
       "      <td>Bachelors</td>\n",
       "      <td>13</td>\n",
       "      <td>Married-civ-spouse</td>\n",
       "      <td>Prof-specialty</td>\n",
       "      <td>Wife</td>\n",
       "      <td>Black</td>\n",
       "      <td>1</td>\n",
       "      <td>0</td>\n",
       "      <td>0</td>\n",
       "      <td>40</td>\n",
       "      <td>Cuba</td>\n",
       "    </tr>\n",
       "  </tbody>\n",
       "</table>\n",
       "</div>"
      ],
      "text/plain": [
       "   age         workclass  fnlwget  education  education-num  \\\n",
       "0   39         State-gov    77516  Bachelors             13   \n",
       "1   50  Self-emp-not-inc    83311  Bachelors             13   \n",
       "2   38           Private   215646    HS-grad              9   \n",
       "3   53           Private   234721       11th              7   \n",
       "4   28           Private   338409  Bachelors             13   \n",
       "\n",
       "       marital-status         occupation       relation   race  sex  \\\n",
       "0       Never-married       Adm-clerical  Not-in-family  White    0   \n",
       "1  Married-civ-spouse    Exec-managerial        Husband  White    0   \n",
       "2            Divorced  Handlers-cleaners  Not-in-family  White    0   \n",
       "3  Married-civ-spouse  Handlers-cleaners        Husband  Black    0   \n",
       "4  Married-civ-spouse     Prof-specialty           Wife  Black    1   \n",
       "\n",
       "   capital-gain  capital-loss  hours-per-week native-country  \n",
       "0          2174             0              40  United-States  \n",
       "1             0             0              13  United-States  \n",
       "2             0             0              40  United-States  \n",
       "3             0             0              40  United-States  \n",
       "4             0             0              40           Cuba  "
      ]
     },
     "execution_count": 14,
     "metadata": {},
     "output_type": "execute_result"
    }
   ],
   "source": [
    "# merget data together for better processing\n",
    "data = pd.concat([train, test])\n",
    "data.head()"
   ]
  },
  {
   "cell_type": "code",
   "execution_count": 15,
   "metadata": {},
   "outputs": [
    {
     "data": {
      "text/plain": [
       "(48842, 107)"
      ]
     },
     "execution_count": 15,
     "metadata": {},
     "output_type": "execute_result"
    }
   ],
   "source": [
    "# categorical and numerical features\n",
    "cat_feature = ['workclass', 'education', 'marital-status', 'occupation', 'relation', 'race', 'native-country']\n",
    "num_feature = ['age', 'fnlwget', 'education-num', 'sex', 'capital-gain', 'capital-loss', 'hours-per-week']\n",
    "\n",
    "# One-hot encoding categorical features\n",
    "tmp = pd.get_dummies(data[cat_feature])\n",
    "dummy_data = pd.concat([data[num_feature], tmp], axis=1)\n",
    "dummy_data.shape"
   ]
  },
  {
   "cell_type": "code",
   "execution_count": 16,
   "metadata": {},
   "outputs": [
    {
     "data": {
      "text/html": [
       "<div>\n",
       "<style>\n",
       "    .dataframe thead tr:only-child th {\n",
       "        text-align: right;\n",
       "    }\n",
       "\n",
       "    .dataframe thead th {\n",
       "        text-align: left;\n",
       "    }\n",
       "\n",
       "    .dataframe tbody tr th {\n",
       "        vertical-align: top;\n",
       "    }\n",
       "</style>\n",
       "<table border=\"1\" class=\"dataframe\">\n",
       "  <thead>\n",
       "    <tr style=\"text-align: right;\">\n",
       "      <th></th>\n",
       "      <th>age</th>\n",
       "      <th>fnlwget</th>\n",
       "      <th>education-num</th>\n",
       "      <th>sex</th>\n",
       "      <th>capital-gain</th>\n",
       "      <th>capital-loss</th>\n",
       "      <th>hours-per-week</th>\n",
       "      <th>workclass_Federal-gov</th>\n",
       "      <th>workclass_Local-gov</th>\n",
       "      <th>workclass_Never-worked</th>\n",
       "      <th>...</th>\n",
       "      <th>native-country_Puerto-Rico</th>\n",
       "      <th>native-country_Scotland</th>\n",
       "      <th>native-country_South</th>\n",
       "      <th>native-country_Taiwan</th>\n",
       "      <th>native-country_Thailand</th>\n",
       "      <th>native-country_Trinadad&amp;Tobago</th>\n",
       "      <th>native-country_United-States</th>\n",
       "      <th>native-country_Vietnam</th>\n",
       "      <th>native-country_Yugoslavia</th>\n",
       "      <th>native-country_missing</th>\n",
       "    </tr>\n",
       "  </thead>\n",
       "  <tbody>\n",
       "    <tr>\n",
       "      <th>0</th>\n",
       "      <td>39</td>\n",
       "      <td>77516</td>\n",
       "      <td>13</td>\n",
       "      <td>0</td>\n",
       "      <td>2174</td>\n",
       "      <td>0</td>\n",
       "      <td>40</td>\n",
       "      <td>0</td>\n",
       "      <td>0</td>\n",
       "      <td>0</td>\n",
       "      <td>...</td>\n",
       "      <td>0</td>\n",
       "      <td>0</td>\n",
       "      <td>0</td>\n",
       "      <td>0</td>\n",
       "      <td>0</td>\n",
       "      <td>0</td>\n",
       "      <td>1</td>\n",
       "      <td>0</td>\n",
       "      <td>0</td>\n",
       "      <td>0</td>\n",
       "    </tr>\n",
       "    <tr>\n",
       "      <th>1</th>\n",
       "      <td>50</td>\n",
       "      <td>83311</td>\n",
       "      <td>13</td>\n",
       "      <td>0</td>\n",
       "      <td>0</td>\n",
       "      <td>0</td>\n",
       "      <td>13</td>\n",
       "      <td>0</td>\n",
       "      <td>0</td>\n",
       "      <td>0</td>\n",
       "      <td>...</td>\n",
       "      <td>0</td>\n",
       "      <td>0</td>\n",
       "      <td>0</td>\n",
       "      <td>0</td>\n",
       "      <td>0</td>\n",
       "      <td>0</td>\n",
       "      <td>1</td>\n",
       "      <td>0</td>\n",
       "      <td>0</td>\n",
       "      <td>0</td>\n",
       "    </tr>\n",
       "    <tr>\n",
       "      <th>2</th>\n",
       "      <td>38</td>\n",
       "      <td>215646</td>\n",
       "      <td>9</td>\n",
       "      <td>0</td>\n",
       "      <td>0</td>\n",
       "      <td>0</td>\n",
       "      <td>40</td>\n",
       "      <td>0</td>\n",
       "      <td>0</td>\n",
       "      <td>0</td>\n",
       "      <td>...</td>\n",
       "      <td>0</td>\n",
       "      <td>0</td>\n",
       "      <td>0</td>\n",
       "      <td>0</td>\n",
       "      <td>0</td>\n",
       "      <td>0</td>\n",
       "      <td>1</td>\n",
       "      <td>0</td>\n",
       "      <td>0</td>\n",
       "      <td>0</td>\n",
       "    </tr>\n",
       "    <tr>\n",
       "      <th>3</th>\n",
       "      <td>53</td>\n",
       "      <td>234721</td>\n",
       "      <td>7</td>\n",
       "      <td>0</td>\n",
       "      <td>0</td>\n",
       "      <td>0</td>\n",
       "      <td>40</td>\n",
       "      <td>0</td>\n",
       "      <td>0</td>\n",
       "      <td>0</td>\n",
       "      <td>...</td>\n",
       "      <td>0</td>\n",
       "      <td>0</td>\n",
       "      <td>0</td>\n",
       "      <td>0</td>\n",
       "      <td>0</td>\n",
       "      <td>0</td>\n",
       "      <td>1</td>\n",
       "      <td>0</td>\n",
       "      <td>0</td>\n",
       "      <td>0</td>\n",
       "    </tr>\n",
       "    <tr>\n",
       "      <th>4</th>\n",
       "      <td>28</td>\n",
       "      <td>338409</td>\n",
       "      <td>13</td>\n",
       "      <td>1</td>\n",
       "      <td>0</td>\n",
       "      <td>0</td>\n",
       "      <td>40</td>\n",
       "      <td>0</td>\n",
       "      <td>0</td>\n",
       "      <td>0</td>\n",
       "      <td>...</td>\n",
       "      <td>0</td>\n",
       "      <td>0</td>\n",
       "      <td>0</td>\n",
       "      <td>0</td>\n",
       "      <td>0</td>\n",
       "      <td>0</td>\n",
       "      <td>0</td>\n",
       "      <td>0</td>\n",
       "      <td>0</td>\n",
       "      <td>0</td>\n",
       "    </tr>\n",
       "  </tbody>\n",
       "</table>\n",
       "<p>5 rows × 107 columns</p>\n",
       "</div>"
      ],
      "text/plain": [
       "   age  fnlwget  education-num  sex  capital-gain  capital-loss  \\\n",
       "0   39    77516             13    0          2174             0   \n",
       "1   50    83311             13    0             0             0   \n",
       "2   38   215646              9    0             0             0   \n",
       "3   53   234721              7    0             0             0   \n",
       "4   28   338409             13    1             0             0   \n",
       "\n",
       "   hours-per-week  workclass_Federal-gov  workclass_Local-gov  \\\n",
       "0              40                      0                    0   \n",
       "1              13                      0                    0   \n",
       "2              40                      0                    0   \n",
       "3              40                      0                    0   \n",
       "4              40                      0                    0   \n",
       "\n",
       "   workclass_Never-worked           ...            native-country_Puerto-Rico  \\\n",
       "0                       0           ...                                     0   \n",
       "1                       0           ...                                     0   \n",
       "2                       0           ...                                     0   \n",
       "3                       0           ...                                     0   \n",
       "4                       0           ...                                     0   \n",
       "\n",
       "   native-country_Scotland  native-country_South  native-country_Taiwan  \\\n",
       "0                        0                     0                      0   \n",
       "1                        0                     0                      0   \n",
       "2                        0                     0                      0   \n",
       "3                        0                     0                      0   \n",
       "4                        0                     0                      0   \n",
       "\n",
       "   native-country_Thailand  native-country_Trinadad&Tobago  \\\n",
       "0                        0                               0   \n",
       "1                        0                               0   \n",
       "2                        0                               0   \n",
       "3                        0                               0   \n",
       "4                        0                               0   \n",
       "\n",
       "   native-country_United-States  native-country_Vietnam  \\\n",
       "0                             1                       0   \n",
       "1                             1                       0   \n",
       "2                             1                       0   \n",
       "3                             1                       0   \n",
       "4                             0                       0   \n",
       "\n",
       "   native-country_Yugoslavia  native-country_missing  \n",
       "0                          0                       0  \n",
       "1                          0                       0  \n",
       "2                          0                       0  \n",
       "3                          0                       0  \n",
       "4                          0                       0  \n",
       "\n",
       "[5 rows x 107 columns]"
      ]
     },
     "execution_count": 16,
     "metadata": {},
     "output_type": "execute_result"
    }
   ],
   "source": [
    "dummy_data.head()"
   ]
  },
  {
   "cell_type": "code",
   "execution_count": 17,
   "metadata": {
    "collapsed": true
   },
   "outputs": [],
   "source": [
    "# get encoded train and test data\n",
    "train_x = dummy_data[:len(train)]\n",
    "test_x = dummy_data[len(train):]"
   ]
  },
  {
   "cell_type": "markdown",
   "metadata": {},
   "source": [
    "## Fit Models"
   ]
  },
  {
   "cell_type": "code",
   "execution_count": 18,
   "metadata": {
    "collapsed": true
   },
   "outputs": [],
   "source": [
    "# transform into XGBoost matrix\n",
    "dtrain = xgb.DMatrix(train_x, label=train_tr)\n",
    "dtest = xgb.DMatrix(test_x, label=test_tr)"
   ]
  },
  {
   "cell_type": "markdown",
   "metadata": {},
   "source": [
    "### 1. default parameters"
   ]
  },
  {
   "cell_type": "code",
   "execution_count": 19,
   "metadata": {},
   "outputs": [
    {
     "name": "stdout",
     "output_type": "stream",
     "text": [
      "[0]\ttrain-auc:0.896883+0.00171169\ttrain-error:0.144083+0.00125659\ttest-auc:0.892216+0.00344815\ttest-error:0.146433+0.00426696\n",
      "[10]\ttrain-auc:0.926793+0.000783143\ttrain-error:0.131069+0.00139931\ttest-auc:0.918369+0.00263339\ttest-error:0.136513+0.00337227\n",
      "[20]\ttrain-auc:0.938113+0.000531638\ttrain-error:0.120105+0.000972714\ttest-auc:0.924731+0.0034229\ttest-error:0.129449+0.00311889\n",
      "[30]\ttrain-auc:0.943373+0.00061128\ttrain-error:0.114662+0.000763151\ttest-auc:0.927347+0.00349501\ttest-error:0.127729+0.00319897\n",
      "[40]\ttrain-auc:0.947109+0.000678717\ttrain-error:0.110907+0.00102941\ttest-auc:0.927984+0.00365094\ttest-error:0.127177+0.00352948\n",
      "[50]\ttrain-auc:0.9502+0.000800588\ttrain-error:0.107606+0.00128933\ttest-auc:0.928361+0.00355265\ttest-error:0.126624+0.00335598\n",
      "[60]\ttrain-auc:0.952947+0.000369414\ttrain-error:0.104957+0.0010491\ttest-auc:0.928362+0.00365134\ttest-error:0.126378+0.0029566\n",
      "[70]\ttrain-auc:0.955337+0.000804032\ttrain-error:0.102323+0.00171614\ttest-auc:0.928512+0.00365248\ttest-error:0.126378+0.00303787\n",
      "[80]\ttrain-auc:0.957565+0.00096866\ttrain-error:0.0997128+0.0018443\ttest-auc:0.928496+0.00355883\ttest-error:0.126808+0.00374218\n"
     ]
    }
   ],
   "source": [
    "# specify default parameters via map\n",
    "params = {'booster': 'gbtree', 'silent': 1, 'eta': 0.3, 'gamma': 0, \n",
    "          'max_depth': 6, 'objective': 'binary:logistic', 'min_child_weight': 1, \n",
    "          'subsample': 1, 'colsample_bytree': 1}\n",
    "\n",
    "# train XGBoost model through cross validation\n",
    "xgbcv = xgb.cv(params=params, dtrain=dtrain, num_boost_round=100, nfold=5, \n",
    "               stratified=True, metrics=('error', 'auc'), maximize=False, \n",
    "               early_stopping_rounds=20, verbose_eval=10, show_stdv=True)"
   ]
  },
  {
   "cell_type": "code",
   "execution_count": 20,
   "metadata": {},
   "outputs": [
    {
     "data": {
      "text/html": [
       "<div>\n",
       "<style>\n",
       "    .dataframe thead tr:only-child th {\n",
       "        text-align: right;\n",
       "    }\n",
       "\n",
       "    .dataframe thead th {\n",
       "        text-align: left;\n",
       "    }\n",
       "\n",
       "    .dataframe tbody tr th {\n",
       "        vertical-align: top;\n",
       "    }\n",
       "</style>\n",
       "<table border=\"1\" class=\"dataframe\">\n",
       "  <thead>\n",
       "    <tr style=\"text-align: right;\">\n",
       "      <th></th>\n",
       "      <th>test-auc-mean</th>\n",
       "      <th>test-auc-std</th>\n",
       "      <th>test-error-mean</th>\n",
       "      <th>test-error-std</th>\n",
       "      <th>train-auc-mean</th>\n",
       "      <th>train-auc-std</th>\n",
       "      <th>train-error-mean</th>\n",
       "      <th>train-error-std</th>\n",
       "    </tr>\n",
       "  </thead>\n",
       "  <tbody>\n",
       "    <tr>\n",
       "      <th>0</th>\n",
       "      <td>0.892216</td>\n",
       "      <td>0.003448</td>\n",
       "      <td>0.146433</td>\n",
       "      <td>0.004267</td>\n",
       "      <td>0.896883</td>\n",
       "      <td>0.001712</td>\n",
       "      <td>0.144083</td>\n",
       "      <td>0.001257</td>\n",
       "    </tr>\n",
       "    <tr>\n",
       "      <th>1</th>\n",
       "      <td>0.901418</td>\n",
       "      <td>0.003246</td>\n",
       "      <td>0.144682</td>\n",
       "      <td>0.004246</td>\n",
       "      <td>0.906158</td>\n",
       "      <td>0.000757</td>\n",
       "      <td>0.142080</td>\n",
       "      <td>0.001684</td>\n",
       "    </tr>\n",
       "    <tr>\n",
       "      <th>2</th>\n",
       "      <td>0.906077</td>\n",
       "      <td>0.002571</td>\n",
       "      <td>0.143700</td>\n",
       "      <td>0.004435</td>\n",
       "      <td>0.911166</td>\n",
       "      <td>0.000758</td>\n",
       "      <td>0.140828</td>\n",
       "      <td>0.000892</td>\n",
       "    </tr>\n",
       "    <tr>\n",
       "      <th>3</th>\n",
       "      <td>0.909187</td>\n",
       "      <td>0.002410</td>\n",
       "      <td>0.141888</td>\n",
       "      <td>0.004428</td>\n",
       "      <td>0.914060</td>\n",
       "      <td>0.000662</td>\n",
       "      <td>0.139699</td>\n",
       "      <td>0.001375</td>\n",
       "    </tr>\n",
       "    <tr>\n",
       "      <th>4</th>\n",
       "      <td>0.910926</td>\n",
       "      <td>0.002201</td>\n",
       "      <td>0.140198</td>\n",
       "      <td>0.004102</td>\n",
       "      <td>0.916093</td>\n",
       "      <td>0.000741</td>\n",
       "      <td>0.137772</td>\n",
       "      <td>0.001136</td>\n",
       "    </tr>\n",
       "  </tbody>\n",
       "</table>\n",
       "</div>"
      ],
      "text/plain": [
       "   test-auc-mean  test-auc-std  test-error-mean  test-error-std  \\\n",
       "0       0.892216      0.003448         0.146433        0.004267   \n",
       "1       0.901418      0.003246         0.144682        0.004246   \n",
       "2       0.906077      0.002571         0.143700        0.004435   \n",
       "3       0.909187      0.002410         0.141888        0.004428   \n",
       "4       0.910926      0.002201         0.140198        0.004102   \n",
       "\n",
       "   train-auc-mean  train-auc-std  train-error-mean  train-error-std  \n",
       "0        0.896883       0.001712          0.144083         0.001257  \n",
       "1        0.906158       0.000757          0.142080         0.001684  \n",
       "2        0.911166       0.000758          0.140828         0.000892  \n",
       "3        0.914060       0.000662          0.139699         0.001375  \n",
       "4        0.916093       0.000741          0.137772         0.001136  "
      ]
     },
     "execution_count": 20,
     "metadata": {},
     "output_type": "execute_result"
    }
   ],
   "source": [
    "xgbcv.head()"
   ]
  },
  {
   "cell_type": "code",
   "execution_count": 21,
   "metadata": {},
   "outputs": [
    {
     "data": {
      "text/plain": [
       "65"
      ]
     },
     "execution_count": 21,
     "metadata": {},
     "output_type": "execute_result"
    }
   ],
   "source": [
    "len(xgbcv)"
   ]
  },
  {
   "cell_type": "code",
   "execution_count": 22,
   "metadata": {},
   "outputs": [
    {
     "data": {
      "text/plain": [
       "0.125948"
      ]
     },
     "execution_count": 22,
     "metadata": {},
     "output_type": "execute_result"
    }
   ],
   "source": [
    "min(xgbcv['test-error-mean'])"
   ]
  },
  {
   "cell_type": "markdown",
   "metadata": {},
   "source": [
    "### 2. re-train model with best iteration"
   ]
  },
  {
   "cell_type": "code",
   "execution_count": 23,
   "metadata": {},
   "outputs": [
    {
     "name": "stdout",
     "output_type": "stream",
     "text": [
      "[0]\ttrain-error:0.144805\ttrain-auc:0.897748\teval-error:0.143726\teval-auc:0.89424\n",
      "Multiple eval metrics have been passed: 'eval-auc' will be used for early stopping.\n",
      "\n",
      "Will train until eval-auc hasn't improved in 10 rounds.\n",
      "[10]\ttrain-error:0.131876\ttrain-auc:0.926587\teval-error:0.13181\teval-auc:0.919093\n",
      "[20]\ttrain-error:0.121864\ttrain-auc:0.936592\teval-error:0.126651\teval-auc:0.924082\n",
      "[30]\ttrain-error:0.115936\ttrain-auc:0.94218\teval-error:0.124931\teval-auc:0.927265\n",
      "[40]\ttrain-error:0.112251\ttrain-auc:0.94544\teval-error:0.124992\teval-auc:0.927603\n",
      "[50]\ttrain-error:0.109303\ttrain-auc:0.948183\teval-error:0.125238\teval-auc:0.928142\n",
      "[60]\ttrain-error:0.106354\ttrain-auc:0.950966\teval-error:0.124808\teval-auc:0.928428\n"
     ]
    }
   ],
   "source": [
    "params = {'booster': 'gbtree', 'silent': 1, 'eta': 0.3, 'gamma': 0, \n",
    "          'max_depth': 6, 'objective': 'binary:logistic', 'min_child_weight': 1, \n",
    "          'subsample': 1, 'colsample_bytree': 1, 'eval_metric': ['error', 'auc']}\n",
    "\n",
    "xgb1 = xgb.train(params=params, dtrain=dtrain, num_boost_round=65, maximize=False, \n",
    "                 evals=[(dtrain, 'train'), (dtest, 'eval')], early_stopping_rounds=10, \n",
    "                 verbose_eval=10)\n",
    "xgb1_pred = xgb1.predict(dtest)"
   ]
  },
  {
   "cell_type": "code",
   "execution_count": 24,
   "metadata": {},
   "outputs": [
    {
     "data": {
      "text/plain": [
       "array([[11731,   704],\n",
       "       [ 1320,  2526]])"
      ]
     },
     "execution_count": 24,
     "metadata": {},
     "output_type": "execute_result"
    }
   ],
   "source": [
    "# binary classification\n",
    "xgb1_label = (xgb1_pred > 0.5).astype(int)\n",
    "confusion_matrix(test_tr, xgb1_label)"
   ]
  },
  {
   "cell_type": "code",
   "execution_count": 25,
   "metadata": {},
   "outputs": [
    {
     "data": {
      "text/plain": [
       "0.87568331183588233"
      ]
     },
     "execution_count": 25,
     "metadata": {},
     "output_type": "execute_result"
    }
   ],
   "source": [
    "accuracy_score(test_tr, xgb1_label)"
   ]
  },
  {
   "cell_type": "code",
   "execution_count": 27,
   "metadata": {},
   "outputs": [
    {
     "data": {
      "image/png": "[encoded data removed]",
      "text/plain": [
       "<matplotlib.figure.Figure at 0x11d5bc2e8>"
      ]
     },
     "metadata": {},
     "output_type": "display_data"
    }
   ],
   "source": [
    "# feature importance\n",
    "fig, ax = plt.subplots(figsize=(10, 25))\n",
    "xgb.plot_importance(xgb1, ax=ax)\n",
    "plt.show()"
   ]
  },
  {
   "cell_type": "markdown",
   "metadata": {},
   "source": [
    "### 3. Grid Search CV"
   ]
  },
  {
   "cell_type": "code",
   "execution_count": 34,
   "metadata": {
    "scrolled": false
   },
   "outputs": [
    {
     "name": "stdout",
     "output_type": "stream",
     "text": [
      "Fitting 5 folds for each of 36 candidates, totalling 180 fits\n",
      "[CV] subsample=0.5, min_child_weight=1, max_depth=3, colsample_bytree=0.5 \n",
      "[CV] subsample=0.5, min_child_weight=1, max_depth=3, colsample_bytree=0.5 \n",
      "[CV] subsample=0.5, min_child_weight=1, max_depth=3, colsample_bytree=0.5 \n",
      "[CV] subsample=0.5, min_child_weight=1, max_depth=3, colsample_bytree=0.5 \n",
      "[CV]  subsample=0.5, min_child_weight=1, max_depth=3, colsample_bytree=0.5, score=0.8617936117936118, total=   4.1s\n",
      "[CV]  subsample=0.5, min_child_weight=1, max_depth=3, colsample_bytree=0.5, score=0.8642506142506142, total=   4.1s\n",
      "[CV]  subsample=0.5, min_child_weight=1, max_depth=3, colsample_bytree=0.5, score=0.8581298940580377, total=   4.2s\n",
      "[CV]  subsample=0.5, min_child_weight=1, max_depth=3, colsample_bytree=0.5, score=0.8687039312039312, total=   4.1s\n",
      "[CV] subsample=0.5, min_child_weight=1, max_depth=3, colsample_bytree=0.5 \n",
      "[CV] subsample=0.7, min_child_weight=1, max_depth=3, colsample_bytree=0.5 \n",
      "[CV] subsample=0.7, min_child_weight=1, max_depth=3, colsample_bytree=0.5 \n",
      "[CV] subsample=0.7, min_child_weight=1, max_depth=3, colsample_bytree=0.5 \n",
      "[CV]  subsample=0.7, min_child_weight=1, max_depth=3, colsample_bytree=0.5, score=0.8593582066635959, total=   3.7s\n",
      "[CV]  subsample=0.7, min_child_weight=1, max_depth=3, colsample_bytree=0.5, score=0.8608722358722358, total=   3.7s\n",
      "[CV] subsample=0.7, min_child_weight=1, max_depth=3, colsample_bytree=0.5 \n",
      "[CV]  subsample=0.7, min_child_weight=1, max_depth=3, colsample_bytree=0.5, score=0.8653255528255528, total=   3.7s\n",
      "[CV] subsample=0.7, min_child_weight=1, max_depth=3, colsample_bytree=0.5 \n",
      "[CV] subsample=1.0, min_child_weight=1, max_depth=3, colsample_bytree=0.5 \n"
     ]
    },
    {
     "name": "stderr",
     "output_type": "stream",
     "text": [
      "[Parallel(n_jobs=4)]: Done   5 tasks      | elapsed:    8.3s\n"
     ]
    },
    {
     "name": "stdout",
     "output_type": "stream",
     "text": [
      "[CV]  subsample=0.5, min_child_weight=1, max_depth=3, colsample_bytree=0.5, score=0.8687039312039312, total=   4.1s\n",
      "[CV] subsample=1.0, min_child_weight=1, max_depth=3, colsample_bytree=0.5 \n",
      "[CV]  subsample=1.0, min_child_weight=1, max_depth=3, colsample_bytree=0.5, score=0.8618148318747121, total=   2.9s\n",
      "[CV] subsample=1.0, min_child_weight=1, max_depth=3, colsample_bytree=0.5 \n",
      "[CV]  subsample=1.0, min_child_weight=1, max_depth=3, colsample_bytree=0.5, score=0.8619471744471745, total=   2.8s\n",
      "[CV] subsample=1.0, min_child_weight=1, max_depth=3, colsample_bytree=0.5 \n"
     ]
    },
    {
     "name": "stderr",
     "output_type": "stream",
     "text": [
      "[Parallel(n_jobs=4)]: Done  10 tasks      | elapsed:   11.7s\n"
     ]
    },
    {
     "name": "stdout",
     "output_type": "stream",
     "text": [
      "[CV]  subsample=0.7, min_child_weight=1, max_depth=3, colsample_bytree=0.5, score=0.8696253071253072, total=   3.7s\n",
      "[CV]  subsample=0.7, min_child_weight=1, max_depth=3, colsample_bytree=0.5, score=0.8680896805896806, total=   3.7s\n",
      "[CV] subsample=1.0, min_child_weight=1, max_depth=3, colsample_bytree=0.5 \n",
      "[CV] subsample=0.5, min_child_weight=3, max_depth=3, colsample_bytree=0.5 \n",
      "[CV]  subsample=1.0, min_child_weight=1, max_depth=3, colsample_bytree=0.5, score=0.8659398034398035, total=   2.8s\n",
      "[CV] subsample=0.5, min_child_weight=3, max_depth=3, colsample_bytree=0.5 \n",
      "[CV]  subsample=1.0, min_child_weight=1, max_depth=3, colsample_bytree=0.5, score=0.8667076167076168, total=   2.8s\n",
      "[CV] subsample=0.5, min_child_weight=3, max_depth=3, colsample_bytree=0.5 \n",
      "[CV]  subsample=1.0, min_child_weight=1, max_depth=3, colsample_bytree=0.5, score=0.867014742014742, total=   2.9s\n",
      "[CV] subsample=0.5, min_child_weight=3, max_depth=3, colsample_bytree=0.5 \n",
      "[CV]  subsample=0.5, min_child_weight=3, max_depth=3, colsample_bytree=0.5, score=0.8593582066635959, total=   4.2s\n",
      "[CV] subsample=0.5, min_child_weight=3, max_depth=3, colsample_bytree=0.5 \n",
      "[CV]  subsample=0.5, min_child_weight=3, max_depth=3, colsample_bytree=0.5, score=0.8628685503685504, total=   4.2s\n",
      "[CV] subsample=0.7, min_child_weight=3, max_depth=3, colsample_bytree=0.5 \n"
     ]
    },
    {
     "name": "stderr",
     "output_type": "stream",
     "text": [
      "[Parallel(n_jobs=4)]: Done  17 tasks      | elapsed:   18.7s\n"
     ]
    },
    {
     "name": "stdout",
     "output_type": "stream",
     "text": [
      "[CV]  subsample=0.5, min_child_weight=3, max_depth=3, colsample_bytree=0.5, score=0.8636363636363636, total=   4.2s\n",
      "[CV] subsample=0.7, min_child_weight=3, max_depth=3, colsample_bytree=0.5 \n",
      "[CV]  subsample=0.5, min_child_weight=3, max_depth=3, colsample_bytree=0.5, score=0.867014742014742, total=   4.0s\n",
      "[CV] subsample=0.7, min_child_weight=3, max_depth=3, colsample_bytree=0.5 \n",
      "[CV]  subsample=0.5, min_child_weight=3, max_depth=3, colsample_bytree=0.5, score=0.8676289926289926, total=   4.0s\n",
      "[CV] subsample=0.7, min_child_weight=3, max_depth=3, colsample_bytree=0.5 \n",
      "[CV]  subsample=0.7, min_child_weight=3, max_depth=3, colsample_bytree=0.5, score=0.8572086596038692, total=   3.7s\n",
      "[CV] subsample=0.7, min_child_weight=3, max_depth=3, colsample_bytree=0.5 \n",
      "[CV]  subsample=0.7, min_child_weight=3, max_depth=3, colsample_bytree=0.5, score=0.8621007371007371, total=   3.6s\n",
      "[CV] subsample=1.0, min_child_weight=3, max_depth=3, colsample_bytree=0.5 \n",
      "[CV]  subsample=0.7, min_child_weight=3, max_depth=3, colsample_bytree=0.5, score=0.8654791154791155, total=   3.7s\n",
      "[CV] subsample=1.0, min_child_weight=3, max_depth=3, colsample_bytree=0.5 \n",
      "[CV]  subsample=0.7, min_child_weight=3, max_depth=3, colsample_bytree=0.5, score=0.8679361179361179, total=   3.7s\n",
      "[CV] subsample=1.0, min_child_weight=3, max_depth=3, colsample_bytree=0.5 \n"
     ]
    },
    {
     "name": "stderr",
     "output_type": "stream",
     "text": [
      "[Parallel(n_jobs=4)]: Done  24 tasks      | elapsed:   24.6s\n"
     ]
    },
    {
     "name": "stdout",
     "output_type": "stream",
     "text": [
      "[CV]  subsample=1.0, min_child_weight=3, max_depth=3, colsample_bytree=0.5, score=0.8602794411177644, total=   3.0s\n",
      "[CV] subsample=1.0, min_child_weight=3, max_depth=3, colsample_bytree=0.5 \n",
      "[CV]  subsample=1.0, min_child_weight=3, max_depth=3, colsample_bytree=0.5, score=0.8611793611793612, total=   3.0s\n",
      "[CV] subsample=1.0, min_child_weight=3, max_depth=3, colsample_bytree=0.5 \n",
      "[CV]  subsample=0.7, min_child_weight=3, max_depth=3, colsample_bytree=0.5, score=0.8682432432432432, total=   3.9s\n",
      "[CV] subsample=0.5, min_child_weight=1, max_depth=5, colsample_bytree=0.5 \n",
      "[CV]  subsample=1.0, min_child_weight=3, max_depth=3, colsample_bytree=0.5, score=0.8657862407862408, total=   3.0s\n",
      "[CV] subsample=0.5, min_child_weight=1, max_depth=5, colsample_bytree=0.5 \n",
      "[CV]  subsample=1.0, min_child_weight=3, max_depth=3, colsample_bytree=0.5, score=0.8659398034398035, total=   3.0s\n",
      "[CV] subsample=0.5, min_child_weight=1, max_depth=5, colsample_bytree=0.5 \n",
      "[CV]  subsample=1.0, min_child_weight=3, max_depth=3, colsample_bytree=0.5, score=0.8676289926289926, total=   3.0s\n",
      "[CV] subsample=0.5, min_child_weight=1, max_depth=5, colsample_bytree=0.5 \n",
      "[CV]  subsample=0.5, min_child_weight=1, max_depth=5, colsample_bytree=0.5, score=0.8674957776754184, total=   6.4s\n",
      "[CV] subsample=0.5, min_child_weight=1, max_depth=5, colsample_bytree=0.5 \n",
      "[CV]  subsample=0.5, min_child_weight=1, max_depth=5, colsample_bytree=0.5, score=0.8687039312039312, total=   6.7s\n",
      "[CV] subsample=0.7, min_child_weight=1, max_depth=5, colsample_bytree=0.5 \n",
      "[CV]  subsample=0.5, min_child_weight=1, max_depth=5, colsample_bytree=0.5, score=0.8739250614250614, total=   7.0s\n",
      "[CV] subsample=0.7, min_child_weight=1, max_depth=5, colsample_bytree=0.5 \n"
     ]
    },
    {
     "name": "stderr",
     "output_type": "stream",
     "text": [
      "[Parallel(n_jobs=4)]: Done  33 tasks      | elapsed:   36.3s\n"
     ]
    },
    {
     "name": "stdout",
     "output_type": "stream",
     "text": [
      "[CV]  subsample=0.5, min_child_weight=1, max_depth=5, colsample_bytree=0.5, score=0.8753071253071253, total=   7.0s\n",
      "[CV] subsample=0.7, min_child_weight=1, max_depth=5, colsample_bytree=0.5 \n",
      "[CV]  subsample=0.5, min_child_weight=1, max_depth=5, colsample_bytree=0.5, score=0.8737714987714987, total=   6.8s\n",
      "[CV] subsample=0.7, min_child_weight=1, max_depth=5, colsample_bytree=0.5 \n",
      "[CV]  subsample=0.7, min_child_weight=1, max_depth=5, colsample_bytree=0.5, score=0.8681099339781975, total=   6.0s\n",
      "[CV] subsample=0.7, min_child_weight=1, max_depth=5, colsample_bytree=0.5 \n",
      "[CV]  subsample=0.7, min_child_weight=1, max_depth=5, colsample_bytree=0.5, score=0.8691646191646192, total=   5.8s\n",
      "[CV] subsample=1.0, min_child_weight=1, max_depth=5, colsample_bytree=0.5 \n",
      "[CV]  subsample=0.7, min_child_weight=1, max_depth=5, colsample_bytree=0.5, score=0.8723894348894349, total=   5.8s\n",
      "[CV] subsample=1.0, min_child_weight=1, max_depth=5, colsample_bytree=0.5 \n",
      "[CV]  subsample=0.7, min_child_weight=1, max_depth=5, colsample_bytree=0.5, score=0.875, total=   6.0s\n",
      "[CV] subsample=1.0, min_child_weight=1, max_depth=5, colsample_bytree=0.5 \n",
      "[CV]  subsample=1.0, min_child_weight=1, max_depth=5, colsample_bytree=0.5, score=0.8676493167511131, total=   4.7s\n",
      "[CV]  subsample=0.7, min_child_weight=1, max_depth=5, colsample_bytree=0.5, score=0.874539312039312, total=   6.1s\n",
      "[CV] subsample=1.0, min_child_weight=1, max_depth=5, colsample_bytree=0.5 \n",
      "[CV] subsample=1.0, min_child_weight=1, max_depth=5, colsample_bytree=0.5 \n",
      "[CV]  subsample=1.0, min_child_weight=1, max_depth=5, colsample_bytree=0.5, score=0.8696253071253072, total=   4.7s\n",
      "[CV] subsample=0.5, min_child_weight=3, max_depth=5, colsample_bytree=0.5 \n"
     ]
    },
    {
     "name": "stderr",
     "output_type": "stream",
     "text": [
      "[Parallel(n_jobs=4)]: Done  42 tasks      | elapsed:   47.7s\n"
     ]
    },
    {
     "name": "stdout",
     "output_type": "stream",
     "text": [
      "[CV]  subsample=1.0, min_child_weight=1, max_depth=5, colsample_bytree=0.5, score=0.8711609336609336, total=   4.6s\n",
      "[CV] subsample=0.5, min_child_weight=3, max_depth=5, colsample_bytree=0.5 \n",
      "[CV]  subsample=1.0, min_child_weight=1, max_depth=5, colsample_bytree=0.5, score=0.8722358722358723, total=   4.6s\n",
      "[CV]  subsample=1.0, min_child_weight=1, max_depth=5, colsample_bytree=0.5, score=0.8736179361179361, total=   4.6s\n",
      "[CV] subsample=0.5, min_child_weight=3, max_depth=5, colsample_bytree=0.5 \n",
      "[CV] subsample=0.5, min_child_weight=3, max_depth=5, colsample_bytree=0.5 \n",
      "[CV]  subsample=0.5, min_child_weight=3, max_depth=5, colsample_bytree=0.5, score=0.8682634730538922, total=   6.7s\n",
      "[CV] subsample=0.5, min_child_weight=3, max_depth=5, colsample_bytree=0.5 \n",
      "[CV]  subsample=0.5, min_child_weight=3, max_depth=5, colsample_bytree=0.5, score=0.8676289926289926, total=   6.6s\n",
      "[CV] subsample=0.7, min_child_weight=3, max_depth=5, colsample_bytree=0.5 \n",
      "[CV]  subsample=0.5, min_child_weight=3, max_depth=5, colsample_bytree=0.5, score=0.8737714987714987, total=   6.6s\n",
      "[CV]  subsample=0.5, min_child_weight=3, max_depth=5, colsample_bytree=0.5, score=0.8746928746928747, total=   6.6s\n",
      "[CV] subsample=0.7, min_child_weight=3, max_depth=5, colsample_bytree=0.5 \n",
      "[CV] subsample=0.7, min_child_weight=3, max_depth=5, colsample_bytree=0.5 \n",
      "[CV]  subsample=0.5, min_child_weight=3, max_depth=5, colsample_bytree=0.5, score=0.8722358722358723, total=   6.6s\n",
      "[CV] subsample=0.7, min_child_weight=3, max_depth=5, colsample_bytree=0.5 \n",
      "[CV]  subsample=0.7, min_child_weight=3, max_depth=5, colsample_bytree=0.5, score=0.8667280822969445, total=   6.2s\n",
      "[CV] subsample=0.7, min_child_weight=3, max_depth=5, colsample_bytree=0.5 \n",
      "[CV]  subsample=0.7, min_child_weight=3, max_depth=5, colsample_bytree=0.5, score=0.8693181818181818, total=   6.1s\n",
      "[CV]  subsample=0.7, min_child_weight=3, max_depth=5, colsample_bytree=0.5, score=0.8731572481572482, total=   6.1s\n",
      "[CV] subsample=1.0, min_child_weight=3, max_depth=5, colsample_bytree=0.5 \n",
      "[CV] subsample=1.0, min_child_weight=3, max_depth=5, colsample_bytree=0.5 \n"
     ]
    },
    {
     "name": "stderr",
     "output_type": "stream",
     "text": [
      "[Parallel(n_jobs=4)]: Done  53 tasks      | elapsed:  1.1min\n"
     ]
    },
    {
     "name": "stdout",
     "output_type": "stream",
     "text": [
      "[CV]  subsample=0.7, min_child_weight=3, max_depth=5, colsample_bytree=0.5, score=0.8756142506142506, total=   6.0s\n",
      "[CV] subsample=1.0, min_child_weight=3, max_depth=5, colsample_bytree=0.5 \n",
      "[CV]  subsample=1.0, min_child_weight=3, max_depth=5, colsample_bytree=0.5, score=0.8693181818181818, total=   4.4s\n",
      "[CV]  subsample=1.0, min_child_weight=3, max_depth=5, colsample_bytree=0.5, score=0.869031168432366, total=   4.5s\n",
      "[CV] subsample=1.0, min_child_weight=3, max_depth=5, colsample_bytree=0.5 \n",
      "[CV] subsample=1.0, min_child_weight=3, max_depth=5, colsample_bytree=0.5 \n",
      "[CV]  subsample=0.7, min_child_weight=3, max_depth=5, colsample_bytree=0.5, score=0.8725429975429976, total=   5.9s\n",
      "[CV] subsample=0.5, min_child_weight=1, max_depth=3, colsample_bytree=0.7 \n",
      "[CV]  subsample=1.0, min_child_weight=3, max_depth=5, colsample_bytree=0.5, score=0.8716216216216216, total=   4.5s\n",
      "[CV] subsample=0.5, min_child_weight=1, max_depth=3, colsample_bytree=0.7 \n",
      "[CV]  subsample=1.0, min_child_weight=3, max_depth=5, colsample_bytree=0.5, score=0.8733108108108109, total=   4.6s\n",
      "[CV]  subsample=1.0, min_child_weight=3, max_depth=5, colsample_bytree=0.5, score=0.8728501228501229, total=   4.6s\n",
      "[CV] subsample=0.5, min_child_weight=1, max_depth=3, colsample_bytree=0.7 \n",
      "[CV] subsample=0.5, min_child_weight=1, max_depth=3, colsample_bytree=0.7 \n",
      "[CV]  subsample=0.5, min_child_weight=1, max_depth=3, colsample_bytree=0.7, score=0.8598188238906802, total=   5.6s\n",
      "[CV] subsample=0.5, min_child_weight=1, max_depth=3, colsample_bytree=0.7 \n",
      "[CV]  subsample=0.5, min_child_weight=1, max_depth=3, colsample_bytree=0.7, score=0.8637899262899262, total=   5.6s\n",
      "[CV] subsample=0.7, min_child_weight=1, max_depth=3, colsample_bytree=0.7 \n",
      "[CV]  subsample=0.5, min_child_weight=1, max_depth=3, colsample_bytree=0.7, score=0.863482800982801, total=   5.6s\n",
      "[CV] subsample=0.7, min_child_weight=1, max_depth=3, colsample_bytree=0.7 \n",
      "[CV]  subsample=0.5, min_child_weight=1, max_depth=3, colsample_bytree=0.7, score=0.8667076167076168, total=   5.6s\n",
      "[CV] subsample=0.7, min_child_weight=1, max_depth=3, colsample_bytree=0.7 \n"
     ]
    },
    {
     "name": "stderr",
     "output_type": "stream",
     "text": [
      "[Parallel(n_jobs=4)]: Done  64 tasks      | elapsed:  1.3min\n"
     ]
    },
    {
     "name": "stdout",
     "output_type": "stream",
     "text": [
      "[CV]  subsample=0.5, min_child_weight=1, max_depth=3, colsample_bytree=0.7, score=0.8674754299754299, total=   5.7s\n",
      "[CV] subsample=0.7, min_child_weight=1, max_depth=3, colsample_bytree=0.7 \n",
      "[CV]  subsample=0.7, min_child_weight=1, max_depth=3, colsample_bytree=0.7, score=0.8582834331337326, total=   5.2s\n",
      "[CV] subsample=0.7, min_child_weight=1, max_depth=3, colsample_bytree=0.7 \n",
      "[CV]  subsample=0.7, min_child_weight=1, max_depth=3, colsample_bytree=0.7, score=0.8605651105651105, total=   5.1s\n",
      "[CV] subsample=1.0, min_child_weight=1, max_depth=3, colsample_bytree=0.7 \n",
      "[CV]  subsample=0.7, min_child_weight=1, max_depth=3, colsample_bytree=0.7, score=0.8636363636363636, total=   5.1s\n",
      "[CV] subsample=1.0, min_child_weight=1, max_depth=3, colsample_bytree=0.7 \n",
      "[CV]  subsample=0.7, min_child_weight=1, max_depth=3, colsample_bytree=0.7, score=0.8651719901719902, total=   5.1s\n",
      "[CV] subsample=1.0, min_child_weight=1, max_depth=3, colsample_bytree=0.7 \n",
      "[CV]  subsample=0.7, min_child_weight=1, max_depth=3, colsample_bytree=0.7, score=0.8662469287469288, total=   5.2s\n",
      "[CV] subsample=1.0, min_child_weight=1, max_depth=3, colsample_bytree=0.7 \n",
      "[CV]  subsample=1.0, min_child_weight=1, max_depth=3, colsample_bytree=0.7, score=0.8588975894365116, total=   4.2s\n",
      "[CV] subsample=1.0, min_child_weight=1, max_depth=3, colsample_bytree=0.7 \n",
      "[CV]  subsample=1.0, min_child_weight=1, max_depth=3, colsample_bytree=0.7, score=0.8616400491400491, total=   4.2s\n",
      "[CV] subsample=0.5, min_child_weight=3, max_depth=3, colsample_bytree=0.7 \n",
      "[CV]  subsample=1.0, min_child_weight=1, max_depth=3, colsample_bytree=0.7, score=0.8654791154791155, total=   4.2s\n",
      "[CV] subsample=0.5, min_child_weight=3, max_depth=3, colsample_bytree=0.7 \n",
      "[CV]  subsample=1.0, min_child_weight=1, max_depth=3, colsample_bytree=0.7, score=0.8665540540540541, total=   4.2s\n",
      "[CV] subsample=0.5, min_child_weight=3, max_depth=3, colsample_bytree=0.7 \n",
      "[CV]  subsample=1.0, min_child_weight=1, max_depth=3, colsample_bytree=0.7, score=0.8676289926289926, total=   4.1s\n",
      "[CV] subsample=0.5, min_child_weight=3, max_depth=3, colsample_bytree=0.7 \n",
      "[CV]  subsample=0.5, min_child_weight=3, max_depth=3, colsample_bytree=0.7, score=0.8596652848149854, total=   6.0s\n",
      "[CV] subsample=0.5, min_child_weight=3, max_depth=3, colsample_bytree=0.7 \n",
      "[CV]  subsample=0.5, min_child_weight=3, max_depth=3, colsample_bytree=0.7, score=0.8613329238329238, total=   5.9s\n",
      "[CV] subsample=0.7, min_child_weight=3, max_depth=3, colsample_bytree=0.7 \n"
     ]
    },
    {
     "name": "stderr",
     "output_type": "stream",
     "text": [
      "[Parallel(n_jobs=4)]: Done  77 tasks      | elapsed:  1.6min\n"
     ]
    },
    {
     "name": "stdout",
     "output_type": "stream",
     "text": [
      "[CV]  subsample=0.5, min_child_weight=3, max_depth=3, colsample_bytree=0.7, score=0.8640970515970516, total=   5.9s\n",
      "[CV] subsample=0.7, min_child_weight=3, max_depth=3, colsample_bytree=0.7 \n",
      "[CV]  subsample=0.5, min_child_weight=3, max_depth=3, colsample_bytree=0.7, score=0.8660933660933661, total=   5.8s\n",
      "[CV] subsample=0.7, min_child_weight=3, max_depth=3, colsample_bytree=0.7 \n",
      "[CV]  subsample=0.5, min_child_weight=3, max_depth=3, colsample_bytree=0.7, score=0.8673218673218673, total=   5.6s\n",
      "[CV] subsample=0.7, min_child_weight=3, max_depth=3, colsample_bytree=0.7 \n",
      "[CV]  subsample=0.7, min_child_weight=3, max_depth=3, colsample_bytree=0.7, score=0.8592046675879011, total=   5.1s\n",
      "[CV] subsample=0.7, min_child_weight=3, max_depth=3, colsample_bytree=0.7 \n",
      "[CV]  subsample=0.7, min_child_weight=3, max_depth=3, colsample_bytree=0.7, score=0.8610257985257985, total=   5.1s\n",
      "[CV] subsample=1.0, min_child_weight=3, max_depth=3, colsample_bytree=0.7 \n",
      "[CV]  subsample=0.7, min_child_weight=3, max_depth=3, colsample_bytree=0.7, score=0.8637899262899262, total=   5.0s\n",
      "[CV] subsample=1.0, min_child_weight=3, max_depth=3, colsample_bytree=0.7 \n",
      "[CV]  subsample=0.7, min_child_weight=3, max_depth=3, colsample_bytree=0.7, score=0.8659398034398035, total=   5.1s\n",
      "[CV] subsample=1.0, min_child_weight=3, max_depth=3, colsample_bytree=0.7 \n",
      "[CV]  subsample=1.0, min_child_weight=3, max_depth=3, colsample_bytree=0.7, score=0.8587440503608168, total=   3.9s\n",
      "[CV] subsample=1.0, min_child_weight=3, max_depth=3, colsample_bytree=0.7 \n",
      "[CV]  subsample=0.7, min_child_weight=3, max_depth=3, colsample_bytree=0.7, score=0.8685503685503686, total=   5.1s\n",
      "[CV] subsample=1.0, min_child_weight=3, max_depth=3, colsample_bytree=0.7 \n",
      "[CV]  subsample=1.0, min_child_weight=3, max_depth=3, colsample_bytree=0.7, score=0.8605651105651105, total=   4.1s\n",
      "[CV] subsample=0.5, min_child_weight=1, max_depth=5, colsample_bytree=0.7 \n",
      "[CV]  subsample=1.0, min_child_weight=3, max_depth=3, colsample_bytree=0.7, score=0.8660933660933661, total=   4.2s\n",
      "[CV] subsample=0.5, min_child_weight=1, max_depth=5, colsample_bytree=0.7 \n",
      "[CV]  subsample=1.0, min_child_weight=3, max_depth=3, colsample_bytree=0.7, score=0.8664004914004914, total=   4.2s\n",
      "[CV] subsample=0.5, min_child_weight=1, max_depth=5, colsample_bytree=0.7 \n",
      "[CV]  subsample=1.0, min_child_weight=3, max_depth=3, colsample_bytree=0.7, score=0.867014742014742, total=   4.3s\n",
      "[CV] subsample=0.5, min_child_weight=1, max_depth=5, colsample_bytree=0.7 \n"
     ]
    },
    {
     "name": "stderr",
     "output_type": "stream",
     "text": [
      "[Parallel(n_jobs=4)]: Done  90 tasks      | elapsed:  1.9min\n"
     ]
    },
    {
     "name": "stdout",
     "output_type": "stream",
     "text": [
      "[CV]  subsample=0.5, min_child_weight=1, max_depth=5, colsample_bytree=0.7, score=0.8661139259941655, total=  10.1s\n",
      "[CV] subsample=0.5, min_child_weight=1, max_depth=5, colsample_bytree=0.7 \n",
      "[CV]  subsample=0.5, min_child_weight=1, max_depth=5, colsample_bytree=0.7, score=0.8693181818181818, total=  10.1s\n",
      "[CV] subsample=0.7, min_child_weight=1, max_depth=5, colsample_bytree=0.7 \n",
      "[CV]  subsample=0.5, min_child_weight=1, max_depth=5, colsample_bytree=0.7, score=0.8728501228501229, total=  10.0s\n",
      "[CV] subsample=0.7, min_child_weight=1, max_depth=5, colsample_bytree=0.7 \n",
      "[CV]  subsample=0.5, min_child_weight=1, max_depth=5, colsample_bytree=0.7, score=0.8737714987714987, total=  10.0s\n",
      "[CV] subsample=0.7, min_child_weight=1, max_depth=5, colsample_bytree=0.7 \n",
      "[CV]  subsample=0.5, min_child_weight=1, max_depth=5, colsample_bytree=0.7, score=0.8699324324324325, total=   9.2s\n",
      "[CV] subsample=0.7, min_child_weight=1, max_depth=5, colsample_bytree=0.7 \n",
      "[CV]  subsample=0.7, min_child_weight=1, max_depth=5, colsample_bytree=0.7, score=0.865806847842776, total=   8.2s\n",
      "[CV] subsample=0.7, min_child_weight=1, max_depth=5, colsample_bytree=0.7 \n",
      "[CV]  subsample=0.7, min_child_weight=1, max_depth=5, colsample_bytree=0.7, score=0.8682432432432432, total=   8.2s\n",
      "[CV] subsample=1.0, min_child_weight=1, max_depth=5, colsample_bytree=0.7 \n",
      "[CV]  subsample=0.7, min_child_weight=1, max_depth=5, colsample_bytree=0.7, score=0.8703931203931204, total=   8.2s\n",
      "[CV] subsample=1.0, min_child_weight=1, max_depth=5, colsample_bytree=0.7 \n",
      "[CV]  subsample=0.7, min_child_weight=1, max_depth=5, colsample_bytree=0.7, score=0.8757678132678133, total=   8.1s\n",
      "[CV] subsample=1.0, min_child_weight=1, max_depth=5, colsample_bytree=0.7 \n",
      "[CV]  subsample=1.0, min_child_weight=1, max_depth=5, colsample_bytree=0.7, score=0.8699324324324325, total=   6.0s\n",
      "[CV]  subsample=1.0, min_child_weight=1, max_depth=5, colsample_bytree=0.7, score=0.8681099339781975, total=   6.1s\n",
      "[CV] subsample=1.0, min_child_weight=1, max_depth=5, colsample_bytree=0.7 \n",
      "[CV] subsample=1.0, min_child_weight=1, max_depth=5, colsample_bytree=0.7 \n",
      "[CV]  subsample=0.7, min_child_weight=1, max_depth=5, colsample_bytree=0.7, score=0.8720823095823096, total=   8.1s\n",
      "[CV] subsample=0.5, min_child_weight=3, max_depth=5, colsample_bytree=0.7 \n",
      "[CV]  subsample=1.0, min_child_weight=1, max_depth=5, colsample_bytree=0.7, score=0.8717751842751843, total=   6.3s\n",
      "[CV] subsample=0.5, min_child_weight=3, max_depth=5, colsample_bytree=0.7 \n",
      "[CV]  subsample=1.0, min_child_weight=1, max_depth=5, colsample_bytree=0.7, score=0.8720823095823096, total=   6.2s\n",
      "[CV] subsample=0.5, min_child_weight=3, max_depth=5, colsample_bytree=0.7 \n",
      "[CV]  subsample=1.0, min_child_weight=1, max_depth=5, colsample_bytree=0.7, score=0.8733108108108109, total=   6.3s\n",
      "[CV] subsample=0.5, min_child_weight=3, max_depth=5, colsample_bytree=0.7 \n"
     ]
    },
    {
     "name": "stderr",
     "output_type": "stream",
     "text": [
      "[Parallel(n_jobs=4)]: Done 105 tasks      | elapsed:  2.4min\n"
     ]
    },
    {
     "name": "stdout",
     "output_type": "stream",
     "text": [
      "[CV]  subsample=0.5, min_child_weight=3, max_depth=5, colsample_bytree=0.7, score=0.8688776293566712, total=   9.0s\n",
      "[CV] subsample=0.5, min_child_weight=3, max_depth=5, colsample_bytree=0.7 \n",
      "[CV]  subsample=0.5, min_child_weight=3, max_depth=5, colsample_bytree=0.7, score=0.8679361179361179, total=   8.7s\n",
      "[CV] subsample=0.7, min_child_weight=3, max_depth=5, colsample_bytree=0.7 \n",
      "[CV]  subsample=0.5, min_child_weight=3, max_depth=5, colsample_bytree=0.7, score=0.8723894348894349, total=   8.7s\n",
      "[CV] subsample=0.7, min_child_weight=3, max_depth=5, colsample_bytree=0.7 \n",
      "[CV]  subsample=0.5, min_child_weight=3, max_depth=5, colsample_bytree=0.7, score=0.8739250614250614, total=   8.7s\n",
      "[CV] subsample=0.7, min_child_weight=3, max_depth=5, colsample_bytree=0.7 \n",
      "[CV]  subsample=0.5, min_child_weight=3, max_depth=5, colsample_bytree=0.7, score=0.8723894348894349, total=   8.8s\n",
      "[CV] subsample=0.7, min_child_weight=3, max_depth=5, colsample_bytree=0.7 \n",
      "[CV]  subsample=0.7, min_child_weight=3, max_depth=5, colsample_bytree=0.7, score=0.8659603869184708, total=   8.4s\n",
      "[CV] subsample=0.7, min_child_weight=3, max_depth=5, colsample_bytree=0.7 \n",
      "[CV]  subsample=0.7, min_child_weight=3, max_depth=5, colsample_bytree=0.7, score=0.8674754299754299, total=   8.3s\n",
      "[CV] subsample=1.0, min_child_weight=3, max_depth=5, colsample_bytree=0.7 \n",
      "[CV]  subsample=0.7, min_child_weight=3, max_depth=5, colsample_bytree=0.7, score=0.871468058968059, total=   8.3s\n",
      "[CV] subsample=1.0, min_child_weight=3, max_depth=5, colsample_bytree=0.7 \n",
      "[CV]  subsample=0.7, min_child_weight=3, max_depth=5, colsample_bytree=0.7, score=0.8740786240786241, total=   8.2s\n",
      "[CV] subsample=1.0, min_child_weight=3, max_depth=5, colsample_bytree=0.7 \n",
      "[CV]  subsample=1.0, min_child_weight=3, max_depth=5, colsample_bytree=0.7, score=0.8676493167511131, total=   6.1s\n",
      "[CV]  subsample=1.0, min_child_weight=3, max_depth=5, colsample_bytree=0.7, score=0.8683968058968059, total=   6.1s\n",
      "[CV] subsample=1.0, min_child_weight=3, max_depth=5, colsample_bytree=0.7 \n",
      "[CV] subsample=1.0, min_child_weight=3, max_depth=5, colsample_bytree=0.7 \n",
      "[CV]  subsample=0.7, min_child_weight=3, max_depth=5, colsample_bytree=0.7, score=0.8726965601965602, total=   8.2s\n",
      "[CV] subsample=0.5, min_child_weight=1, max_depth=3, colsample_bytree=1.0 \n",
      "[CV]  subsample=1.0, min_child_weight=3, max_depth=5, colsample_bytree=0.7, score=0.8720823095823096, total=   6.2s\n",
      "[CV] subsample=0.5, min_child_weight=1, max_depth=3, colsample_bytree=1.0 \n",
      "[CV]  subsample=1.0, min_child_weight=3, max_depth=5, colsample_bytree=0.7, score=0.8737714987714987, total=   6.0s\n",
      "[CV] subsample=0.5, min_child_weight=1, max_depth=3, colsample_bytree=1.0 \n",
      "[CV]  subsample=1.0, min_child_weight=3, max_depth=5, colsample_bytree=0.7, score=0.8730036855036855, total=   6.0s\n",
      "[CV] subsample=0.5, min_child_weight=1, max_depth=3, colsample_bytree=1.0 \n"
     ]
    },
    {
     "name": "stderr",
     "output_type": "stream",
     "text": [
      "[Parallel(n_jobs=4)]: Done 120 tasks      | elapsed:  2.9min\n"
     ]
    },
    {
     "name": "stdout",
     "output_type": "stream",
     "text": [
      "[CV]  subsample=0.5, min_child_weight=1, max_depth=3, colsample_bytree=1.0, score=0.8607400583448488, total=   7.6s\n",
      "[CV] subsample=0.5, min_child_weight=1, max_depth=3, colsample_bytree=1.0 \n",
      "[CV]  subsample=0.5, min_child_weight=1, max_depth=3, colsample_bytree=1.0, score=0.8625614250614251, total=   7.5s\n",
      "[CV] subsample=0.7, min_child_weight=1, max_depth=3, colsample_bytree=1.0 \n",
      "[CV]  subsample=0.5, min_child_weight=1, max_depth=3, colsample_bytree=1.0, score=0.8690110565110565, total=   7.5s\n",
      "[CV]  subsample=0.5, min_child_weight=1, max_depth=3, colsample_bytree=1.0, score=0.8642506142506142, total=   7.5s\n",
      "[CV] subsample=0.7, min_child_weight=1, max_depth=3, colsample_bytree=1.0 \n",
      "[CV] subsample=0.7, min_child_weight=1, max_depth=3, colsample_bytree=1.0 \n",
      "[CV]  subsample=0.5, min_child_weight=1, max_depth=3, colsample_bytree=1.0, score=0.8671683046683046, total=   7.6s\n",
      "[CV] subsample=0.7, min_child_weight=1, max_depth=3, colsample_bytree=1.0 \n",
      "[CV]  subsample=0.7, min_child_weight=1, max_depth=3, colsample_bytree=1.0, score=0.8598188238906802, total=   6.9s\n",
      "[CV] subsample=0.7, min_child_weight=1, max_depth=3, colsample_bytree=1.0 \n",
      "[CV]  subsample=0.7, min_child_weight=1, max_depth=3, colsample_bytree=1.0, score=0.8611793611793612, total=   6.8s\n",
      "[CV] subsample=1.0, min_child_weight=1, max_depth=3, colsample_bytree=1.0 \n",
      "[CV]  subsample=0.7, min_child_weight=1, max_depth=3, colsample_bytree=1.0, score=0.8653255528255528, total=   6.8s\n",
      "[CV] subsample=1.0, min_child_weight=1, max_depth=3, colsample_bytree=1.0 \n",
      "[CV]  subsample=0.7, min_child_weight=1, max_depth=3, colsample_bytree=1.0, score=0.8685503685503686, total=   6.6s\n",
      "[CV] subsample=1.0, min_child_weight=1, max_depth=3, colsample_bytree=1.0 \n",
      "[CV]  subsample=0.7, min_child_weight=1, max_depth=3, colsample_bytree=1.0, score=0.8664004914004914, total=   6.7s\n",
      "[CV] subsample=1.0, min_child_weight=1, max_depth=3, colsample_bytree=1.0 \n",
      "[CV]  subsample=1.0, min_child_weight=1, max_depth=3, colsample_bytree=1.0, score=0.8593366093366094, total=   5.0s\n",
      "[CV] subsample=1.0, min_child_weight=1, max_depth=3, colsample_bytree=1.0 \n",
      "[CV]  subsample=1.0, min_child_weight=1, max_depth=3, colsample_bytree=1.0, score=0.8599723629663749, total=   5.1s\n",
      "[CV] subsample=0.5, min_child_weight=3, max_depth=3, colsample_bytree=1.0 \n",
      "[CV]  subsample=1.0, min_child_weight=1, max_depth=3, colsample_bytree=1.0, score=0.8633292383292384, total=   5.1s\n",
      "[CV] subsample=0.5, min_child_weight=3, max_depth=3, colsample_bytree=1.0 \n",
      "[CV]  subsample=1.0, min_child_weight=1, max_depth=3, colsample_bytree=1.0, score=0.8668611793611793, total=   5.1s\n",
      "[CV] subsample=0.5, min_child_weight=3, max_depth=3, colsample_bytree=1.0 \n",
      "[CV]  subsample=1.0, min_child_weight=1, max_depth=3, colsample_bytree=1.0, score=0.8654791154791155, total=   5.1s\n",
      "[CV] subsample=0.5, min_child_weight=3, max_depth=3, colsample_bytree=1.0 \n",
      "[CV]  subsample=0.5, min_child_weight=3, max_depth=3, colsample_bytree=1.0, score=0.8607400583448488, total=   7.6s\n",
      "[CV] subsample=0.5, min_child_weight=3, max_depth=3, colsample_bytree=1.0 \n",
      "[CV]  subsample=0.5, min_child_weight=3, max_depth=3, colsample_bytree=1.0, score=0.8630221130221131, total=   7.3s\n",
      "[CV] subsample=0.7, min_child_weight=3, max_depth=3, colsample_bytree=1.0 \n"
     ]
    },
    {
     "name": "stderr",
     "output_type": "stream",
     "text": [
      "[Parallel(n_jobs=4)]: Done 137 tasks      | elapsed:  3.4min\n"
     ]
    },
    {
     "name": "stdout",
     "output_type": "stream",
     "text": [
      "[CV]  subsample=0.5, min_child_weight=3, max_depth=3, colsample_bytree=1.0, score=0.8630221130221131, total=   7.3s\n",
      "[CV] subsample=0.7, min_child_weight=3, max_depth=3, colsample_bytree=1.0 \n",
      "[CV]  subsample=0.5, min_child_weight=3, max_depth=3, colsample_bytree=1.0, score=0.8688574938574939, total=   7.2s\n",
      "[CV] subsample=0.7, min_child_weight=3, max_depth=3, colsample_bytree=1.0 \n",
      "[CV]  subsample=0.5, min_child_weight=3, max_depth=3, colsample_bytree=1.0, score=0.8659398034398035, total=   7.3s\n",
      "[CV] subsample=0.7, min_child_weight=3, max_depth=3, colsample_bytree=1.0 \n",
      "[CV]  subsample=0.7, min_child_weight=3, max_depth=3, colsample_bytree=1.0, score=0.8598188238906802, total=   6.8s\n",
      "[CV] subsample=0.7, min_child_weight=3, max_depth=3, colsample_bytree=1.0 \n",
      "[CV]  subsample=0.7, min_child_weight=3, max_depth=3, colsample_bytree=1.0, score=0.8616400491400491, total=   6.9s\n",
      "[CV] subsample=1.0, min_child_weight=3, max_depth=3, colsample_bytree=1.0 \n",
      "[CV]  subsample=0.7, min_child_weight=3, max_depth=3, colsample_bytree=1.0, score=0.8645577395577395, total=   6.9s\n",
      "[CV] subsample=1.0, min_child_weight=3, max_depth=3, colsample_bytree=1.0 \n",
      "[CV]  subsample=0.7, min_child_weight=3, max_depth=3, colsample_bytree=1.0, score=0.8679361179361179, total=   6.9s\n",
      "[CV] subsample=1.0, min_child_weight=3, max_depth=3, colsample_bytree=1.0 \n",
      "[CV]  subsample=1.0, min_child_weight=3, max_depth=3, colsample_bytree=1.0, score=0.8599723629663749, total=   5.4s\n",
      "[CV] subsample=1.0, min_child_weight=3, max_depth=3, colsample_bytree=1.0 \n",
      "[CV]  subsample=0.7, min_child_weight=3, max_depth=3, colsample_bytree=1.0, score=0.8674754299754299, total=   7.1s\n",
      "[CV] subsample=1.0, min_child_weight=3, max_depth=3, colsample_bytree=1.0 \n",
      "[CV]  subsample=1.0, min_child_weight=3, max_depth=3, colsample_bytree=1.0, score=0.8608722358722358, total=   5.5s\n",
      "[CV] subsample=0.5, min_child_weight=1, max_depth=5, colsample_bytree=1.0 \n",
      "[CV]  subsample=1.0, min_child_weight=3, max_depth=3, colsample_bytree=1.0, score=0.8640970515970516, total=   5.8s\n",
      "[CV] subsample=0.5, min_child_weight=1, max_depth=5, colsample_bytree=1.0 \n",
      "[CV]  subsample=1.0, min_child_weight=3, max_depth=3, colsample_bytree=1.0, score=0.8668611793611793, total=   5.8s\n",
      "[CV] subsample=0.5, min_child_weight=1, max_depth=5, colsample_bytree=1.0 \n",
      "[CV]  subsample=1.0, min_child_weight=3, max_depth=3, colsample_bytree=1.0, score=0.867014742014742, total=   5.8s\n",
      "[CV] subsample=0.5, min_child_weight=1, max_depth=5, colsample_bytree=1.0 \n",
      "[CV]  subsample=0.5, min_child_weight=1, max_depth=5, colsample_bytree=1.0, score=0.8679563949025026, total=  13.0s\n",
      "[CV] subsample=0.5, min_child_weight=1, max_depth=5, colsample_bytree=1.0 \n",
      "[CV]  subsample=0.5, min_child_weight=1, max_depth=5, colsample_bytree=1.0, score=0.8671683046683046, total=  13.0s\n",
      "[CV] subsample=0.7, min_child_weight=1, max_depth=5, colsample_bytree=1.0 \n",
      "[CV]  subsample=0.5, min_child_weight=1, max_depth=5, colsample_bytree=1.0, score=0.871468058968059, total=  12.9s\n",
      "[CV] subsample=0.7, min_child_weight=1, max_depth=5, colsample_bytree=1.0 \n",
      "[CV]  subsample=0.5, min_child_weight=1, max_depth=5, colsample_bytree=1.0, score=0.8743857493857494, total=  13.0s\n",
      "[CV] subsample=0.7, min_child_weight=1, max_depth=5, colsample_bytree=1.0 \n"
     ]
    },
    {
     "name": "stderr",
     "output_type": "stream",
     "text": [
      "[Parallel(n_jobs=4)]: Done 154 tasks      | elapsed:  4.0min\n"
     ]
    },
    {
     "name": "stdout",
     "output_type": "stream",
     "text": [
      "[CV]  subsample=0.5, min_child_weight=1, max_depth=5, colsample_bytree=1.0, score=0.8717751842751843, total=  13.1s\n",
      "[CV] subsample=0.7, min_child_weight=1, max_depth=5, colsample_bytree=1.0 \n",
      "[CV]  subsample=0.7, min_child_weight=1, max_depth=5, colsample_bytree=1.0, score=0.8648856133886074, total=  11.8s\n",
      "[CV] subsample=0.7, min_child_weight=1, max_depth=5, colsample_bytree=1.0 \n",
      "[CV]  subsample=0.7, min_child_weight=1, max_depth=5, colsample_bytree=1.0, score=0.8671683046683046, total=  11.6s\n",
      "[CV] subsample=1.0, min_child_weight=1, max_depth=5, colsample_bytree=1.0 \n",
      "[CV]  subsample=0.7, min_child_weight=1, max_depth=5, colsample_bytree=1.0, score=0.871468058968059, total=  11.5s\n",
      "[CV] subsample=1.0, min_child_weight=1, max_depth=5, colsample_bytree=1.0 \n",
      "[CV]  subsample=0.7, min_child_weight=1, max_depth=5, colsample_bytree=1.0, score=0.875, total=  10.8s\n",
      "[CV] subsample=1.0, min_child_weight=1, max_depth=5, colsample_bytree=1.0 \n",
      "[CV]  subsample=1.0, min_child_weight=1, max_depth=5, colsample_bytree=1.0, score=0.8687240902809765, total=   8.0s\n",
      "[CV] subsample=1.0, min_child_weight=1, max_depth=5, colsample_bytree=1.0 \n",
      "[CV]  subsample=1.0, min_child_weight=1, max_depth=5, colsample_bytree=1.0, score=0.8674754299754299, total=   8.0s\n",
      "[CV] subsample=1.0, min_child_weight=1, max_depth=5, colsample_bytree=1.0 \n",
      "[CV]  subsample=0.7, min_child_weight=1, max_depth=5, colsample_bytree=1.0, score=0.8743857493857494, total=  10.8s\n",
      "[CV] subsample=0.5, min_child_weight=3, max_depth=5, colsample_bytree=1.0 \n",
      "[CV]  subsample=1.0, min_child_weight=1, max_depth=5, colsample_bytree=1.0, score=0.8733108108108109, total=   7.8s\n",
      "[CV] subsample=0.5, min_child_weight=3, max_depth=5, colsample_bytree=1.0 \n",
      "[CV]  subsample=1.0, min_child_weight=1, max_depth=5, colsample_bytree=1.0, score=0.8753071253071253, total=   7.8s\n",
      "[CV] subsample=0.5, min_child_weight=3, max_depth=5, colsample_bytree=1.0 \n",
      "[CV]  subsample=1.0, min_child_weight=1, max_depth=5, colsample_bytree=1.0, score=0.8742321867321867, total=   7.8s\n",
      "[CV] subsample=0.5, min_child_weight=3, max_depth=5, colsample_bytree=1.0 \n",
      "[CV]  subsample=0.5, min_child_weight=3, max_depth=5, colsample_bytree=1.0, score=0.8673422385997236, total=  11.6s\n",
      "[CV] subsample=0.5, min_child_weight=3, max_depth=5, colsample_bytree=1.0 \n",
      "[CV]  subsample=0.5, min_child_weight=3, max_depth=5, colsample_bytree=1.0, score=0.8677825552825553, total=  11.8s\n",
      "[CV] subsample=0.7, min_child_weight=3, max_depth=5, colsample_bytree=1.0 \n",
      "[CV]  subsample=0.5, min_child_weight=3, max_depth=5, colsample_bytree=1.0, score=0.8717751842751843, total=  11.8s\n",
      "[CV] subsample=0.7, min_child_weight=3, max_depth=5, colsample_bytree=1.0 \n",
      "[CV]  subsample=0.5, min_child_weight=3, max_depth=5, colsample_bytree=1.0, score=0.874539312039312, total=  11.8s\n",
      "[CV] subsample=0.7, min_child_weight=3, max_depth=5, colsample_bytree=1.0 \n",
      "[CV]  subsample=0.5, min_child_weight=3, max_depth=5, colsample_bytree=1.0, score=0.8737714987714987, total=  11.8s\n",
      "[CV] subsample=0.7, min_child_weight=3, max_depth=5, colsample_bytree=1.0 \n",
      "[CV]  subsample=0.7, min_child_weight=3, max_depth=5, colsample_bytree=1.0, score=0.8668816213726394, total=  10.4s\n",
      "[CV] subsample=0.7, min_child_weight=3, max_depth=5, colsample_bytree=1.0 \n",
      "[CV]  subsample=0.7, min_child_weight=3, max_depth=5, colsample_bytree=1.0, score=0.8683968058968059, total=  10.3s\n",
      "[CV] subsample=1.0, min_child_weight=3, max_depth=5, colsample_bytree=1.0 \n",
      "[CV]  subsample=0.7, min_child_weight=3, max_depth=5, colsample_bytree=1.0, score=0.8719287469287469, total=  10.3s\n",
      "[CV] subsample=1.0, min_child_weight=3, max_depth=5, colsample_bytree=1.0 \n"
     ]
    },
    {
     "name": "stderr",
     "output_type": "stream",
     "text": [
      "[Parallel(n_jobs=4)]: Done 173 tasks      | elapsed:  4.8min\n"
     ]
    },
    {
     "name": "stdout",
     "output_type": "stream",
     "text": [
      "[CV]  subsample=0.7, min_child_weight=3, max_depth=5, colsample_bytree=1.0, score=0.8720823095823096, total=  10.1s\n",
      "[CV] subsample=1.0, min_child_weight=3, max_depth=5, colsample_bytree=1.0 \n",
      "[CV]  subsample=1.0, min_child_weight=3, max_depth=5, colsample_bytree=1.0, score=0.8685705512052817, total=   7.6s\n",
      "[CV] subsample=1.0, min_child_weight=3, max_depth=5, colsample_bytree=1.0 \n",
      "[CV]  subsample=1.0, min_child_weight=3, max_depth=5, colsample_bytree=1.0, score=0.8668611793611793, total=   7.5s\n",
      "[CV] subsample=1.0, min_child_weight=3, max_depth=5, colsample_bytree=1.0 \n",
      "[CV]  subsample=0.7, min_child_weight=3, max_depth=5, colsample_bytree=1.0, score=0.8734643734643734, total=  10.3s\n",
      "[CV]  subsample=1.0, min_child_weight=3, max_depth=5, colsample_bytree=1.0, score=0.8708538083538083, total=   7.7s\n",
      "[CV]  subsample=1.0, min_child_weight=3, max_depth=5, colsample_bytree=1.0, score=0.8737714987714987, total=   7.4s\n",
      "[CV]  subsample=1.0, min_child_weight=3, max_depth=5, colsample_bytree=1.0, score=0.8728501228501229, total=   7.3s\n"
     ]
    },
    {
     "name": "stderr",
     "output_type": "stream",
     "text": [
      "[Parallel(n_jobs=4)]: Done 180 out of 180 | elapsed:  5.1min finished\n"
     ]
    },
    {
     "data": {
      "text/plain": [
       "GridSearchCV(cv=5, error_score='raise',\n",
       "       estimator=XGBClassifier(base_score=0.5, colsample_bylevel=1, colsample_bytree=1,\n",
       "       gamma=0, learning_rate=0.1, max_delta_step=0, max_depth=3,\n",
       "       min_child_weight=1, missing=None, n_estimators=100, nthread=-1,\n",
       "       objective='binary:logistic', reg_alpha=0, reg_lambda=1,\n",
       "       scale_pos_weight=1, seed=0, silent=True, subsample=1),\n",
       "       fit_params=None, iid=True, n_jobs=4,\n",
       "       param_grid={'subsample': [0.5, 0.7, 1.0], 'min_child_weight': [1, 3], 'max_depth': [3, 5], 'colsample_bytree': [0.5, 0.7, 1.0]},\n",
       "       pre_dispatch='2*n_jobs', refit=True, return_train_score=True,\n",
       "       scoring='accuracy', verbose=10)"
      ]
     },
     "execution_count": 34,
     "metadata": {},
     "output_type": "execute_result"
    }
   ],
   "source": [
    "gbm = xgb.XGBClassifier(learning_rate=0.1, n_estimators=100, silent=True, \n",
    "                        objective='binary:logistic', gamma=0)\n",
    "params = {\n",
    "    'max_depth': [3, 5], \n",
    "    'min_child_weight': [1, 3],\n",
    "    'subsample': [0.5, 0.7, 1.0], \n",
    "    'colsample_bytree': [0.5, 0.7, 1.0]\n",
    "}\n",
    "\n",
    "grid = GridSearchCV(estimator=gbm, param_grid=params, scoring='accuracy', \n",
    "                    n_jobs=4, cv=5, verbose=10)\n",
    "grid.fit(train_x, train_tr)"
   ]
  },
  {
   "cell_type": "code",
   "execution_count": 42,
   "metadata": {},
   "outputs": [
    {
     "data": {
      "text/plain": [
       "0.87184054543779366"
      ]
     },
     "execution_count": 42,
     "metadata": {},
     "output_type": "execute_result"
    }
   ],
   "source": [
    "# best parameters and best score\n",
    "grid.best_score_"
   ]
  },
  {
   "cell_type": "code",
   "execution_count": 36,
   "metadata": {},
   "outputs": [
    {
     "data": {
      "text/plain": [
       "{'colsample_bytree': 0.5,\n",
       " 'max_depth': 5,\n",
       " 'min_child_weight': 1,\n",
       " 'subsample': 0.5}"
      ]
     },
     "execution_count": 36,
     "metadata": {},
     "output_type": "execute_result"
    }
   ],
   "source": [
    "grid.best_params_"
   ]
  },
  {
   "cell_type": "code",
   "execution_count": 37,
   "metadata": {
    "collapsed": true
   },
   "outputs": [],
   "source": [
    "# make prediction using the best estimator\n",
    "train_grid_pred = grid.best_estimator_.predict(train_x)\n",
    "test_grid_pred = grid.best_estimator_.predict(test_x)"
   ]
  },
  {
   "cell_type": "code",
   "execution_count": 38,
   "metadata": {},
   "outputs": [
    {
     "data": {
      "text/plain": [
       "array([[23515,  1205],\n",
       "       [ 2741,  5100]])"
      ]
     },
     "execution_count": 38,
     "metadata": {},
     "output_type": "execute_result"
    }
   ],
   "source": [
    "# best estimator on training set\n",
    "confusion_matrix(train_tr, train_grid_pred)"
   ]
  },
  {
   "cell_type": "code",
   "execution_count": 39,
   "metadata": {},
   "outputs": [
    {
     "data": {
      "text/plain": [
       "0.87881207579619791"
      ]
     },
     "execution_count": 39,
     "metadata": {},
     "output_type": "execute_result"
    }
   ],
   "source": [
    "accuracy_score(train_tr, train_grid_pred)"
   ]
  },
  {
   "cell_type": "code",
   "execution_count": 40,
   "metadata": {},
   "outputs": [
    {
     "data": {
      "text/plain": [
       "array([[11779,   656],\n",
       "       [ 1398,  2448]])"
      ]
     },
     "execution_count": 40,
     "metadata": {},
     "output_type": "execute_result"
    }
   ],
   "source": [
    "# best estimator on test set\n",
    "confusion_matrix(test_tr, test_grid_pred)"
   ]
  },
  {
   "cell_type": "code",
   "execution_count": 41,
   "metadata": {},
   "outputs": [
    {
     "data": {
      "text/plain": [
       "0.87384067317732328"
      ]
     },
     "execution_count": 41,
     "metadata": {},
     "output_type": "execute_result"
    }
   ],
   "source": [
    "accuracy_score(test_tr, test_grid_pred)"
   ]
  },
  {
   "cell_type": "code",
   "execution_count": null,
   "metadata": {
    "collapsed": true
   },
   "outputs": [],
   "source": []
  }
 ],
 "metadata": {
  "kernelspec": {
   "display_name": "Python [conda root]",
   "language": "python",
   "name": "conda-root-py"
  },
  "language_info": {
   "codemirror_mode": {
    "name": "ipython",
    "version": 3
   },
   "file_extension": ".py",
   "mimetype": "text/x-python",
   "name": "python",
   "nbconvert_exporter": "python",
   "pygments_lexer": "ipython3",
   "version": "3.5.4"
  }
 },
 "nbformat": 4,
 "nbformat_minor": 2
}
