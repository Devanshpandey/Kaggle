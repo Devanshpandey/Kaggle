{
 "cells": [
  {
   "cell_type": "code",
   "execution_count": 1,
   "metadata": {},
   "outputs": [
    {
     "name": "stderr",
     "output_type": "stream",
     "text": [
      "//anaconda/lib/python3.5/site-packages/sklearn/cross_validation.py:41: DeprecationWarning: This module was deprecated in version 0.18 in favor of the model_selection module into which all the refactored classes and functions are moved. Also note that the interface of the new CV iterators are different from that of this module. This module will be removed in 0.20.\n",
      "  \"This module will be removed in 0.20.\", DeprecationWarning)\n"
     ]
    }
   ],
   "source": [
    "import numpy as np\n",
    "import pandas as pd\n",
    "import matplotlib.pyplot as plt\n",
    "import seaborn as sns\n",
    "from sklearn.preprocessing import LabelEncoder\n",
    "from sklearn.preprocessing import StandardScaler\n",
    "from sklearn.metrics import mean_squared_error\n",
    "import xgboost as xgb\n",
    "from sklearn.linear_model import Lasso\n",
    "\n",
    "%matplotlib inline\n",
    "plt.rcParams['figure.figsize'] = (10.0, 8.0)"
   ]
  },
  {
   "cell_type": "code",
   "execution_count": 2,
   "metadata": {
    "collapsed": true
   },
   "outputs": [],
   "source": [
    "#loading data\n",
    "train = pd.read_csv('./data/train.csv')\n",
    "test = pd.read_csv('./data/test.csv')"
   ]
  },
  {
   "cell_type": "markdown",
   "metadata": {},
   "source": [
    "## Data Pre-Processing"
   ]
  },
  {
   "cell_type": "code",
   "execution_count": 3,
   "metadata": {},
   "outputs": [
    {
     "data": {
      "text/plain": [
       "(1456, 81)"
      ]
     },
     "execution_count": 3,
     "metadata": {},
     "output_type": "execute_result"
    }
   ],
   "source": [
    "# removing outliers\n",
    "train.drop(train[train['GrLivArea'] > 4000].index, inplace=True)\n",
    "train.shape # removed 4 rows`"
   ]
  },
  {
   "cell_type": "code",
   "execution_count": 4,
   "metadata": {
    "collapsed": true
   },
   "outputs": [],
   "source": [
    "# imputing using mode\n",
    "test.loc[666, 'GarageQual'] = \"TA\" #stats.mode(test['GarageQual']).mode\n",
    "test.loc[666, 'GarageCond'] = \"TA\" #stats.mode(test['GarageCond']).mode\n",
    "test.loc[666, 'GarageFinish'] = \"Unf\" #stats.mode(test['GarageFinish']).mode\n",
    "test.loc[666, 'GarageYrBlt'] = \"1980\" #np.nanmedian(test['GarageYrBlt'])"
   ]
  },
  {
   "cell_type": "code",
   "execution_count": 5,
   "metadata": {},
   "outputs": [],
   "source": [
    "# mark as missing\n",
    "test.loc[1116, 'GarageType'] = np.nan"
   ]
  },
  {
   "cell_type": "code",
   "execution_count": 6,
   "metadata": {
    "collapsed": true
   },
   "outputs": [],
   "source": [
    "#importing function\n",
    "le = LabelEncoder()\n",
    "def factorize(data, var, fill_na=None):\n",
    "    if fill_na is not None:\n",
    "        data[var].fillna(fill_na, inplace=True)\n",
    "    le.fit(data[var])\n",
    "    data[var] = le.transform(data[var])\n",
    "    return data"
   ]
  },
  {
   "cell_type": "code",
   "execution_count": 7,
   "metadata": {},
   "outputs": [
    {
     "data": {
      "text/plain": [
       "(2915, 81)"
      ]
     },
     "execution_count": 7,
     "metadata": {},
     "output_type": "execute_result"
    }
   ],
   "source": [
    "# combine the data set\n",
    "alldata = train.append(test)\n",
    "alldata.shape"
   ]
  },
  {
   "cell_type": "code",
   "execution_count": 8,
   "metadata": {
    "collapsed": true
   },
   "outputs": [],
   "source": [
    "# impute lotfrontage by median of neighborhood\n",
    "lot_frontage_by_neighborhood = train['LotFrontage'].groupby(train['Neighborhood'])\n",
    "\n",
    "for key, group in lot_frontage_by_neighborhood:\n",
    "    idx = (alldata['Neighborhood'] == key) & (alldata['LotFrontage'].isnull())\n",
    "    alldata.loc[idx, 'LotFrontage'] = group.median()"
   ]
  },
  {
   "cell_type": "code",
   "execution_count": 9,
   "metadata": {
    "collapsed": true
   },
   "outputs": [],
   "source": [
    "# imputing missing values\n",
    "alldata[\"MasVnrArea\"].fillna(0, inplace=True)\n",
    "alldata[\"BsmtFinSF1\"].fillna(0, inplace=True)\n",
    "alldata[\"BsmtFinSF2\"].fillna(0, inplace=True)\n",
    "alldata[\"BsmtUnfSF\"].fillna(0, inplace=True)\n",
    "alldata[\"TotalBsmtSF\"].fillna(0, inplace=True)\n",
    "alldata[\"GarageArea\"].fillna(0, inplace=True)\n",
    "alldata[\"BsmtFullBath\"].fillna(0, inplace=True)\n",
    "alldata[\"BsmtHalfBath\"].fillna(0, inplace=True)\n",
    "alldata[\"GarageCars\"].fillna(0, inplace=True)\n",
    "alldata[\"GarageYrBlt\"].fillna(0.0, inplace=True)\n",
    "alldata[\"PoolArea\"].fillna(0, inplace=True)"
   ]
  },
  {
   "cell_type": "code",
   "execution_count": 10,
   "metadata": {
    "collapsed": true
   },
   "outputs": [],
   "source": [
    "# convert the categorical variables into ordinal variables\n",
    "qual_dict = {np.nan: 0, \"Po\": 1, \"Fa\": 2, \"TA\": 3, \"Gd\": 4, \"Ex\": 5}\n",
    "name = np.array(['ExterQual', 'PoolQC', 'ExterCond', 'BsmtQual', 'BsmtCond', 'HeatingQC', \n",
    "                 'KitchenQual', 'FireplaceQu', 'GarageQual', 'GarageCond'])\n",
    "\n",
    "for i in name:\n",
    "     alldata[i] = alldata[i].map(qual_dict).astype(int)\n",
    "\n",
    "alldata[\"BsmtExposure\"] = alldata[\"BsmtExposure\"].map({np.nan: 0, \"No\": 1, \"Mn\": 2, \"Av\": 3, \"Gd\": 4}).astype(int)\n",
    "\n",
    "bsmt_fin_dict = {np.nan: 0, \"Unf\": 1, \"LwQ\": 2, \"Rec\": 3, \"BLQ\": 4, \"ALQ\": 5, \"GLQ\": 6}\n",
    "alldata[\"BsmtFinType1\"] = alldata[\"BsmtFinType1\"].map(bsmt_fin_dict).astype(int)\n",
    "alldata[\"BsmtFinType2\"] = alldata[\"BsmtFinType2\"].map(bsmt_fin_dict).astype(int)\n",
    "alldata[\"Functional\"] = alldata[\"Functional\"].map({np.nan: 0, \"Sal\": 1, \"Sev\": 2, \"Maj2\": 3, \"Maj1\": 4, \n",
    "                                                   \"Mod\": 5, \"Min2\": 6, \"Min1\": 7, \"Typ\": 8}).astype(int)\n",
    "\n",
    "alldata[\"GarageFinish\"] = alldata[\"GarageFinish\"].map({np.nan: 0, \"Unf\": 1, \"RFn\": 2, \"Fin\": 3}).astype(int)\n",
    "alldata[\"Fence\"] = alldata[\"Fence\"].map({np.nan: 0, \"MnWw\": 1, \"GdWo\": 2, \"MnPrv\": 3, \"GdPrv\": 4}).astype(int)\n",
    "\n",
    "#encoding data\n",
    "alldata[\"CentralAir\"] = (alldata[\"CentralAir\"] == \"Y\") * 1.0\n",
    "varst = np.array(['MSSubClass', 'LotConfig', 'Neighborhood', 'Condition1', 'BldgType', \n",
    "                  'HouseStyle', 'RoofStyle', 'Foundation', 'SaleCondition'])\n",
    "\n",
    "for x in varst:\n",
    "         factorize(alldata, x)\n",
    "\n",
    "# encode variables and impute missing values\n",
    "alldata = factorize(alldata, \"MSZoning\", \"RL\")\n",
    "alldata = factorize(alldata, \"Exterior1st\", \"Other\")\n",
    "alldata = factorize(alldata, \"Exterior2nd\", \"Other\")\n",
    "alldata = factorize(alldata, \"MasVnrType\", \"None\")\n",
    "alldata = factorize(alldata, \"SaleType\", \"Oth\")"
   ]
  },
  {
   "cell_type": "markdown",
   "metadata": {},
   "source": [
    "## Feature Engineering"
   ]
  },
  {
   "cell_type": "code",
   "execution_count": 11,
   "metadata": {
    "collapsed": true
   },
   "outputs": [],
   "source": [
    "# creating new variable (1 or 0) based on irregular count levels\n",
    "# The level with highest count is kept as 1 and rest as 0\n",
    "alldata[\"IsRegularLotShape\"] = (alldata[\"LotShape\"] == \"Reg\") * 1\n",
    "alldata[\"IsLandLevel\"] = (alldata[\"LandContour\"] == \"Lvl\") * 1\n",
    "alldata[\"IsLandSlopeGentle\"] = (alldata[\"LandSlope\"] == \"Gtl\") * 1\n",
    "alldata[\"IsElectricalSBrkr\"] = (alldata[\"Electrical\"] == \"SBrkr\") * 1\n",
    "alldata[\"IsGarageDetached\"] = (alldata[\"GarageType\"] == \"Detchd\") * 1\n",
    "alldata[\"IsPavedDrive\"] = (alldata[\"PavedDrive\"] == \"Y\") * 1\n",
    "alldata[\"HasShed\"] = (alldata[\"MiscFeature\"] == \"Shed\") * 1\n",
    "alldata[\"Remodeled\"] = (alldata[\"YearRemodAdd\"] != alldata[\"YearBuilt\"]) * 1\n",
    "\n",
    "# Did the modeling happen during the sale year?\n",
    "alldata[\"RecentRemodel\"] = (alldata[\"YearRemodAdd\"] == alldata[\"YrSold\"]) * 1\n",
    "\n",
    "# Was this house sold in the year it was built?\n",
    "alldata[\"VeryNewHouse\"] = (alldata[\"YearBuilt\"] == alldata[\"YrSold\"]) * 1\n",
    "alldata[\"Has2ndFloor\"] = (alldata[\"2ndFlrSF\"] == 0) * 1\n",
    "alldata[\"HasMasVnr\"] = (alldata[\"MasVnrArea\"] == 0) * 1\n",
    "alldata[\"HasWoodDeck\"] = (alldata[\"WoodDeckSF\"] == 0) * 1\n",
    "alldata[\"HasOpenPorch\"] = (alldata[\"OpenPorchSF\"] == 0) * 1\n",
    "alldata[\"HasEnclosedPorch\"] = (alldata[\"EnclosedPorch\"] == 0) * 1\n",
    "alldata[\"Has3SsnPorch\"] = (alldata[\"3SsnPorch\"] == 0) * 1\n",
    "alldata[\"HasScreenPorch\"] = (alldata[\"ScreenPorch\"] == 0) * 1\n",
    "\n",
    "# setting levels with high count as 1 and the rest as 0\n",
    "# you can check for them using the value_counts function\n",
    "alldata[\"HighSeason\"] = alldata[\"MoSold\"].replace({1: 0, 2: 0, 3: 0, 4: 1, 5: 1, 6: 1, \n",
    "                                                   7: 1, 8: 0, 9: 0, 10: 0, 11: 0, 12: 0})\n",
    "alldata[\"NewerDwelling\"] = alldata[\"MSSubClass\"].replace({20: 1, 30: 0, 40: 0, 45: 0, 50: 0, 60: 1, \n",
    "                                                          70: 0, 75: 0, 80: 0, 85: 0, 90: 0, 120: 1, \n",
    "                                                          150: 0, 160: 0, 180: 0, 190: 0})"
   ]
  },
  {
   "cell_type": "code",
   "execution_count": 12,
   "metadata": {},
   "outputs": [
    {
     "data": {
      "text/plain": [
       "(2915, 100)"
      ]
     },
     "execution_count": 12,
     "metadata": {},
     "output_type": "execute_result"
    }
   ],
   "source": [
    "alldata.shape"
   ]
  },
  {
   "cell_type": "code",
   "execution_count": 13,
   "metadata": {
    "collapsed": true
   },
   "outputs": [],
   "source": [
    "# create alldata2\n",
    "alldata2 = train.append(test)\n",
    "\n",
    "alldata[\"SaleCondition_PriceDown\"] = alldata2.SaleCondition.replace({'Abnorml': 1, 'Alloca': 1, \n",
    "                                                                     'AdjLand': 1, 'Family': 1, \n",
    "                                                                     'Normal': 0, 'Partial': 0})\n",
    "\n",
    "# house completed before sale or not\n",
    "alldata[\"BoughtOffPlan\"] = alldata2.SaleCondition.replace({\"Abnorml\": 0, \"Alloca\": 0, \"AdjLand\": 0, \n",
    "                                                           \"Family\": 0, \"Normal\": 0, \"Partial\": 1})\n",
    "alldata[\"BadHeating\"] = alldata2.HeatingQC.replace({'Ex': 0, 'Gd': 0, 'TA': 0, 'Fa': 1, 'Po': 1})"
   ]
  },
  {
   "cell_type": "code",
   "execution_count": 14,
   "metadata": {},
   "outputs": [
    {
     "data": {
      "image/png": "[encoded data removed]",
      "text/plain": [
       "<matplotlib.figure.Figure at 0x10d7a8a90>"
      ]
     },
     "metadata": {},
     "output_type": "display_data"
    }
   ],
   "source": [
    "# calculating total area using all area columns\n",
    "area_cols = ['LotFrontage', 'LotArea', 'MasVnrArea', 'BsmtFinSF1', 'BsmtFinSF2', \n",
    "             'BsmtUnfSF', 'TotalBsmtSF', '1stFlrSF', '2ndFlrSF', 'GrLivArea', \n",
    "             'GarageArea', 'WoodDeckSF', 'OpenPorchSF', 'EnclosedPorch', \n",
    "             '3SsnPorch', 'ScreenPorch', 'LowQualFinSF', 'PoolArea' ]\n",
    "\n",
    "alldata[\"TotalArea\"] = alldata[area_cols].sum(axis=1)\n",
    "alldata[\"TotalArea1st2nd\"] = alldata[\"1stFlrSF\"] + alldata[\"2ndFlrSF\"]\n",
    "alldata[\"Age\"] = 2010 - alldata[\"YearBuilt\"]\n",
    "alldata[\"TimeSinceSold\"] = 2010 - alldata[\"YrSold\"]\n",
    "alldata[\"SeasonSold\"] = alldata[\"MoSold\"].map({12:0, 1:0, 2:0, 3:1, 4:1, 5:1, 6:2, \n",
    "                                               7:2, 8:2, 9:3, 10:3, 11:3}).astype(int)\n",
    "alldata[\"YearsSinceRemodel\"] = alldata[\"YrSold\"] - alldata[\"YearRemodAdd\"]\n",
    "\n",
    "# Simplifications of existing features into bad/average/good based on counts\n",
    "alldata[\"SimplOverallQual\"] = alldata.OverallQual.replace({1 : 1, 2 : 1, 3 : 1, 4 : 2, 5 : 2, \n",
    "                                                           6 : 2, 7 : 3, 8 : 3, 9 : 3, 10 : 3})\n",
    "alldata[\"SimplOverallCond\"] = alldata.OverallCond.replace({1 : 1, 2 : 1, 3 : 1, 4 : 2, 5 : 2, \n",
    "                                                           6 : 2, 7 : 3, 8 : 3, 9 : 3, 10 : 3})\n",
    "alldata[\"SimplPoolQC\"] = alldata.PoolQC.replace({1 : 1, 2 : 1, 3 : 2, 4 : 2})\n",
    "alldata[\"SimplGarageCond\"] = alldata.GarageCond.replace({1 : 1, 2 : 1, 3 : 1, 4 : 2, 5 : 2})\n",
    "alldata[\"SimplGarageQual\"] = alldata.GarageQual.replace({1 : 1, 2 : 1, 3 : 1, 4 : 2, 5 : 2})\n",
    "alldata[\"SimplFireplaceQu\"] = alldata.FireplaceQu.replace({1 : 1, 2 : 1, 3 : 1, 4 : 2, 5 : 2})\n",
    "alldata[\"SimplFireplaceQu\"] = alldata.FireplaceQu.replace({1 : 1, 2 : 1, 3 : 1, 4 : 2, 5 : 2})\n",
    "alldata[\"SimplFunctional\"] = alldata.Functional.replace({1 : 1, 2 : 1, 3 : 2, 4 : 2, 5 : 3, \n",
    "                                                         6 : 3, 7 : 3, 8 : 4})\n",
    "alldata[\"SimplKitchenQual\"] = alldata.KitchenQual.replace({1 : 1, 2 : 1, 3 : 1, 4 : 2, 5 : 2})\n",
    "alldata[\"SimplHeatingQC\"] = alldata.HeatingQC.replace({1 : 1, 2 : 1, 3 : 1, 4 : 2, 5 : 2})\n",
    "alldata[\"SimplBsmtFinType1\"] = alldata.BsmtFinType1.replace({1 : 1, 2 : 1, 3 : 1, 4 : 2, 5 : 2, 6 : 2})\n",
    "alldata[\"SimplBsmtFinType2\"] = alldata.BsmtFinType2.replace({1 : 1, 2 : 1, 3 : 1, 4 : 2, 5 : 2, 6 : 2})\n",
    "alldata[\"SimplBsmtCond\"] = alldata.BsmtCond.replace({1 : 1, 2 : 1, 3 : 1, 4 : 2, 5 : 2})\n",
    "alldata[\"SimplBsmtQual\"] = alldata.BsmtQual.replace({1 : 1, 2 : 1, 3 : 1, 4 : 2, 5 : 2})\n",
    "alldata[\"SimplExterCond\"] = alldata.ExterCond.replace({1 : 1, 2 : 1, 3 : 1, 4 : 2, 5 : 2})\n",
    "alldata[\"SimplExterQual\"] = alldata.ExterQual.replace({1 : 1, 2 : 1, 3 : 1, 4 : 2, 5 : 2})\n",
    "\n",
    "#grouping neighborhood variable based on this plot\n",
    "train['SalePrice'].groupby(train['Neighborhood']).median().sort_values().plot(kind='bar')\n",
    "plt.show()"
   ]
  },
  {
   "cell_type": "code",
   "execution_count": 15,
   "metadata": {},
   "outputs": [
    {
     "data": {
      "text/plain": [
       "(2915, 126)"
      ]
     },
     "execution_count": 15,
     "metadata": {},
     "output_type": "execute_result"
    }
   ],
   "source": [
    "neighborhood_map = {\"MeadowV\" : 0, \"IDOTRR\" : 1, \"BrDale\" : 1, \"OldTown\" : 1, \"Edwards\" : 1, \n",
    "                    \"BrkSide\" : 1, \"Sawyer\" : 1, \"Blueste\" : 1, \"SWISU\" : 2, \"NAmes\" : 2, \n",
    "                    \"NPkVill\" : 2, \"Mitchel\" : 2, \"SawyerW\" : 2, \"Gilbert\" : 2, \"NWAmes\" : 2, \n",
    "                    \"Blmngtn\" : 2, \"CollgCr\" : 2, \"ClearCr\" : 3, \"Crawfor\" : 3, \"Veenker\" : 3, \n",
    "                    \"Somerst\" : 3, \"Timber\" : 3, \"StoneBr\" : 4, \"NoRidge\" : 4, \"NridgHt\" : 4}\n",
    "\n",
    "alldata['NeighborhoodBin'] = alldata2['Neighborhood'].map(neighborhood_map)\n",
    "alldata.loc[alldata2.Neighborhood == 'NridgHt', \"Neighborhood_Good\"] = 1\n",
    "alldata.loc[alldata2.Neighborhood == 'Crawfor', \"Neighborhood_Good\"] = 1\n",
    "alldata.loc[alldata2.Neighborhood == 'StoneBr', \"Neighborhood_Good\"] = 1\n",
    "alldata.loc[alldata2.Neighborhood == 'Somerst', \"Neighborhood_Good\"] = 1\n",
    "alldata.loc[alldata2.Neighborhood == 'NoRidge', \"Neighborhood_Good\"] = 1\n",
    "alldata[\"Neighborhood_Good\"].fillna(0, inplace=True)\n",
    "alldata[\"SaleCondition_PriceDown\"] = alldata2.SaleCondition.replace({'Abnorml': 1, 'Alloca': 1, \n",
    "                                                                     'AdjLand': 1, 'Family': 1, \n",
    "                                                                     'Normal': 0, 'Partial': 0})\n",
    "\n",
    "# House completed before sale or not\n",
    "alldata[\"BoughtOffPlan\"] = alldata2.SaleCondition.replace({\"Abnorml\" : 0, \"Alloca\" : 0, \"AdjLand\" : 0, \n",
    "                                                           \"Family\" : 0, \"Normal\" : 0, \"Partial\" : 1})\n",
    "alldata[\"BadHeating\"] = alldata2.HeatingQC.replace({'Ex': 0, 'Gd': 0, 'TA': 0, 'Fa': 1, 'Po': 1})\n",
    "alldata.shape"
   ]
  },
  {
   "cell_type": "code",
   "execution_count": 16,
   "metadata": {},
   "outputs": [
    {
     "name": "stdout",
     "output_type": "stream",
     "text": [
      "Train (1456, 126)\n",
      "-------------------\n",
      "Test (1459, 126)\n"
     ]
    }
   ],
   "source": [
    "#create new data\n",
    "train_new = alldata[alldata['SalePrice'].notnull()]\n",
    "test_new = alldata[alldata['SalePrice'].isnull()]\n",
    "\n",
    "print('Train', train_new.shape)\n",
    "print('-------------------')\n",
    "print('Test', test_new.shape)"
   ]
  },
  {
   "cell_type": "code",
   "execution_count": 17,
   "metadata": {},
   "outputs": [
    {
     "name": "stderr",
     "output_type": "stream",
     "text": [
      "//anaconda/lib/python3.5/site-packages/pandas/core/frame.py:2352: SettingWithCopyWarning: \n",
      "A value is trying to be set on a copy of a slice from a DataFrame.\n",
      "Try using .loc[row_indexer,col_indexer] = value instead\n",
      "\n",
      "See the caveats in the documentation: http://pandas.pydata.org/pandas-docs/stable/indexing.html#indexing-view-versus-copy\n",
      "  self[k1] = value[k2]\n"
     ]
    }
   ],
   "source": [
    "#get numeric features\n",
    "numeric_features = [f for f in train_new.columns if train_new[f].dtype != object]\n",
    "\n",
    "#transform the numeric features using log(x + 1)\n",
    "from scipy.stats import skew\n",
    "skewed = train_new[numeric_features].apply(lambda x: skew(x.dropna().astype(float)))\n",
    "skewed = skewed[skewed > 0.75]\n",
    "skewed = skewed.index\n",
    "train_new[skewed] = np.log1p(train_new[skewed])\n",
    "test_new[skewed] = np.log1p(test_new[skewed])\n",
    "del test_new['SalePrice']"
   ]
  },
  {
   "cell_type": "code",
   "execution_count": 18,
   "metadata": {},
   "outputs": [
    {
     "name": "stderr",
     "output_type": "stream",
     "text": [
      "//anaconda/lib/python3.5/site-packages/ipykernel/__main__.py:6: SettingWithCopyWarning: \n",
      "A value is trying to be set on a copy of a slice from a DataFrame.\n",
      "Try using .loc[row_indexer,col_indexer] = value instead\n",
      "\n",
      "See the caveats in the documentation: http://pandas.pydata.org/pandas-docs/stable/indexing.html#indexing-view-versus-copy\n",
      "//anaconda/lib/python3.5/site-packages/ipykernel/__main__.py:12: SettingWithCopyWarning: \n",
      "A value is trying to be set on a copy of a slice from a DataFrame.\n",
      "Try using .loc[row_indexer,col_indexer] = value instead\n",
      "\n",
      "See the caveats in the documentation: http://pandas.pydata.org/pandas-docs/stable/indexing.html#indexing-view-versus-copy\n"
     ]
    }
   ],
   "source": [
    "scaler = StandardScaler()\n",
    "scaler.fit(train_new[numeric_features])\n",
    "scaled = scaler.transform(train_new[numeric_features])\n",
    "\n",
    "for i, col in enumerate(numeric_features):\n",
    "    train_new[col] = scaled[:,i]\n",
    "\n",
    "numeric_features.remove('SalePrice')\n",
    "scaled = scaler.fit_transform(test_new[numeric_features])\n",
    "\n",
    "for i, col in enumerate(numeric_features):\n",
    "    test_new[col] = scaled[:,i]"
   ]
  },
  {
   "cell_type": "code",
   "execution_count": 19,
   "metadata": {
    "collapsed": true
   },
   "outputs": [],
   "source": [
    "def onehot(onehot_df, df, column_name, fill_na):\n",
    "    onehot_df[column_name] = df[column_name]\n",
    "    if fill_na is not None:\n",
    "        onehot_df[column_name].fillna(fill_na, inplace=True)\n",
    "\n",
    "    dummies = pd.get_dummies(onehot_df[column_name], prefix=\"_\"+column_name)\n",
    "    onehot_df = onehot_df.join(dummies)\n",
    "    onehot_df = onehot_df.drop([column_name], axis=1)\n",
    "    return onehot_df\n",
    "\n",
    "def munge_onehot(df):\n",
    "    onehot_df = pd.DataFrame(index = df.index)\n",
    "\n",
    "    onehot_df = onehot(onehot_df, df, \"MSSubClass\", None)\n",
    "    onehot_df = onehot(onehot_df, df, \"MSZoning\", \"RL\")\n",
    "    onehot_df = onehot(onehot_df, df, \"LotConfig\", None)\n",
    "    onehot_df = onehot(onehot_df, df, \"Neighborhood\", None)\n",
    "    onehot_df = onehot(onehot_df, df, \"Condition1\", None)\n",
    "    onehot_df = onehot(onehot_df, df, \"BldgType\", None)\n",
    "    onehot_df = onehot(onehot_df, df, \"HouseStyle\", None)\n",
    "    onehot_df = onehot(onehot_df, df, \"RoofStyle\", None)\n",
    "    onehot_df = onehot(onehot_df, df, \"Exterior1st\", \"VinylSd\")\n",
    "    onehot_df = onehot(onehot_df, df, \"Exterior2nd\", \"VinylSd\")\n",
    "    onehot_df = onehot(onehot_df, df, \"Foundation\", None)\n",
    "    onehot_df = onehot(onehot_df, df, \"SaleType\", \"WD\")\n",
    "    onehot_df = onehot(onehot_df, df, \"SaleCondition\", \"Normal\")\n",
    "\n",
    "    # Fill in missing MasVnrType for rows that do have a MasVnrArea.\n",
    "    temp_df = df[[\"MasVnrType\", \"MasVnrArea\"]].copy()\n",
    "    idx = (df[\"MasVnrArea\"] != 0) & ((df[\"MasVnrType\"] == \"None\") | (df[\"MasVnrType\"].isnull()))\n",
    "    temp_df.loc[idx, \"MasVnrType\"] = \"BrkFace\"\n",
    "    onehot_df = onehot(onehot_df, temp_df, \"MasVnrType\", None)\n",
    "\n",
    "    onehot_df = onehot(onehot_df, df, \"LotShape\", None)\n",
    "    onehot_df = onehot(onehot_df, df, \"LandContour\", None)\n",
    "    onehot_df = onehot(onehot_df, df, \"LandSlope\", None)\n",
    "    onehot_df = onehot(onehot_df, df, \"Electrical\", \"SBrkr\")\n",
    "    onehot_df = onehot(onehot_df, df, \"GarageType\", None)\n",
    "    onehot_df = onehot(onehot_df, df, \"PavedDrive\", None)\n",
    "    onehot_df = onehot(onehot_df, df, \"MiscFeature\", None)\n",
    "    onehot_df = onehot(onehot_df, df, \"Street\", None)\n",
    "    onehot_df = onehot(onehot_df, df, \"Alley\", None)\n",
    "    onehot_df = onehot(onehot_df, df, \"Condition2\", None)\n",
    "    onehot_df = onehot(onehot_df, df, \"RoofMatl\", None)\n",
    "    onehot_df = onehot(onehot_df, df, \"Heating\", None)\n",
    "\n",
    "    # we'll have these as numerical variables too\n",
    "    onehot_df = onehot(onehot_df, df, \"ExterQual\", None)\n",
    "    onehot_df = onehot(onehot_df, df, \"ExterCond\", None)\n",
    "    onehot_df = onehot(onehot_df, df, \"BsmtQual\", None)\n",
    "    onehot_df = onehot(onehot_df, df, \"BsmtCond\", None)\n",
    "    onehot_df = onehot(onehot_df, df, \"HeatingQC\", None)\n",
    "    onehot_df = onehot(onehot_df, df, \"KitchenQual\", \"TA\")\n",
    "    onehot_df = onehot(onehot_df, df, \"FireplaceQu\", None)\n",
    "    onehot_df = onehot(onehot_df, df, \"GarageQual\", None)\n",
    "    onehot_df = onehot(onehot_df, df, \"GarageCond\", None)\n",
    "    onehot_df = onehot(onehot_df, df, \"PoolQC\", None)\n",
    "    onehot_df = onehot(onehot_df, df, \"BsmtExposure\", None)\n",
    "    onehot_df = onehot(onehot_df, df, \"BsmtFinType1\", None)\n",
    "    onehot_df = onehot(onehot_df, df, \"BsmtFinType2\", None)\n",
    "    onehot_df = onehot(onehot_df, df, \"Functional\", \"Typ\")\n",
    "    onehot_df = onehot(onehot_df, df, \"GarageFinish\", None)\n",
    "    onehot_df = onehot(onehot_df, df, \"Fence\", None)\n",
    "    onehot_df = onehot(onehot_df, df, \"MoSold\", None)\n",
    "\n",
    "    # Divide  the years between 1871 and 2010 into slices of 20 years\n",
    "    year_map = pd.concat(pd.Series(\"YearBin\" + str(i+1), index=range(1871+i*20,1891+i*20))  for i in range(0, 7))\n",
    "    yearbin_df = pd.DataFrame(index = df.index)\n",
    "    yearbin_df[\"GarageYrBltBin\"] = df.GarageYrBlt.map(year_map)\n",
    "    yearbin_df[\"GarageYrBltBin\"].fillna(\"NoGarage\", inplace=True)\n",
    "    yearbin_df[\"YearBuiltBin\"] = df.YearBuilt.map(year_map)\n",
    "    yearbin_df[\"YearRemodAddBin\"] = df.YearRemodAdd.map(year_map)\n",
    "\n",
    "    onehot_df = onehot(onehot_df, yearbin_df, \"GarageYrBltBin\", None)\n",
    "    onehot_df = onehot(onehot_df, yearbin_df, \"YearBuiltBin\", None)\n",
    "    onehot_df = onehot(onehot_df, yearbin_df, \"YearRemodAddBin\", None)\n",
    "    return onehot_df\n",
    "\n",
    "# create one-hot features\n",
    "onehot_df = munge_onehot(train)\n",
    "\n",
    "neighborhood_train = pd.DataFrame(index=train_new.shape)\n",
    "neighborhood_train['NeighborhoodBin'] = train_new['NeighborhoodBin']\n",
    "neighborhood_test = pd.DataFrame(index=test_new.shape)\n",
    "neighborhood_test['NeighborhoodBin'] = test_new['NeighborhoodBin']\n",
    "\n",
    "onehot_df = onehot(onehot_df, neighborhood_train, 'NeighborhoodBin', None)"
   ]
  },
  {
   "cell_type": "code",
   "execution_count": 20,
   "metadata": {},
   "outputs": [
    {
     "data": {
      "text/plain": [
       "(1456, 419)"
      ]
     },
     "execution_count": 20,
     "metadata": {},
     "output_type": "execute_result"
    }
   ],
   "source": [
    "train_new = train_new.join(onehot_df) \n",
    "train_new.shape"
   ]
  },
  {
   "cell_type": "code",
   "execution_count": 21,
   "metadata": {},
   "outputs": [
    {
     "data": {
      "text/plain": [
       "(1459, 403)"
      ]
     },
     "execution_count": 21,
     "metadata": {},
     "output_type": "execute_result"
    }
   ],
   "source": [
    "# adding one hot features to test\n",
    "onehot_df_te = munge_onehot(test)\n",
    "onehot_df_te = onehot(onehot_df_te, neighborhood_test, \"NeighborhoodBin\", None)\n",
    "test_new = test_new.join(onehot_df_te)\n",
    "test_new.shape"
   ]
  },
  {
   "cell_type": "code",
   "execution_count": 22,
   "metadata": {},
   "outputs": [
    {
     "data": {
      "text/plain": [
       "(1456, 403)"
      ]
     },
     "execution_count": 22,
     "metadata": {},
     "output_type": "execute_result"
    }
   ],
   "source": [
    "#dropping some columns from the train data as they are not found in test\n",
    "drop_cols = [\"_Exterior1st_ImStucc\", \"_Exterior1st_Stone\", \"_Exterior2nd_Other\", \n",
    "             \"_HouseStyle_2.5Fin\",\"_RoofMatl_Membran\", \"_RoofMatl_Metal\", \n",
    "             \"_RoofMatl_Roll\", \"_Condition2_RRAe\", \"_Condition2_RRAn\", \n",
    "             \"_Condition2_RRNn\", \"_Heating_Floor\", \"_Heating_OthW\", \n",
    "             \"_Electrical_Mix\", \"_MiscFeature_TenC\", \"_GarageQual_Ex\", \"_PoolQC_Fa\"]\n",
    "train_new.drop(drop_cols, axis=1, inplace=True)\n",
    "train_new.shape"
   ]
  },
  {
   "cell_type": "code",
   "execution_count": 23,
   "metadata": {
    "collapsed": true
   },
   "outputs": [],
   "source": [
    "# removing one column missing from train data\n",
    "test_new.drop([\"_MSSubClass_150\"], axis=1, inplace=True)\n",
    "\n",
    "# Drop these columns\n",
    "drop_cols = [\"_Condition2_PosN\", # only two are not zero\n",
    "         \"_MSZoning_C (all)\",\n",
    "         \"_MSSubClass_160\"]\n",
    "\n",
    "train_new.drop(drop_cols, axis=1, inplace=True)\n",
    "test_new.drop(drop_cols, axis=1, inplace=True)"
   ]
  },
  {
   "cell_type": "code",
   "execution_count": 24,
   "metadata": {},
   "outputs": [
    {
     "name": "stdout",
     "output_type": "stream",
     "text": [
      "Training set size: (1456, 400)\n",
      "Test set size: (1459, 399)\n"
     ]
    }
   ],
   "source": [
    "# create a label set\n",
    "label_df = pd.DataFrame(index = train_new.index, columns = ['SalePrice'])\n",
    "label_df['SalePrice'] = np.log(train['SalePrice'])\n",
    "print(\"Training set size:\", train_new.shape)\n",
    "print(\"Test set size:\", test_new.shape)"
   ]
  },
  {
   "cell_type": "markdown",
   "metadata": {},
   "source": [
    "## Model Training and Evaluation"
   ]
  },
  {
   "cell_type": "code",
   "execution_count": 27,
   "metadata": {},
   "outputs": [],
   "source": [
    "# XGBoost model\n",
    "regr = xgb.XGBRegressor(colsample_bytree=0.2,\n",
    "                        gamma=0.0,\n",
    "                        learning_rate=0.05,\n",
    "                        max_depth=6,\n",
    "                        min_child_weight=1.5,\n",
    "                        n_estimators=7200,\n",
    "                        reg_alpha=0.9,\n",
    "                        reg_lambda=0.6,\n",
    "                        subsample=0.2,\n",
    "                        seed=42,\n",
    "                        silent=1)\n",
    "\n",
    "regr.fit(train_new, label_df)"
   ]
  },
  {
   "cell_type": "code",
   "execution_count": null,
   "metadata": {
    "collapsed": true
   },
   "outputs": [],
   "source": []
  }
 ],
 "metadata": {
  "kernelspec": {
   "display_name": "Python [conda root]",
   "language": "python",
   "name": "conda-root-py"
  },
  "language_info": {
   "codemirror_mode": {
    "name": "ipython",
    "version": 3
   },
   "file_extension": ".py",
   "mimetype": "text/x-python",
   "name": "python",
   "nbconvert_exporter": "python",
   "pygments_lexer": "ipython3",
   "version": "3.5.4"
  }
 },
 "nbformat": 4,
 "nbformat_minor": 2
}
