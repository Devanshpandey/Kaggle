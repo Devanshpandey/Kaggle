{
 "cells": [
  {
   "cell_type": "code",
   "execution_count": 1,
   "metadata": {
    "collapsed": true
   },
   "outputs": [],
   "source": [
    "import pandas as pd\n",
    "import json"
   ]
  },
  {
   "cell_type": "markdown",
   "metadata": {},
   "source": [
    "# business.json"
   ]
  },
  {
   "cell_type": "code",
   "execution_count": 2,
   "metadata": {},
   "outputs": [],
   "source": [
    "# features to keep\n",
    "features = ['business_id', 'name', 'address', 'latitude', 'longitude', \n",
    "            'review_count', 'stars', 'categories']\n",
    "data = {}\n",
    "for name in features:\n",
    "    data[name] = []\n",
    "\n",
    "with open('./data/dataset/business.json', 'r') as f:\n",
    "    for line in f:\n",
    "        tmp = json.loads(line)\n",
    "        for name in features:\n",
    "            data[name].append(tmp[name])"
   ]
  },
  {
   "cell_type": "code",
   "execution_count": 3,
   "metadata": {},
   "outputs": [],
   "source": [
    "# transform into csv file and save to disk\n",
    "business = pd.DataFrame(data, columns=features)\n",
    "business.to_csv('./data/business.csv', index=False)"
   ]
  },
  {
   "cell_type": "markdown",
   "metadata": {},
   "source": [
    "# review.json"
   ]
  },
  {
   "cell_type": "code",
   "execution_count": 4,
   "metadata": {
    "collapsed": true
   },
   "outputs": [],
   "source": [
    "# features to keep\n",
    "features = ['review_id', 'user_id', 'business_id', 'stars', \n",
    "            'date', 'text', 'useful', 'funny', 'cool']\n",
    "\n",
    "data = {}\n",
    "for name in features:\n",
    "    data[name] = []\n",
    "\n",
    "with open('./data/dataset/review.json', 'r') as f:\n",
    "    for line in f:\n",
    "        tmp = json.loads(line)\n",
    "        for name in features:\n",
    "            data[name].append(tmp[name])"
   ]
  },
  {
   "cell_type": "code",
   "execution_count": 5,
   "metadata": {},
   "outputs": [],
   "source": [
    "# transform into csv file and save to disk\n",
    "review = pd.DataFrame(data, columns=features)\n",
    "review.to_csv('./data/review.csv', index=False)"
   ]
  },
  {
   "cell_type": "markdown",
   "metadata": {},
   "source": [
    "# user.json"
   ]
  },
  {
   "cell_type": "code",
   "execution_count": 6,
   "metadata": {
    "collapsed": true
   },
   "outputs": [],
   "source": [
    "# features to keep\n",
    "features = ['user_id', 'name', 'review_count', 'yelping_since', \n",
    "            'useful', 'funny', 'cool', 'fans', 'average_stars', \n",
    "            'compliment_hot', 'compliment_more', 'compliment_profile', \n",
    "            'compliment_cute', 'compliment_list', 'compliment_note', \n",
    "            'compliment_plain', 'compliment_cool', 'compliment_funny', \n",
    "            'compliment_writer', 'compliment_photos']\n",
    "\n",
    "data = {}\n",
    "for name in features:\n",
    "    data[name] = []\n",
    "\n",
    "with open('./data/dataset/user.json', 'r') as f:\n",
    "    for line in f:\n",
    "        tmp = json.loads(line)\n",
    "        for name in features:\n",
    "            data[name].append(tmp[name])"
   ]
  },
  {
   "cell_type": "code",
   "execution_count": 7,
   "metadata": {
    "collapsed": true
   },
   "outputs": [],
   "source": [
    "# transform into csv file and save to disk\n",
    "user = pd.DataFrame(data, columns=features)\n",
    "user.to_csv('./data/user.csv', index=False)"
   ]
  },
  {
   "cell_type": "markdown",
   "metadata": {},
   "source": [
    "# checkin.json"
   ]
  },
  {
   "cell_type": "code",
   "execution_count": null,
   "metadata": {
    "collapsed": true
   },
   "outputs": [],
   "source": []
  },
  {
   "cell_type": "markdown",
   "metadata": {},
   "source": [
    "# tip.json"
   ]
  },
  {
   "cell_type": "code",
   "execution_count": 8,
   "metadata": {
    "collapsed": true
   },
   "outputs": [],
   "source": [
    "# features to keep\n",
    "features = ['text', 'date', 'likes', 'business_id', 'user_id']\n",
    "\n",
    "data = {}\n",
    "for name in features:\n",
    "    data[name] = []\n",
    "\n",
    "with open('./data/dataset/tip.json', 'r') as f:\n",
    "    for line in f:\n",
    "        tmp = json.loads(line)\n",
    "        for name in features:\n",
    "            data[name].append(tmp[name])"
   ]
  },
  {
   "cell_type": "code",
   "execution_count": 9,
   "metadata": {
    "collapsed": true
   },
   "outputs": [],
   "source": [
    "# transform into csv file and save to disk\n",
    "tip = pd.DataFrame(data, columns=features)\n",
    "tip.to_csv('./data/tip.csv', index=False)"
   ]
  },
  {
   "cell_type": "markdown",
   "metadata": {},
   "source": [
    "# photos.json"
   ]
  },
  {
   "cell_type": "code",
   "execution_count": 10,
   "metadata": {
    "collapsed": true
   },
   "outputs": [],
   "source": [
    "# features to keep\n",
    "features = ['photo_id', 'business_id', 'caption', 'label']\n",
    "\n",
    "data = {}\n",
    "for name in features:\n",
    "    data[name] = []\n",
    "\n",
    "with open('./data/dataset/photos.json', 'r') as f:\n",
    "    for line in f:\n",
    "        tmp = json.loads(line)\n",
    "        for name in features:\n",
    "            data[name].append(tmp[name])"
   ]
  },
  {
   "cell_type": "code",
   "execution_count": 11,
   "metadata": {
    "collapsed": true
   },
   "outputs": [],
   "source": [
    "# transform into csv file and save to disk\n",
    "photos = pd.DataFrame(data, columns=features)\n",
    "photos.to_csv('./data/photos.csv', index=False)"
   ]
  },
  {
   "cell_type": "markdown",
   "metadata": {},
   "source": [
    "# Overview"
   ]
  },
  {
   "cell_type": "code",
   "execution_count": 12,
   "metadata": {},
   "outputs": [
    {
     "data": {
      "text/html": [
       "<div>\n",
       "<style>\n",
       "    .dataframe thead tr:only-child th {\n",
       "        text-align: right;\n",
       "    }\n",
       "\n",
       "    .dataframe thead th {\n",
       "        text-align: left;\n",
       "    }\n",
       "\n",
       "    .dataframe tbody tr th {\n",
       "        vertical-align: top;\n",
       "    }\n",
       "</style>\n",
       "<table border=\"1\" class=\"dataframe\">\n",
       "  <thead>\n",
       "    <tr style=\"text-align: right;\">\n",
       "      <th></th>\n",
       "      <th>business_id</th>\n",
       "      <th>name</th>\n",
       "      <th>address</th>\n",
       "      <th>latitude</th>\n",
       "      <th>longitude</th>\n",
       "      <th>review_count</th>\n",
       "      <th>stars</th>\n",
       "      <th>categories</th>\n",
       "    </tr>\n",
       "  </thead>\n",
       "  <tbody>\n",
       "    <tr>\n",
       "      <th>0</th>\n",
       "      <td>YDf95gJZaq05wvo7hTQbbQ</td>\n",
       "      <td>Richmond Town Square</td>\n",
       "      <td>691 Richmond Rd</td>\n",
       "      <td>41.541716</td>\n",
       "      <td>-81.493116</td>\n",
       "      <td>17</td>\n",
       "      <td>2.0</td>\n",
       "      <td>[Shopping, Shopping Centers]</td>\n",
       "    </tr>\n",
       "    <tr>\n",
       "      <th>1</th>\n",
       "      <td>mLwM-h2YhXl2NCgdS84_Bw</td>\n",
       "      <td>South Florida Style Chicken &amp; Ribs</td>\n",
       "      <td>2824 Milton Rd</td>\n",
       "      <td>35.236870</td>\n",
       "      <td>-80.741976</td>\n",
       "      <td>4</td>\n",
       "      <td>4.5</td>\n",
       "      <td>[Food, Soul Food, Convenience Stores, Restaura...</td>\n",
       "    </tr>\n",
       "    <tr>\n",
       "      <th>2</th>\n",
       "      <td>v2WhjAB3PIBA8J8VxG3wEg</td>\n",
       "      <td>The Tea Emporium</td>\n",
       "      <td>337 Danforth Avenue</td>\n",
       "      <td>43.677126</td>\n",
       "      <td>-79.353285</td>\n",
       "      <td>7</td>\n",
       "      <td>4.5</td>\n",
       "      <td>[Food, Coffee &amp; Tea]</td>\n",
       "    </tr>\n",
       "    <tr>\n",
       "      <th>3</th>\n",
       "      <td>CVtCbSB1zUcUWg-9TNGTuQ</td>\n",
       "      <td>TRUmatch</td>\n",
       "      <td>7702 E Doubletree Ranch Rd, Ste 300</td>\n",
       "      <td>33.565082</td>\n",
       "      <td>-111.916400</td>\n",
       "      <td>3</td>\n",
       "      <td>3.0</td>\n",
       "      <td>[Professional Services, Matchmakers]</td>\n",
       "    </tr>\n",
       "    <tr>\n",
       "      <th>4</th>\n",
       "      <td>duHFBe87uNSXImQmvBh87Q</td>\n",
       "      <td>Blimpie</td>\n",
       "      <td>4719 N 20Th St</td>\n",
       "      <td>33.505928</td>\n",
       "      <td>-112.038847</td>\n",
       "      <td>10</td>\n",
       "      <td>4.5</td>\n",
       "      <td>[Sandwiches, Restaurants]</td>\n",
       "    </tr>\n",
       "  </tbody>\n",
       "</table>\n",
       "</div>"
      ],
      "text/plain": [
       "              business_id                                name  \\\n",
       "0  YDf95gJZaq05wvo7hTQbbQ                Richmond Town Square   \n",
       "1  mLwM-h2YhXl2NCgdS84_Bw  South Florida Style Chicken & Ribs   \n",
       "2  v2WhjAB3PIBA8J8VxG3wEg                    The Tea Emporium   \n",
       "3  CVtCbSB1zUcUWg-9TNGTuQ                            TRUmatch   \n",
       "4  duHFBe87uNSXImQmvBh87Q                             Blimpie   \n",
       "\n",
       "                               address   latitude   longitude  review_count  \\\n",
       "0                      691 Richmond Rd  41.541716  -81.493116            17   \n",
       "1                       2824 Milton Rd  35.236870  -80.741976             4   \n",
       "2                  337 Danforth Avenue  43.677126  -79.353285             7   \n",
       "3  7702 E Doubletree Ranch Rd, Ste 300  33.565082 -111.916400             3   \n",
       "4                       4719 N 20Th St  33.505928 -112.038847            10   \n",
       "\n",
       "   stars                                         categories  \n",
       "0    2.0                       [Shopping, Shopping Centers]  \n",
       "1    4.5  [Food, Soul Food, Convenience Stores, Restaura...  \n",
       "2    4.5                               [Food, Coffee & Tea]  \n",
       "3    3.0               [Professional Services, Matchmakers]  \n",
       "4    4.5                          [Sandwiches, Restaurants]  "
      ]
     },
     "execution_count": 12,
     "metadata": {},
     "output_type": "execute_result"
    }
   ],
   "source": [
    "business.head()"
   ]
  },
  {
   "cell_type": "code",
   "execution_count": 13,
   "metadata": {},
   "outputs": [
    {
     "data": {
      "text/plain": [
       "(156639, 8)"
      ]
     },
     "execution_count": 13,
     "metadata": {},
     "output_type": "execute_result"
    }
   ],
   "source": [
    "business.shape"
   ]
  },
  {
   "cell_type": "code",
   "execution_count": 14,
   "metadata": {},
   "outputs": [
    {
     "data": {
      "text/html": [
       "<div>\n",
       "<style>\n",
       "    .dataframe thead tr:only-child th {\n",
       "        text-align: right;\n",
       "    }\n",
       "\n",
       "    .dataframe thead th {\n",
       "        text-align: left;\n",
       "    }\n",
       "\n",
       "    .dataframe tbody tr th {\n",
       "        vertical-align: top;\n",
       "    }\n",
       "</style>\n",
       "<table border=\"1\" class=\"dataframe\">\n",
       "  <thead>\n",
       "    <tr style=\"text-align: right;\">\n",
       "      <th></th>\n",
       "      <th>review_id</th>\n",
       "      <th>user_id</th>\n",
       "      <th>business_id</th>\n",
       "      <th>stars</th>\n",
       "      <th>date</th>\n",
       "      <th>text</th>\n",
       "      <th>useful</th>\n",
       "      <th>funny</th>\n",
       "      <th>cool</th>\n",
       "    </tr>\n",
       "  </thead>\n",
       "  <tbody>\n",
       "    <tr>\n",
       "      <th>0</th>\n",
       "      <td>VfBHSwC5Vz_pbFluy07i9Q</td>\n",
       "      <td>cjpdDjZyprfyDG3RlkVG3w</td>\n",
       "      <td>uYHaNptLzDLoV_JZ_MuzUA</td>\n",
       "      <td>5</td>\n",
       "      <td>2016-07-12</td>\n",
       "      <td>My girlfriend and I stayed here for 3 nights a...</td>\n",
       "      <td>0</td>\n",
       "      <td>0</td>\n",
       "      <td>0</td>\n",
       "    </tr>\n",
       "    <tr>\n",
       "      <th>1</th>\n",
       "      <td>3zRpneRKDsOPq92tq7ybAA</td>\n",
       "      <td>bjTcT8Ty4cJZhEOEo01FGA</td>\n",
       "      <td>uYHaNptLzDLoV_JZ_MuzUA</td>\n",
       "      <td>3</td>\n",
       "      <td>2016-10-02</td>\n",
       "      <td>If you need an inexpensive place to stay for a...</td>\n",
       "      <td>0</td>\n",
       "      <td>0</td>\n",
       "      <td>0</td>\n",
       "    </tr>\n",
       "    <tr>\n",
       "      <th>2</th>\n",
       "      <td>ne5WhI1jUFOcRn-b-gAzHA</td>\n",
       "      <td>AXgRULmWcME7J6Ix3I--ww</td>\n",
       "      <td>uYHaNptLzDLoV_JZ_MuzUA</td>\n",
       "      <td>3</td>\n",
       "      <td>2015-09-17</td>\n",
       "      <td>Mittlerweile gibt es in Edinburgh zwei Ableger...</td>\n",
       "      <td>0</td>\n",
       "      <td>0</td>\n",
       "      <td>0</td>\n",
       "    </tr>\n",
       "    <tr>\n",
       "      <th>3</th>\n",
       "      <td>llmdwOgDReucVoWEry61Lw</td>\n",
       "      <td>oU2SSOmsp_A8JYI7Z2JJ5w</td>\n",
       "      <td>uYHaNptLzDLoV_JZ_MuzUA</td>\n",
       "      <td>4</td>\n",
       "      <td>2016-08-21</td>\n",
       "      <td>Location is everything and this hotel has it! ...</td>\n",
       "      <td>0</td>\n",
       "      <td>0</td>\n",
       "      <td>0</td>\n",
       "    </tr>\n",
       "    <tr>\n",
       "      <th>4</th>\n",
       "      <td>DuffS87NaSMDmIfluvT83g</td>\n",
       "      <td>0xtbPEna2Kei11vsU-U2Mw</td>\n",
       "      <td>uYHaNptLzDLoV_JZ_MuzUA</td>\n",
       "      <td>5</td>\n",
       "      <td>2013-11-20</td>\n",
       "      <td>gute lage im stadtzentrum. shoppingmeile und s...</td>\n",
       "      <td>0</td>\n",
       "      <td>0</td>\n",
       "      <td>0</td>\n",
       "    </tr>\n",
       "  </tbody>\n",
       "</table>\n",
       "</div>"
      ],
      "text/plain": [
       "                review_id                 user_id             business_id  \\\n",
       "0  VfBHSwC5Vz_pbFluy07i9Q  cjpdDjZyprfyDG3RlkVG3w  uYHaNptLzDLoV_JZ_MuzUA   \n",
       "1  3zRpneRKDsOPq92tq7ybAA  bjTcT8Ty4cJZhEOEo01FGA  uYHaNptLzDLoV_JZ_MuzUA   \n",
       "2  ne5WhI1jUFOcRn-b-gAzHA  AXgRULmWcME7J6Ix3I--ww  uYHaNptLzDLoV_JZ_MuzUA   \n",
       "3  llmdwOgDReucVoWEry61Lw  oU2SSOmsp_A8JYI7Z2JJ5w  uYHaNptLzDLoV_JZ_MuzUA   \n",
       "4  DuffS87NaSMDmIfluvT83g  0xtbPEna2Kei11vsU-U2Mw  uYHaNptLzDLoV_JZ_MuzUA   \n",
       "\n",
       "   stars        date                                               text  \\\n",
       "0      5  2016-07-12  My girlfriend and I stayed here for 3 nights a...   \n",
       "1      3  2016-10-02  If you need an inexpensive place to stay for a...   \n",
       "2      3  2015-09-17  Mittlerweile gibt es in Edinburgh zwei Ableger...   \n",
       "3      4  2016-08-21  Location is everything and this hotel has it! ...   \n",
       "4      5  2013-11-20  gute lage im stadtzentrum. shoppingmeile und s...   \n",
       "\n",
       "   useful  funny  cool  \n",
       "0       0      0     0  \n",
       "1       0      0     0  \n",
       "2       0      0     0  \n",
       "3       0      0     0  \n",
       "4       0      0     0  "
      ]
     },
     "execution_count": 14,
     "metadata": {},
     "output_type": "execute_result"
    }
   ],
   "source": [
    "review.head()"
   ]
  },
  {
   "cell_type": "code",
   "execution_count": 15,
   "metadata": {},
   "outputs": [
    {
     "data": {
      "text/plain": [
       "(4736897, 9)"
      ]
     },
     "execution_count": 15,
     "metadata": {},
     "output_type": "execute_result"
    }
   ],
   "source": [
    "review.shape"
   ]
  },
  {
   "cell_type": "code",
   "execution_count": 16,
   "metadata": {},
   "outputs": [
    {
     "data": {
      "text/html": [
       "<div>\n",
       "<style>\n",
       "    .dataframe thead tr:only-child th {\n",
       "        text-align: right;\n",
       "    }\n",
       "\n",
       "    .dataframe thead th {\n",
       "        text-align: left;\n",
       "    }\n",
       "\n",
       "    .dataframe tbody tr th {\n",
       "        vertical-align: top;\n",
       "    }\n",
       "</style>\n",
       "<table border=\"1\" class=\"dataframe\">\n",
       "  <thead>\n",
       "    <tr style=\"text-align: right;\">\n",
       "      <th></th>\n",
       "      <th>user_id</th>\n",
       "      <th>name</th>\n",
       "      <th>review_count</th>\n",
       "      <th>yelping_since</th>\n",
       "      <th>useful</th>\n",
       "      <th>funny</th>\n",
       "      <th>cool</th>\n",
       "      <th>fans</th>\n",
       "      <th>average_stars</th>\n",
       "      <th>compliment_hot</th>\n",
       "      <th>compliment_more</th>\n",
       "      <th>compliment_profile</th>\n",
       "      <th>compliment_cute</th>\n",
       "      <th>compliment_list</th>\n",
       "      <th>compliment_note</th>\n",
       "      <th>compliment_plain</th>\n",
       "      <th>compliment_cool</th>\n",
       "      <th>compliment_funny</th>\n",
       "      <th>compliment_writer</th>\n",
       "      <th>compliment_photos</th>\n",
       "    </tr>\n",
       "  </thead>\n",
       "  <tbody>\n",
       "    <tr>\n",
       "      <th>0</th>\n",
       "      <td>lsSiIjAKVl-QRxKjRErBeg</td>\n",
       "      <td>Cin</td>\n",
       "      <td>272</td>\n",
       "      <td>2010-07-13</td>\n",
       "      <td>17019</td>\n",
       "      <td>16605</td>\n",
       "      <td>16856</td>\n",
       "      <td>209</td>\n",
       "      <td>3.80</td>\n",
       "      <td>5175</td>\n",
       "      <td>299</td>\n",
       "      <td>569</td>\n",
       "      <td>284</td>\n",
       "      <td>78</td>\n",
       "      <td>1435</td>\n",
       "      <td>7397</td>\n",
       "      <td>5174</td>\n",
       "      <td>5174</td>\n",
       "      <td>1834</td>\n",
       "      <td>7829</td>\n",
       "    </tr>\n",
       "    <tr>\n",
       "      <th>1</th>\n",
       "      <td>om5ZiponkpRqUNa3pVPiRg</td>\n",
       "      <td>Andrea</td>\n",
       "      <td>2559</td>\n",
       "      <td>2006-01-18</td>\n",
       "      <td>83681</td>\n",
       "      <td>10882</td>\n",
       "      <td>40110</td>\n",
       "      <td>835</td>\n",
       "      <td>3.94</td>\n",
       "      <td>1285</td>\n",
       "      <td>134</td>\n",
       "      <td>74</td>\n",
       "      <td>211</td>\n",
       "      <td>101</td>\n",
       "      <td>1295</td>\n",
       "      <td>2134</td>\n",
       "      <td>1556</td>\n",
       "      <td>1556</td>\n",
       "      <td>402</td>\n",
       "      <td>162</td>\n",
       "    </tr>\n",
       "    <tr>\n",
       "      <th>2</th>\n",
       "      <td>-lGwMGHMC_XihFJNKCJNRg</td>\n",
       "      <td>Gabe</td>\n",
       "      <td>277</td>\n",
       "      <td>2014-10-31</td>\n",
       "      <td>45</td>\n",
       "      <td>4</td>\n",
       "      <td>55</td>\n",
       "      <td>17</td>\n",
       "      <td>4.72</td>\n",
       "      <td>5</td>\n",
       "      <td>1</td>\n",
       "      <td>0</td>\n",
       "      <td>1</td>\n",
       "      <td>0</td>\n",
       "      <td>11</td>\n",
       "      <td>20</td>\n",
       "      <td>15</td>\n",
       "      <td>15</td>\n",
       "      <td>1</td>\n",
       "      <td>8</td>\n",
       "    </tr>\n",
       "    <tr>\n",
       "      <th>3</th>\n",
       "      <td>D-ydMTPGWXTVm4_jjp0k9g</td>\n",
       "      <td>Leah</td>\n",
       "      <td>436</td>\n",
       "      <td>2013-04-01</td>\n",
       "      <td>15</td>\n",
       "      <td>4</td>\n",
       "      <td>4</td>\n",
       "      <td>11</td>\n",
       "      <td>3.76</td>\n",
       "      <td>1</td>\n",
       "      <td>1</td>\n",
       "      <td>0</td>\n",
       "      <td>0</td>\n",
       "      <td>0</td>\n",
       "      <td>4</td>\n",
       "      <td>11</td>\n",
       "      <td>9</td>\n",
       "      <td>9</td>\n",
       "      <td>3</td>\n",
       "      <td>1</td>\n",
       "    </tr>\n",
       "    <tr>\n",
       "      <th>4</th>\n",
       "      <td>PcvbBOCOcs6_suRDH7TSTg</td>\n",
       "      <td>Juan</td>\n",
       "      <td>921</td>\n",
       "      <td>2012-08-16</td>\n",
       "      <td>9152</td>\n",
       "      <td>360</td>\n",
       "      <td>6006</td>\n",
       "      <td>49</td>\n",
       "      <td>4.23</td>\n",
       "      <td>59</td>\n",
       "      <td>8</td>\n",
       "      <td>3</td>\n",
       "      <td>0</td>\n",
       "      <td>0</td>\n",
       "      <td>51</td>\n",
       "      <td>386</td>\n",
       "      <td>276</td>\n",
       "      <td>276</td>\n",
       "      <td>29</td>\n",
       "      <td>169</td>\n",
       "    </tr>\n",
       "  </tbody>\n",
       "</table>\n",
       "</div>"
      ],
      "text/plain": [
       "                  user_id    name  review_count yelping_since  useful  funny  \\\n",
       "0  lsSiIjAKVl-QRxKjRErBeg     Cin           272    2010-07-13   17019  16605   \n",
       "1  om5ZiponkpRqUNa3pVPiRg  Andrea          2559    2006-01-18   83681  10882   \n",
       "2  -lGwMGHMC_XihFJNKCJNRg    Gabe           277    2014-10-31      45      4   \n",
       "3  D-ydMTPGWXTVm4_jjp0k9g    Leah           436    2013-04-01      15      4   \n",
       "4  PcvbBOCOcs6_suRDH7TSTg    Juan           921    2012-08-16    9152    360   \n",
       "\n",
       "    cool  fans  average_stars  compliment_hot  compliment_more  \\\n",
       "0  16856   209           3.80            5175              299   \n",
       "1  40110   835           3.94            1285              134   \n",
       "2     55    17           4.72               5                1   \n",
       "3      4    11           3.76               1                1   \n",
       "4   6006    49           4.23              59                8   \n",
       "\n",
       "   compliment_profile  compliment_cute  compliment_list  compliment_note  \\\n",
       "0                 569              284               78             1435   \n",
       "1                  74              211              101             1295   \n",
       "2                   0                1                0               11   \n",
       "3                   0                0                0                4   \n",
       "4                   3                0                0               51   \n",
       "\n",
       "   compliment_plain  compliment_cool  compliment_funny  compliment_writer  \\\n",
       "0              7397             5174              5174               1834   \n",
       "1              2134             1556              1556                402   \n",
       "2                20               15                15                  1   \n",
       "3                11                9                 9                  3   \n",
       "4               386              276               276                 29   \n",
       "\n",
       "   compliment_photos  \n",
       "0               7829  \n",
       "1                162  \n",
       "2                  8  \n",
       "3                  1  \n",
       "4                169  "
      ]
     },
     "execution_count": 16,
     "metadata": {},
     "output_type": "execute_result"
    }
   ],
   "source": [
    "user.head()"
   ]
  },
  {
   "cell_type": "code",
   "execution_count": 17,
   "metadata": {},
   "outputs": [
    {
     "data": {
      "text/plain": [
       "(1183362, 20)"
      ]
     },
     "execution_count": 17,
     "metadata": {},
     "output_type": "execute_result"
    }
   ],
   "source": [
    "user.shape"
   ]
  },
  {
   "cell_type": "code",
   "execution_count": 18,
   "metadata": {},
   "outputs": [
    {
     "data": {
      "text/html": [
       "<div>\n",
       "<style>\n",
       "    .dataframe thead tr:only-child th {\n",
       "        text-align: right;\n",
       "    }\n",
       "\n",
       "    .dataframe thead th {\n",
       "        text-align: left;\n",
       "    }\n",
       "\n",
       "    .dataframe tbody tr th {\n",
       "        vertical-align: top;\n",
       "    }\n",
       "</style>\n",
       "<table border=\"1\" class=\"dataframe\">\n",
       "  <thead>\n",
       "    <tr style=\"text-align: right;\">\n",
       "      <th></th>\n",
       "      <th>text</th>\n",
       "      <th>date</th>\n",
       "      <th>likes</th>\n",
       "      <th>business_id</th>\n",
       "      <th>user_id</th>\n",
       "    </tr>\n",
       "  </thead>\n",
       "  <tbody>\n",
       "    <tr>\n",
       "      <th>0</th>\n",
       "      <td>Get here early enough to have dinner.</td>\n",
       "      <td>2012-07-15</td>\n",
       "      <td>0</td>\n",
       "      <td>tJRDll5yqpZwehenzE2cSg</td>\n",
       "      <td>zcTZk7OG8ovAmh_fenH21g</td>\n",
       "    </tr>\n",
       "    <tr>\n",
       "      <th>1</th>\n",
       "      <td>Great breakfast large portions and friendly wa...</td>\n",
       "      <td>2015-08-12</td>\n",
       "      <td>0</td>\n",
       "      <td>jH19V2I9fIslnNhDzPmdkA</td>\n",
       "      <td>ZcLKXikTHYOnYt5VYRO5sg</td>\n",
       "    </tr>\n",
       "    <tr>\n",
       "      <th>2</th>\n",
       "      <td>Nice place. Great staff.  A fixture in the tow...</td>\n",
       "      <td>2014-06-20</td>\n",
       "      <td>0</td>\n",
       "      <td>dAa0hB2yrnHzVmsCkN4YvQ</td>\n",
       "      <td>oaYhjqBbh18ZhU0bpyzSuw</td>\n",
       "    </tr>\n",
       "    <tr>\n",
       "      <th>3</th>\n",
       "      <td>Happy hour 5-7 Monday - Friday</td>\n",
       "      <td>2016-10-12</td>\n",
       "      <td>0</td>\n",
       "      <td>dAa0hB2yrnHzVmsCkN4YvQ</td>\n",
       "      <td>ulQ8Nyj7jCUR8M83SUMoRQ</td>\n",
       "    </tr>\n",
       "    <tr>\n",
       "      <th>4</th>\n",
       "      <td>Parking is a premium, keep circling, you will ...</td>\n",
       "      <td>2017-01-28</td>\n",
       "      <td>0</td>\n",
       "      <td>ESzO3Av0b1_TzKOiqzbQYQ</td>\n",
       "      <td>ulQ8Nyj7jCUR8M83SUMoRQ</td>\n",
       "    </tr>\n",
       "  </tbody>\n",
       "</table>\n",
       "</div>"
      ],
      "text/plain": [
       "                                                text        date  likes  \\\n",
       "0              Get here early enough to have dinner.  2012-07-15      0   \n",
       "1  Great breakfast large portions and friendly wa...  2015-08-12      0   \n",
       "2  Nice place. Great staff.  A fixture in the tow...  2014-06-20      0   \n",
       "3                     Happy hour 5-7 Monday - Friday  2016-10-12      0   \n",
       "4  Parking is a premium, keep circling, you will ...  2017-01-28      0   \n",
       "\n",
       "              business_id                 user_id  \n",
       "0  tJRDll5yqpZwehenzE2cSg  zcTZk7OG8ovAmh_fenH21g  \n",
       "1  jH19V2I9fIslnNhDzPmdkA  ZcLKXikTHYOnYt5VYRO5sg  \n",
       "2  dAa0hB2yrnHzVmsCkN4YvQ  oaYhjqBbh18ZhU0bpyzSuw  \n",
       "3  dAa0hB2yrnHzVmsCkN4YvQ  ulQ8Nyj7jCUR8M83SUMoRQ  \n",
       "4  ESzO3Av0b1_TzKOiqzbQYQ  ulQ8Nyj7jCUR8M83SUMoRQ  "
      ]
     },
     "execution_count": 18,
     "metadata": {},
     "output_type": "execute_result"
    }
   ],
   "source": [
    "tip.head()"
   ]
  },
  {
   "cell_type": "code",
   "execution_count": 19,
   "metadata": {},
   "outputs": [
    {
     "data": {
      "text/plain": [
       "(1028802, 5)"
      ]
     },
     "execution_count": 19,
     "metadata": {},
     "output_type": "execute_result"
    }
   ],
   "source": [
    "tip.shape"
   ]
  },
  {
   "cell_type": "code",
   "execution_count": 20,
   "metadata": {},
   "outputs": [
    {
     "data": {
      "text/html": [
       "<div>\n",
       "<style>\n",
       "    .dataframe thead tr:only-child th {\n",
       "        text-align: right;\n",
       "    }\n",
       "\n",
       "    .dataframe thead th {\n",
       "        text-align: left;\n",
       "    }\n",
       "\n",
       "    .dataframe tbody tr th {\n",
       "        vertical-align: top;\n",
       "    }\n",
       "</style>\n",
       "<table border=\"1\" class=\"dataframe\">\n",
       "  <thead>\n",
       "    <tr style=\"text-align: right;\">\n",
       "      <th></th>\n",
       "      <th>photo_id</th>\n",
       "      <th>business_id</th>\n",
       "      <th>caption</th>\n",
       "      <th>label</th>\n",
       "    </tr>\n",
       "  </thead>\n",
       "  <tbody>\n",
       "    <tr>\n",
       "      <th>0</th>\n",
       "      <td>VZXDC7VBdIXXjE3omVqeMg</td>\n",
       "      <td>JzB7NITHQ7gVHGVZ1ntgIQ</td>\n",
       "      <td>Black Angus Steak Sandwich... Huge!!!</td>\n",
       "      <td>food</td>\n",
       "    </tr>\n",
       "    <tr>\n",
       "      <th>1</th>\n",
       "      <td>c6Em6dDZ4aVKDI8Lc2BQog</td>\n",
       "      <td>JzB7NITHQ7gVHGVZ1ntgIQ</td>\n",
       "      <td></td>\n",
       "      <td>outside</td>\n",
       "    </tr>\n",
       "    <tr>\n",
       "      <th>2</th>\n",
       "      <td>VAoFn_z9QF0qVmT5vTdwWA</td>\n",
       "      <td>JzB7NITHQ7gVHGVZ1ntgIQ</td>\n",
       "      <td></td>\n",
       "      <td>food</td>\n",
       "    </tr>\n",
       "    <tr>\n",
       "      <th>3</th>\n",
       "      <td>ToCK6BSwnST8nIzSuskW3g</td>\n",
       "      <td>JzB7NITHQ7gVHGVZ1ntgIQ</td>\n",
       "      <td></td>\n",
       "      <td>food</td>\n",
       "    </tr>\n",
       "    <tr>\n",
       "      <th>4</th>\n",
       "      <td>XFsXCbK5q3ks0n7B8grI8A</td>\n",
       "      <td>JzB7NITHQ7gVHGVZ1ntgIQ</td>\n",
       "      <td></td>\n",
       "      <td>food</td>\n",
       "    </tr>\n",
       "  </tbody>\n",
       "</table>\n",
       "</div>"
      ],
      "text/plain": [
       "                 photo_id             business_id  \\\n",
       "0  VZXDC7VBdIXXjE3omVqeMg  JzB7NITHQ7gVHGVZ1ntgIQ   \n",
       "1  c6Em6dDZ4aVKDI8Lc2BQog  JzB7NITHQ7gVHGVZ1ntgIQ   \n",
       "2  VAoFn_z9QF0qVmT5vTdwWA  JzB7NITHQ7gVHGVZ1ntgIQ   \n",
       "3  ToCK6BSwnST8nIzSuskW3g  JzB7NITHQ7gVHGVZ1ntgIQ   \n",
       "4  XFsXCbK5q3ks0n7B8grI8A  JzB7NITHQ7gVHGVZ1ntgIQ   \n",
       "\n",
       "                                 caption    label  \n",
       "0  Black Angus Steak Sandwich... Huge!!!     food  \n",
       "1                                         outside  \n",
       "2                                            food  \n",
       "3                                            food  \n",
       "4                                            food  "
      ]
     },
     "execution_count": 20,
     "metadata": {},
     "output_type": "execute_result"
    }
   ],
   "source": [
    "photos.head()"
   ]
  },
  {
   "cell_type": "code",
   "execution_count": 21,
   "metadata": {},
   "outputs": [
    {
     "data": {
      "text/plain": [
       "(196278, 4)"
      ]
     },
     "execution_count": 21,
     "metadata": {},
     "output_type": "execute_result"
    }
   ],
   "source": [
    "photos.shape"
   ]
  },
  {
   "cell_type": "code",
   "execution_count": null,
   "metadata": {
    "collapsed": true
   },
   "outputs": [],
   "source": []
  }
 ],
 "metadata": {
  "kernelspec": {
   "display_name": "Python [conda root]",
   "language": "python",
   "name": "conda-root-py"
  },
  "language_info": {
   "codemirror_mode": {
    "name": "ipython",
    "version": 3
   },
   "file_extension": ".py",
   "mimetype": "text/x-python",
   "name": "python",
   "nbconvert_exporter": "python",
   "pygments_lexer": "ipython3",
   "version": "3.5.4"
  }
 },
 "nbformat": 4,
 "nbformat_minor": 2
}
