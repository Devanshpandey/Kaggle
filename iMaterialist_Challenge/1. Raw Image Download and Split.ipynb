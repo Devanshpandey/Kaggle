{
 "cells": [
  {
   "cell_type": "code",
   "execution_count": 1,
   "metadata": {},
   "outputs": [],
   "source": [
    "import warnings\n",
    "warnings.simplefilter('ignore')\n",
    "\n",
    "import numpy as np\n",
    "import pandas as pd\n",
    "import seaborn as sns\n",
    "import matplotlib.pyplot as plt\n",
    "import sys, os, time, gc\n",
    "import requests, shutil\n",
    "from PIL import Image\n",
    "\n",
    "%matplotlib inline"
   ]
  },
  {
   "cell_type": "markdown",
   "metadata": {},
   "source": [
    "# 1. Download Raw Images\n",
    "\n",
    "Get single from the given url, modified from Kaggle kernel https://www.kaggle.com/syltruong/img-download-multi-proc-bar-resume-fail-logs"
   ]
  },
  {
   "cell_type": "code",
   "execution_count": 2,
   "metadata": {},
   "outputs": [],
   "source": [
    "# Change to True if the images are not already downloaded\n",
    "download = False"
   ]
  },
  {
   "cell_type": "code",
   "execution_count": 3,
   "metadata": {},
   "outputs": [],
   "source": [
    "# Download Train Images\n",
    "if download is True:\n",
    "    !python downloader.py './data/raw_data/train.json' './data/raw_data/train_images'"
   ]
  },
  {
   "cell_type": "code",
   "execution_count": 4,
   "metadata": {},
   "outputs": [],
   "source": [
    "# Download Validation Images\n",
    "if download is True:\n",
    "    !python downloader.py './data/raw_data/validation.json' './data/raw_data/validation_images'"
   ]
  },
  {
   "cell_type": "code",
   "execution_count": 5,
   "metadata": {},
   "outputs": [],
   "source": [
    "# Download Test Images\n",
    "if download is True:\n",
    "    !python downloader.py './data/raw_data/test.json' './data/raw_data/test_images'"
   ]
  },
  {
   "cell_type": "markdown",
   "metadata": {},
   "source": [
    "# 2. Transform Json into Dataframe"
   ]
  },
  {
   "cell_type": "code",
   "execution_count": 6,
   "metadata": {},
   "outputs": [],
   "source": [
    "# Transform json to dataframe\n",
    "transform = False\n",
    "if transform is True:\n",
    "    # Training set\n",
    "    train_df = pd.read_json('./data/raw_data/train.json')\n",
    "    train_df['id'] = train_df['annotations'].map(lambda x: x['image_id'])\n",
    "    train_df['label'] = train_df['annotations'].map(lambda x: x['label_id'])\n",
    "    train_df['url'] = train_df['images'].map(lambda x: x['url'][0])\n",
    "    train_df = train_df.drop(columns=['annotations', 'images'])\n",
    "    train_df.to_csv('./data/train.csv', index=False, columns=['id', 'label', 'url'])\n",
    "\n",
    "    # Validation set\n",
    "    val_df = pd.read_json('./data/raw_data/validation.json')\n",
    "    val_df['id'] = val_df['annotations'].map(lambda x: x['image_id'])\n",
    "    val_df['label'] = val_df['annotations'].map(lambda x: x['label_id'])\n",
    "    val_df['url'] = val_df['images'].map(lambda x: x['url'][0])\n",
    "    val_df = val_df.drop(columns=['annotations', 'images'])\n",
    "    val_df.to_csv('./data/validation.csv', index=False, columns=['id', 'label', 'url'])\n",
    "\n",
    "    # Test set\n",
    "    test_df = pd.read_json('./data/raw_data/test.json')\n",
    "    test_df['id'] = test_df['images'].map(lambda x: x['image_id'])\n",
    "    test_df['url'] = test_df['images'].map(lambda x: x['url'][0])\n",
    "    test_df = test_df.drop(columns=['images'])\n",
    "    test_df.to_csv('./data/test.csv', index=False, columns=['id', 'url'])"
   ]
  },
  {
   "cell_type": "markdown",
   "metadata": {},
   "source": [
    "# 3. Exploration"
   ]
  },
  {
   "cell_type": "code",
   "execution_count": 7,
   "metadata": {},
   "outputs": [
    {
     "name": "stdout",
     "output_type": "stream",
     "text": [
      "Train:\t\t (194828, 3) \t 128\n",
      "Validation:\t (6400, 3) \t 128\n",
      "Test:\t\t (12800, 2)\n"
     ]
    }
   ],
   "source": [
    "train_df = pd.read_csv('./data/train.csv')\n",
    "val_df = pd.read_csv('./data/validation.csv')\n",
    "test_df = pd.read_csv('./data/test.csv')\n",
    "\n",
    "print('Train:\\t\\t', train_df.shape, '\\t', len(train_df['label'].unique()))\n",
    "print('Validation:\\t', val_df.shape, '\\t', len(val_df['label'].unique()))\n",
    "print('Test:\\t\\t', test_df.shape)"
   ]
  },
  {
   "cell_type": "code",
   "execution_count": 8,
   "metadata": {},
   "outputs": [
    {
     "name": "stdout",
     "output_type": "stream",
     "text": [
      "191711\n",
      "6297\n",
      "12593\n"
     ]
    }
   ],
   "source": [
    "!ls ./data/raw_data/train_images/ | wc -l\n",
    "!ls ./data/raw_data/validation_images/ | wc -l\n",
    "!ls ./data/raw_data/test_images/ | wc -l"
   ]
  },
  {
   "cell_type": "code",
   "execution_count": 9,
   "metadata": {},
   "outputs": [
    {
     "data": {
      "text/html": [
       "<div>\n",
       "<style scoped>\n",
       "    .dataframe tbody tr th:only-of-type {\n",
       "        vertical-align: middle;\n",
       "    }\n",
       "\n",
       "    .dataframe tbody tr th {\n",
       "        vertical-align: top;\n",
       "    }\n",
       "\n",
       "    .dataframe thead th {\n",
       "        text-align: right;\n",
       "    }\n",
       "</style>\n",
       "<table border=\"1\" class=\"dataframe\">\n",
       "  <thead>\n",
       "    <tr style=\"text-align: right;\">\n",
       "      <th></th>\n",
       "      <th>id</th>\n",
       "      <th>label</th>\n",
       "      <th>url</th>\n",
       "    </tr>\n",
       "  </thead>\n",
       "  <tbody>\n",
       "    <tr>\n",
       "      <th>0</th>\n",
       "      <td>1</td>\n",
       "      <td>5</td>\n",
       "      <td>https://img13.360buyimg.com/imgzone/jfs/t2857/...</td>\n",
       "    </tr>\n",
       "    <tr>\n",
       "      <th>1</th>\n",
       "      <td>2</td>\n",
       "      <td>5</td>\n",
       "      <td>http://www.tengdakeli.cn/350/timg01/uploaded/i...</td>\n",
       "    </tr>\n",
       "    <tr>\n",
       "      <th>2</th>\n",
       "      <td>3</td>\n",
       "      <td>5</td>\n",
       "      <td>https://img13.360buyimg.com/imgzone/jfs/t8899/...</td>\n",
       "    </tr>\n",
       "    <tr>\n",
       "      <th>3</th>\n",
       "      <td>4</td>\n",
       "      <td>5</td>\n",
       "      <td>http://img4.tbcdn.cn/tfscom/i1/2855447419/TB2S...</td>\n",
       "    </tr>\n",
       "    <tr>\n",
       "      <th>4</th>\n",
       "      <td>5</td>\n",
       "      <td>5</td>\n",
       "      <td>http://a.vpimg4.com/upload/merchandise/287883/...</td>\n",
       "    </tr>\n",
       "  </tbody>\n",
       "</table>\n",
       "</div>"
      ],
      "text/plain": [
       "   id  label                                                url\n",
       "0   1      5  https://img13.360buyimg.com/imgzone/jfs/t2857/...\n",
       "1   2      5  http://www.tengdakeli.cn/350/timg01/uploaded/i...\n",
       "2   3      5  https://img13.360buyimg.com/imgzone/jfs/t8899/...\n",
       "3   4      5  http://img4.tbcdn.cn/tfscom/i1/2855447419/TB2S...\n",
       "4   5      5  http://a.vpimg4.com/upload/merchandise/287883/..."
      ]
     },
     "execution_count": 9,
     "metadata": {},
     "output_type": "execute_result"
    }
   ],
   "source": [
    "train_df.head()"
   ]
  },
  {
   "cell_type": "markdown",
   "metadata": {},
   "source": [
    "# 4. Check Image Sizes and Validity"
   ]
  },
  {
   "cell_type": "code",
   "execution_count": 10,
   "metadata": {},
   "outputs": [
    {
     "name": "stdout",
     "output_type": "stream",
     "text": [
      "\n",
      "Process:         0    Used time: 0.0 s\n",
      "================================================================================\n",
      "Process:     20000    Used time: 244.0 s\n",
      "================================================================================\n",
      "Process:     40000    Used time: 254.0 s\n",
      "================================================================================\n",
      "Process:     60000    Used time: 248.0 s\n",
      "================================================================================\n",
      "Process:     80000    Used time: 243.0 s\n",
      "================================================================================\n",
      "Process:    100000    Used time: 242.0 s\n",
      "================================================================================\n",
      "Process:    120000    Used time: 268.0 s\n",
      "================================================================================\n",
      "Process:    140000    Used time: 280.0 s\n",
      "================================================================================\n",
      "Process:    160000    Used time: 296.0 s\n",
      "================================================================================\n",
      "Process:    180000    Used time: 270.0 s\n",
      "============================================================\n",
      "\n",
      "Missing:\t 3117\n",
      "Errors:\t\t 31\n",
      "Image Width:\t 260 7874\n",
      "Image Height:\t 260 6614\n",
      "\n",
      "Errors:\n",
      "16456 \t 16457 \t http://www.lyh8.cn/upload/news/2011-4-22/20114221713493373.jpg\n",
      "29320 \t 29321 \t http://i.ebayimg.com/00/s/MTIwMFgxNjAw/z/BMEAAOSwvihY-WBx/%24_57.JPG?set_id=8800005007\n",
      "40458 \t 40459 \t http://image.cn.made-in-china.com/cnimg/prod_0d0qcnapec52/0/%E9%92%A2%E6%9C%A8%E7%BB%93%E6%9E%84%E8%A1%A3%E5%B8%BD%E6%9E%B6-SRA_270x270.jpg\n",
      "41837 \t 41838 \t http://www.lyh8.cn/upload/news/2014-8-31/20148311211159880z1jk.jpg\n",
      "48201 \t 48202 \t http://www.lyh8.cn/upload/news/2011-4-22/20114221536529854.jpg\n",
      "49642 \t 49643 \t http://www.lyh8.cn/upload/news/2011-4-25/20114251145539764.jpg\n",
      "57761 \t 57762 \t http://image.ytcutv.com/material/news/img/2015/11/1c8188709c9552a93ce2e59bc9e39f10.jpg\n",
      "59180 \t 59181 \t http://www.lyh8.cn/upload/news/2012-2-16/201221623228z81bt.jpg\n",
      "75544 \t 75545 \t http://s1.jiguo.com/286333ac-0454-4c25-b30d-fc7110534b92/640\n",
      "78507 \t 78508 \t http://gpic3.58cdn.com.cn/p1/small/n_v2bec568f0bb3b49b89c4f29ab96c45b71.jpg?w=452&h=340&crop=1\n",
      "80897 \t 80898 \t http://img3.guangsuss.com/e41c8c5479e575234020b9f651b99267\n",
      "83103 \t 83104 \t http://www.lyh8.cn/upload/news/2012-4-15/2012415134628f79zv.jpg\n",
      "85607 \t 85608 \t http://www.lyh8.cn/upload/news/2011-12-11/201112111437291v93i.jpg\n",
      "91140 \t 91141 \t http://www.lyh8.cn/upload/news/2012-1-15/20121152158570458e.jpg\n",
      "96866 \t 96867 \t http://www.lyh8.cn/upload/news/2011-4-23/2011423739215406.jpg\n",
      "98561 \t 98562 \t http://www.lyh8.cn/upload/news/2011-4-22/20114221935384031.jpg\n",
      "98732 \t 98733 \t http://www.lyh8.cn/upload/news/2011-4-22/2011422201456767.jpg\n",
      "101269 \t 101270 \t http://image.ytcutv.com/material/news/img/2015/12/648c876bf3a3df70e110ed047cc86234.jpg\n",
      "109966 \t 109967 \t http://www.lyh8.cn/upload/news/2011-4-23/2011423738249054.jpg\n",
      "132638 \t 132639 \t http://bbscache1.artron.net/forum/201501/04/231838cqnl6npz0n6nn533.jpg\n",
      "132778 \t 132779 \t http://bbscache3.artron.net/forum/day_090603/20090603_025a33d693d5132c440fkmz40ug9Zm0V.jpg\n",
      "133093 \t 133094 \t http://bbscache3.artron.net/forum/201504/17/183241wy012t38403e8zh4.jpg\n",
      "133238 \t 133239 \t http://bbscache2.artron.net/forum/201303/05/193923lsi4fa8jr3fxlzf4.jpg\n",
      "137472 \t 137473 \t http://www.t-bb.net/tubbJDAwNCQxNC83NjgzNjE0OC9UMmVBMGRYeE5hJDYkNl8hITc2ODM2MTQ4JDk.jpg\n",
      "142930 \t 142931 \t http://image.ytcutv.com/material/news/img/2016/05/dc360514b7f33133f76fb9135fbaeb05.jpg\n",
      "142961 \t 142962 \t http://image.ytcutv.com/material/news/img/2015/09/347af4b5f7b9cf7645f0c9289afa7b13.jpg\n",
      "151975 \t 151976 \t http://www.t-biao.com/tubiaoJDAzJDIxL1RCMUFYLlJJJDZYYyQ2JDYkNlhfISEkMyQ3.jpg\n",
      "164723 \t 164724 \t http://image.cn.made-in-china.com/cnimg/prod_7d4k537C2B0f/0/%E5%8E%A8%E6%88%BF%E7%A2%97%E7%A2%9F%E6%9E%B6_270x270.jpg\n",
      "168133 \t 168134 \t http://www.t-ji.net/tujiJDAwMyQxMy8xOTgxOTQ2NTQ1L1RCMkVqbjRhRiQ2WEQkNiQ2JDYtMTk4MTk0NjU0NSQ5.jpg\n",
      "174826 \t 174827 \t http://img0m.pchouse.com.cn/pchouse/1307/02/278103_3.jpg\n",
      "181267 \t 181268 \t http://t1.sinaimg.cn/pic?url=http%3A%2F%2Fgz.jiaju.sina.com.cn%2Fimages%2F2012%2F0405%2FU7544P950DT20120405171746.jpg\n"
     ]
    }
   ],
   "source": [
    "# Check training set\n",
    "sizes = []\n",
    "errors = []\n",
    "index = []\n",
    "missing = []\n",
    "\n",
    "ids = train_df['id'].values\n",
    "urls = train_df['url'].values\n",
    "t0 = time.time()\n",
    "\n",
    "for i in range(len(train_df)):\n",
    "    tmp_id = ids[i]\n",
    "    \n",
    "    # Helpful information\n",
    "    if i % 20000 == 0:\n",
    "        _ = gc.collect()   # cleanup\n",
    "        t = time.time() - t0\n",
    "        print('\\nProcess: {:9d}'.format(i), '   Used time: {} s'.format(np.round(t, 0)))\n",
    "        t0 = time.time()\n",
    "    if i % 250 == 0:\n",
    "        print('=', end='')\n",
    "        \n",
    "    # Check if exists\n",
    "    if not os.path.exists('./data/raw_data/train_images/' + str(tmp_id) + '.jpg'):\n",
    "        missing.append(i)\n",
    "        continue\n",
    "        \n",
    "    # Try to resize the valid images\n",
    "    try:\n",
    "        img = Image.open('./data/raw_data/train_images/' + str(tmp_id) + '.jpg')\n",
    "        _ = img.resize((224, 224))\n",
    "        if img.width < 260 or img.height < 260:\n",
    "            errors.append(i)\n",
    "        else:\n",
    "            sizes.append(img.size)\n",
    "            index.append(tmp_id)\n",
    "    except:\n",
    "        errors.append(i)\n",
    "\n",
    "# Helpful information\n",
    "sizes = np.array(sizes)\n",
    "print('\\n\\nMissing:\\t', len(missing))\n",
    "print('Errors:\\t\\t', len(errors))\n",
    "print('Image Width:\\t', min(sizes[:, 0]), max(sizes[:, 0]))\n",
    "print('Image Height:\\t', min(sizes[:, 1]), max(sizes[:, 1]))\n",
    "\n",
    "# Print error information\n",
    "if len(errors) > 0:\n",
    "    print('\\nErrors:')\n",
    "    for j in errors:\n",
    "        print(j, '\\t', ids[j], '\\t', urls[j])"
   ]
  },
  {
   "cell_type": "code",
   "execution_count": 11,
   "metadata": {
    "scrolled": true
   },
   "outputs": [
    {
     "name": "stdout",
     "output_type": "stream",
     "text": [
      "\n",
      "Process:         0    Used time: 0.0 s\n",
      "================================================================================\n",
      "Process:      2000    Used time: 25.0 s\n",
      "================================================================================\n",
      "Process:      4000    Used time: 24.0 s\n",
      "================================================================================\n",
      "Process:      6000    Used time: 25.0 s\n",
      "================\n",
      "\n",
      "Missing:\t 103\n",
      "Errors:\t\t 0\n",
      "Image Width:\t 260 6016\n",
      "Image Height:\t 260 5792\n"
     ]
    }
   ],
   "source": [
    "# Check validation set\n",
    "sizes = []\n",
    "errors = []\n",
    "index = []\n",
    "missing = []\n",
    "\n",
    "ids = val_df['id'].values\n",
    "urls = val_df['url'].values\n",
    "t0 = time.time()\n",
    "\n",
    "for i in range(len(val_df)):\n",
    "    tmp_id = ids[i]\n",
    "    \n",
    "    # Helpful information\n",
    "    if i % 2000 == 0:\n",
    "        _ = gc.collect()   # cleanup\n",
    "        t = time.time() - t0\n",
    "        print('\\nProcess: {:9d}'.format(i), '   Used time: {} s'.format(np.round(t, 0)))\n",
    "        t0 = time.time()\n",
    "    if i % 25 == 0:\n",
    "        print('=', end='')\n",
    "        \n",
    "    # Check if exists\n",
    "    if not os.path.exists('./data/raw_data/validation_images/' + str(tmp_id) + '.jpg'):\n",
    "        missing.append(i)\n",
    "        continue\n",
    "        \n",
    "    # Try to resize the valid images\n",
    "    try:\n",
    "        img = Image.open('./data/raw_data/validation_images/' + str(tmp_id) + '.jpg')\n",
    "        _ = img.resize((224, 224))\n",
    "        if img.width < 260 or img.height < 260:\n",
    "            errors.append(i)\n",
    "        else:\n",
    "            sizes.append(img.size)\n",
    "            index.append(tmp_id)\n",
    "    except:\n",
    "        errors.append(i)\n",
    "\n",
    "# Helpful information\n",
    "sizes = np.array(sizes)\n",
    "print('\\n\\nMissing:\\t', len(missing))\n",
    "print('Errors:\\t\\t', len(errors))\n",
    "print('Image Width:\\t', min(sizes[:, 0]), max(sizes[:, 0]))\n",
    "print('Image Height:\\t', min(sizes[:, 1]), max(sizes[:, 1]))\n",
    "\n",
    "# Print error information\n",
    "if len(errors) > 0:\n",
    "    print('\\nErrors:')\n",
    "    for j in errors:\n",
    "        print(j, '\\t', ids[j], '\\t', urls[j])"
   ]
  },
  {
   "cell_type": "code",
   "execution_count": 12,
   "metadata": {},
   "outputs": [
    {
     "name": "stdout",
     "output_type": "stream",
     "text": [
      "\n",
      "Process:         0    Used time: 0.0 s\n",
      "================================================================================\n",
      "Process:      2000    Used time: 24.0 s\n",
      "================================================================================\n",
      "Process:      4000    Used time: 26.0 s\n",
      "================================================================================\n",
      "Process:      6000    Used time: 28.0 s\n",
      "================================================================================\n",
      "Process:      8000    Used time: 28.0 s\n",
      "================================================================================\n",
      "Process:     10000    Used time: 30.0 s\n",
      "================================================================================\n",
      "Process:     12000    Used time: 32.0 s\n",
      "================================\n",
      "\n",
      "Missing:\t 207\n",
      "Errors:\t\t 0\n",
      "Image Width:\t 260 5760\n",
      "Image Height:\t 260 5616\n"
     ]
    }
   ],
   "source": [
    "# Check test set\n",
    "sizes = []\n",
    "errors = []\n",
    "index = []\n",
    "missing = []\n",
    "\n",
    "ids = test_df['id'].values\n",
    "urls = test_df['url'].values\n",
    "t0 = time.time()\n",
    "\n",
    "for i in range(len(test_df)):\n",
    "    tmp_id = ids[i]\n",
    "    \n",
    "    # Helpful information\n",
    "    if i % 2000 == 0:\n",
    "        _ = gc.collect()   # cleanup\n",
    "        t = time.time() - t0\n",
    "        print('\\nProcess: {:9d}'.format(i), '   Used time: {} s'.format(np.round(t, 0)))\n",
    "        t0 = time.time()\n",
    "    if i % 25 == 0:\n",
    "        print('=', end='')\n",
    "        \n",
    "    # Check if exists\n",
    "    if not os.path.exists('./data/raw_data/test_images/' + str(tmp_id) + '.jpg'):\n",
    "        missing.append(i)\n",
    "        continue\n",
    "        \n",
    "    # Try to resize the valid images\n",
    "    try:\n",
    "        img = Image.open('./data/raw_data/test_images/' + str(tmp_id) + '.jpg')\n",
    "        _ = img.resize((224, 224))\n",
    "        if img.width < 260 or img.height < 260:\n",
    "            errors.append(i)\n",
    "        else:\n",
    "            sizes.append(img.size)\n",
    "            index.append(tmp_id)\n",
    "    except:\n",
    "        errors.append(i)\n",
    "\n",
    "# Helpful information\n",
    "sizes = np.array(sizes)\n",
    "print('\\n\\nMissing:\\t', len(missing))\n",
    "print('Errors:\\t\\t', len(errors))\n",
    "print('Image Width:\\t', min(sizes[:, 0]), max(sizes[:, 0]))\n",
    "print('Image Height:\\t', min(sizes[:, 1]), max(sizes[:, 1]))\n",
    "\n",
    "# Print error information\n",
    "if len(errors) > 0:\n",
    "    print('\\nErrors:')\n",
    "    for j in errors:\n",
    "        print(j, '\\t', ids[j], '\\t', urls[j])"
   ]
  },
  {
   "cell_type": "markdown",
   "metadata": {},
   "source": [
    "# 5. Reorganize Images according Labels"
   ]
  },
  {
   "cell_type": "code",
   "execution_count": 13,
   "metadata": {},
   "outputs": [],
   "source": [
    "# Check whether or not the destination direction exists\n",
    "if not os.path.exists('./data/train'):\n",
    "    os.mkdir('./data/train')\n",
    "for i in range(1, 129):\n",
    "    if not os.path.exists('./data/train/' + str(i)):\n",
    "        os.mkdir('./data/train/' + str(i))\n",
    "        \n",
    "if not os.path.exists('./data/validation'):\n",
    "    os.mkdir('./data/validation')\n",
    "for i in range(1, 129):\n",
    "    if not os.path.exists('./data/validation/' + str(i)):\n",
    "        os.mkdir('./data/validation/' + str(i))\n",
    "        \n",
    "if not os.path.exists('./data/test'):\n",
    "    os.mkdir('./data/test')"
   ]
  },
  {
   "cell_type": "code",
   "execution_count": 14,
   "metadata": {},
   "outputs": [
    {
     "name": "stdout",
     "output_type": "stream",
     "text": [
      "\n",
      "Process:         0    Used time: 0.0 s\n",
      "================================================================================\n",
      "Process:     20000    Used time: 271.0 s\n",
      "================================================================================\n",
      "Process:     40000    Used time: 287.0 s\n",
      "================================================================================\n",
      "Process:     60000    Used time: 286.0 s\n",
      "================================================================================\n",
      "Process:     80000    Used time: 278.0 s\n",
      "================================================================================\n",
      "Process:    100000    Used time: 276.0 s\n",
      "================================================================================\n",
      "Process:    120000    Used time: 300.0 s\n",
      "================================================================================\n",
      "Process:    140000    Used time: 309.0 s\n",
      "================================================================================\n",
      "Process:    160000    Used time: 322.0 s\n",
      "================================================================================\n",
      "Process:    180000    Used time: 293.0 s\n",
      "============================================================"
     ]
    }
   ],
   "source": [
    "# Re-order training set\n",
    "errors = []\n",
    "missing = []\n",
    "ids = train_df['id'].values\n",
    "labels = train_df['label'].values\n",
    "count = 0\n",
    "t0 = time.time()\n",
    "\n",
    "for i in range(len(train_df)):\n",
    "    tmp_id = ids[i]\n",
    "    tmp_label = labels[i]\n",
    "    \n",
    "    # Helpful information\n",
    "    if i % 20000 == 0:\n",
    "        _ = gc.collect()   # cleanup\n",
    "        t = time.time() - t0\n",
    "        print('\\nProcess: {:9d}'.format(i), '   Used time: {} s'.format(np.round(t, 0)))\n",
    "        t0 = time.time()\n",
    "    if i % 250 == 0:\n",
    "        print('=', end='')\n",
    "        \n",
    "    # Check if image exists\n",
    "    if not os.path.exists('./data/raw_data/train_images/' + str(tmp_id) + '.jpg'):\n",
    "        missing.append(i)\n",
    "        continue\n",
    "        \n",
    "    # Try to resize the valid images\n",
    "    try:\n",
    "        img = Image.open('./data/raw_data/train_images/' + str(tmp_id) + '.jpg')\n",
    "        _ = img.resize((224, 224))\n",
    "        if img.width < 260 or img.height < 260:\n",
    "            errors.append(i)\n",
    "        else:\n",
    "            from_path = './data/raw_data/train_images/' + str(tmp_id) + '.jpg'\n",
    "            to_path = './data/train/' + str(tmp_label) + '/' + str(tmp_id) + '.jpg'\n",
    "            if os.path.exists(to_path):\n",
    "                continue\n",
    "            shutil.copyfile(from_path, to_path)\n",
    "            count += 1\n",
    "    except:\n",
    "        errors.append(i)"
   ]
  },
  {
   "cell_type": "code",
   "execution_count": 17,
   "metadata": {},
   "outputs": [
    {
     "name": "stdout",
     "output_type": "stream",
     "text": [
      "Missing:\t\t 3117\n",
      "Errors:\t\t\t 31\n",
      "Totally Moved:\t\t 191680\n",
      "Training Images:\t 191680\n"
     ]
    }
   ],
   "source": [
    "# Helpful information\n",
    "print('Missing:\\t\\t', len(missing))\n",
    "print('Errors:\\t\\t\\t', len(errors))\n",
    "print('Totally Moved:\\t\\t', count)\n",
    "\n",
    "# Double check\n",
    "count = 0\n",
    "for i in range(1, 129):\n",
    "    count += len(os.listdir('./data/train/' + str(i)))\n",
    "print('Training Images:\\t', count)"
   ]
  },
  {
   "cell_type": "code",
   "execution_count": 18,
   "metadata": {},
   "outputs": [
    {
     "name": "stdout",
     "output_type": "stream",
     "text": [
      "\n",
      "Process:         0    Used time: 0.0 s\n",
      "================================================================================\n",
      "Process:      2000    Used time: 26.0 s\n",
      "================================================================================\n",
      "Process:      4000    Used time: 26.0 s\n",
      "================================================================================\n",
      "Process:      6000    Used time: 26.0 s\n",
      "================"
     ]
    }
   ],
   "source": [
    "# Re-order validation set\n",
    "errors = []\n",
    "missing = []\n",
    "ids = val_df['id'].values\n",
    "labels = val_df['label'].values\n",
    "count = 0\n",
    "t0 = time.time()\n",
    "\n",
    "for i in range(len(val_df)):\n",
    "    tmp_id = ids[i]\n",
    "    tmp_label = labels[i]\n",
    "    \n",
    "    # Helpful information\n",
    "    if i % 2000 == 0:\n",
    "        _ = gc.collect()   # cleanup\n",
    "        t = time.time() - t0\n",
    "        print('\\nProcess: {:9d}'.format(i), '   Used time: {} s'.format(np.round(t, 0)))\n",
    "        t0 = time.time()\n",
    "    if i % 25 == 0:\n",
    "        print('=', end='')\n",
    "        \n",
    "    # Check if image exists\n",
    "    if not os.path.exists('./data/raw_data/validation_images/' + str(tmp_id) + '.jpg'):\n",
    "        missing.append(i)\n",
    "        continue\n",
    "        \n",
    "    # Try to resize the valid images\n",
    "    try:\n",
    "        img = Image.open('./data/raw_data/validation_images/' + str(tmp_id) + '.jpg')\n",
    "        _ = img.resize((224, 224))\n",
    "        if img.width < 260 or img.height < 260:\n",
    "            errors.append(i)\n",
    "        else:\n",
    "            from_path = './data/raw_data/validation_images/' + str(tmp_id) + '.jpg'\n",
    "            to_path = './data/validation/' + str(tmp_label) + '/' + str(tmp_id) + '.jpg'\n",
    "            if os.path.exists(to_path):\n",
    "                continue\n",
    "            shutil.copyfile(from_path, to_path)\n",
    "            count += 1\n",
    "    except:\n",
    "        errors.append(i)"
   ]
  },
  {
   "cell_type": "code",
   "execution_count": 19,
   "metadata": {},
   "outputs": [
    {
     "name": "stdout",
     "output_type": "stream",
     "text": [
      "Missing:\t\t 103\n",
      "Errors:\t\t\t 0\n",
      "Totally Moved:\t\t 6297\n",
      "Validation Images:\t 6297\n"
     ]
    }
   ],
   "source": [
    "# Helpful information\n",
    "print('Missing:\\t\\t', len(missing))\n",
    "print('Errors:\\t\\t\\t', len(errors))\n",
    "print('Totally Moved:\\t\\t', count)\n",
    "\n",
    "# Double check\n",
    "count = 0\n",
    "for i in range(1, 129):\n",
    "    count += len(os.listdir('./data/validation/' + str(i)))\n",
    "print('Validation Images:\\t', count)"
   ]
  },
  {
   "cell_type": "code",
   "execution_count": 20,
   "metadata": {},
   "outputs": [
    {
     "name": "stdout",
     "output_type": "stream",
     "text": [
      "\n",
      "Process:         0    Used time: 0.0 s\n",
      "===================================================="
     ]
    }
   ],
   "source": [
    "# Copy test set\n",
    "errors = []\n",
    "missing = []\n",
    "ids = test_df['id'].values\n",
    "count = 0\n",
    "t0 = time.time()\n",
    "\n",
    "for i in range(len(test_df)):\n",
    "    tmp_id = ids[i]\n",
    "    \n",
    "    # Helpful information\n",
    "    if i % 20000 == 0:\n",
    "        _ = gc.collect()   # cleanup\n",
    "        t = time.time() - t0\n",
    "        print('\\nProcess: {:9d}'.format(i), '   Used time: {} s'.format(np.round(t, 0)))\n",
    "        t0 = time.time()\n",
    "    if i % 250 == 0:\n",
    "        print('=', end='')\n",
    "        \n",
    "    # Check if image exists\n",
    "    if not os.path.exists('./data/raw_data/test_images/' + str(tmp_id) + '.jpg'):\n",
    "        missing.append(i)\n",
    "        continue\n",
    "        \n",
    "    # Try to resize the valid images\n",
    "    try:\n",
    "        img = Image.open('./data/raw_data/test_images/' + str(tmp_id) + '.jpg')\n",
    "        _ = img.resize((224, 224))\n",
    "        if img.width < 260 or img.height < 260:\n",
    "            errors.append(i)\n",
    "        else:\n",
    "            from_path = './data/raw_data/test_images/' + str(tmp_id) + '.jpg'\n",
    "            to_path = './data/test/' + str(tmp_id) + '.jpg'\n",
    "            if os.path.exists(to_path):\n",
    "                continue\n",
    "            shutil.copyfile(from_path, to_path)\n",
    "            count += 1\n",
    "    except:\n",
    "        errors.append(i)"
   ]
  },
  {
   "cell_type": "code",
   "execution_count": 22,
   "metadata": {},
   "outputs": [
    {
     "name": "stdout",
     "output_type": "stream",
     "text": [
      "Missing:\t\t 207\n",
      "Errors:\t\t\t 0\n",
      "Totally Moved:\t\t 12593\n",
      "Test Images:\t\t 12593\n"
     ]
    }
   ],
   "source": [
    "# Helpful information\n",
    "print('Missing:\\t\\t', len(missing))\n",
    "print('Errors:\\t\\t\\t', len(errors))\n",
    "print('Totally Moved:\\t\\t', count)\n",
    "\n",
    "# Double check\n",
    "print('Test Images:\\t\\t', len(os.listdir('./data/test')))"
   ]
  },
  {
   "cell_type": "code",
   "execution_count": null,
   "metadata": {},
   "outputs": [],
   "source": []
  }
 ],
 "metadata": {
  "kernelspec": {
   "display_name": "Python 3",
   "language": "python",
   "name": "python3"
  },
  "language_info": {
   "codemirror_mode": {
    "name": "ipython",
    "version": 3
   },
   "file_extension": ".py",
   "mimetype": "text/x-python",
   "name": "python",
   "nbconvert_exporter": "python",
   "pygments_lexer": "ipython3",
   "version": "3.6.3"
  }
 },
 "nbformat": 4,
 "nbformat_minor": 2
}
