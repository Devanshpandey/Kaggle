{
 "cells": [
  {
   "cell_type": "code",
   "execution_count": 1,
   "metadata": {},
   "outputs": [],
   "source": [
    "import warnings\n",
    "warnings.simplefilter('ignore')\n",
    "\n",
    "import numpy as np\n",
    "import pandas as pd\n",
    "import seaborn as sns\n",
    "import matplotlib.pyplot as plt\n",
    "import sys, os, time, gc\n",
    "import requests, shutil\n",
    "from PIL import Image\n",
    "\n",
    "%matplotlib inline"
   ]
  },
  {
   "cell_type": "markdown",
   "metadata": {},
   "source": [
    "# Transform json into DataFrame"
   ]
  },
  {
   "cell_type": "code",
   "execution_count": 2,
   "metadata": {},
   "outputs": [],
   "source": [
    "# Transform json to dataframe\n",
    "transform = False\n",
    "if transform is True:\n",
    "    # Training set\n",
    "    train_df = pd.read_json('./data/raw_data/train.json')\n",
    "    train_df['id'] = train_df['annotations'].map(lambda x: x['image_id'])\n",
    "    train_df['label'] = train_df['annotations'].map(lambda x: x['label_id'])\n",
    "    train_df['url'] = train_df['images'].map(lambda x: x['url'][0])\n",
    "    train_df = train_df.drop(columns=['annotations', 'images'])\n",
    "    train_df.to_csv('./data/train.csv', index=False, columns=['id', 'label', 'url'])\n",
    "\n",
    "    # Validation set\n",
    "    val_df = pd.read_json('./data/raw_data/validation.json')\n",
    "    val_df['id'] = val_df['annotations'].map(lambda x: x['image_id'])\n",
    "    val_df['label'] = val_df['annotations'].map(lambda x: x['label_id'])\n",
    "    val_df['url'] = val_df['images'].map(lambda x: x['url'][0])\n",
    "    val_df = val_df.drop(columns=['annotations', 'images'])\n",
    "    val_df.to_csv('./data/validation.csv', index=False, columns=['id', 'label', 'url'])\n",
    "\n",
    "    # Test set\n",
    "    test_df = pd.read_json('./data/raw_data/test.json')\n",
    "    test_df['id'] = test_df['images'].map(lambda x: x['image_id'])\n",
    "    test_df['url'] = test_df['images'].map(lambda x: x['url'][0])\n",
    "    test_df = test_df.drop(columns=['images'])\n",
    "    test_df.to_csv('./data/test.csv', index=False, columns=['id', 'url'])"
   ]
  },
  {
   "cell_type": "markdown",
   "metadata": {},
   "source": [
    "# Exploration"
   ]
  },
  {
   "cell_type": "code",
   "execution_count": 3,
   "metadata": {},
   "outputs": [
    {
     "name": "stdout",
     "output_type": "stream",
     "text": [
      "Train:\t\t (194828, 3) \t 128\n",
      "Validation:\t (6400, 3) \t 128\n",
      "Test:\t\t (12800, 2)\n"
     ]
    }
   ],
   "source": [
    "train_df = pd.read_csv('./data/train.csv')\n",
    "val_df = pd.read_csv('./data/validation.csv')\n",
    "test_df = pd.read_csv('./data/test.csv')\n",
    "\n",
    "print('Train:\\t\\t', train_df.shape, '\\t', len(train_df['label'].unique()))\n",
    "print('Validation:\\t', val_df.shape, '\\t', len(val_df['label'].unique()))\n",
    "print('Test:\\t\\t', test_df.shape)"
   ]
  },
  {
   "cell_type": "code",
   "execution_count": 4,
   "metadata": {},
   "outputs": [
    {
     "data": {
      "text/html": [
       "<div>\n",
       "<style scoped>\n",
       "    .dataframe tbody tr th:only-of-type {\n",
       "        vertical-align: middle;\n",
       "    }\n",
       "\n",
       "    .dataframe tbody tr th {\n",
       "        vertical-align: top;\n",
       "    }\n",
       "\n",
       "    .dataframe thead th {\n",
       "        text-align: right;\n",
       "    }\n",
       "</style>\n",
       "<table border=\"1\" class=\"dataframe\">\n",
       "  <thead>\n",
       "    <tr style=\"text-align: right;\">\n",
       "      <th></th>\n",
       "      <th>id</th>\n",
       "      <th>label</th>\n",
       "      <th>url</th>\n",
       "    </tr>\n",
       "  </thead>\n",
       "  <tbody>\n",
       "    <tr>\n",
       "      <th>0</th>\n",
       "      <td>1</td>\n",
       "      <td>5</td>\n",
       "      <td>https://img13.360buyimg.com/imgzone/jfs/t2857/...</td>\n",
       "    </tr>\n",
       "    <tr>\n",
       "      <th>1</th>\n",
       "      <td>2</td>\n",
       "      <td>5</td>\n",
       "      <td>http://www.tengdakeli.cn/350/timg01/uploaded/i...</td>\n",
       "    </tr>\n",
       "    <tr>\n",
       "      <th>2</th>\n",
       "      <td>3</td>\n",
       "      <td>5</td>\n",
       "      <td>https://img13.360buyimg.com/imgzone/jfs/t8899/...</td>\n",
       "    </tr>\n",
       "    <tr>\n",
       "      <th>3</th>\n",
       "      <td>4</td>\n",
       "      <td>5</td>\n",
       "      <td>http://img4.tbcdn.cn/tfscom/i1/2855447419/TB2S...</td>\n",
       "    </tr>\n",
       "    <tr>\n",
       "      <th>4</th>\n",
       "      <td>5</td>\n",
       "      <td>5</td>\n",
       "      <td>http://a.vpimg4.com/upload/merchandise/287883/...</td>\n",
       "    </tr>\n",
       "  </tbody>\n",
       "</table>\n",
       "</div>"
      ],
      "text/plain": [
       "   id  label                                                url\n",
       "0   1      5  https://img13.360buyimg.com/imgzone/jfs/t2857/...\n",
       "1   2      5  http://www.tengdakeli.cn/350/timg01/uploaded/i...\n",
       "2   3      5  https://img13.360buyimg.com/imgzone/jfs/t8899/...\n",
       "3   4      5  http://img4.tbcdn.cn/tfscom/i1/2855447419/TB2S...\n",
       "4   5      5  http://a.vpimg4.com/upload/merchandise/287883/..."
      ]
     },
     "execution_count": 4,
     "metadata": {},
     "output_type": "execute_result"
    }
   ],
   "source": [
    "train_df.head()"
   ]
  },
  {
   "cell_type": "markdown",
   "metadata": {},
   "source": [
    "# Download Images"
   ]
  },
  {
   "cell_type": "markdown",
   "metadata": {},
   "source": [
    "### Training Set"
   ]
  },
  {
   "cell_type": "code",
   "execution_count": 5,
   "metadata": {},
   "outputs": [],
   "source": [
    "# Get single from the given url, modified from Kaggle kernel\n",
    "# https://www.kaggle.com/abinesh100/easy-download-images-in-25-lines-py3/code\n",
    "def fetch_image(url):\n",
    "    \"\"\" Get image from given url \"\"\"\n",
    "    response=requests.get(url, stream=True)\n",
    "    \n",
    "    with open('./data/image.jpg', 'wb') as out_file:\n",
    "        shutil.copyfileobj(response.raw, out_file)\n",
    "        \n",
    "    del response"
   ]
  },
  {
   "cell_type": "code",
   "execution_count": 6,
   "metadata": {},
   "outputs": [],
   "source": [
    "# # Download images to ./train_images/\n",
    "# ids = train_df['id'].values\n",
    "# urls = train_df['url'].values\n",
    "# errors = []\n",
    "# t0 = time.time()\n",
    "\n",
    "# # Loop through urls to download images\n",
    "# for idx in range(len(ids)):\n",
    "#     tmp_id = ids[idx]\n",
    "#     tmp_url = urls[idx]\n",
    "\n",
    "#     # Helpful information\n",
    "#     if idx % 2000 == 0:\n",
    "#         _ = gc.collect()   # cleanup\n",
    "#         t = time.time() - t0\n",
    "#         print('\\nProcess: {:9d}'.format(idx), '   Used time: {} s'.format(np.round(t, 0)))\n",
    "#         t0 = time.time()\n",
    "#     if idx % 25 == 0:\n",
    "#         print('=', end='')\n",
    "    \n",
    "#     # Check if already downloaded\n",
    "#     if os.path.exists('./data/train_images/' + str(tmp_id) + '.jpg'):\n",
    "#         continue\n",
    "        \n",
    "#     try:\n",
    "#         # Get image from url\n",
    "#         fetch_image(tmp_url)\n",
    "#         os.rename('./data/image.jpg', './data/train_images/'+ str(tmp_id) + '.jpg')\n",
    "#     except:\n",
    "#         errors.append(idx)\n",
    "    \n",
    "# # Print error information\n",
    "# if len(errors) > 0:\n",
    "#     print('\\nErrors:')\n",
    "#     for j in errors:\n",
    "#         print(j, '\\t', ids[j], urls[j])"
   ]
  },
  {
   "cell_type": "markdown",
   "metadata": {},
   "source": [
    "### Validation Set"
   ]
  },
  {
   "cell_type": "code",
   "execution_count": null,
   "metadata": {},
   "outputs": [
    {
     "name": "stdout",
     "output_type": "stream",
     "text": [
      "\n",
      "Process:         0    Used time: 0.0 s\n",
      "==================================================\n",
      "Process:      1000    Used time: 299.0 s\n",
      "========================================"
     ]
    }
   ],
   "source": [
    "# Download images to ./validation_images/\n",
    "ids = val_df['id'].values\n",
    "urls = val_df['url'].values\n",
    "errors = []\n",
    "t0 = time.time()\n",
    "\n",
    "# Loop through urls to download images\n",
    "for idx in range(len(ids)):\n",
    "    tmp_id = ids[idx]\n",
    "    tmp_url = urls[idx]\n",
    "\n",
    "    # Helpful information\n",
    "    if idx % 1000 == 0:\n",
    "        _ = gc.collect()   # cleanup\n",
    "        t = time.time() - t0\n",
    "        print('\\nProcess: {:9d}'.format(idx), '   Used time: {} s'.format(np.round(t, 0)))\n",
    "        t0 = time.time()\n",
    "    if idx % 20 == 0:\n",
    "        print('=', end='')\n",
    "    \n",
    "    # Check if already downloaded\n",
    "    if os.path.exists('./data/validation_images/' + str(tmp_id) + '.jpg'):\n",
    "        continue\n",
    "        \n",
    "    try:\n",
    "        # Get image from url\n",
    "        fetch_image(tmp_url)\n",
    "        os.rename('./data/image.jpg', './data/validation_images/'+ str(tmp_id) + '.jpg')\n",
    "    except:\n",
    "        errors.append(idx)\n",
    "    \n",
    "# Print error information\n",
    "if len(errors) > 0:\n",
    "    print('\\nErrors:')\n",
    "    for j in errors:\n",
    "        print(j, '\\t', ids[j], urls[j])"
   ]
  },
  {
   "cell_type": "markdown",
   "metadata": {},
   "source": [
    "### Test Set"
   ]
  },
  {
   "cell_type": "code",
   "execution_count": null,
   "metadata": {},
   "outputs": [],
   "source": [
    "# # Download images to ./test_images/\n",
    "# ids = test_df['id'].values\n",
    "# urls = test_df['url'].values\n",
    "# errors = []\n",
    "# t0 = time.time()\n",
    "\n",
    "# # Loop through urls to download images\n",
    "# for idx in range(len(ids)):\n",
    "#     tmp_id = ids[idx]\n",
    "#     tmp_url = urls[idx]\n",
    "\n",
    "#     # Helpful information\n",
    "#     if idx % 2000 == 0:\n",
    "#         _ = gc.collect()   # cleanup\n",
    "#         t = time.time() - t0\n",
    "#         print('\\nProcess: {:9d}'.format(idx), '   Used time: {} s'.format(np.round(t, 0)))\n",
    "#         t0 = time.time()\n",
    "#     if idx % 25 == 0:\n",
    "#         print('=', end='')\n",
    "    \n",
    "#     # Check if already downloaded\n",
    "#     if os.path.exists('./data/test_images/' + str(tmp_id) + '.jpg'):\n",
    "#         continue\n",
    "        \n",
    "#     try:\n",
    "#         # Get image from url\n",
    "#         fetch_image(tmp_url)\n",
    "#         os.rename('./data/image.jpg', './data/test_images/'+ str(tmp_id) + '.jpg')\n",
    "#     except:\n",
    "#         errors.append(idx)\n",
    "    \n",
    "# # Print error information\n",
    "# if len(errors) > 0:\n",
    "#     print('\\nErrors:')\n",
    "#     for j in errors:\n",
    "#         print(j, '\\t', ids[j], urls[j])"
   ]
  },
  {
   "cell_type": "markdown",
   "metadata": {},
   "source": [
    "# Check Image Sizes and Validity"
   ]
  },
  {
   "cell_type": "code",
   "execution_count": null,
   "metadata": {},
   "outputs": [],
   "source": [
    "# sizes = []\n",
    "# errors = []\n",
    "# ids = train_df['id'].values\n",
    "\n",
    "# for i in range(len(train_df)):\n",
    "#     tmp_id = ids[i]\n",
    "    \n",
    "#     # Helpful information\n",
    "#     if i % 10000 == 0:\n",
    "#         _ = gc.collect()   # cleanup\n",
    "#         t = time.time() - t0\n",
    "#         print('\\nProcess: {:9d}'.format(i), '   Used time: {} s'.format(np.round(t, 0)))\n",
    "#         t0 = time.time()\n",
    "#     if i % 125 == 0:\n",
    "#         print('=', end='')\n",
    "        \n",
    "#     # Try to resize the valid images\n",
    "#     try:\n",
    "#         img = Image.open('./data/train_images/' + str(tmp_id) + '.jpg')\n",
    "#         sizes.append(img.size)\n",
    "#         _ = img.resize((224, 224))\n",
    "#     except:\n",
    "#         errors.append(i)\n",
    "        \n",
    "# # Print error information\n",
    "# if len(errors) > 0:\n",
    "#     print('\\nErrors:')\n",
    "#     for j in errors:\n",
    "#         print(j, '\\t', ids[j], urls[j])"
   ]
  },
  {
   "cell_type": "code",
   "execution_count": null,
   "metadata": {},
   "outputs": [],
   "source": []
  },
  {
   "cell_type": "markdown",
   "metadata": {},
   "source": [
    "# Re-organize Images according Labels"
   ]
  },
  {
   "cell_type": "code",
   "execution_count": null,
   "metadata": {},
   "outputs": [],
   "source": [
    "# # Check whether or not the destination direction exists\n",
    "# if not os.path.exists('./data/train'):\n",
    "#     os.mkdir('./data/train')\n",
    "# for i in range(1, 129):\n",
    "#     if not os.path.exists('./data/train/' + str(i)):\n",
    "#         os.mkdir('./data/train/' + str(i))\n",
    "        \n",
    "# if not os.path.exists('./data/validation'):\n",
    "#     os.mkdir('./data/validation')\n",
    "# for i in range(1, 129):\n",
    "#     if not os.path.exists('./data/validation/' + str(i)):\n",
    "#         os.mkdir('./data/validation/' + str(i))\n",
    "        \n",
    "# if not os.path.exists('./data/test'):\n",
    "#     os.mkdir('./data/test')"
   ]
  },
  {
   "cell_type": "code",
   "execution_count": null,
   "metadata": {},
   "outputs": [],
   "source": [
    "# Put training images into sub-directories according to class label\n"
   ]
  },
  {
   "cell_type": "code",
   "execution_count": null,
   "metadata": {},
   "outputs": [],
   "source": [
    "# Put validation images into sub-directories according to class label\n"
   ]
  },
  {
   "cell_type": "code",
   "execution_count": null,
   "metadata": {},
   "outputs": [],
   "source": [
    "# Put test images into test directory\n"
   ]
  },
  {
   "cell_type": "code",
   "execution_count": null,
   "metadata": {},
   "outputs": [],
   "source": []
  }
 ],
 "metadata": {
  "kernelspec": {
   "display_name": "Python 3",
   "language": "python",
   "name": "python3"
  },
  "language_info": {
   "codemirror_mode": {
    "name": "ipython",
    "version": 3
   },
   "file_extension": ".py",
   "mimetype": "text/x-python",
   "name": "python",
   "nbconvert_exporter": "python",
   "pygments_lexer": "ipython3",
   "version": "3.6.3"
  }
 },
 "nbformat": 4,
 "nbformat_minor": 2
}
