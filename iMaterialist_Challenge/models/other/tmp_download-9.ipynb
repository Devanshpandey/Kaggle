{
 "cells": [
  {
   "cell_type": "code",
   "execution_count": 1,
   "metadata": {},
   "outputs": [],
   "source": [
    "import warnings\n",
    "warnings.simplefilter('ignore')\n",
    "\n",
    "import numpy as np\n",
    "import pandas as pd\n",
    "import seaborn as sns\n",
    "import matplotlib.pyplot as plt\n",
    "import sys, os, time, gc\n",
    "import requests, shutil\n",
    "from skimage import io\n",
    "from skimage.transform import resize\n",
    "\n",
    "%matplotlib inline"
   ]
  },
  {
   "cell_type": "markdown",
   "metadata": {},
   "source": [
    "# Exploration"
   ]
  },
  {
   "cell_type": "code",
   "execution_count": 2,
   "metadata": {},
   "outputs": [
    {
     "name": "stdout",
     "output_type": "stream",
     "text": [
      "Train:\t\t (194828, 3) \t 128\n",
      "Validation:\t (6400, 3) \t 128\n",
      "Test:\t\t (12800, 2)\n"
     ]
    }
   ],
   "source": [
    "train_df = pd.read_csv('./data/train.csv')\n",
    "val_df = pd.read_csv('./data/validation.csv')\n",
    "test_df = pd.read_csv('./data/test.csv')\n",
    "\n",
    "print('Train:\\t\\t', train_df.shape, '\\t', len(train_df['label'].unique()))\n",
    "print('Validation:\\t', val_df.shape, '\\t', len(val_df['label'].unique()))\n",
    "print('Test:\\t\\t', test_df.shape)"
   ]
  },
  {
   "cell_type": "markdown",
   "metadata": {},
   "source": [
    "# Download Images"
   ]
  },
  {
   "cell_type": "code",
   "execution_count": 3,
   "metadata": {},
   "outputs": [],
   "source": [
    "# Get single from the given url, modified from Kaggle kernel\n",
    "# https://www.kaggle.com/abinesh100/easy-download-images-in-25-lines-py3/code\n",
    "def fetch_image(url):\n",
    "    \"\"\" Get image from given url \"\"\"\n",
    "    response=requests.get(url, stream=True)\n",
    "    \n",
    "    with open('./data/image_9.jpg', 'wb') as out_file:\n",
    "        shutil.copyfileobj(response.raw, out_file)\n",
    "        \n",
    "    del response"
   ]
  },
  {
   "cell_type": "code",
   "execution_count": null,
   "metadata": {},
   "outputs": [
    {
     "name": "stdout",
     "output_type": "stream",
     "text": [
      "\n",
      "Process:    160000    Used time: 0.0 s\n",
      "================================================================================\n",
      "Process:    162000    Used time: 2907.0 s\n",
      "================================================================================\n",
      "Process:    164000    Used time: 3738.0 s\n",
      "================================================================================\n",
      "Process:    166000    Used time: 4671.0 s\n",
      "==="
     ]
    }
   ],
   "source": [
    "# Download images to ./train_images/\n",
    "ids = train_df['id'].values\n",
    "labels = train_df['label'].values\n",
    "urls = train_df['url'].values\n",
    "errors = []\n",
    "\n",
    "t0 = time.time()\n",
    "\n",
    "# Loop through urls to download images\n",
    "for idx in range(160000, 180000):\n",
    "    tmp_id = ids[idx]\n",
    "    tmp_label = labels[idx]\n",
    "    tmp_url = urls[idx]\n",
    "\n",
    "    # Helpful information\n",
    "    if idx % 2000 == 0:\n",
    "        t = time.time() - t0\n",
    "        print('\\nProcess: {:9d}'.format(idx), '   Used time: {} s'.format(np.round(t, 0)))\n",
    "        t0 = time.time()\n",
    "    if idx % 25 == 0:\n",
    "        print('=', end='')\n",
    "    \n",
    "    # Check if already downloaded\n",
    "    if os.path.exists('./data/tmp9/' + str(tmp_id) + '.jpg'):\n",
    "        continue\n",
    "        \n",
    "    try:\n",
    "        # Get image from url\n",
    "        fetch_image(tmp_url)\n",
    "        os.rename('./data/image_9.jpg', './data/tmp9/'+ str(tmp_id) + '.jpg')\n",
    "    except:\n",
    "        errors.append(idx)\n",
    "    \n",
    "# Print error information\n",
    "if len(errors) > 0:\n",
    "    print('\\nErrors:')\n",
    "    for j in errors:\n",
    "        print(j, '\\t', ids[j], urls[j])"
   ]
  },
  {
   "cell_type": "code",
   "execution_count": null,
   "metadata": {},
   "outputs": [],
   "source": []
  }
 ],
 "metadata": {
  "kernelspec": {
   "display_name": "Python 3",
   "language": "python",
   "name": "python3"
  },
  "language_info": {
   "codemirror_mode": {
    "name": "ipython",
    "version": 3
   },
   "file_extension": ".py",
   "mimetype": "text/x-python",
   "name": "python",
   "nbconvert_exporter": "python",
   "pygments_lexer": "ipython3",
   "version": "3.6.3"
  }
 },
 "nbformat": 4,
 "nbformat_minor": 2
}
