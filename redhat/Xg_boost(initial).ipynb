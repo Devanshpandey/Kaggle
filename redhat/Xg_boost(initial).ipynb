{
 "cells": [
  {
   "cell_type": "code",
   "execution_count": 1,
   "metadata": {
    "collapsed": false
   },
   "outputs": [],
   "source": [
    "import warnings\n",
    "warnings.filterwarnings(\"ignore\")\n",
    "\n",
    "import numpy as np\n",
    "import pandas as pd\n",
    "import matplotlib.pyplot as plt\n",
    "from scipy.sparse import hstack\n",
    "\n",
    "from sklearn.preprocessing import OneHotEncoder\n",
    "from sklearn import cross_validation as cv\n",
    "from sklearn.metrics import roc_auc_score\n",
    "import xgboost as xgb\n",
    "\n",
    "%matplotlib inline"
   ]
  },
  {
   "cell_type": "markdown",
   "metadata": {},
   "source": [
    "# helper functions"
   ]
  },
  {
   "cell_type": "code",
   "execution_count": 2,
   "metadata": {
    "collapsed": true
   },
   "outputs": [],
   "source": [
    "# function to process the dataset\n",
    "def process(fname, people_path='./data/people.csv'):\n",
    "    # load the dataset\n",
    "    activity = pd.read_csv(fname, parse_dates=['date'])\n",
    "    people = pd.read_csv(people_path, parse_dates=['date'])\n",
    "    \n",
    "    # fill NaN values in activity\n",
    "    activity = activity.fillna('type 0')\n",
    "    # rename column names in people\n",
    "    people.columns = people.columns.map(lambda col: col if 'char' not in col \n",
    "                                                        else col[:5] + str(int(col[5:]) + 10))\n",
    "    \n",
    "    # drop the date column in people\n",
    "    people = people.drop('date', axis=1)\n",
    "    # merge the activity and people files\n",
    "    data = pd.merge(activity, people, how='left', on=['people_id'])\n",
    "    # delete to save memory\n",
    "    del [people, activity]\n",
    "    # drop columns\n",
    "    data.drop(['people_id', 'activity_id'], axis=1, inplace=True)\n",
    "    \n",
    "    # delete useless words\n",
    "    columns = ['char_' + str(i) for i in range(1, 20)] + ['activity_category', 'group_1']\n",
    "    for i in columns:\n",
    "        data[i] = data[i].apply(lambda x: x.split(' ')[1])\n",
    "    \n",
    "    data[data.columns[1:]] = data[data.columns[1:]].astype(int)\n",
    "    \n",
    "    # determine wheter or not is weekend\n",
    "    data['isWeekend'] = (data['date'].dt.weekday >= 5).astype(int)\n",
    "    data = data.drop('date', axis=1)\n",
    "    \n",
    "    return data"
   ]
  },
  {
   "cell_type": "code",
   "execution_count": 3,
   "metadata": {
    "collapsed": true
   },
   "outputs": [],
   "source": [
    "# see the number of unique values for each column\n",
    "def uniqueValue(data, threshold=100):\n",
    "    \"\"\" function to find the unique values \"\"\"\n",
    "    for i in data.columns:\n",
    "        unique = data[i].unique()\n",
    "        if len(unique) > 2:\n",
    "            if len(unique) < threshold:\n",
    "                print(i, len(unique), sorted(unique))\n",
    "            else:\n",
    "                print(i, len(unique))\n",
    "                visualizeDist(data, i, bins=100)"
   ]
  },
  {
   "cell_type": "code",
   "execution_count": 4,
   "metadata": {
    "collapsed": false
   },
   "outputs": [],
   "source": [
    "def visualizeDist(data, feature, bins=100, figsize=(8, 3)):\n",
    "    \"\"\" function to visualize the distribution of the feature \"\"\"\n",
    "    positive = train[train['outcome'] == 1]\n",
    "    negative = train[train['outcome'] == 0]\n",
    "    \n",
    "    plt.figure(figsize=figsize)\n",
    "    plt.title(\"Distribution of \" + feature)\n",
    "    plt.hist(positive[feature].values, bins=bins, color='r', alpha=0.4, label='Positive')\n",
    "    plt.hist(negative[feature].values, bins=bins, color='g', alpha=0.4, label='Negative')\n",
    "    plt.yscale('log')\n",
    "    plt.legend()\n",
    "    plt.show()"
   ]
  },
  {
   "cell_type": "markdown",
   "metadata": {},
   "source": [
    "# Process the data"
   ]
  },
  {
   "cell_type": "markdown",
   "metadata": {},
   "source": [
    "### Load the dataset"
   ]
  },
  {
   "cell_type": "code",
   "execution_count": 5,
   "metadata": {
    "collapsed": false
   },
   "outputs": [],
   "source": [
    "# read training and test set\n",
    "train = process('./data/act_train.csv')\n",
    "test = process('./data/act_test.csv')"
   ]
  },
  {
   "cell_type": "code",
   "execution_count": 6,
   "metadata": {
    "collapsed": false
   },
   "outputs": [
    {
     "data": {
      "text/plain": [
       "Index(['activity_category', 'char_1', 'char_2', 'char_3', 'char_4', 'char_5',\n",
       "       'char_6', 'char_7', 'char_8', 'char_9', 'char_10', 'outcome', 'char_11',\n",
       "       'group_1', 'char_12', 'char_13', 'char_14', 'char_15', 'char_16',\n",
       "       'char_17', 'char_18', 'char_19', 'char_20', 'char_21', 'char_22',\n",
       "       'char_23', 'char_24', 'char_25', 'char_26', 'char_27', 'char_28',\n",
       "       'char_29', 'char_30', 'char_31', 'char_32', 'char_33', 'char_34',\n",
       "       'char_35', 'char_36', 'char_37', 'char_38', 'char_39', 'char_40',\n",
       "       'char_41', 'char_42', 'char_43', 'char_44', 'char_45', 'char_46',\n",
       "       'char_47', 'char_48', 'isWeekend'],\n",
       "      dtype='object')"
      ]
     },
     "execution_count": 6,
     "metadata": {},
     "output_type": "execute_result"
    }
   ],
   "source": [
    "# All feature names\n",
    "train.columns"
   ]
  },
  {
   "cell_type": "code",
   "execution_count": 7,
   "metadata": {
    "collapsed": false
   },
   "outputs": [
    {
     "name": "stdout",
     "output_type": "stream",
     "text": [
      "Negative Data:  1221794\n",
      "Positive Data:  975497\n"
     ]
    }
   ],
   "source": [
    "print(\"Negative Data: \", len(train[train['outcome'] == 0]))\n",
    "print(\"Positive Data: \", len(train[train['outcome'] == 1]))"
   ]
  },
  {
   "cell_type": "markdown",
   "metadata": {},
   "source": [
    "## Study the characteristics of the dataset"
   ]
  },
  {
   "cell_type": "markdown",
   "metadata": {},
   "source": [
    "### Unique values for each feature"
   ]
  },
  {
   "cell_type": "code",
   "execution_count": 8,
   "metadata": {
    "collapsed": false,
    "scrolled": false
   },
   "outputs": [
    {
     "name": "stdout",
     "output_type": "stream",
     "text": [
      "activity_category 7 [1, 2, 3, 4, 5, 6, 7]\n",
      "char_1 52\n"
     ]
    },
    {
     "data": {
      "image/png": "[encoded data removed]",
      "text/plain": [
       "<matplotlib.figure.Figure at 0x7f672dffd0b8>"
      ]
     },
     "metadata": {},
     "output_type": "display_data"
    },
    {
     "name": "stdout",
     "output_type": "stream",
     "text": [
      "char_2 33\n"
     ]
    },
    {
     "data": {
      "image/png": "[encoded data removed]",
      "text/plain": [
       "<matplotlib.figure.Figure at 0x7f672b2ed4a8>"
      ]
     },
     "metadata": {},
     "output_type": "display_data"
    },
    {
     "name": "stdout",
     "output_type": "stream",
     "text": [
      "char_3 12 [0, 1, 2, 3, 4, 5, 6, 7, 8, 9, 10, 11]\n",
      "char_4 8 [0, 1, 2, 3, 4, 5, 6, 7]\n",
      "char_5 8 [0, 1, 2, 3, 4, 5, 6, 7]\n",
      "char_6 6 [0, 1, 2, 3, 4, 5]\n",
      "char_7 9 [0, 1, 2, 3, 4, 5, 6, 7, 8]\n",
      "char_8 19 [0, 1, 2, 3, 4, 5, 6, 7, 8, 9, 10, 11, 12, 13, 14, 15, 16, 17, 18]\n",
      "char_9 20\n"
     ]
    },
    {
     "data": {
      "image/png": "[encoded data removed]",
      "text/plain": [
       "<matplotlib.figure.Figure at 0x7f672c76a588>"
      ]
     },
     "metadata": {},
     "output_type": "display_data"
    },
    {
     "name": "stdout",
     "output_type": "stream",
     "text": [
      "char_10 6516\n"
     ]
    },
    {
     "data": {
      "image/png": "[encoded data removed]",
      "text/plain": [
       "<matplotlib.figure.Figure at 0x7f672d9899b0>"
      ]
     },
     "metadata": {},
     "output_type": "display_data"
    },
    {
     "name": "stdout",
     "output_type": "stream",
     "text": [
      "group_1 29899\n"
     ]
    },
    {
     "data": {
      "image/png": "[encoded data removed]",
      "text/plain": [
       "<matplotlib.figure.Figure at 0x7f672cd6bda0>"
      ]
     },
     "metadata": {},
     "output_type": "display_data"
    },
    {
     "name": "stdout",
     "output_type": "stream",
     "text": [
      "char_12 3 [1, 2, 3]\n",
      "char_13 43\n"
     ]
    },
    {
     "data": {
      "image/png": "[encoded data removed]",
      "text/plain": [
       "<matplotlib.figure.Figure at 0x7f672c339d30>"
      ]
     },
     "metadata": {},
     "output_type": "display_data"
    },
    {
     "name": "stdout",
     "output_type": "stream",
     "text": [
      "char_14 25\n"
     ]
    },
    {
     "data": {
      "image/png": "[encoded data removed]",
      "text/plain": [
       "<matplotlib.figure.Figure at 0x7f672cd6be10>"
      ]
     },
     "metadata": {},
     "output_type": "display_data"
    },
    {
     "name": "stdout",
     "output_type": "stream",
     "text": [
      "char_15 9 [1, 2, 3, 4, 5, 6, 7, 8, 9]\n",
      "char_16 7 [1, 2, 3, 4, 5, 6, 7]\n",
      "char_17 25\n"
     ]
    },
    {
     "data": {
      "image/png": "[encoded data removed]",
      "text/plain": [
       "<matplotlib.figure.Figure at 0x7f672b1e8d30>"
      ]
     },
     "metadata": {},
     "output_type": "display_data"
    },
    {
     "name": "stdout",
     "output_type": "stream",
     "text": [
      "char_18 8 [1, 2, 3, 4, 5, 6, 7, 8]\n",
      "char_19 9 [1, 2, 3, 4, 5, 6, 7, 8, 9]\n",
      "char_48 101\n"
     ]
    },
    {
     "data": {
      "image/png": "[encoded data removed]",
      "text/plain": [
       "<matplotlib.figure.Figure at 0x7f6722fcf908>"
      ]
     },
     "metadata": {},
     "output_type": "display_data"
    }
   ],
   "source": [
    "# uniqueValue(train, threshold=20)"
   ]
  },
  {
   "cell_type": "code",
   "execution_count": 9,
   "metadata": {
    "collapsed": true
   },
   "outputs": [],
   "source": [
    "# # carefully deal with the feature: \"char_48\"\n",
    "# threshold = 46\n",
    "# train['char_48'] = (train['char_48'] > threshold).astype(int)\n",
    "# test['char_48'] = (test['char_48'] > threshold).astype(int)"
   ]
  },
  {
   "cell_type": "code",
   "execution_count": 10,
   "metadata": {
    "collapsed": false,
    "scrolled": false
   },
   "outputs": [],
   "source": [
    "y_train_total = train['outcome']"
   ]
  },
  {
   "cell_type": "code",
   "execution_count": 11,
   "metadata": {
    "collapsed": true
   },
   "outputs": [],
   "source": [
    "# one-hot-key encorder\n",
    "hotFeatures = ['activity_category', 'group_1'] \\\n",
    "            + ['char_' + str(i) for i in range(1, 10)] \\\n",
    "            + ['char_' + str(i) for i in range(12, 20)]\n",
    "        \n",
    "noFeatures = []\n",
    "for i in train.columns:\n",
    "    if i not in hotFeatures and i != 'outcome':\n",
    "        noFeatures.append(i)"
   ]
  },
  {
   "cell_type": "code",
   "execution_count": 12,
   "metadata": {
    "collapsed": false
   },
   "outputs": [],
   "source": [
    "encorder = OneHotEncoder()\n",
    "hotTrain = encorder.fit_transform(train[hotFeatures])\n",
    "hotTest = encorder.transform(test[hotFeatures])\n",
    "\n",
    "X_train_total = hstack((hotTrain, train[noFeatures]))\n",
    "X_test = hstack((hotTest, test[noFeatures]))"
   ]
  },
  {
   "cell_type": "code",
   "execution_count": 13,
   "metadata": {
    "collapsed": false
   },
   "outputs": [
    {
     "name": "stdout",
     "output_type": "stream",
     "text": [
      "Training set:  (2197291, 30234)\n",
      "Test set:  (498687, 30234)\n"
     ]
    }
   ],
   "source": [
    "print(\"Training set: \", X_train_total.shape)\n",
    "print(\"Test set: \", X_test.shape)"
   ]
  },
  {
   "cell_type": "markdown",
   "metadata": {},
   "source": [
    "# Start Learning"
   ]
  },
  {
   "cell_type": "markdown",
   "metadata": {
    "collapsed": true
   },
   "source": [
    "### Random State"
   ]
  },
  {
   "cell_type": "code",
   "execution_count": 14,
   "metadata": {
    "collapsed": true
   },
   "outputs": [],
   "source": [
    "random_state = 42"
   ]
  },
  {
   "cell_type": "markdown",
   "metadata": {},
   "source": [
    "### Split the training set"
   ]
  },
  {
   "cell_type": "code",
   "execution_count": 15,
   "metadata": {
    "collapsed": false
   },
   "outputs": [],
   "source": [
    "(X_train, X_cv, y_train, y_cv) = cv.train_test_split(X_train_total, y_train_total, test_size=0.3, \n",
    "                                                     random_state=random_state)"
   ]
  },
  {
   "cell_type": "markdown",
   "metadata": {},
   "source": [
    "### Train the classifier"
   ]
  },
  {
   "cell_type": "code",
   "execution_count": 16,
   "metadata": {
    "collapsed": true
   },
   "outputs": [],
   "source": [
    "xg_train = xgb.DMatrix(X_train, label=y_train)\n",
    "xg_cv = xgb.DMatrix(X_cv, label=y_cv)"
   ]
  },
  {
   "cell_type": "code",
   "execution_count": 17,
   "metadata": {
    "collapsed": false,
    "scrolled": false
   },
   "outputs": [
    {
     "name": "stderr",
     "output_type": "stream",
     "text": [
      "[0]\ttrain-auc:0.903272\tCV-auc:0.903037\n",
      "[1]\ttrain-auc:0.925321\tCV-auc:0.924945\n",
      "[2]\ttrain-auc:0.943592\tCV-auc:0.943078\n",
      "[3]\ttrain-auc:0.957956\tCV-auc:0.957377\n",
      "[4]\ttrain-auc:0.969105\tCV-auc:0.968468\n",
      "[5]\ttrain-auc:0.977136\tCV-auc:0.976460\n",
      "[6]\ttrain-auc:0.982578\tCV-auc:0.981873\n",
      "[7]\ttrain-auc:0.986140\tCV-auc:0.985418\n",
      "[8]\ttrain-auc:0.988474\tCV-auc:0.987747\n",
      "[9]\ttrain-auc:0.990074\tCV-auc:0.989350\n",
      "[10]\ttrain-auc:0.991249\tCV-auc:0.990530\n",
      "[11]\ttrain-auc:0.992154\tCV-auc:0.991441\n",
      "[12]\ttrain-auc:0.992874\tCV-auc:0.992168\n",
      "[13]\ttrain-auc:0.993459\tCV-auc:0.992761\n",
      "[14]\ttrain-auc:0.993941\tCV-auc:0.993248\n",
      "[15]\ttrain-auc:0.994345\tCV-auc:0.993657\n",
      "[16]\ttrain-auc:0.994687\tCV-auc:0.994006\n",
      "[17]\ttrain-auc:0.994982\tCV-auc:0.994306\n",
      "[18]\ttrain-auc:0.995237\tCV-auc:0.994566\n",
      "[19]\ttrain-auc:0.995458\tCV-auc:0.994790\n",
      "[20]\ttrain-auc:0.995653\tCV-auc:0.994988\n",
      "[21]\ttrain-auc:0.995825\tCV-auc:0.995162\n",
      "[22]\ttrain-auc:0.995976\tCV-auc:0.995315\n",
      "[23]\ttrain-auc:0.996110\tCV-auc:0.995452\n",
      "[24]\ttrain-auc:0.996230\tCV-auc:0.995573\n",
      "[25]\ttrain-auc:0.996337\tCV-auc:0.995681\n",
      "[26]\ttrain-auc:0.996433\tCV-auc:0.995777\n",
      "[27]\ttrain-auc:0.996518\tCV-auc:0.995863\n",
      "[28]\ttrain-auc:0.996595\tCV-auc:0.995940\n",
      "[29]\ttrain-auc:0.996664\tCV-auc:0.996010\n",
      "[30]\ttrain-auc:0.996726\tCV-auc:0.996072\n",
      "[31]\ttrain-auc:0.996783\tCV-auc:0.996129\n",
      "[32]\ttrain-auc:0.996833\tCV-auc:0.996181\n",
      "[33]\ttrain-auc:0.996879\tCV-auc:0.996227\n",
      "[34]\ttrain-auc:0.996920\tCV-auc:0.996269\n",
      "[35]\ttrain-auc:0.996956\tCV-auc:0.996307\n",
      "[36]\ttrain-auc:0.996989\tCV-auc:0.996342\n",
      "[37]\ttrain-auc:0.997019\tCV-auc:0.996374\n",
      "[38]\ttrain-auc:0.997046\tCV-auc:0.996401\n",
      "[39]\ttrain-auc:0.997070\tCV-auc:0.996426\n",
      "[40]\ttrain-auc:0.997091\tCV-auc:0.996449\n",
      "[41]\ttrain-auc:0.997110\tCV-auc:0.996469\n",
      "[42]\ttrain-auc:0.997128\tCV-auc:0.996488\n",
      "[43]\ttrain-auc:0.997144\tCV-auc:0.996504\n",
      "[44]\ttrain-auc:0.997158\tCV-auc:0.996519\n",
      "[45]\ttrain-auc:0.997172\tCV-auc:0.996533\n",
      "[46]\ttrain-auc:0.997184\tCV-auc:0.996546\n",
      "[47]\ttrain-auc:0.997195\tCV-auc:0.996557\n",
      "[48]\ttrain-auc:0.997205\tCV-auc:0.996567\n",
      "[49]\ttrain-auc:0.997214\tCV-auc:0.996577\n",
      "[50]\ttrain-auc:0.997223\tCV-auc:0.996586\n",
      "[51]\ttrain-auc:0.997231\tCV-auc:0.996594\n",
      "[52]\ttrain-auc:0.997238\tCV-auc:0.996602\n",
      "[53]\ttrain-auc:0.997245\tCV-auc:0.996609\n",
      "[54]\ttrain-auc:0.997251\tCV-auc:0.996615\n",
      "[55]\ttrain-auc:0.997256\tCV-auc:0.996621\n",
      "[56]\ttrain-auc:0.997262\tCV-auc:0.996626\n",
      "[57]\ttrain-auc:0.997266\tCV-auc:0.996631\n",
      "[58]\ttrain-auc:0.997271\tCV-auc:0.996635\n",
      "[59]\ttrain-auc:0.997275\tCV-auc:0.996639\n",
      "[60]\ttrain-auc:0.997279\tCV-auc:0.996643\n",
      "[61]\ttrain-auc:0.997282\tCV-auc:0.996647\n",
      "[62]\ttrain-auc:0.997285\tCV-auc:0.996650\n",
      "[63]\ttrain-auc:0.997288\tCV-auc:0.996653\n",
      "[64]\ttrain-auc:0.997291\tCV-auc:0.996656\n",
      "[65]\ttrain-auc:0.997294\tCV-auc:0.996658\n",
      "[66]\ttrain-auc:0.997296\tCV-auc:0.996660\n",
      "[67]\ttrain-auc:0.997299\tCV-auc:0.996662\n",
      "[68]\ttrain-auc:0.997301\tCV-auc:0.996664\n",
      "[69]\ttrain-auc:0.997302\tCV-auc:0.996666\n",
      "[70]\ttrain-auc:0.997304\tCV-auc:0.996667\n",
      "[71]\ttrain-auc:0.997306\tCV-auc:0.996669\n",
      "[72]\ttrain-auc:0.997307\tCV-auc:0.996670\n",
      "[73]\ttrain-auc:0.997309\tCV-auc:0.996671\n",
      "[74]\ttrain-auc:0.997310\tCV-auc:0.996672\n",
      "[75]\ttrain-auc:0.997311\tCV-auc:0.996673\n",
      "[76]\ttrain-auc:0.997313\tCV-auc:0.996674\n",
      "[77]\ttrain-auc:0.997314\tCV-auc:0.996675\n",
      "[78]\ttrain-auc:0.997315\tCV-auc:0.996675\n",
      "[79]\ttrain-auc:0.997316\tCV-auc:0.996676\n",
      "[80]\ttrain-auc:0.997316\tCV-auc:0.996676\n",
      "[81]\ttrain-auc:0.997317\tCV-auc:0.996677\n",
      "[82]\ttrain-auc:0.997318\tCV-auc:0.996677\n",
      "[83]\ttrain-auc:0.997319\tCV-auc:0.996678\n",
      "[84]\ttrain-auc:0.997320\tCV-auc:0.996678\n",
      "[85]\ttrain-auc:0.997320\tCV-auc:0.996678\n",
      "[86]\ttrain-auc:0.997321\tCV-auc:0.996679\n",
      "[87]\ttrain-auc:0.997322\tCV-auc:0.996679\n",
      "[88]\ttrain-auc:0.997322\tCV-auc:0.996679\n",
      "[89]\ttrain-auc:0.997323\tCV-auc:0.996679\n",
      "[90]\ttrain-auc:0.997323\tCV-auc:0.996679\n",
      "[91]\ttrain-auc:0.997324\tCV-auc:0.996679\n",
      "[92]\ttrain-auc:0.997324\tCV-auc:0.996679\n",
      "[93]\ttrain-auc:0.997324\tCV-auc:0.996679\n",
      "[94]\ttrain-auc:0.997325\tCV-auc:0.996679\n",
      "[95]\ttrain-auc:0.997325\tCV-auc:0.996679\n",
      "[96]\ttrain-auc:0.997326\tCV-auc:0.996679\n",
      "[97]\ttrain-auc:0.997326\tCV-auc:0.996679\n",
      "[98]\ttrain-auc:0.997326\tCV-auc:0.996679\n",
      "[99]\ttrain-auc:0.997327\tCV-auc:0.996679\n",
      "[100]\ttrain-auc:0.997327\tCV-auc:0.996679\n",
      "[101]\ttrain-auc:0.997328\tCV-auc:0.996679\n",
      "[102]\ttrain-auc:0.997328\tCV-auc:0.996679\n",
      "[103]\ttrain-auc:0.997328\tCV-auc:0.996679\n",
      "[104]\ttrain-auc:0.997329\tCV-auc:0.996679\n",
      "[105]\ttrain-auc:0.997329\tCV-auc:0.996679\n",
      "[106]\ttrain-auc:0.997329\tCV-auc:0.996679\n",
      "[107]\ttrain-auc:0.997330\tCV-auc:0.996678\n",
      "[108]\ttrain-auc:0.997330\tCV-auc:0.996678\n",
      "[109]\ttrain-auc:0.997330\tCV-auc:0.996678\n",
      "[110]\ttrain-auc:0.997331\tCV-auc:0.996677\n",
      "[111]\ttrain-auc:0.997331\tCV-auc:0.996677\n",
      "[112]\ttrain-auc:0.997331\tCV-auc:0.996677\n",
      "[113]\ttrain-auc:0.997332\tCV-auc:0.996676\n",
      "[114]\ttrain-auc:0.997332\tCV-auc:0.996676\n",
      "[115]\ttrain-auc:0.997332\tCV-auc:0.996676\n",
      "[116]\ttrain-auc:0.997332\tCV-auc:0.996676\n",
      "[117]\ttrain-auc:0.997333\tCV-auc:0.996675\n",
      "[118]\ttrain-auc:0.997333\tCV-auc:0.996675\n",
      "[119]\ttrain-auc:0.997333\tCV-auc:0.996674\n",
      "[120]\ttrain-auc:0.997333\tCV-auc:0.996674\n",
      "[121]\ttrain-auc:0.997334\tCV-auc:0.996674\n",
      "[122]\ttrain-auc:0.997334\tCV-auc:0.996673\n",
      "[123]\ttrain-auc:0.997334\tCV-auc:0.996673\n",
      "[124]\ttrain-auc:0.997334\tCV-auc:0.996672\n",
      "[125]\ttrain-auc:0.997335\tCV-auc:0.996672\n",
      "[126]\ttrain-auc:0.997335\tCV-auc:0.996671\n",
      "[127]\ttrain-auc:0.997335\tCV-auc:0.996671\n",
      "[128]\ttrain-auc:0.997335\tCV-auc:0.996670\n",
      "[129]\ttrain-auc:0.997335\tCV-auc:0.996670\n",
      "[130]\ttrain-auc:0.997336\tCV-auc:0.996669\n",
      "[131]\ttrain-auc:0.997336\tCV-auc:0.996669\n",
      "[132]\ttrain-auc:0.997336\tCV-auc:0.996668\n",
      "[133]\ttrain-auc:0.997336\tCV-auc:0.996667\n",
      "[134]\ttrain-auc:0.997337\tCV-auc:0.996666\n",
      "[135]\ttrain-auc:0.997337\tCV-auc:0.996666\n",
      "[136]\ttrain-auc:0.997337\tCV-auc:0.996665\n",
      "[137]\ttrain-auc:0.997337\tCV-auc:0.996665\n",
      "[138]\ttrain-auc:0.997337\tCV-auc:0.996664\n",
      "[139]\ttrain-auc:0.997338\tCV-auc:0.996664\n",
      "[140]\ttrain-auc:0.997338\tCV-auc:0.996663\n",
      "[141]\ttrain-auc:0.997338\tCV-auc:0.996662\n",
      "[142]\ttrain-auc:0.997338\tCV-auc:0.996662\n",
      "[143]\ttrain-auc:0.997338\tCV-auc:0.996661\n",
      "[144]\ttrain-auc:0.997339\tCV-auc:0.996660\n",
      "[145]\ttrain-auc:0.997339\tCV-auc:0.996659\n",
      "[146]\ttrain-auc:0.997339\tCV-auc:0.996658\n",
      "[147]\ttrain-auc:0.997339\tCV-auc:0.996657\n",
      "[148]\ttrain-auc:0.997339\tCV-auc:0.996657\n",
      "[149]\ttrain-auc:0.997339\tCV-auc:0.996656\n",
      "[150]\ttrain-auc:0.997340\tCV-auc:0.996655\n",
      "[151]\ttrain-auc:0.997340\tCV-auc:0.996654\n",
      "[152]\ttrain-auc:0.997340\tCV-auc:0.996653\n",
      "[153]\ttrain-auc:0.997340\tCV-auc:0.996653\n",
      "[154]\ttrain-auc:0.997340\tCV-auc:0.996652\n",
      "[155]\ttrain-auc:0.997341\tCV-auc:0.996651\n",
      "[156]\ttrain-auc:0.997341\tCV-auc:0.996650\n",
      "[157]\ttrain-auc:0.997341\tCV-auc:0.996650\n",
      "[158]\ttrain-auc:0.997341\tCV-auc:0.996650\n",
      "[159]\ttrain-auc:0.997341\tCV-auc:0.996650\n",
      "[160]\ttrain-auc:0.997341\tCV-auc:0.996649\n",
      "[161]\ttrain-auc:0.997341\tCV-auc:0.996649\n",
      "[162]\ttrain-auc:0.997341\tCV-auc:0.996649\n",
      "[163]\ttrain-auc:0.997342\tCV-auc:0.996649\n",
      "[164]\ttrain-auc:0.997342\tCV-auc:0.996649\n",
      "[165]\ttrain-auc:0.997342\tCV-auc:0.996648\n",
      "[166]\ttrain-auc:0.997342\tCV-auc:0.996648\n",
      "[167]\ttrain-auc:0.997342\tCV-auc:0.996648\n",
      "[168]\ttrain-auc:0.997342\tCV-auc:0.996648\n",
      "[169]\ttrain-auc:0.997342\tCV-auc:0.996648\n",
      "[170]\ttrain-auc:0.997342\tCV-auc:0.996648\n",
      "[171]\ttrain-auc:0.997342\tCV-auc:0.996648\n",
      "[172]\ttrain-auc:0.997342\tCV-auc:0.996648\n",
      "[173]\ttrain-auc:0.997343\tCV-auc:0.996647\n",
      "[174]\ttrain-auc:0.997343\tCV-auc:0.996647\n",
      "[175]\ttrain-auc:0.997343\tCV-auc:0.996647\n",
      "[176]\ttrain-auc:0.997343\tCV-auc:0.996647\n",
      "[177]\ttrain-auc:0.997343\tCV-auc:0.996647\n",
      "[178]\ttrain-auc:0.997343\tCV-auc:0.996647\n",
      "[179]\ttrain-auc:0.997343\tCV-auc:0.996647\n",
      "[180]\ttrain-auc:0.997343\tCV-auc:0.996647\n",
      "[181]\ttrain-auc:0.997343\tCV-auc:0.996647\n",
      "[182]\ttrain-auc:0.997343\tCV-auc:0.996647\n",
      "[183]\ttrain-auc:0.997343\tCV-auc:0.996647\n",
      "[184]\ttrain-auc:0.997343\tCV-auc:0.996647\n",
      "[185]\ttrain-auc:0.997343\tCV-auc:0.996646\n",
      "[186]\ttrain-auc:0.997343\tCV-auc:0.996646\n",
      "[187]\ttrain-auc:0.997343\tCV-auc:0.996646\n",
      "[188]\ttrain-auc:0.997343\tCV-auc:0.996646\n",
      "[189]\ttrain-auc:0.997344\tCV-auc:0.996646\n",
      "[190]\ttrain-auc:0.997344\tCV-auc:0.996646\n",
      "[191]\ttrain-auc:0.997344\tCV-auc:0.996646\n",
      "[192]\ttrain-auc:0.997344\tCV-auc:0.996646\n",
      "[193]\ttrain-auc:0.997344\tCV-auc:0.996646\n",
      "[194]\ttrain-auc:0.997344\tCV-auc:0.996646\n",
      "[195]\ttrain-auc:0.997344\tCV-auc:0.996646\n",
      "[196]\ttrain-auc:0.997344\tCV-auc:0.996647\n",
      "[197]\ttrain-auc:0.997344\tCV-auc:0.996647\n",
      "[198]\ttrain-auc:0.997344\tCV-auc:0.996647\n",
      "[199]\ttrain-auc:0.997344\tCV-auc:0.996648\n",
      "[200]\ttrain-auc:0.997344\tCV-auc:0.996648\n",
      "[201]\ttrain-auc:0.997344\tCV-auc:0.996648\n",
      "[202]\ttrain-auc:0.997344\tCV-auc:0.996648\n",
      "[203]\ttrain-auc:0.997344\tCV-auc:0.996649\n",
      "[204]\ttrain-auc:0.997344\tCV-auc:0.996649\n",
      "[205]\ttrain-auc:0.997344\tCV-auc:0.996650\n",
      "[206]\ttrain-auc:0.997344\tCV-auc:0.996651\n",
      "[207]\ttrain-auc:0.997344\tCV-auc:0.996651\n",
      "[208]\ttrain-auc:0.997345\tCV-auc:0.996653\n",
      "[209]\ttrain-auc:0.997345\tCV-auc:0.996653\n",
      "[210]\ttrain-auc:0.997345\tCV-auc:0.996654\n",
      "[211]\ttrain-auc:0.997345\tCV-auc:0.996655\n",
      "[212]\ttrain-auc:0.997345\tCV-auc:0.996656\n",
      "[213]\ttrain-auc:0.997345\tCV-auc:0.996657\n",
      "[214]\ttrain-auc:0.997345\tCV-auc:0.996658\n",
      "[215]\ttrain-auc:0.997345\tCV-auc:0.996660\n",
      "[216]\ttrain-auc:0.997345\tCV-auc:0.996661\n",
      "[217]\ttrain-auc:0.997345\tCV-auc:0.996662\n",
      "[218]\ttrain-auc:0.997345\tCV-auc:0.996664\n",
      "[219]\ttrain-auc:0.997345\tCV-auc:0.996665\n",
      "[220]\ttrain-auc:0.997345\tCV-auc:0.996666\n",
      "[221]\ttrain-auc:0.997345\tCV-auc:0.996667\n",
      "[222]\ttrain-auc:0.997345\tCV-auc:0.996669\n",
      "[223]\ttrain-auc:0.997345\tCV-auc:0.996670\n",
      "[224]\ttrain-auc:0.997345\tCV-auc:0.996671\n",
      "[225]\ttrain-auc:0.997345\tCV-auc:0.996672\n",
      "[226]\ttrain-auc:0.997345\tCV-auc:0.996674\n",
      "[227]\ttrain-auc:0.997345\tCV-auc:0.996675\n",
      "[228]\ttrain-auc:0.997345\tCV-auc:0.996677\n",
      "[229]\ttrain-auc:0.997345\tCV-auc:0.996679\n",
      "[230]\ttrain-auc:0.997345\tCV-auc:0.996680\n",
      "[231]\ttrain-auc:0.997345\tCV-auc:0.996682\n",
      "[232]\ttrain-auc:0.997345\tCV-auc:0.996684\n",
      "[233]\ttrain-auc:0.997345\tCV-auc:0.996686\n",
      "[234]\ttrain-auc:0.997345\tCV-auc:0.996688\n",
      "[235]\ttrain-auc:0.997345\tCV-auc:0.996690\n",
      "[236]\ttrain-auc:0.997345\tCV-auc:0.996691\n",
      "[237]\ttrain-auc:0.997346\tCV-auc:0.996693\n",
      "[238]\ttrain-auc:0.997346\tCV-auc:0.996694\n",
      "[239]\ttrain-auc:0.997346\tCV-auc:0.996696\n",
      "[240]\ttrain-auc:0.997346\tCV-auc:0.996697\n",
      "[241]\ttrain-auc:0.997346\tCV-auc:0.996699\n",
      "[242]\ttrain-auc:0.997346\tCV-auc:0.996701\n",
      "[243]\ttrain-auc:0.997346\tCV-auc:0.996702\n",
      "[244]\ttrain-auc:0.997346\tCV-auc:0.996704\n",
      "[245]\ttrain-auc:0.997346\tCV-auc:0.996705\n",
      "[246]\ttrain-auc:0.997346\tCV-auc:0.996706\n",
      "[247]\ttrain-auc:0.997346\tCV-auc:0.996709\n",
      "[248]\ttrain-auc:0.997346\tCV-auc:0.996709\n",
      "[249]\ttrain-auc:0.997346\tCV-auc:0.996710\n",
      "[250]\ttrain-auc:0.997346\tCV-auc:0.996712\n",
      "[251]\ttrain-auc:0.997346\tCV-auc:0.996713\n",
      "[252]\ttrain-auc:0.997346\tCV-auc:0.996716\n",
      "[253]\ttrain-auc:0.997346\tCV-auc:0.996718\n",
      "[254]\ttrain-auc:0.997346\tCV-auc:0.996723\n",
      "[255]\ttrain-auc:0.997346\tCV-auc:0.996723\n",
      "[256]\ttrain-auc:0.997346\tCV-auc:0.996725\n",
      "[257]\ttrain-auc:0.997346\tCV-auc:0.996729\n",
      "[258]\ttrain-auc:0.997346\tCV-auc:0.996732\n",
      "[259]\ttrain-auc:0.997346\tCV-auc:0.996735\n",
      "[260]\ttrain-auc:0.997346\tCV-auc:0.996736\n",
      "[261]\ttrain-auc:0.997346\tCV-auc:0.996737\n",
      "[262]\ttrain-auc:0.997346\tCV-auc:0.996739\n",
      "[263]\ttrain-auc:0.997346\tCV-auc:0.996743\n",
      "[264]\ttrain-auc:0.997346\tCV-auc:0.996745\n",
      "[265]\ttrain-auc:0.997346\tCV-auc:0.996747\n",
      "[266]\ttrain-auc:0.997346\tCV-auc:0.996748\n",
      "[267]\ttrain-auc:0.997346\tCV-auc:0.996750\n",
      "[268]\ttrain-auc:0.997346\tCV-auc:0.996751\n",
      "[269]\ttrain-auc:0.997346\tCV-auc:0.996755\n",
      "[270]\ttrain-auc:0.997346\tCV-auc:0.996758\n",
      "[271]\ttrain-auc:0.997346\tCV-auc:0.996760\n",
      "[272]\ttrain-auc:0.997346\tCV-auc:0.996762\n",
      "[273]\ttrain-auc:0.997346\tCV-auc:0.996763\n",
      "[274]\ttrain-auc:0.997346\tCV-auc:0.996765\n",
      "[275]\ttrain-auc:0.997346\tCV-auc:0.996767\n",
      "[276]\ttrain-auc:0.997346\tCV-auc:0.996769\n",
      "[277]\ttrain-auc:0.997346\tCV-auc:0.996769\n",
      "[278]\ttrain-auc:0.997347\tCV-auc:0.996767\n",
      "[279]\ttrain-auc:0.997347\tCV-auc:0.996770\n",
      "[280]\ttrain-auc:0.997347\tCV-auc:0.996771\n",
      "[281]\ttrain-auc:0.997347\tCV-auc:0.996774\n",
      "[282]\ttrain-auc:0.997347\tCV-auc:0.996775\n",
      "[283]\ttrain-auc:0.997347\tCV-auc:0.996777\n",
      "[284]\ttrain-auc:0.997347\tCV-auc:0.996780\n",
      "[285]\ttrain-auc:0.997347\tCV-auc:0.996780\n",
      "[286]\ttrain-auc:0.997347\tCV-auc:0.996779\n",
      "[287]\ttrain-auc:0.997347\tCV-auc:0.996780\n",
      "[288]\ttrain-auc:0.997347\tCV-auc:0.996779\n",
      "[289]\ttrain-auc:0.997347\tCV-auc:0.996780\n",
      "[290]\ttrain-auc:0.997347\tCV-auc:0.996781\n",
      "[291]\ttrain-auc:0.997347\tCV-auc:0.996782\n",
      "[292]\ttrain-auc:0.997347\tCV-auc:0.996784\n",
      "[293]\ttrain-auc:0.997347\tCV-auc:0.996785\n",
      "[294]\ttrain-auc:0.997347\tCV-auc:0.996786\n",
      "[295]\ttrain-auc:0.997347\tCV-auc:0.996786\n",
      "[296]\ttrain-auc:0.997347\tCV-auc:0.996786\n",
      "[297]\ttrain-auc:0.997347\tCV-auc:0.996787\n",
      "[298]\ttrain-auc:0.997347\tCV-auc:0.996788\n",
      "[299]\ttrain-auc:0.997347\tCV-auc:0.996788\n"
     ]
    }
   ],
   "source": [
    "param = {'booster': 'gblinear',\n",
    "         'max_depth': 10,\n",
    "         'eta': 0.05,\n",
    "         'silent': 0,\n",
    "         'objective': 'binary:logistic',\n",
    "         'nthread': 2,\n",
    "         'eval_metric': 'auc',\n",
    "         'colsample_bytree': 0.8,\n",
    "        #'lambda':5,\n",
    "        #'lambda_bias':0,\n",
    "        #'alpha':1\n",
    "        }\n",
    "\n",
    "num_round = 300\n",
    "watchlist = [(xg_train, 'train'), (xg_cv, 'CV')]\n",
    "bst = xgb.train(param, xg_train, num_round, watchlist)"
   ]
  },
  {
   "cell_type": "code",
   "execution_count": 18,
   "metadata": {
    "collapsed": false,
    "scrolled": true
   },
   "outputs": [
    {
     "name": "stdout",
     "output_type": "stream",
     "text": [
      "Train:  0.997346998475\n",
      "CV:  0.996644831024\n"
     ]
    }
   ],
   "source": [
    "# CV evaluation\n",
    "train_pred = bst.predict(xg_train)\n",
    "cv_pred = bst.predict(xg_cv)\n",
    "print(\"Train: \", roc_auc_score(y_train, train_pred))\n",
    "print(\"CV: \", roc_auc_score(y_cv, cv_pred))"
   ]
  },
  {
   "cell_type": "markdown",
   "metadata": {},
   "source": [
    "### Create output file"
   ]
  },
  {
   "cell_type": "code",
   "execution_count": 19,
   "metadata": {
    "collapsed": true
   },
   "outputs": [],
   "source": [
    "xg_train_total = xgb.DMatrix(X_train_total, label=y_train_total)\n",
    "xg_test_total = xgb.DMatrix(X_test)\n",
    "bst = xgb.train(param, xg_train_total)\n",
    "y_pred = bst.predict(xg_test_total)"
   ]
  },
  {
   "cell_type": "code",
   "execution_count": 20,
   "metadata": {
    "collapsed": true
   },
   "outputs": [],
   "source": [
    "test_id = pd.read_csv('./data/act_test.csv', usecols=['activity_id'], \n",
    "                      dtype={'activity_id': np.str}).values[:, 0]"
   ]
  },
  {
   "cell_type": "code",
   "execution_count": 21,
   "metadata": {
    "collapsed": false
   },
   "outputs": [],
   "source": [
    "result = pd.DataFrame({'activity_id': test_id, 'outcome': y_pred})\n",
    "result.to_csv('./result/xgb_result(initial).csv', index=None)"
   ]
  },
  {
   "cell_type": "code",
   "execution_count": null,
   "metadata": {
    "collapsed": true
   },
   "outputs": [],
   "source": []
  }
 ],
 "metadata": {
  "anaconda-cloud": {},
  "kernelspec": {
   "display_name": "Python [Root]",
   "language": "python",
   "name": "Python [Root]"
  },
  "language_info": {
   "codemirror_mode": {
    "name": "ipython",
    "version": 3
   },
   "file_extension": ".py",
   "mimetype": "text/x-python",
   "name": "python",
   "nbconvert_exporter": "python",
   "pygments_lexer": "ipython3",
   "version": "3.5.2"
  }
 },
 "nbformat": 4,
 "nbformat_minor": 0
}
