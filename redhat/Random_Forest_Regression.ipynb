{
 "cells": [
  {
   "cell_type": "markdown",
   "metadata": {},
   "source": [
    "# Random Forest Regression with all features"
   ]
  },
  {
   "cell_type": "code",
   "execution_count": 2,
   "metadata": {
    "collapsed": false
   },
   "outputs": [],
   "source": [
    "import warnings\n",
    "warnings.filterwarnings(\"ignore\")\n",
    "\n",
    "import numpy as np\n",
    "import pandas as pd\n",
    "import matplotlib.pyplot as plt\n",
    "from scipy.sparse import hstack\n",
    "\n",
    "from sklearn.preprocessing import OneHotEncoder\n",
    "from sklearn import cross_validation as cv\n",
    "from sklearn.metrics import roc_auc_score\n",
    "from sklearn.ensemble import RandomForestRegressor\n",
    "\n",
    "from helper_function import process\n",
    "from helper_function import uniqueValue\n",
    "from helper_function import visualizeDist\n",
    "\n",
    "%matplotlib inline"
   ]
  },
  {
   "cell_type": "markdown",
   "metadata": {},
   "source": [
    "# Process the data"
   ]
  },
  {
   "cell_type": "markdown",
   "metadata": {},
   "source": [
    "### Load the dataset"
   ]
  },
  {
   "cell_type": "code",
   "execution_count": 3,
   "metadata": {
    "collapsed": false
   },
   "outputs": [],
   "source": [
    "# read training and test set\n",
    "train_id, train_total = process('./data/act_train.csv')\n",
    "test_id, test_total = process('./data/act_test.csv')"
   ]
  },
  {
   "cell_type": "markdown",
   "metadata": {},
   "source": [
    "### One Hot Encorder"
   ]
  },
  {
   "cell_type": "code",
   "execution_count": 8,
   "metadata": {
    "collapsed": false
   },
   "outputs": [],
   "source": [
    "# one-hot-key encorder\n",
    "hotFeatures = ['activity_category', 'group_1', 'char_10', 'char_48', \n",
    "               'activity_year', 'activity_month', 'activity_day', \n",
    "               'people_year', 'people_month', 'people_day'] \\\n",
    "            + ['char_' + str(i) for i in range(1, 10)] \\\n",
    "            + ['char_' + str(i) for i in range(12, 20)]\n",
    "        \n",
    "noFeatures = []\n",
    "for i in train_total.columns:\n",
    "    if i not in hotFeatures and i != 'outcome':\n",
    "        noFeatures.append(i)"
   ]
  },
  {
   "cell_type": "code",
   "execution_count": 9,
   "metadata": {
    "collapsed": false
   },
   "outputs": [],
   "source": [
    "# One-Hot-Encorder\n",
    "encorder = OneHotEncoder()\n",
    "hotTrain = encorder.fit_transform(train_total[hotFeatures])\n",
    "hotTest = encorder.transform(test_total[hotFeatures])\n",
    "\n",
    "X_train_total = hstack((hotTrain, train_total[noFeatures]))\n",
    "y_train_total = train_total['outcome']\n",
    "X_test_total = hstack((hotTest, test_total[noFeatures]))\n",
    "\n",
    "# del [train_total, test_total]"
   ]
  },
  {
   "cell_type": "code",
   "execution_count": 10,
   "metadata": {
    "collapsed": false
   },
   "outputs": [
    {
     "name": "stdout",
     "output_type": "stream",
     "text": [
      "Training set:  (2197291, 36942)\n",
      "Test set:  (498687, 36942)\n"
     ]
    }
   ],
   "source": [
    "print(\"Training set: \", X_train_total.shape)\n",
    "print(\"Test set: \", X_test_total.shape)"
   ]
  },
  {
   "cell_type": "markdown",
   "metadata": {},
   "source": [
    "# Start Learning"
   ]
  },
  {
   "cell_type": "markdown",
   "metadata": {
    "collapsed": true
   },
   "source": [
    "### Random State"
   ]
  },
  {
   "cell_type": "code",
   "execution_count": 11,
   "metadata": {
    "collapsed": true
   },
   "outputs": [],
   "source": [
    "random_state = 42"
   ]
  },
  {
   "cell_type": "markdown",
   "metadata": {},
   "source": [
    "### Split the training set"
   ]
  },
  {
   "cell_type": "code",
   "execution_count": 12,
   "metadata": {
    "collapsed": false
   },
   "outputs": [],
   "source": [
    "(X_train, X_cv, y_train, y_cv) = cv.train_test_split(X_train_total, y_train_total, \n",
    "                                                     test_size=0.3, random_state=random_state)"
   ]
  },
  {
   "cell_type": "markdown",
   "metadata": {},
   "source": [
    "### Train the classifier"
   ]
  },
  {
   "cell_type": "code",
   "execution_count": 13,
   "metadata": {
    "collapsed": false
   },
   "outputs": [
    {
     "name": "stderr",
     "output_type": "stream",
     "text": [
      "[Parallel(n_jobs=6)]: Done  11 out of  10 | elapsed: 130.8min remaining:  -713.3s\n",
      "[Parallel(n_jobs=6)]: Done  11 out of  10 | elapsed: 133.1min remaining:  -725.9s\n",
      "[Parallel(n_jobs=6)]: Done  11 out of  10 | elapsed: 137.4min remaining:  -749.6s\n",
      "[Parallel(n_jobs=6)]: Done  11 out of  10 | elapsed: 138.4min remaining:  -754.7s\n",
      "[Parallel(n_jobs=6)]: Done  11 out of  10 | elapsed: 143.7min remaining:  -783.6s\n",
      "[Parallel(n_jobs=6)]: Done  11 out of  10 | elapsed: 215.3min remaining:  -1174.4s\n",
      "[Parallel(n_jobs=6)]: Done  11 out of  10 | elapsed: 219.7min remaining:  -1198.3s\n",
      "[Parallel(n_jobs=6)]: Done  11 out of  10 | elapsed: 222.3min remaining:  -1212.6s\n",
      "[Parallel(n_jobs=6)]: Done  11 out of  10 | elapsed: 222.9min remaining:  -1216.1s\n",
      "[Parallel(n_jobs=6)]: Done  10 out of  10 | elapsed: 222.9min finished\n"
     ]
    },
    {
     "data": {
      "text/plain": [
       "RandomForestRegressor(bootstrap=True, criterion='mse', max_depth=None,\n",
       "           max_features='auto', max_leaf_nodes=None, min_samples_leaf=1,\n",
       "           min_samples_split=2, min_weight_fraction_leaf=0.0,\n",
       "           n_estimators=10, n_jobs=6, oob_score=False, random_state=42,\n",
       "           verbose=1, warm_start=False)"
      ]
     },
     "execution_count": 13,
     "metadata": {},
     "output_type": "execute_result"
    }
   ],
   "source": [
    "clf = RandomForestRegressor(n_estimators=10, n_jobs=6, criterion='mse', max_depth=None, \n",
    "                            min_samples_split=2, min_samples_leaf=1, verbose=1, \n",
    "                            min_weight_fraction_leaf=0.0, max_features='auto', \n",
    "                            max_leaf_nodes=None, bootstrap=True, oob_score=False, \n",
    "                            random_state=random_state, warm_start=False)\n",
    "clf.fit(X_train, y_train)"
   ]
  },
  {
   "cell_type": "code",
   "execution_count": 14,
   "metadata": {
    "collapsed": false,
    "scrolled": true
   },
   "outputs": [
    {
     "name": "stderr",
     "output_type": "stream",
     "text": [
      "[Parallel(n_jobs=6)]: Done  11 out of  10 | elapsed:    1.4s remaining:   -0.1s\n",
      "[Parallel(n_jobs=6)]: Done  11 out of  10 | elapsed:    1.4s remaining:   -0.1s\n",
      "[Parallel(n_jobs=6)]: Done  11 out of  10 | elapsed:    1.5s remaining:   -0.1s\n",
      "[Parallel(n_jobs=6)]: Done  11 out of  10 | elapsed:    1.5s remaining:   -0.1s\n",
      "[Parallel(n_jobs=6)]: Done  11 out of  10 | elapsed:    1.6s remaining:   -0.1s\n",
      "[Parallel(n_jobs=6)]: Done  11 out of  10 | elapsed:    2.3s remaining:   -0.2s\n",
      "[Parallel(n_jobs=6)]: Done  11 out of  10 | elapsed:    2.5s remaining:   -0.2s\n",
      "[Parallel(n_jobs=6)]: Done  11 out of  10 | elapsed:    2.5s remaining:   -0.2s\n",
      "[Parallel(n_jobs=6)]: Done  11 out of  10 | elapsed:    2.6s remaining:   -0.2s\n",
      "[Parallel(n_jobs=6)]: Done  10 out of  10 | elapsed:    2.6s finished\n",
      "[Parallel(n_jobs=6)]: Done  11 out of  10 | elapsed:    0.5s remaining:   -0.0s\n",
      "[Parallel(n_jobs=6)]: Done  11 out of  10 | elapsed:    0.6s remaining:   -0.1s\n",
      "[Parallel(n_jobs=6)]: Done  11 out of  10 | elapsed:    0.6s remaining:   -0.1s\n",
      "[Parallel(n_jobs=6)]: Done  11 out of  10 | elapsed:    0.7s remaining:   -0.1s\n",
      "[Parallel(n_jobs=6)]: Done  11 out of  10 | elapsed:    0.7s remaining:   -0.1s\n",
      "[Parallel(n_jobs=6)]: Done  11 out of  10 | elapsed:    1.0s remaining:   -0.1s\n",
      "[Parallel(n_jobs=6)]: Done  11 out of  10 | elapsed:    1.0s remaining:   -0.1s\n",
      "[Parallel(n_jobs=6)]: Done  11 out of  10 | elapsed:    1.1s remaining:   -0.1s\n",
      "[Parallel(n_jobs=6)]: Done  11 out of  10 | elapsed:    1.2s remaining:   -0.1s\n",
      "[Parallel(n_jobs=6)]: Done  10 out of  10 | elapsed:    1.2s finished\n"
     ]
    },
    {
     "name": "stdout",
     "output_type": "stream",
     "text": [
      "Train:  0.999998505789\n",
      "CV:  0.998151016528\n"
     ]
    }
   ],
   "source": [
    "# CV evaluation\n",
    "pred_train = clf.predict(X_train)\n",
    "pred_cv = clf.predict(X_cv)\n",
    "print(\"Train: \", roc_auc_score(y_train, pred_train))\n",
    "print(\"CV: \", roc_auc_score(y_cv, pred_cv))"
   ]
  },
  {
   "cell_type": "markdown",
   "metadata": {},
   "source": [
    "### Predict on the test set"
   ]
  },
  {
   "cell_type": "code",
   "execution_count": 15,
   "metadata": {
    "collapsed": false
   },
   "outputs": [
    {
     "name": "stderr",
     "output_type": "stream",
     "text": [
      "[Parallel(n_jobs=6)]: Done  11 out of  10 | elapsed: 131.1min remaining:  -715.0s\n",
      "[Parallel(n_jobs=6)]: Done  11 out of  10 | elapsed: 131.2min remaining:  -715.9s\n",
      "[Parallel(n_jobs=6)]: Done  11 out of  10 | elapsed: 131.7min remaining:  -718.1s\n",
      "[Parallel(n_jobs=6)]: Done  11 out of  10 | elapsed: 132.8min remaining:  -724.3s\n",
      "[Parallel(n_jobs=6)]: Done  11 out of  10 | elapsed: 140.3min remaining:  -765.4s\n",
      "[Parallel(n_jobs=6)]: Done  11 out of  10 | elapsed: 214.2min remaining:  -1168.3s\n",
      "[Parallel(n_jobs=6)]: Done  11 out of  10 | elapsed: 218.2min remaining:  -1190.2s\n",
      "[Parallel(n_jobs=6)]: Done  11 out of  10 | elapsed: 219.5min remaining:  -1197.0s\n",
      "[Parallel(n_jobs=6)]: Done  11 out of  10 | elapsed: 220.8min remaining:  -1204.2s\n",
      "[Parallel(n_jobs=6)]: Done  10 out of  10 | elapsed: 220.8min finished\n"
     ]
    },
    {
     "ename": "NameError",
     "evalue": "name 'X_test' is not defined",
     "output_type": "error",
     "traceback": [
      "\u001b[1;31m---------------------------------------------------------------------------\u001b[0m",
      "\u001b[1;31mNameError\u001b[0m                                 Traceback (most recent call last)",
      "\u001b[1;32m<ipython-input-15-36d4f00d24a1>\u001b[0m in \u001b[0;36m<module>\u001b[1;34m()\u001b[0m\n\u001b[0;32m      1\u001b[0m \u001b[0mclf\u001b[0m\u001b[1;33m.\u001b[0m\u001b[0mfit\u001b[0m\u001b[1;33m(\u001b[0m\u001b[0mX_train_total\u001b[0m\u001b[1;33m,\u001b[0m \u001b[0my_train_total\u001b[0m\u001b[1;33m)\u001b[0m\u001b[1;33m\u001b[0m\u001b[0m\n\u001b[1;32m----> 2\u001b[1;33m \u001b[0mpred_test\u001b[0m \u001b[1;33m=\u001b[0m \u001b[0mclf\u001b[0m\u001b[1;33m.\u001b[0m\u001b[0mpredict\u001b[0m\u001b[1;33m(\u001b[0m\u001b[0mX_test\u001b[0m\u001b[1;33m)\u001b[0m\u001b[1;33m\u001b[0m\u001b[0m\n\u001b[0m",
      "\u001b[1;31mNameError\u001b[0m: name 'X_test' is not defined"
     ]
    }
   ],
   "source": [
    "pred_test = clf.predict(X_test_total)"
   ]
  },
  {
   "cell_type": "markdown",
   "metadata": {},
   "source": [
    "### Create output file"
   ]
  },
  {
   "cell_type": "code",
   "execution_count": 23,
   "metadata": {
    "collapsed": true
   },
   "outputs": [],
   "source": [
    "result = pd.DataFrame({'activity_id': test_id, 'outcome': pred_test})\n",
    "result.to_csv('./result/RF_result.csv', index=None)"
   ]
  },
  {
   "cell_type": "code",
   "execution_count": null,
   "metadata": {
    "collapsed": true
   },
   "outputs": [],
   "source": []
  }
 ],
 "metadata": {
  "anaconda-cloud": {},
  "kernelspec": {
   "display_name": "Python [Root]",
   "language": "python",
   "name": "Python [Root]"
  },
  "language_info": {
   "codemirror_mode": {
    "name": "ipython",
    "version": 3
   },
   "file_extension": ".py",
   "mimetype": "text/x-python",
   "name": "python",
   "nbconvert_exporter": "python",
   "pygments_lexer": "ipython3",
   "version": "3.5.2"
  }
 },
 "nbformat": 4,
 "nbformat_minor": 0
}
