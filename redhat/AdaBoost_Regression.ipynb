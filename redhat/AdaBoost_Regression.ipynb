{
 "cells": [
  {
   "cell_type": "markdown",
   "metadata": {},
   "source": [
    "# AdaBoost Regression with all features"
   ]
  },
  {
   "cell_type": "code",
   "execution_count": 1,
   "metadata": {
    "collapsed": false
   },
   "outputs": [],
   "source": [
    "import warnings\n",
    "warnings.filterwarnings(\"ignore\")\n",
    "\n",
    "import numpy as np\n",
    "import pandas as pd\n",
    "import matplotlib.pyplot as plt\n",
    "from scipy.sparse import hstack\n",
    "\n",
    "from sklearn.preprocessing import OneHotEncoder\n",
    "from sklearn import cross_validation as cv\n",
    "from sklearn.metrics import roc_auc_score\n",
    "from sklearn.ensemble import AdaBoostRegressor\n",
    "\n",
    "from helper_function import process\n",
    "from helper_function import uniqueValue\n",
    "from helper_function import visualizeDist\n",
    "\n",
    "%matplotlib inline"
   ]
  },
  {
   "cell_type": "markdown",
   "metadata": {},
   "source": [
    "# Process the data"
   ]
  },
  {
   "cell_type": "markdown",
   "metadata": {},
   "source": [
    "### Load the dataset"
   ]
  },
  {
   "cell_type": "code",
   "execution_count": 2,
   "metadata": {
    "collapsed": false
   },
   "outputs": [],
   "source": [
    "# read training and test set\n",
    "train_id, train_total = process('./data/act_train.csv')\n",
    "test_id, test_total = process('./data/act_test.csv')"
   ]
  },
  {
   "cell_type": "markdown",
   "metadata": {},
   "source": [
    "### One Hot Encorder"
   ]
  },
  {
   "cell_type": "code",
   "execution_count": 3,
   "metadata": {
    "collapsed": false
   },
   "outputs": [],
   "source": [
    "# one-hot-key encorder\n",
    "hotFeatures = ['activity_category', 'group_1', 'char_10', 'char_48', \n",
    "               'activity_year', 'activity_month', 'activity_day', \n",
    "               'people_year', 'people_month', 'people_day'] \\\n",
    "            + ['char_' + str(i) for i in range(1, 10)] \\\n",
    "            + ['char_' + str(i) for i in range(12, 20)]\n",
    "        \n",
    "noFeatures = []\n",
    "for i in train_total.columns:\n",
    "    if i not in hotFeatures and i != 'outcome':\n",
    "        noFeatures.append(i)"
   ]
  },
  {
   "cell_type": "code",
   "execution_count": 4,
   "metadata": {
    "collapsed": false
   },
   "outputs": [],
   "source": [
    "# One-Hot-Encorder\n",
    "encorder = OneHotEncoder()\n",
    "hotTrain = encorder.fit_transform(train_total[hotFeatures])\n",
    "hotTest = encorder.transform(test_total[hotFeatures])\n",
    "\n",
    "X_train_total = hstack((hotTrain, train_total[noFeatures]))\n",
    "y_train_total = train_total['outcome']\n",
    "X_test_total = hstack((hotTest, test_total[noFeatures]))\n",
    "\n",
    "# del [train_total, test_total]"
   ]
  },
  {
   "cell_type": "code",
   "execution_count": 5,
   "metadata": {
    "collapsed": false
   },
   "outputs": [
    {
     "name": "stdout",
     "output_type": "stream",
     "text": [
      "Training set:  (2197291, 36942)\n",
      "Test set:  (498687, 36942)\n"
     ]
    }
   ],
   "source": [
    "print(\"Training set: \", X_train_total.shape)\n",
    "print(\"Test set: \", X_test_total.shape)"
   ]
  },
  {
   "cell_type": "markdown",
   "metadata": {},
   "source": [
    "# Start Learning"
   ]
  },
  {
   "cell_type": "markdown",
   "metadata": {
    "collapsed": true
   },
   "source": [
    "### Random State"
   ]
  },
  {
   "cell_type": "code",
   "execution_count": 6,
   "metadata": {
    "collapsed": true
   },
   "outputs": [],
   "source": [
    "random_state = 42"
   ]
  },
  {
   "cell_type": "markdown",
   "metadata": {},
   "source": [
    "### Split the training set"
   ]
  },
  {
   "cell_type": "code",
   "execution_count": 7,
   "metadata": {
    "collapsed": false
   },
   "outputs": [],
   "source": [
    "(X_train, X_cv, y_train, y_cv) = cv.train_test_split(X_train_total, y_train_total, \n",
    "                                                     test_size=0.3, random_state=random_state)"
   ]
  },
  {
   "cell_type": "markdown",
   "metadata": {},
   "source": [
    "### Train the classifier"
   ]
  },
  {
   "cell_type": "code",
   "execution_count": 17,
   "metadata": {
    "collapsed": true
   },
   "outputs": [],
   "source": [
    "clf = AdaBoostRegressor(base_estimator=None, n_estimators=50, learning_rate=0.1, \n",
    "                        loss='square', random_state=random_state)"
   ]
  },
  {
   "cell_type": "code",
   "execution_count": 18,
   "metadata": {
    "collapsed": false
   },
   "outputs": [
    {
     "data": {
      "text/plain": [
       "AdaBoostRegressor(base_estimator=None, learning_rate=0.1, loss='square',\n",
       "         n_estimators=50, random_state=42)"
      ]
     },
     "execution_count": 18,
     "metadata": {},
     "output_type": "execute_result"
    }
   ],
   "source": [
    "clf.fit(X_train, y_train)"
   ]
  },
  {
   "cell_type": "code",
   "execution_count": 19,
   "metadata": {
    "collapsed": false,
    "scrolled": true
   },
   "outputs": [
    {
     "name": "stdout",
     "output_type": "stream",
     "text": [
      "Train:  0.896099700356\n",
      "CV:  0.896890092118\n"
     ]
    }
   ],
   "source": [
    "# CV evaluation\n",
    "pred_train = clf.predict(X_train)\n",
    "pred_cv = clf.predict(X_cv)\n",
    "print(\"Train: \", roc_auc_score(y_train, pred_train))\n",
    "print(\"CV: \", roc_auc_score(y_cv, pred_cv))"
   ]
  },
  {
   "cell_type": "markdown",
   "metadata": {},
   "source": [
    "### Predict on the test set"
   ]
  },
  {
   "cell_type": "code",
   "execution_count": 20,
   "metadata": {
    "collapsed": false
   },
   "outputs": [],
   "source": [
    "pred_test = clf.predict(X_test_total)"
   ]
  },
  {
   "cell_type": "markdown",
   "metadata": {},
   "source": [
    "### Create output file"
   ]
  },
  {
   "cell_type": "code",
   "execution_count": 21,
   "metadata": {
    "collapsed": true
   },
   "outputs": [],
   "source": [
    "result = pd.DataFrame({'activity_id': test_id, 'outcome': pred_test})\n",
    "result.to_csv('./result/AdaB_result.csv', index=None)"
   ]
  },
  {
   "cell_type": "code",
   "execution_count": null,
   "metadata": {
    "collapsed": true
   },
   "outputs": [],
   "source": []
  }
 ],
 "metadata": {
  "anaconda-cloud": {},
  "kernelspec": {
   "display_name": "Python [Root]",
   "language": "python",
   "name": "Python [Root]"
  },
  "language_info": {
   "codemirror_mode": {
    "name": "ipython",
    "version": 3
   },
   "file_extension": ".py",
   "mimetype": "text/x-python",
   "name": "python",
   "nbconvert_exporter": "python",
   "pygments_lexer": "ipython3",
   "version": "3.5.2"
  }
 },
 "nbformat": 4,
 "nbformat_minor": 0
}
