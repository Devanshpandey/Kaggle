{
 "cells": [
  {
   "cell_type": "markdown",
   "metadata": {},
   "source": [
    "### One Hot Encorder will all features, including group_1, char_10,  char_48"
   ]
  },
  {
   "cell_type": "code",
   "execution_count": 1,
   "metadata": {
    "collapsed": false
   },
   "outputs": [],
   "source": [
    "import warnings\n",
    "warnings.filterwarnings(\"ignore\")\n",
    "\n",
    "import numpy as np\n",
    "import pandas as pd\n",
    "import matplotlib.pyplot as plt\n",
    "from scipy.sparse import hstack\n",
    "\n",
    "from sklearn.preprocessing import OneHotEncoder\n",
    "from sklearn import cross_validation as cv\n",
    "from sklearn.metrics import roc_auc_score\n",
    "import xgboost as xgb\n",
    "\n",
    "from helper_function import process\n",
    "from helper_function import uniqueValue\n",
    "from helper_function import visualizeDist\n",
    "\n",
    "%matplotlib inline"
   ]
  },
  {
   "cell_type": "markdown",
   "metadata": {},
   "source": [
    "# Process the data"
   ]
  },
  {
   "cell_type": "markdown",
   "metadata": {},
   "source": [
    "### Load the dataset"
   ]
  },
  {
   "cell_type": "code",
   "execution_count": 2,
   "metadata": {
    "collapsed": false
   },
   "outputs": [],
   "source": [
    "# read training and test set\n",
    "train_id, train_total = process('./data/act_train.csv')\n",
    "test_id, test_total = process('./data/act_test.csv')"
   ]
  },
  {
   "cell_type": "markdown",
   "metadata": {},
   "source": [
    "### Study the characteristics of the dataset"
   ]
  },
  {
   "cell_type": "code",
   "execution_count": 4,
   "metadata": {
    "collapsed": false
   },
   "outputs": [],
   "source": [
    "# one-hot-key encorder\n",
    "hotFeatures = ['activity_category', 'group_1', 'char_10', 'char_48', \n",
    "               'activity_year', 'activity_month', 'activity_day', \n",
    "               'people_year', 'people_month', 'people_day'] \\\n",
    "            + ['char_' + str(i) for i in range(1, 10)] \\\n",
    "            + ['char_' + str(i) for i in range(12, 20)]\n",
    "        \n",
    "noFeatures = []\n",
    "for i in train_total.columns:\n",
    "    if i not in hotFeatures and i != 'outcome':\n",
    "        noFeatures.append(i)"
   ]
  },
  {
   "cell_type": "code",
   "execution_count": 5,
   "metadata": {
    "collapsed": false,
    "scrolled": false
   },
   "outputs": [],
   "source": [
    "# One-Hot-Encorder\n",
    "encorder = OneHotEncoder()\n",
    "hotTrain = encorder.fit_transform(train_total[hotFeatures])\n",
    "hotTest = encorder.transform(test_total[hotFeatures])\n",
    "\n",
    "X_train_total = hstack((hotTrain, train_total[noFeatures]))\n",
    "y_train_total = train_total['outcome']\n",
    "X_test_total = hstack((hotTest, test_total[noFeatures]))\n",
    "\n",
    "# del [train_total, test_total]"
   ]
  },
  {
   "cell_type": "code",
   "execution_count": 6,
   "metadata": {
    "collapsed": false
   },
   "outputs": [
    {
     "name": "stdout",
     "output_type": "stream",
     "text": [
      "Training set:  (2197291, 36942)\n",
      "Test set:  (498687, 36942)\n"
     ]
    }
   ],
   "source": [
    "print(\"Training set: \", X_train_total.shape)\n",
    "print(\"Test set: \", X_test_total.shape)"
   ]
  },
  {
   "cell_type": "markdown",
   "metadata": {},
   "source": [
    "# Start Learning"
   ]
  },
  {
   "cell_type": "markdown",
   "metadata": {
    "collapsed": true
   },
   "source": [
    "### Random State"
   ]
  },
  {
   "cell_type": "code",
   "execution_count": 7,
   "metadata": {
    "collapsed": true
   },
   "outputs": [],
   "source": [
    "random_state = 42"
   ]
  },
  {
   "cell_type": "markdown",
   "metadata": {},
   "source": [
    "### Split the training set"
   ]
  },
  {
   "cell_type": "code",
   "execution_count": 8,
   "metadata": {
    "collapsed": false
   },
   "outputs": [],
   "source": [
    "(X_train, X_cv, y_train, y_cv) = cv.train_test_split(X_train_total, y_train_total, test_size=0.3, \n",
    "                                                     random_state=random_state)"
   ]
  },
  {
   "cell_type": "markdown",
   "metadata": {},
   "source": [
    "### Train the classifier"
   ]
  },
  {
   "cell_type": "code",
   "execution_count": 9,
   "metadata": {
    "collapsed": false
   },
   "outputs": [],
   "source": [
    "xg_train = xgb.DMatrix(X_train, label=y_train)\n",
    "xg_cv = xgb.DMatrix(X_cv, label=y_cv)"
   ]
  },
  {
   "cell_type": "code",
   "execution_count": 10,
   "metadata": {
    "collapsed": false,
    "scrolled": true
   },
   "outputs": [
    {
     "name": "stderr",
     "output_type": "stream",
     "text": [
      "[0]\ttrain-auc:0.919403\tCV-auc:0.919078\n",
      "[1]\ttrain-auc:0.937581\tCV-auc:0.937165\n",
      "[2]\ttrain-auc:0.952279\tCV-auc:0.951705\n",
      "[3]\ttrain-auc:0.964311\tCV-auc:0.963607\n",
      "[4]\ttrain-auc:0.973731\tCV-auc:0.972980\n",
      "[5]\ttrain-auc:0.980440\tCV-auc:0.979675\n",
      "[6]\ttrain-auc:0.984842\tCV-auc:0.984067\n",
      "[7]\ttrain-auc:0.987680\tCV-auc:0.986901\n",
      "[8]\ttrain-auc:0.989590\tCV-auc:0.988813\n",
      "[9]\ttrain-auc:0.990956\tCV-auc:0.990181\n",
      "[10]\ttrain-auc:0.991977\tCV-auc:0.991207\n",
      "[11]\ttrain-auc:0.992770\tCV-auc:0.992002\n",
      "[12]\ttrain-auc:0.993403\tCV-auc:0.992637\n",
      "[13]\ttrain-auc:0.993922\tCV-auc:0.993156\n",
      "[14]\ttrain-auc:0.994354\tCV-auc:0.993590\n",
      "[15]\ttrain-auc:0.994720\tCV-auc:0.993957\n",
      "[16]\ttrain-auc:0.995032\tCV-auc:0.994271\n",
      "[17]\ttrain-auc:0.995301\tCV-auc:0.994542\n",
      "[18]\ttrain-auc:0.995534\tCV-auc:0.994778\n",
      "[19]\ttrain-auc:0.995738\tCV-auc:0.994985\n",
      "[20]\ttrain-auc:0.995917\tCV-auc:0.995167\n",
      "[21]\ttrain-auc:0.996075\tCV-auc:0.995327\n",
      "[22]\ttrain-auc:0.996216\tCV-auc:0.995470\n",
      "[23]\ttrain-auc:0.996341\tCV-auc:0.995598\n",
      "[24]\ttrain-auc:0.996454\tCV-auc:0.995712\n",
      "[25]\ttrain-auc:0.996555\tCV-auc:0.995815\n",
      "[26]\ttrain-auc:0.996645\tCV-auc:0.995907\n",
      "[27]\ttrain-auc:0.996727\tCV-auc:0.995991\n",
      "[28]\ttrain-auc:0.996801\tCV-auc:0.996067\n",
      "[29]\ttrain-auc:0.996867\tCV-auc:0.996135\n",
      "[30]\ttrain-auc:0.996928\tCV-auc:0.996198\n",
      "[31]\ttrain-auc:0.996982\tCV-auc:0.996254\n",
      "[32]\ttrain-auc:0.997032\tCV-auc:0.996306\n",
      "[33]\ttrain-auc:0.997077\tCV-auc:0.996353\n",
      "[34]\ttrain-auc:0.997118\tCV-auc:0.996396\n",
      "[35]\ttrain-auc:0.997155\tCV-auc:0.996435\n",
      "[36]\ttrain-auc:0.997190\tCV-auc:0.996471\n",
      "[37]\ttrain-auc:0.997221\tCV-auc:0.996504\n",
      "[38]\ttrain-auc:0.997250\tCV-auc:0.996534\n",
      "[39]\ttrain-auc:0.997277\tCV-auc:0.996562\n",
      "[40]\ttrain-auc:0.997302\tCV-auc:0.996587\n",
      "[41]\ttrain-auc:0.997325\tCV-auc:0.996611\n",
      "[42]\ttrain-auc:0.997346\tCV-auc:0.996633\n",
      "[43]\ttrain-auc:0.997366\tCV-auc:0.996653\n",
      "[44]\ttrain-auc:0.997384\tCV-auc:0.996672\n",
      "[45]\ttrain-auc:0.997401\tCV-auc:0.996689\n",
      "[46]\ttrain-auc:0.997417\tCV-auc:0.996704\n",
      "[47]\ttrain-auc:0.997432\tCV-auc:0.996719\n",
      "[48]\ttrain-auc:0.997446\tCV-auc:0.996732\n",
      "[49]\ttrain-auc:0.997459\tCV-auc:0.996745\n",
      "[50]\ttrain-auc:0.997471\tCV-auc:0.996756\n",
      "[51]\ttrain-auc:0.997482\tCV-auc:0.996767\n",
      "[52]\ttrain-auc:0.997493\tCV-auc:0.996777\n",
      "[53]\ttrain-auc:0.997503\tCV-auc:0.996786\n",
      "[54]\ttrain-auc:0.997512\tCV-auc:0.996795\n",
      "[55]\ttrain-auc:0.997521\tCV-auc:0.996803\n",
      "[56]\ttrain-auc:0.997530\tCV-auc:0.996810\n",
      "[57]\ttrain-auc:0.997537\tCV-auc:0.996817\n",
      "[58]\ttrain-auc:0.997545\tCV-auc:0.996823\n",
      "[59]\ttrain-auc:0.997552\tCV-auc:0.996829\n",
      "[60]\ttrain-auc:0.997559\tCV-auc:0.996835\n",
      "[61]\ttrain-auc:0.997565\tCV-auc:0.996840\n",
      "[62]\ttrain-auc:0.997572\tCV-auc:0.996845\n",
      "[63]\ttrain-auc:0.997577\tCV-auc:0.996850\n",
      "[64]\ttrain-auc:0.997583\tCV-auc:0.996854\n",
      "[65]\ttrain-auc:0.997588\tCV-auc:0.996858\n",
      "[66]\ttrain-auc:0.997593\tCV-auc:0.996862\n",
      "[67]\ttrain-auc:0.997598\tCV-auc:0.996866\n",
      "[68]\ttrain-auc:0.997603\tCV-auc:0.996869\n",
      "[69]\ttrain-auc:0.997607\tCV-auc:0.996872\n",
      "[70]\ttrain-auc:0.997612\tCV-auc:0.996875\n",
      "[71]\ttrain-auc:0.997616\tCV-auc:0.996878\n",
      "[72]\ttrain-auc:0.997620\tCV-auc:0.996881\n",
      "[73]\ttrain-auc:0.997624\tCV-auc:0.996883\n",
      "[74]\ttrain-auc:0.997627\tCV-auc:0.996886\n",
      "[75]\ttrain-auc:0.997631\tCV-auc:0.996888\n",
      "[76]\ttrain-auc:0.997634\tCV-auc:0.996890\n",
      "[77]\ttrain-auc:0.997637\tCV-auc:0.996892\n",
      "[78]\ttrain-auc:0.997641\tCV-auc:0.996894\n",
      "[79]\ttrain-auc:0.997644\tCV-auc:0.996896\n",
      "[80]\ttrain-auc:0.997647\tCV-auc:0.996898\n",
      "[81]\ttrain-auc:0.997650\tCV-auc:0.996899\n",
      "[82]\ttrain-auc:0.997652\tCV-auc:0.996901\n",
      "[83]\ttrain-auc:0.997655\tCV-auc:0.996902\n",
      "[84]\ttrain-auc:0.997658\tCV-auc:0.996904\n",
      "[85]\ttrain-auc:0.997660\tCV-auc:0.996905\n",
      "[86]\ttrain-auc:0.997663\tCV-auc:0.996906\n",
      "[87]\ttrain-auc:0.997665\tCV-auc:0.996907\n",
      "[88]\ttrain-auc:0.997667\tCV-auc:0.996909\n",
      "[89]\ttrain-auc:0.997670\tCV-auc:0.996909\n",
      "[90]\ttrain-auc:0.997672\tCV-auc:0.996910\n",
      "[91]\ttrain-auc:0.997674\tCV-auc:0.996911\n",
      "[92]\ttrain-auc:0.997676\tCV-auc:0.996912\n",
      "[93]\ttrain-auc:0.997678\tCV-auc:0.996913\n",
      "[94]\ttrain-auc:0.997680\tCV-auc:0.996914\n",
      "[95]\ttrain-auc:0.997682\tCV-auc:0.996914\n",
      "[96]\ttrain-auc:0.997684\tCV-auc:0.996915\n",
      "[97]\ttrain-auc:0.997685\tCV-auc:0.996916\n",
      "[98]\ttrain-auc:0.997687\tCV-auc:0.996916\n",
      "[99]\ttrain-auc:0.997689\tCV-auc:0.996917\n",
      "[100]\ttrain-auc:0.997691\tCV-auc:0.996917\n",
      "[101]\ttrain-auc:0.997692\tCV-auc:0.996918\n",
      "[102]\ttrain-auc:0.997694\tCV-auc:0.996918\n",
      "[103]\ttrain-auc:0.997695\tCV-auc:0.996919\n",
      "[104]\ttrain-auc:0.997697\tCV-auc:0.996919\n",
      "[105]\ttrain-auc:0.997698\tCV-auc:0.996920\n",
      "[106]\ttrain-auc:0.997700\tCV-auc:0.996920\n",
      "[107]\ttrain-auc:0.997701\tCV-auc:0.996920\n",
      "[108]\ttrain-auc:0.997702\tCV-auc:0.996921\n",
      "[109]\ttrain-auc:0.997704\tCV-auc:0.996921\n",
      "[110]\ttrain-auc:0.997705\tCV-auc:0.996921\n",
      "[111]\ttrain-auc:0.997706\tCV-auc:0.996922\n",
      "[112]\ttrain-auc:0.997707\tCV-auc:0.996922\n",
      "[113]\ttrain-auc:0.997709\tCV-auc:0.996923\n",
      "[114]\ttrain-auc:0.997710\tCV-auc:0.996923\n",
      "[115]\ttrain-auc:0.997711\tCV-auc:0.996923\n",
      "[116]\ttrain-auc:0.997712\tCV-auc:0.996924\n",
      "[117]\ttrain-auc:0.997713\tCV-auc:0.996924\n",
      "[118]\ttrain-auc:0.997714\tCV-auc:0.996924\n",
      "[119]\ttrain-auc:0.997715\tCV-auc:0.996925\n",
      "[120]\ttrain-auc:0.997716\tCV-auc:0.996925\n",
      "[121]\ttrain-auc:0.997717\tCV-auc:0.996925\n",
      "[122]\ttrain-auc:0.997718\tCV-auc:0.996926\n",
      "[123]\ttrain-auc:0.997719\tCV-auc:0.996926\n",
      "[124]\ttrain-auc:0.997720\tCV-auc:0.996926\n",
      "[125]\ttrain-auc:0.997721\tCV-auc:0.996926\n",
      "[126]\ttrain-auc:0.997722\tCV-auc:0.996926\n",
      "[127]\ttrain-auc:0.997722\tCV-auc:0.996926\n",
      "[128]\ttrain-auc:0.997723\tCV-auc:0.996927\n",
      "[129]\ttrain-auc:0.997724\tCV-auc:0.996927\n",
      "[130]\ttrain-auc:0.997725\tCV-auc:0.996927\n",
      "[131]\ttrain-auc:0.997726\tCV-auc:0.996927\n",
      "[132]\ttrain-auc:0.997726\tCV-auc:0.996926\n",
      "[133]\ttrain-auc:0.997727\tCV-auc:0.996926\n",
      "[134]\ttrain-auc:0.997728\tCV-auc:0.996926\n",
      "[135]\ttrain-auc:0.997729\tCV-auc:0.996926\n",
      "[136]\ttrain-auc:0.997729\tCV-auc:0.996925\n",
      "[137]\ttrain-auc:0.997730\tCV-auc:0.996925\n",
      "[138]\ttrain-auc:0.997731\tCV-auc:0.996924\n",
      "[139]\ttrain-auc:0.997731\tCV-auc:0.996923\n",
      "[140]\ttrain-auc:0.997732\tCV-auc:0.996923\n",
      "[141]\ttrain-auc:0.997733\tCV-auc:0.996922\n",
      "[142]\ttrain-auc:0.997733\tCV-auc:0.996921\n",
      "[143]\ttrain-auc:0.997734\tCV-auc:0.996920\n",
      "[144]\ttrain-auc:0.997734\tCV-auc:0.996919\n",
      "[145]\ttrain-auc:0.997735\tCV-auc:0.996917\n",
      "[146]\ttrain-auc:0.997736\tCV-auc:0.996916\n",
      "[147]\ttrain-auc:0.997736\tCV-auc:0.996915\n",
      "[148]\ttrain-auc:0.997737\tCV-auc:0.996915\n",
      "[149]\ttrain-auc:0.997737\tCV-auc:0.996915\n",
      "[150]\ttrain-auc:0.997738\tCV-auc:0.996914\n",
      "[151]\ttrain-auc:0.997738\tCV-auc:0.996913\n",
      "[152]\ttrain-auc:0.997739\tCV-auc:0.996913\n",
      "[153]\ttrain-auc:0.997739\tCV-auc:0.996912\n",
      "[154]\ttrain-auc:0.997739\tCV-auc:0.996911\n",
      "[155]\ttrain-auc:0.997740\tCV-auc:0.996910\n",
      "[156]\ttrain-auc:0.997740\tCV-auc:0.996910\n",
      "[157]\ttrain-auc:0.997741\tCV-auc:0.996909\n",
      "[158]\ttrain-auc:0.997741\tCV-auc:0.996909\n",
      "[159]\ttrain-auc:0.997742\tCV-auc:0.996908\n",
      "[160]\ttrain-auc:0.997742\tCV-auc:0.996908\n",
      "[161]\ttrain-auc:0.997742\tCV-auc:0.996908\n",
      "[162]\ttrain-auc:0.997743\tCV-auc:0.996907\n",
      "[163]\ttrain-auc:0.997743\tCV-auc:0.996907\n",
      "[164]\ttrain-auc:0.997743\tCV-auc:0.996907\n",
      "[165]\ttrain-auc:0.997744\tCV-auc:0.996906\n",
      "[166]\ttrain-auc:0.997744\tCV-auc:0.996906\n",
      "[167]\ttrain-auc:0.997744\tCV-auc:0.996906\n",
      "[168]\ttrain-auc:0.997745\tCV-auc:0.996905\n",
      "[169]\ttrain-auc:0.997745\tCV-auc:0.996905\n",
      "[170]\ttrain-auc:0.997745\tCV-auc:0.996905\n",
      "[171]\ttrain-auc:0.997746\tCV-auc:0.996905\n",
      "[172]\ttrain-auc:0.997746\tCV-auc:0.996905\n",
      "[173]\ttrain-auc:0.997746\tCV-auc:0.996905\n",
      "[174]\ttrain-auc:0.997746\tCV-auc:0.996905\n",
      "[175]\ttrain-auc:0.997747\tCV-auc:0.996904\n",
      "[176]\ttrain-auc:0.997747\tCV-auc:0.996904\n",
      "[177]\ttrain-auc:0.997747\tCV-auc:0.996904\n",
      "[178]\ttrain-auc:0.997747\tCV-auc:0.996904\n",
      "[179]\ttrain-auc:0.997748\tCV-auc:0.996904\n",
      "[180]\ttrain-auc:0.997748\tCV-auc:0.996904\n",
      "[181]\ttrain-auc:0.997748\tCV-auc:0.996904\n",
      "[182]\ttrain-auc:0.997748\tCV-auc:0.996904\n",
      "[183]\ttrain-auc:0.997749\tCV-auc:0.996904\n",
      "[184]\ttrain-auc:0.997749\tCV-auc:0.996904\n",
      "[185]\ttrain-auc:0.997749\tCV-auc:0.996904\n",
      "[186]\ttrain-auc:0.997749\tCV-auc:0.996904\n",
      "[187]\ttrain-auc:0.997749\tCV-auc:0.996904\n",
      "[188]\ttrain-auc:0.997750\tCV-auc:0.996904\n",
      "[189]\ttrain-auc:0.997750\tCV-auc:0.996904\n",
      "[190]\ttrain-auc:0.997750\tCV-auc:0.996904\n",
      "[191]\ttrain-auc:0.997750\tCV-auc:0.996904\n",
      "[192]\ttrain-auc:0.997750\tCV-auc:0.996904\n",
      "[193]\ttrain-auc:0.997751\tCV-auc:0.996904\n",
      "[194]\ttrain-auc:0.997751\tCV-auc:0.996905\n",
      "[195]\ttrain-auc:0.997751\tCV-auc:0.996905\n",
      "[196]\ttrain-auc:0.997751\tCV-auc:0.996905\n",
      "[197]\ttrain-auc:0.997751\tCV-auc:0.996905\n",
      "[198]\ttrain-auc:0.997751\tCV-auc:0.996905\n",
      "[199]\ttrain-auc:0.997751\tCV-auc:0.996905\n",
      "[200]\ttrain-auc:0.997752\tCV-auc:0.996905\n",
      "[201]\ttrain-auc:0.997752\tCV-auc:0.996906\n",
      "[202]\ttrain-auc:0.997752\tCV-auc:0.996906\n",
      "[203]\ttrain-auc:0.997752\tCV-auc:0.996906\n",
      "[204]\ttrain-auc:0.997752\tCV-auc:0.996907\n",
      "[205]\ttrain-auc:0.997752\tCV-auc:0.996907\n",
      "[206]\ttrain-auc:0.997752\tCV-auc:0.996908\n",
      "[207]\ttrain-auc:0.997753\tCV-auc:0.996908\n",
      "[208]\ttrain-auc:0.997753\tCV-auc:0.996908\n",
      "[209]\ttrain-auc:0.997753\tCV-auc:0.996909\n",
      "[210]\ttrain-auc:0.997753\tCV-auc:0.996909\n",
      "[211]\ttrain-auc:0.997753\tCV-auc:0.996910\n",
      "[212]\ttrain-auc:0.997753\tCV-auc:0.996910\n",
      "[213]\ttrain-auc:0.997753\tCV-auc:0.996911\n",
      "[214]\ttrain-auc:0.997753\tCV-auc:0.996912\n",
      "[215]\ttrain-auc:0.997754\tCV-auc:0.996913\n",
      "[216]\ttrain-auc:0.997754\tCV-auc:0.996913\n",
      "[217]\ttrain-auc:0.997754\tCV-auc:0.996914\n",
      "[218]\ttrain-auc:0.997754\tCV-auc:0.996915\n",
      "[219]\ttrain-auc:0.997754\tCV-auc:0.996915\n",
      "[220]\ttrain-auc:0.997754\tCV-auc:0.996916\n",
      "[221]\ttrain-auc:0.997754\tCV-auc:0.996917\n",
      "[222]\ttrain-auc:0.997754\tCV-auc:0.996918\n",
      "[223]\ttrain-auc:0.997754\tCV-auc:0.996918\n",
      "[224]\ttrain-auc:0.997755\tCV-auc:0.996919\n",
      "[225]\ttrain-auc:0.997755\tCV-auc:0.996920\n",
      "[226]\ttrain-auc:0.997755\tCV-auc:0.996920\n",
      "[227]\ttrain-auc:0.997755\tCV-auc:0.996921\n",
      "[228]\ttrain-auc:0.997755\tCV-auc:0.996922\n",
      "[229]\ttrain-auc:0.997755\tCV-auc:0.996923\n",
      "[230]\ttrain-auc:0.997755\tCV-auc:0.996923\n",
      "[231]\ttrain-auc:0.997755\tCV-auc:0.996924\n",
      "[232]\ttrain-auc:0.997755\tCV-auc:0.996925\n",
      "[233]\ttrain-auc:0.997755\tCV-auc:0.996926\n",
      "[234]\ttrain-auc:0.997756\tCV-auc:0.996927\n",
      "[235]\ttrain-auc:0.997756\tCV-auc:0.996928\n",
      "[236]\ttrain-auc:0.997756\tCV-auc:0.996930\n",
      "[237]\ttrain-auc:0.997756\tCV-auc:0.996931\n",
      "[238]\ttrain-auc:0.997756\tCV-auc:0.996933\n",
      "[239]\ttrain-auc:0.997756\tCV-auc:0.996935\n",
      "[240]\ttrain-auc:0.997756\tCV-auc:0.996937\n",
      "[241]\ttrain-auc:0.997756\tCV-auc:0.996938\n",
      "[242]\ttrain-auc:0.997756\tCV-auc:0.996940\n",
      "[243]\ttrain-auc:0.997756\tCV-auc:0.996942\n",
      "[244]\ttrain-auc:0.997756\tCV-auc:0.996943\n",
      "[245]\ttrain-auc:0.997756\tCV-auc:0.996946\n",
      "[246]\ttrain-auc:0.997757\tCV-auc:0.996948\n",
      "[247]\ttrain-auc:0.997757\tCV-auc:0.996948\n",
      "[248]\ttrain-auc:0.997757\tCV-auc:0.996951\n",
      "[249]\ttrain-auc:0.997757\tCV-auc:0.996952\n",
      "[250]\ttrain-auc:0.997757\tCV-auc:0.996953\n",
      "[251]\ttrain-auc:0.997757\tCV-auc:0.996956\n",
      "[252]\ttrain-auc:0.997757\tCV-auc:0.996956\n",
      "[253]\ttrain-auc:0.997757\tCV-auc:0.996958\n",
      "[254]\ttrain-auc:0.997757\tCV-auc:0.996958\n",
      "[255]\ttrain-auc:0.997757\tCV-auc:0.996960\n",
      "[256]\ttrain-auc:0.997757\tCV-auc:0.996961\n",
      "[257]\ttrain-auc:0.997757\tCV-auc:0.996963\n",
      "[258]\ttrain-auc:0.997757\tCV-auc:0.996965\n",
      "[259]\ttrain-auc:0.997757\tCV-auc:0.996965\n",
      "[260]\ttrain-auc:0.997758\tCV-auc:0.996968\n",
      "[261]\ttrain-auc:0.997758\tCV-auc:0.996970\n",
      "[262]\ttrain-auc:0.997758\tCV-auc:0.996969\n",
      "[263]\ttrain-auc:0.997758\tCV-auc:0.996972\n",
      "[264]\ttrain-auc:0.997758\tCV-auc:0.996974\n",
      "[265]\ttrain-auc:0.997758\tCV-auc:0.996976\n",
      "[266]\ttrain-auc:0.997758\tCV-auc:0.996977\n",
      "[267]\ttrain-auc:0.997758\tCV-auc:0.996979\n",
      "[268]\ttrain-auc:0.997758\tCV-auc:0.996981\n",
      "[269]\ttrain-auc:0.997758\tCV-auc:0.996980\n",
      "[270]\ttrain-auc:0.997758\tCV-auc:0.996983\n",
      "[271]\ttrain-auc:0.997758\tCV-auc:0.996984\n",
      "[272]\ttrain-auc:0.997758\tCV-auc:0.996986\n",
      "[273]\ttrain-auc:0.997758\tCV-auc:0.996987\n",
      "[274]\ttrain-auc:0.997758\tCV-auc:0.996987\n",
      "[275]\ttrain-auc:0.997758\tCV-auc:0.996988\n",
      "[276]\ttrain-auc:0.997759\tCV-auc:0.996990\n",
      "[277]\ttrain-auc:0.997759\tCV-auc:0.996992\n",
      "[278]\ttrain-auc:0.997759\tCV-auc:0.996992\n",
      "[279]\ttrain-auc:0.997759\tCV-auc:0.996992\n",
      "[280]\ttrain-auc:0.997759\tCV-auc:0.996993\n",
      "[281]\ttrain-auc:0.997759\tCV-auc:0.996993\n",
      "[282]\ttrain-auc:0.997759\tCV-auc:0.996995\n",
      "[283]\ttrain-auc:0.997759\tCV-auc:0.996998\n",
      "[284]\ttrain-auc:0.997759\tCV-auc:0.997000\n",
      "[285]\ttrain-auc:0.997759\tCV-auc:0.997001\n",
      "[286]\ttrain-auc:0.997759\tCV-auc:0.997002\n",
      "[287]\ttrain-auc:0.997759\tCV-auc:0.997004\n",
      "[288]\ttrain-auc:0.997759\tCV-auc:0.997004\n",
      "[289]\ttrain-auc:0.997759\tCV-auc:0.997006\n",
      "[290]\ttrain-auc:0.997759\tCV-auc:0.997005\n",
      "[291]\ttrain-auc:0.997759\tCV-auc:0.997006\n",
      "[292]\ttrain-auc:0.997759\tCV-auc:0.997007\n",
      "[293]\ttrain-auc:0.997759\tCV-auc:0.997008\n",
      "[294]\ttrain-auc:0.997759\tCV-auc:0.997009\n",
      "[295]\ttrain-auc:0.997759\tCV-auc:0.997010\n",
      "[296]\ttrain-auc:0.997759\tCV-auc:0.997011\n",
      "[297]\ttrain-auc:0.997760\tCV-auc:0.997012\n",
      "[298]\ttrain-auc:0.997760\tCV-auc:0.997013\n",
      "[299]\ttrain-auc:0.997760\tCV-auc:0.997014\n",
      "[300]\ttrain-auc:0.997760\tCV-auc:0.997012\n",
      "[301]\ttrain-auc:0.997760\tCV-auc:0.997013\n",
      "[302]\ttrain-auc:0.997760\tCV-auc:0.997014\n",
      "[303]\ttrain-auc:0.997760\tCV-auc:0.997015\n",
      "[304]\ttrain-auc:0.997760\tCV-auc:0.997016\n",
      "[305]\ttrain-auc:0.997760\tCV-auc:0.997016\n",
      "[306]\ttrain-auc:0.997760\tCV-auc:0.997017\n",
      "[307]\ttrain-auc:0.997760\tCV-auc:0.997016\n",
      "[308]\ttrain-auc:0.997760\tCV-auc:0.997017\n",
      "[309]\ttrain-auc:0.997760\tCV-auc:0.997016\n",
      "[310]\ttrain-auc:0.997760\tCV-auc:0.997016\n",
      "[311]\ttrain-auc:0.997760\tCV-auc:0.997015\n",
      "[312]\ttrain-auc:0.997760\tCV-auc:0.997015\n",
      "[313]\ttrain-auc:0.997760\tCV-auc:0.997016\n",
      "[314]\ttrain-auc:0.997760\tCV-auc:0.997016\n",
      "[315]\ttrain-auc:0.997760\tCV-auc:0.997016\n",
      "[316]\ttrain-auc:0.997760\tCV-auc:0.997016\n",
      "[317]\ttrain-auc:0.997760\tCV-auc:0.997016\n",
      "[318]\ttrain-auc:0.997760\tCV-auc:0.997017\n",
      "[319]\ttrain-auc:0.997760\tCV-auc:0.997017\n",
      "[320]\ttrain-auc:0.997760\tCV-auc:0.997017\n",
      "[321]\ttrain-auc:0.997760\tCV-auc:0.997017\n",
      "[322]\ttrain-auc:0.997760\tCV-auc:0.997017\n",
      "[323]\ttrain-auc:0.997760\tCV-auc:0.997017\n",
      "[324]\ttrain-auc:0.997760\tCV-auc:0.997017\n"
     ]
    }
   ],
   "source": [
    "param = {'booster': 'gblinear',\n",
    "         'max_depth': 11,\n",
    "         'eta': 0.05,\n",
    "         'silent': 0,\n",
    "         'objective': 'binary:logistic',\n",
    "         'nthread': 2,\n",
    "         'eval_metric': 'auc',\n",
    "         'colsample_bytree': 0.92,\n",
    "         'colsample_bylevel': 0.9,\n",
    "         'subsample': 0.85,\n",
    "         'min_child_weight': 0\n",
    "#          'lambda':5,\n",
    "#          'lambda_bias':0,\n",
    "#          'alpha':1\n",
    "        }\n",
    "\n",
    "num_round = 325\n",
    "watchlist = [(xg_train, 'train'), (xg_cv, 'CV')]\n",
    "bst = xgb.train(param, xg_train, num_round, watchlist)"
   ]
  },
  {
   "cell_type": "code",
   "execution_count": 11,
   "metadata": {
    "collapsed": false
   },
   "outputs": [
    {
     "name": "stdout",
     "output_type": "stream",
     "text": [
      "Train:  0.997760477782\n",
      "CV:  0.996877319652\n"
     ]
    }
   ],
   "source": [
    "# CV evaluation\n",
    "pred_train = bst.predict(xg_train)\n",
    "pred_cv = bst.predict(xg_cv)\n",
    "print(\"Train: \", roc_auc_score(y_train, pred_train))\n",
    "print(\"CV: \", roc_auc_score(y_cv, pred_cv))"
   ]
  },
  {
   "cell_type": "markdown",
   "metadata": {},
   "source": [
    "### Create output file"
   ]
  },
  {
   "cell_type": "code",
   "execution_count": 12,
   "metadata": {
    "collapsed": false
   },
   "outputs": [],
   "source": [
    "xg_train_total = xgb.DMatrix(X_train_total, label=y_train_total)\n",
    "xg_test_total = xgb.DMatrix(X_test_total)\n",
    "bst = xgb.train(param, xg_train_total)\n",
    "pred_test = bst.predict(xg_test_total)"
   ]
  },
  {
   "cell_type": "code",
   "execution_count": 13,
   "metadata": {
    "collapsed": false
   },
   "outputs": [],
   "source": [
    "result = pd.DataFrame({'activity_id': test_id, 'outcome': pred_test})\n",
    "result.to_csv('./result/xgb_result.csv', index=None)"
   ]
  },
  {
   "cell_type": "code",
   "execution_count": null,
   "metadata": {
    "collapsed": true
   },
   "outputs": [],
   "source": []
  }
 ],
 "metadata": {
  "anaconda-cloud": {},
  "kernelspec": {
   "display_name": "Python [Root]",
   "language": "python",
   "name": "Python [Root]"
  },
  "language_info": {
   "codemirror_mode": {
    "name": "ipython",
    "version": 3
   },
   "file_extension": ".py",
   "mimetype": "text/x-python",
   "name": "python",
   "nbconvert_exporter": "python",
   "pygments_lexer": "ipython3",
   "version": "3.5.2"
  }
 },
 "nbformat": 4,
 "nbformat_minor": 0
}
