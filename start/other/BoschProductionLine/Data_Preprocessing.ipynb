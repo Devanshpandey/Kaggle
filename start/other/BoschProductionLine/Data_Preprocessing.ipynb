{
 "cells": [
  {
   "cell_type": "code",
   "execution_count": 1,
   "metadata": {
    "collapsed": false
   },
   "outputs": [],
   "source": [
    "import numpy as np\n",
    "import pandas as pd\n",
    "import matplotlib.pyplot as plt\n",
    "import gc\n",
    "\n",
    "%matplotlib inline"
   ]
  },
  {
   "cell_type": "markdown",
   "metadata": {},
   "source": [
    "### Information about the data set"
   ]
  },
  {
   "cell_type": "code",
   "execution_count": 2,
   "metadata": {
    "collapsed": false,
    "scrolled": false
   },
   "outputs": [
    {
     "name": "stdout",
     "output_type": "stream",
     "text": [
      "Categorical Data Size:  2141 columns\n",
      "Index(['Id', 'L0_S1_F25', 'L0_S1_F27', 'L0_S1_F29', 'L0_S1_F31', 'L0_S2_F33',\n",
      "       'L0_S2_F35', 'L0_S2_F37', 'L0_S2_F39', 'L0_S2_F41',\n",
      "       ...\n",
      "       'L3_S49_F4225', 'L3_S49_F4227', 'L3_S49_F4229', 'L3_S49_F4230',\n",
      "       'L3_S49_F4232', 'L3_S49_F4234', 'L3_S49_F4235', 'L3_S49_F4237',\n",
      "       'L3_S49_F4239', 'L3_S49_F4240'],\n",
      "      dtype='object', length=2141) \n",
      "\n",
      "Numerical Data Size:  970 columns\n",
      "Index(['Id', 'L0_S0_F0', 'L0_S0_F2', 'L0_S0_F4', 'L0_S0_F6', 'L0_S0_F8',\n",
      "       'L0_S0_F10', 'L0_S0_F12', 'L0_S0_F14', 'L0_S0_F16',\n",
      "       ...\n",
      "       'L3_S50_F4245', 'L3_S50_F4247', 'L3_S50_F4249', 'L3_S50_F4251',\n",
      "       'L3_S50_F4253', 'L3_S51_F4256', 'L3_S51_F4258', 'L3_S51_F4260',\n",
      "       'L3_S51_F4262', 'Response'],\n",
      "      dtype='object', length=970) \n",
      "\n",
      "Date Data Size:  1157 columns\n",
      "Index(['Id', 'L0_S0_D1', 'L0_S0_D3', 'L0_S0_D5', 'L0_S0_D7', 'L0_S0_D9',\n",
      "       'L0_S0_D11', 'L0_S0_D13', 'L0_S0_D15', 'L0_S0_D17',\n",
      "       ...\n",
      "       'L3_S50_D4246', 'L3_S50_D4248', 'L3_S50_D4250', 'L3_S50_D4252',\n",
      "       'L3_S50_D4254', 'L3_S51_D4255', 'L3_S51_D4257', 'L3_S51_D4259',\n",
      "       'L3_S51_D4261', 'L3_S51_D4263'],\n",
      "      dtype='object', length=1157) \n",
      "\n",
      "Total Columns:  4266\n"
     ]
    }
   ],
   "source": [
    "categorical = pd.read_csv('./data/train_categorical.csv', nrows=20)\n",
    "print(\"Categorical Data Size: \", categorical.shape[1], 'columns')\n",
    "print(categorical.columns, '\\n')\n",
    "\n",
    "numerical = pd.read_csv('./data/train_numeric.csv', nrows=20)\n",
    "print(\"Numerical Data Size: \", numerical.shape[1], 'columns')\n",
    "print(numerical.columns, '\\n')\n",
    "\n",
    "date = pd.read_csv('./data/train_date.csv', nrows=20)\n",
    "print(\"Date Data Size: \", date.shape[1], 'columns')\n",
    "print(date.columns, '\\n')\n",
    "\n",
    "print('Total Columns: ', categorical.shape[1] + numerical.shape[1] + date.shape[1] - 2)"
   ]
  },
  {
   "cell_type": "markdown",
   "metadata": {},
   "source": [
    "### Load the data by chunks"
   ]
  },
  {
   "cell_type": "code",
   "execution_count": 2,
   "metadata": {
    "collapsed": false
   },
   "outputs": [],
   "source": [
    "def get_data(chunksize, num_path, cat_path, date_path):\n",
    "    \"\"\" function to load the csv files by chunk \"\"\"\n",
    "    numeric_reader = pd.read_csv(num_path, chunksize=chunksize, low_memory=False)\n",
    "    categorical_reader = pd.read_csv(cat_path, chunksize=chunksize, low_memory=False)\n",
    "    date_reader = pd.read_csv(date_path, chunksize=chunksize, low_memory=False)\n",
    "    reader = zip(numeric_reader, categorical_reader, date_reader)\n",
    "    \n",
    "    first = True\n",
    "    for numeric, categorical, date in reader:\n",
    "        categorical.drop('Id', axis=1, inplace=True)\n",
    "        date.drop('Id', axis=1, inplace=True)\n",
    "        # combine three category sub_set\n",
    "        data = pd.concat([numeric, categorical, date], axis=1)\n",
    "        # positive data and negative data\n",
    "        pos_data = data[data['Response'] == 1]\n",
    "        neg_data = data[data['Response'] == 0]\n",
    "        if first:\n",
    "            positive = pos_data\n",
    "            negative = neg_data\n",
    "            first = False\n",
    "        else:\n",
    "            positive = pd.concat([positive, pos_data])\n",
    "            negative = pd.concat([negative, neg_data])\n",
    "        # show current process\n",
    "        print(pos_data.shape, positive.shape, neg_data.shape, negative.shape)\n",
    "                        \n",
    "    return positive, negative"
   ]
  },
  {
   "cell_type": "code",
   "execution_count": null,
   "metadata": {
    "collapsed": false,
    "scrolled": false
   },
   "outputs": [
    {
     "name": "stdout",
     "output_type": "stream",
     "text": [
      "(53, 4266) (53, 4266) (9947, 4266) (9947, 4266)\n",
      "(59, 4266) (112, 4266) (9941, 4266) (19888, 4266)\n",
      "(57, 4266) (169, 4266) (9943, 4266) (29831, 4266)\n",
      "(50, 4266) (219, 4266) (9950, 4266) (39781, 4266)\n",
      "(52, 4266) (271, 4266) (9948, 4266) (49729, 4266)\n",
      "(52, 4266) (323, 4266) (9948, 4266) (59677, 4266)\n",
      "(61, 4266) (384, 4266) (9939, 4266) (69616, 4266)\n",
      "(59, 4266) (443, 4266) (9941, 4266) (79557, 4266)\n",
      "(71, 4266) (514, 4266) (9929, 4266) (89486, 4266)\n",
      "(54, 4266) (568, 4266) (9946, 4266) (99432, 4266)\n",
      "(59, 4266) (627, 4266) (9941, 4266) (109373, 4266)\n",
      "(53, 4266) (680, 4266) (9947, 4266) (119320, 4266)\n",
      "(38, 4266) (718, 4266) (9962, 4266) (129282, 4266)\n",
      "(62, 4266) (780, 4266) (9938, 4266) (139220, 4266)\n",
      "(55, 4266) (835, 4266) (9945, 4266) (149165, 4266)\n",
      "(48, 4266) (883, 4266) (9952, 4266) (159117, 4266)\n",
      "(75, 4266) (958, 4266) (9925, 4266) (169042, 4266)\n",
      "(68, 4266) (1026, 4266) (9932, 4266) (178974, 4266)\n",
      "(51, 4266) (1077, 4266) (9949, 4266) (188923, 4266)\n",
      "(52, 4266) (1129, 4266) (9948, 4266) (198871, 4266)\n"
     ]
    }
   ],
   "source": [
    "train_pos, train_neg = get_data(10000, './data/train_numeric.csv', \n",
    "                                       './data/train_categorical.csv', \n",
    "                                       './data/train_date.csv')"
   ]
  },
  {
   "cell_type": "code",
   "execution_count": null,
   "metadata": {
    "collapsed": true
   },
   "outputs": [],
   "source": []
  }
 ],
 "metadata": {
  "anaconda-cloud": {},
  "kernelspec": {
   "display_name": "Python [Root]",
   "language": "python",
   "name": "Python [Root]"
  },
  "language_info": {
   "codemirror_mode": {
    "name": "ipython",
    "version": 3
   },
   "file_extension": ".py",
   "mimetype": "text/x-python",
   "name": "python",
   "nbconvert_exporter": "python",
   "pygments_lexer": "ipython3",
   "version": "3.5.2"
  }
 },
 "nbformat": 4,
 "nbformat_minor": 0
}
