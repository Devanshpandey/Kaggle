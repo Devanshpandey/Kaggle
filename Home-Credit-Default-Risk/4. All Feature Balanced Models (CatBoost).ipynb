{
 "cells": [
  {
   "cell_type": "code",
   "execution_count": 1,
   "metadata": {},
   "outputs": [],
   "source": [
    "import warnings\n",
    "warnings.simplefilter('ignore')\n",
    "\n",
    "import numpy as np\n",
    "import pandas as pd\n",
    "import seaborn as sns\n",
    "import matplotlib.pyplot as plt\n",
    "import gc\n",
    "from sklearn.metrics import auc, roc_curve\n",
    "from sklearn.preprocessing import LabelEncoder\n",
    "\n",
    "from catboost import CatBoostClassifier\n",
    "from catboost import FeaturesData\n",
    "from catboost import Pool, cv, train\n",
    "\n",
    "%matplotlib inline"
   ]
  },
  {
   "cell_type": "markdown",
   "metadata": {},
   "source": [
    "# Load Data"
   ]
  },
  {
   "cell_type": "code",
   "execution_count": 2,
   "metadata": {},
   "outputs": [
    {
     "name": "stdout",
     "output_type": "stream",
     "text": [
      "Train:\t (307506, 172)\n",
      "Test: \t (48744, 171)\n"
     ]
    }
   ],
   "source": [
    "train = pd.read_csv('./data/train_clean.csv')\n",
    "test = pd.read_csv('./data/test_clean.csv')\n",
    "print('Train:\\t', train.shape)\n",
    "print('Test: \\t', test.shape)"
   ]
  },
  {
   "cell_type": "code",
   "execution_count": 3,
   "metadata": {},
   "outputs": [
    {
     "name": "stdout",
     "output_type": "stream",
     "text": [
      "Categorical:\t 49\n",
      "Discrete:\t 55\n",
      "Continuous:\t 66\n",
      "Total:\t\t 170\n"
     ]
    }
   ],
   "source": [
    "# define categorical features\n",
    "cat_feature = ['NAME_CONTRACT_TYPE', 'CODE_GENDER', 'FLAG_OWN_CAR', 'FLAG_OWN_REALTY', \n",
    "               'NAME_TYPE_SUITE', 'NAME_INCOME_TYPE', 'NAME_EDUCATION_TYPE', \n",
    "               'NAME_FAMILY_STATUS', 'NAME_HOUSING_TYPE', 'OCCUPATION_TYPE', \n",
    "               'WEEKDAY_APPR_PROCESS_START', 'ORGANIZATION_TYPE', 'FONDKAPREMONT_MODE', \n",
    "               'HOUSETYPE_MODE', 'WALLSMATERIAL_MODE', 'EMERGENCYSTATE_MODE', \n",
    "               'Binary_CREDIT_DAY_OVERDUE', 'FLAG_MOBIL', 'FLAG_EMP_PHONE', \n",
    "               'FLAG_WORK_PHONE', 'FLAG_CONT_MOBILE', 'FLAG_PHONE', 'FLAG_EMAIL', \n",
    "               'REG_REGION_NOT_LIVE_REGION', 'REG_REGION_NOT_WORK_REGION',  \n",
    "               'LIVE_REGION_NOT_WORK_REGION', 'REG_CITY_NOT_LIVE_CITY', \n",
    "               'REG_CITY_NOT_WORK_CITY', 'LIVE_CITY_NOT_WORK_CITY', 'FLAG_DOCUMENT_2', \n",
    "               'FLAG_DOCUMENT_3', 'FLAG_DOCUMENT_4', 'FLAG_DOCUMENT_5', \n",
    "               'FLAG_DOCUMENT_6', 'FLAG_DOCUMENT_7', 'FLAG_DOCUMENT_8', \n",
    "               'FLAG_DOCUMENT_9', 'FLAG_DOCUMENT_10', 'FLAG_DOCUMENT_11', \n",
    "               'FLAG_DOCUMENT_12', 'FLAG_DOCUMENT_13', 'FLAG_DOCUMENT_14', \n",
    "               'FLAG_DOCUMENT_15', 'FLAG_DOCUMENT_16', 'FLAG_DOCUMENT_17', \n",
    "               'FLAG_DOCUMENT_18', 'FLAG_DOCUMENT_19',  'FLAG_DOCUMENT_20', \n",
    "               'FLAG_DOCUMENT_21', ]\n",
    "\n",
    "dis_feature = ['CNT_CHILDREN', 'CNT_FAM_MEMBERS', 'REGION_RATING_CLIENT', \n",
    "               'REGION_RATING_CLIENT_W_CITY', 'HOUR_APPR_PROCESS_START', \n",
    "               'OBS_30_CNT_SOCIAL_CIRCLE', 'DEF_30_CNT_SOCIAL_CIRCLE', \n",
    "               'OBS_60_CNT_SOCIAL_CIRCLE', 'DEF_60_CNT_SOCIAL_CIRCLE', \n",
    "               'Total_BUREAU', 'Closed_BUREAU', 'Active_BUREAU', 'Sold_BUREAU', \n",
    "               'Bad_BUREAU', 'Count_AMT_CREDIT_MAX_OVERDUE', 'Credit_CREDIT_TYPE', \n",
    "               'Loan_CREDIT_TYPE', 'Count_POS_CASH', 'Completed_CASH_CONTRACT', \n",
    "               'Other_CASH_CONTRACT', 'Count_Credit_Card', 'Active_Credit_CONTRACT', \n",
    "               'Completed_Credit_CONTRACT', 'Other_Credit_CONTRACT', 'Count_installment', \n",
    "               'Count_prev', 'Count_prev_Cash_loan', 'Count_prev_Consumer_loan', \n",
    "               'Count_prev_Revolving_loan', 'Count_Y_prev_FLAG_LAST_APPL_PER_CONTRACT', \n",
    "               'Count_N_prev_FLAG_LAST_APPL_PER_CONTRACT', 'Count_1_prev_NFLAG_LAST_APPL_IN_DAY', \n",
    "               'Count_0_prev_NFLAG_LAST_APPL_IN_DAY', 'Count_Approved_prev_NAME_CONTRACT_STATUS', \n",
    "               'Count_Canceled_prev_NAME_CONTRACT_STATUS', 'Count_Refused_prev_NAME_CONTRACT_STATUS', \n",
    "               'Count_Unused_prev_NAME_CONTRACT_STATUS',  'Count_Cash_prev_NAME_PAYMENT_TYPE',\n",
    "               'Count_XNA_prev_NAME_PAYMENT_TYPE', 'Count_Noncash_prev_NAME_PAYMENT_TYPE', \n",
    "               'Count_Unaccompanied_prev_NAME_TYPE_SUITE', 'Count_Accompanied_prev_NAME_TYPE_SUITE', \n",
    "               'Count_Other_NAME_TYPE_SUITE', 'Count_Repeater_prev_NAME_CLIENT_TYPE', \n",
    "               'Count_New_prev_NAME_CLIENT_TYPE', 'Count_Refreshed_prev_NAME_CLIENT_TYPE', \n",
    "               'Count_POS_prev_NAME_PORTFOLIO', 'Count_Cash_prev_NAME_PORTFOLIO', \n",
    "               'Count_Cards_prev_NAME_PORTFOLIO', 'Count_Other_prev_NAME_PORTFOLIO', \n",
    "               'Count_XNA_prev_NAME_PRODUCT_TYPE', 'Count_xsell_prev_NAME_PRODUCT_TYPE', \n",
    "               'Count_walkin_prev_NAME_PRODUCT_TYPE', 'Count_0_prev_NFLAG_INSURED_ON_APPROVAL', \n",
    "               'Count_1_prev_NFLAG_INSURED_ON_APPROVAL']\n",
    "\n",
    "con_feature = ['AMT_INCOME_TOTAL', 'AMT_CREDIT', 'AMT_ANNUITY', 'AMT_GOODS_PRICE', \n",
    "               'REGION_POPULATION_RELATIVE', 'DAYS_BIRTH', 'DAYS_EMPLOYED', \n",
    "               'DAYS_REGISTRATION', 'DAYS_ID_PUBLISH', 'EXT_SOURCE_2', \n",
    "               'EXT_SOURCE_3', 'DAYS_LAST_PHONE_CHANGE', 'Sum_CASH_MONTH_BALANCE', \n",
    "               'Mean_CASH_MONTH_BALANCE', 'Median_CASH_MONTH_BALANCE', 'Sum_CASH_CNT_INSTALMENT', \n",
    "               'Mean_CASH_CNT_INSTALMENT', 'Median_CASH_CNT_INSTALMENT', \n",
    "               'Sum_CASH_CNT_INSTALMENT_FUTURE', 'Mean_CASH_CNT_INSTALMENT_FUTURE', \n",
    "               'Median_CASH_CNT_INSTALMENT_FUTURE', 'Active_CASH_CONTRACT', \n",
    "               'Sum_CASH_SK_DPD', 'Mean_CASH_SK_DPD', 'Median_CASH_SK_DPD', 'Sum_CASH_SK_DPD_DEF', \n",
    "               'Mean_CASH_SK_DPD_DEF', 'Median_CASH_SK_DPD_DEF', 'Sum_NUM_INSTALMENT_VERSION', \n",
    "               'Mean_NUM_INSTALMENT_VERSION', 'Median_NUM_INSTALMENT_VERSION', \n",
    "               'Sum_NUM_INSTALMENT_NUMBER', 'Mean_NUM_INSTALMENT_NUMBER', \n",
    "               'Median_NUM_INSTALMENT_NUMBER', 'Sum_DAYS_INSTALMENT', 'Mean_DAYS_INSTALMENT',\n",
    "               'Median_DAYS_INSTALMENT', 'Sum_DAYS_ENTRY_PAYMENT', 'Mean_DAYS_ENTRY_PAYMENT', \n",
    "               'Median_DAYS_ENTRY_PAYMENT', 'Sum_AMT_INSTALMENT', 'Mean_AMT_INSTALMENT', \n",
    "               'Median_AMT_INSTALMENT', 'Sum_AMT_PAYMENT', 'Mean_AMT_PAYMENT', 'Median_AMT_PAYMENT',\n",
    "               'Sum_prev_AMT_ANNUITY', 'Mean_prev_AMT_ANNUITY', 'Median_prev_AMT_ANNUITY', \n",
    "               'Sum_prev_AMT_APPLICATION', 'Mean_prev_AMT_APPLICATION', 'Median_prev_AMT_APPLICATION', \n",
    "               'Sum_prev_AMT_CREDIT', 'Mean_prev_AMT_CREDIT', 'Median_prev_AMT_CREDIT', \n",
    "               'Sum_prev_AMT_DOWN_PAYMENT', 'Sum_prev_AMT_GOODS_PRICE',  'Mean_prev_AMT_GOODS_PRICE', \n",
    "               'Median_prev_AMT_GOODS_PRICE', 'Sum_prev_RATE_DOWN_PAYMENT', 'Sum_prev_DAYS_DECISION', \n",
    "               'Mean_prev_DAYS_DECISION', 'Median_prev_DAYS_DECISION','Sum_prev_CNT_PAYMENT', \n",
    "               'Mean_prev_CNT_PAYMENT', 'Median_prev_CNT_PAYMENT']\n",
    "\n",
    "features = cat_feature + dis_feature + con_feature\n",
    "\n",
    "# define numerical and categorical features\n",
    "print('Categorical:\\t', len(cat_feature))\n",
    "print('Discrete:\\t', len(dis_feature))\n",
    "print('Continuous:\\t', len(con_feature))\n",
    "print('Total:\\t\\t', len(features))"
   ]
  },
  {
   "cell_type": "markdown",
   "metadata": {},
   "source": [
    "# CatBoost Data Preparation"
   ]
  },
  {
   "cell_type": "code",
   "execution_count": 4,
   "metadata": {},
   "outputs": [],
   "source": [
    "# create Pool object\n",
    "train_pool = Pool(data=train[features], label=train['TARGET'].values, \n",
    "                  feature_names=features, cat_features=np.array(range(len(cat_feature))))\n",
    "\n",
    "test_pool = Pool(data=test[features], feature_names=features, \n",
    "                 cat_features=np.array(range(len(cat_feature))))"
   ]
  },
  {
   "cell_type": "code",
   "execution_count": 5,
   "metadata": {},
   "outputs": [
    {
     "name": "stdout",
     "output_type": "stream",
     "text": [
      "Negative class:\t 282682\n",
      "Positive class:\t 24824\n",
      "Neg / Pos:\t 11.387447631324525\n"
     ]
    }
   ],
   "source": [
    "train_labels = train['TARGET'].values\n",
    "print('Negative class:\\t', sum(train_labels == 0))\n",
    "print('Positive class:\\t', sum(train_labels == 1))\n",
    "print('Neg / Pos:\\t', sum(train_labels == 0) / sum(train_labels == 1))"
   ]
  },
  {
   "cell_type": "code",
   "execution_count": 6,
   "metadata": {},
   "outputs": [],
   "source": [
    "# # encoding categorical data into numerical format\n",
    "# label_encoders = []\n",
    "# for name in cat_feature:\n",
    "#     encoder = LabelEncoder()\n",
    "#     train[name] = encoder.fit_transform(train[name])\n",
    "#     test[name] = encoder.transform(test[name])\n",
    "#     label_encoders.append(encoder)"
   ]
  },
  {
   "cell_type": "code",
   "execution_count": 7,
   "metadata": {},
   "outputs": [],
   "source": [
    "# # prepare the dataset\n",
    "# train_data = FeaturesData(\n",
    "#     num_feature_data=np.array(train[dis_feature + con_feature].values, dtype=np.float32), \n",
    "#     cat_feature_data=np.array(train[cat_feature].values, dtype=object), \n",
    "#     num_feature_names=dis_feature + con_feature,\n",
    "#     cat_feature_names=cat_feature)\n",
    "\n",
    "# train_labels = train['TARGET'].values\n",
    "\n",
    "# test_data = FeaturesData(\n",
    "#     num_feature_data=np.array(test[dis_feature + con_feature].values, dtype=np.float32), \n",
    "#     cat_feature_data=np.array(test[cat_feature].values, dtype=object), \n",
    "#     num_feature_names=dis_feature + con_feature,\n",
    "#     cat_feature_names=cat_feature)"
   ]
  },
  {
   "cell_type": "markdown",
   "metadata": {},
   "source": [
    "# CatBoost Cross Validation"
   ]
  },
  {
   "cell_type": "code",
   "execution_count": 8,
   "metadata": {},
   "outputs": [],
   "source": [
    "# # define parameters\n",
    "# params = {'loss_function': 'Logloss', \n",
    "#           'custom_metric': 'AUC', \n",
    "#           'eval_metric': 'AUC',\n",
    "#           'learning_rate': 0.03, \n",
    "#           'random_seed': 42, \n",
    "#           'l2_leaf_reg': None,\n",
    "#           'bootstrap_type': 'Bayesian', \n",
    "#           'bagging_temperature': 1, \n",
    "#           'depth': 6,  \n",
    "#           'has_time': False, \n",
    "#           'class_weights': [1, 11]}\n",
    "\n",
    "# scores = cv(pool=train_pool, params=params, iterations=10, fold_count=5,\n",
    "#             seed=42, shuffle=True, logging_level=None, stratified=True,\n",
    "#             as_pandas=False, metric_period=50, verbose=None, plot=False,\n",
    "#             early_stopping_rounds=10)"
   ]
  },
  {
   "cell_type": "code",
   "execution_count": 9,
   "metadata": {},
   "outputs": [],
   "source": [
    "# # get results\n",
    "# train_auc_mean = np.array(scores['train-AUC-mean'])\n",
    "# train_auc_std = np.array(scores['train-AUC-std'])\n",
    "# test_auc_mean = np.array(scores['test-AUC-mean'])\n",
    "# test_auc_std = np.array(scores['test-AUC-std'])\n",
    "\n",
    "# fig, ax = plt.subplots(figsize=(10, 6))\n",
    "# ax.plot(range(1, len(train_auc_mean)+1), train_auc_mean, label='Train AUC')\n",
    "# ax.plot(range(1, len(test_auc_mean)+1), test_auc_mean, label='Test AUC')\n",
    "# ax.fill_between(range(1, len(train_auc_mean)+1), train_auc_mean+train_auc_std, \n",
    "#                 train_auc_mean-train_auc_std, alpha=0.1, label='Train Error')\n",
    "# ax.fill_between(range(1, len(test_auc_mean)+1), test_auc_mean+test_auc_std, \n",
    "#                 test_auc_mean-test_auc_std, alpha=0.1, label='Test Error')\n",
    "# ax.legend(fontsize=12)\n",
    "# plt.show()"
   ]
  },
  {
   "cell_type": "markdown",
   "metadata": {},
   "source": [
    "# CatBoost Random Search"
   ]
  },
  {
   "cell_type": "code",
   "execution_count": 10,
   "metadata": {},
   "outputs": [],
   "source": [
    "# define parameter space to explore\n",
    "learning_rate_list = [0.03, 0.05, 0.08, 0.1]\n",
    "depth_list = [4, 5, 6, 7, 8, 9, 10]\n",
    "l2_leaf_reg_list = [1, 3, 5, 7, 9]\n",
    "random_strength_list = [0.1, 0.5, 1, 2]\n",
    "bagging_temperature_list = [0, 0.2, 0.4, 0.6, 0.8, 1.0]\n",
    "\n",
    "learning_rate_values = []\n",
    "depth_values = []\n",
    "l2_leaf_reg_values = []\n",
    "random_strength_values = []\n",
    "bagging_temperature_values = []\n",
    "\n",
    "best_iterations_values = []\n",
    "train_mean_auc_values = []\n",
    "train_auc_std_values = []\n",
    "test_mean_auc_values = []\n",
    "test_auc_std_values = []"
   ]
  },
  {
   "cell_type": "code",
   "execution_count": 11,
   "metadata": {},
   "outputs": [
    {
     "name": "stdout",
     "output_type": "stream",
     "text": [
      "|learning_rate |depth |l2_leaf_reg |random_strength |bagging_temperature |iterations |train_AUC | test_AUC |\n",
      "------------------------------------------------------------------------------------------------------------\n",
      "|       0.0800 |    7 |          9 |         1.0000 |             0.4000 |       330 |   0.8309 |   0.7708 |\n",
      "|       0.1000 |    8 |          9 |         1.0000 |             0.2000 |       160 |   0.8299 |   0.7689 |\n",
      "|       0.0800 |   10 |          5 |         1.0000 |             0.8000 |       137 |   0.8710 |   0.7640 |\n",
      "|       0.1000 |    6 |          9 |         0.5000 |             0.6000 |       325 |   0.8153 |   0.7711 |\n",
      "|       0.0500 |    9 |          3 |         2.0000 |             0.6000 |       203 |   0.8361 |   0.7671 |\n",
      "|       0.0300 |    4 |          7 |         0.5000 |             1.0000 |      1000 |   0.7832 |   0.7695 |\n",
      "|       0.0300 |    7 |          1 |         0.1000 |             0.4000 |       810 |   0.8344 |   0.7712 |\n",
      "|       0.0800 |   10 |          3 |         2.0000 |             0.6000 |       112 |   0.8597 |   0.7629 |\n",
      "|       0.1000 |   10 |          5 |         2.0000 |             0.6000 |        87 |   0.8542 |   0.7629 |\n",
      "|       0.1000 |    4 |          5 |         0.1000 |             0.4000 |       478 |   0.7984 |   0.7718 |\n",
      "|       0.0800 |    8 |          1 |         1.0000 |             0.2000 |       157 |   0.8252 |   0.7669 |\n",
      "|       0.1000 |    4 |          7 |         0.5000 |             0.2000 |       402 |   0.7955 |   0.7714 |\n",
      "|       0.0500 |    4 |          3 |         0.1000 |             0.2000 |       845 |   0.7974 |   0.7716 |\n",
      "|       0.1000 |    7 |          7 |         1.0000 |             0.6000 |       225 |   0.8209 |   0.7698 |\n",
      "|       0.0300 |   10 |          5 |         0.5000 |             0.0000 |       366 |   0.8751 |   0.7676 |\n",
      "|       0.1000 |    5 |          7 |         0.5000 |             1.0000 |       563 |   0.8106 |   0.7716 |\n",
      "|       0.0500 |    9 |          3 |         2.0000 |             1.0000 |       250 |   0.8454 |   0.7669 |\n",
      "|       0.0300 |   10 |          3 |         0.5000 |             0.6000 |       384 |   0.8836 |   0.7667 |\n",
      "|       0.0500 |    5 |          7 |         0.5000 |             1.0000 |       869 |   0.8030 |   0.7722 |\n",
      "|       0.0800 |    7 |          1 |         0.5000 |             0.8000 |       288 |   0.8241 |   0.7690 |\n",
      "|       0.1000 |    8 |          3 |         1.0000 |             0.8000 |       171 |   0.8319 |   0.7674 |\n",
      "|       0.1000 |    5 |          1 |         2.0000 |             0.6000 |       399 |   0.8071 |   0.7714 |\n",
      "|       0.1000 |    8 |          1 |         0.1000 |             0.8000 |       144 |   0.8262 |   0.7662 |\n",
      "|       0.0300 |    4 |          1 |         2.0000 |             0.0000 |      1000 |   0.7898 |   0.7704 |\n",
      "|       0.1000 |   10 |          5 |         1.0000 |             0.0000 |       106 |   0.8691 |   0.7628 |\n",
      "|       0.1000 |    6 |          5 |         0.1000 |             0.4000 |       242 |   0.8075 |   0.7704 |\n",
      "|       0.0300 |    5 |          3 |         0.1000 |             0.6000 |      1000 |   0.7983 |   0.7715 |\n",
      "|       0.0800 |    4 |          7 |         0.5000 |             0.0000 |       523 |   0.7971 |   0.7713 |\n",
      "|       0.1000 |   10 |          9 |         1.0000 |             0.6000 |       103 |   0.8606 |   0.7646 |\n",
      "|       0.1000 |    9 |          5 |         1.0000 |             0.0000 |       124 |   0.8463 |   0.7663 |\n",
      "------------------------------------------------------------------------------------------------------------\n",
      "|       0.0500 |    5 |          7 |         0.5000 |             1.0000 |       869 |   0.8030 |   0.7722 |\n"
     ]
    }
   ],
   "source": [
    "# Random search with Cross validation\n",
    "s = '|{0:>13s} |{1:>5s} |{2:>11s} |{3:>15s} |{4:>19s} |{5:>10s} |{6:>9s} |{7:>9s} |'\n",
    "print(s.format('learning_rate', 'depth', 'l2_leaf_reg', 'random_strength', \n",
    "               'bagging_temperature', 'iterations', 'train_AUC', 'test_AUC'))\n",
    "print('-' * 108)\n",
    "\n",
    "# perform random search for given number n\n",
    "n = 30\n",
    "np.random.seed(42)\n",
    "visited = set()\n",
    "for i in range(n):\n",
    "    while True:\n",
    "        learning_rate = np.random.choice(learning_rate_list)\n",
    "        depth = np.random.choice(depth_list)\n",
    "        l2_leaf_reg = np.random.choice(l2_leaf_reg_list)\n",
    "        random_strength = np.random.choice(random_strength_list)\n",
    "        bagging_temperature = np.random.choice(bagging_temperature_list)\n",
    "        \n",
    "        tuples = (learning_rate, depth, l2_leaf_reg, random_strength, bagging_temperature)\n",
    "        if tuples not in visited:\n",
    "            visited.add(tuples)\n",
    "            break\n",
    "            \n",
    "    # define parameters\n",
    "    params = {'loss_function': 'Logloss', \n",
    "              'custom_metric': 'AUC', \n",
    "              'eval_metric': 'AUC',\n",
    "              'learning_rate': learning_rate, \n",
    "              'depth': depth, \n",
    "              'l2_leaf_reg': l2_leaf_reg,\n",
    "              'random_strength': random_strength, \n",
    "              'bagging_temperature': bagging_temperature, \n",
    "              'random_seed': 42, \n",
    "              'bootstrap_type': 'Bayesian', \n",
    "              'has_time': False, \n",
    "              'class_weights': [1, 11]}\n",
    "\n",
    "    scores = cv(pool=train_pool, params=params, iterations=1000, fold_count=5,\n",
    "                seed=42, shuffle=True, logging_level='Silent', stratified=True,\n",
    "                as_pandas=False, metric_period=1, early_stopping_rounds=10)\n",
    "    \n",
    "    # get result\n",
    "    learning_rate_values.append(learning_rate)\n",
    "    depth_values.append(depth)\n",
    "    l2_leaf_reg_values.append(l2_leaf_reg)\n",
    "    random_strength_values.append(random_strength)\n",
    "    bagging_temperature_values.append(bagging_temperature)\n",
    "    \n",
    "    best_idx = np.argmax(scores['test-AUC-mean'])\n",
    "    best_iterations = best_idx + 1\n",
    "    train_mean_auc = scores['train-AUC-mean'][best_idx]\n",
    "    train_auc_std = scores['train-AUC-std'][best_idx]\n",
    "    test_mean_auc = scores['test-AUC-mean'][best_idx]\n",
    "    test_auc_std = scores['test-AUC-std'][best_idx]\n",
    "    \n",
    "    best_iterations_values.append(best_iterations)\n",
    "    train_mean_auc_values.append(train_mean_auc)\n",
    "    train_auc_std_values.append(train_auc_std)\n",
    "    test_mean_auc_values.append(test_mean_auc)\n",
    "    test_auc_std_values.append(test_auc_std)\n",
    "    \n",
    "    # output the resuts\n",
    "    ss = '|{0:>13.4f} |{1:>5d} |{2:>11d} |{3:>15.4f} |{4:>19.4f} |{5:>10d} |{6:>9.4f} |{7:>9.4f} |'\n",
    "    print(ss.format(learning_rate, depth, l2_leaf_reg, random_strength, bagging_temperature, \n",
    "                    best_iterations, train_mean_auc, test_mean_auc))\n",
    "    \n",
    "# get the best parameters\n",
    "idx = np.argmax(test_mean_auc_values)\n",
    "print('-' * 108)\n",
    "print(ss.format(learning_rate_values[idx], depth_values[idx], l2_leaf_reg_values[idx], \n",
    "                random_strength_values[idx], bagging_temperature_values[idx], \n",
    "                best_iterations_values[idx], train_mean_auc_values[idx], \n",
    "                test_mean_auc_values[idx]))"
   ]
  },
  {
   "cell_type": "markdown",
   "metadata": {},
   "source": [
    "# CatBoost Boosting"
   ]
  },
  {
   "cell_type": "code",
   "execution_count": 16,
   "metadata": {},
   "outputs": [
    {
     "name": "stdout",
     "output_type": "stream",
     "text": [
      "0:\ttotal: 190ms\tremaining: 2m 45s\n",
      "50:\ttotal: 8.91s\tremaining: 2m 22s\n",
      "100:\ttotal: 17.7s\tremaining: 2m 14s\n",
      "150:\ttotal: 26.4s\tremaining: 2m 5s\n",
      "200:\ttotal: 35.2s\tremaining: 1m 57s\n",
      "250:\ttotal: 44s\tremaining: 1m 48s\n",
      "300:\ttotal: 52.7s\tremaining: 1m 39s\n",
      "350:\ttotal: 1m 1s\tremaining: 1m 30s\n",
      "400:\ttotal: 1m 10s\tremaining: 1m 22s\n",
      "450:\ttotal: 1m 19s\tremaining: 1m 13s\n",
      "500:\ttotal: 1m 27s\tremaining: 1m 4s\n",
      "550:\ttotal: 1m 36s\tremaining: 55.8s\n",
      "600:\ttotal: 1m 45s\tremaining: 47s\n",
      "650:\ttotal: 1m 54s\tremaining: 38.2s\n",
      "700:\ttotal: 2m 3s\tremaining: 29.5s\n",
      "750:\ttotal: 2m 11s\tremaining: 20.7s\n",
      "800:\ttotal: 2m 20s\tremaining: 11.9s\n",
      "850:\ttotal: 2m 29s\tremaining: 3.16s\n",
      "868:\ttotal: 2m 32s\tremaining: 0us\n"
     ]
    }
   ],
   "source": [
    "# build CatBoost classifier\n",
    "model = CatBoostClassifier(loss_function='Logloss', custom_metric='AUC', eval_metric='AUC',\n",
    "                           learning_rate=0.05, depth=5, l2_leaf_reg=7, random_strength=0.5, \n",
    "                           bagging_temperature=1.0, iterations=869, random_seed=42, \n",
    "                           class_weights=[1, 11], bootstrap_type='Bayesian', subsample=None,\n",
    "                           use_best_model=None, ignored_features=None, one_hot_max_size=None, \n",
    "                           has_time=False, rsm=None, nan_mode=None, leaf_estimation_iterations=None, \n",
    "                           leaf_estimation_method=None, boosting_type=None, allow_const_label=None)\n",
    "\n",
    "model.fit(X=train_pool, eval_set=None, logging_level='Verbose', plot=False, \n",
    "          column_description=None, metric_period=50, early_stopping_rounds=None)\n",
    "\n",
    "catboost_test_pred = model.predict_proba(data=test_pool)[:, 1]"
   ]
  },
  {
   "cell_type": "code",
   "execution_count": 17,
   "metadata": {},
   "outputs": [],
   "source": [
    "# make prediction files\n",
    "test_id = test['SK_ID_CURR'].values\n",
    "test_pred = catboost_test_pred\n",
    "\n",
    "catboost_csv = pd.DataFrame({'SK_ID_CURR': test_id, 'TARGET': test_pred}, \n",
    "                            columns=['SK_ID_CURR', 'TARGET'])\n",
    "catboost_csv.to_csv('./result/all_feature_boosting_catboost_balanced.csv', index=False)"
   ]
  },
  {
   "cell_type": "code",
   "execution_count": null,
   "metadata": {},
   "outputs": [],
   "source": []
  }
 ],
 "metadata": {
  "kernelspec": {
   "display_name": "Python 3",
   "language": "python",
   "name": "python3"
  },
  "language_info": {
   "codemirror_mode": {
    "name": "ipython",
    "version": 3
   },
   "file_extension": ".py",
   "mimetype": "text/x-python",
   "name": "python",
   "nbconvert_exporter": "python",
   "pygments_lexer": "ipython3",
   "version": "3.6.5"
  }
 },
 "nbformat": 4,
 "nbformat_minor": 2
}
