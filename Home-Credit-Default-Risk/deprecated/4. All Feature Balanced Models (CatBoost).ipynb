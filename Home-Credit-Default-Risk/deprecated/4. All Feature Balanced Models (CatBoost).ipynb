{
 "cells": [
  {
   "cell_type": "code",
   "execution_count": 1,
   "metadata": {},
   "outputs": [],
   "source": [
    "import warnings\n",
    "warnings.simplefilter('ignore')\n",
    "\n",
    "import numpy as np\n",
    "import pandas as pd\n",
    "import seaborn as sns\n",
    "import matplotlib.pyplot as plt\n",
    "import gc\n",
    "from sklearn.metrics import auc, roc_curve\n",
    "from sklearn.preprocessing import LabelEncoder\n",
    "\n",
    "from catboost import CatBoostClassifier\n",
    "from catboost import FeaturesData\n",
    "from catboost import Pool, cv\n",
    "\n",
    "%matplotlib inline"
   ]
  },
  {
   "cell_type": "markdown",
   "metadata": {},
   "source": [
    "# Load Data"
   ]
  },
  {
   "cell_type": "code",
   "execution_count": 2,
   "metadata": {},
   "outputs": [
    {
     "name": "stdout",
     "output_type": "stream",
     "text": [
      "Train:\t (307506, 172)\n",
      "Test: \t (48744, 171)\n"
     ]
    }
   ],
   "source": [
    "train = pd.read_csv('./data/train_clean.csv')\n",
    "test = pd.read_csv('./data/test_clean.csv')\n",
    "print('Train:\\t', train.shape)\n",
    "print('Test: \\t', test.shape)"
   ]
  },
  {
   "cell_type": "code",
   "execution_count": 3,
   "metadata": {},
   "outputs": [
    {
     "name": "stdout",
     "output_type": "stream",
     "text": [
      "Categorical:\t 49\n",
      "Discrete:\t 55\n",
      "Continuous:\t 66\n",
      "Total:\t\t 170\n"
     ]
    }
   ],
   "source": [
    "# define categorical features\n",
    "cat_feature = ['NAME_CONTRACT_TYPE', 'CODE_GENDER', 'FLAG_OWN_CAR', 'FLAG_OWN_REALTY', \n",
    "               'NAME_TYPE_SUITE', 'NAME_INCOME_TYPE', 'NAME_EDUCATION_TYPE', \n",
    "               'NAME_FAMILY_STATUS', 'NAME_HOUSING_TYPE', 'OCCUPATION_TYPE', \n",
    "               'WEEKDAY_APPR_PROCESS_START', 'ORGANIZATION_TYPE', 'FONDKAPREMONT_MODE', \n",
    "               'HOUSETYPE_MODE', 'WALLSMATERIAL_MODE', 'EMERGENCYSTATE_MODE', \n",
    "               'Binary_CREDIT_DAY_OVERDUE', 'FLAG_MOBIL', 'FLAG_EMP_PHONE', \n",
    "               'FLAG_WORK_PHONE', 'FLAG_CONT_MOBILE', 'FLAG_PHONE', 'FLAG_EMAIL', \n",
    "               'REG_REGION_NOT_LIVE_REGION', 'REG_REGION_NOT_WORK_REGION',  \n",
    "               'LIVE_REGION_NOT_WORK_REGION', 'REG_CITY_NOT_LIVE_CITY', \n",
    "               'REG_CITY_NOT_WORK_CITY', 'LIVE_CITY_NOT_WORK_CITY', 'FLAG_DOCUMENT_2', \n",
    "               'FLAG_DOCUMENT_3', 'FLAG_DOCUMENT_4', 'FLAG_DOCUMENT_5', \n",
    "               'FLAG_DOCUMENT_6', 'FLAG_DOCUMENT_7', 'FLAG_DOCUMENT_8', \n",
    "               'FLAG_DOCUMENT_9', 'FLAG_DOCUMENT_10', 'FLAG_DOCUMENT_11', \n",
    "               'FLAG_DOCUMENT_12', 'FLAG_DOCUMENT_13', 'FLAG_DOCUMENT_14', \n",
    "               'FLAG_DOCUMENT_15', 'FLAG_DOCUMENT_16', 'FLAG_DOCUMENT_17', \n",
    "               'FLAG_DOCUMENT_18', 'FLAG_DOCUMENT_19',  'FLAG_DOCUMENT_20', \n",
    "               'FLAG_DOCUMENT_21', ]\n",
    "\n",
    "dis_feature = ['CNT_CHILDREN', 'CNT_FAM_MEMBERS', 'REGION_RATING_CLIENT', \n",
    "               'REGION_RATING_CLIENT_W_CITY', 'HOUR_APPR_PROCESS_START', \n",
    "               'OBS_30_CNT_SOCIAL_CIRCLE', 'DEF_30_CNT_SOCIAL_CIRCLE', \n",
    "               'OBS_60_CNT_SOCIAL_CIRCLE', 'DEF_60_CNT_SOCIAL_CIRCLE', \n",
    "               'Total_BUREAU', 'Closed_BUREAU', 'Active_BUREAU', 'Sold_BUREAU', \n",
    "               'Bad_BUREAU', 'Count_AMT_CREDIT_MAX_OVERDUE', 'Credit_CREDIT_TYPE', \n",
    "               'Loan_CREDIT_TYPE', 'Count_POS_CASH', 'Completed_CASH_CONTRACT', \n",
    "               'Other_CASH_CONTRACT', 'Count_Credit_Card', 'Active_Credit_CONTRACT', \n",
    "               'Completed_Credit_CONTRACT', 'Other_Credit_CONTRACT', 'Count_installment', \n",
    "               'Count_prev', 'Count_prev_Cash_loan', 'Count_prev_Consumer_loan', \n",
    "               'Count_prev_Revolving_loan', 'Count_Y_prev_FLAG_LAST_APPL_PER_CONTRACT', \n",
    "               'Count_N_prev_FLAG_LAST_APPL_PER_CONTRACT', 'Count_1_prev_NFLAG_LAST_APPL_IN_DAY', \n",
    "               'Count_0_prev_NFLAG_LAST_APPL_IN_DAY', 'Count_Approved_prev_NAME_CONTRACT_STATUS', \n",
    "               'Count_Canceled_prev_NAME_CONTRACT_STATUS', 'Count_Refused_prev_NAME_CONTRACT_STATUS', \n",
    "               'Count_Unused_prev_NAME_CONTRACT_STATUS',  'Count_Cash_prev_NAME_PAYMENT_TYPE',\n",
    "               'Count_XNA_prev_NAME_PAYMENT_TYPE', 'Count_Noncash_prev_NAME_PAYMENT_TYPE', \n",
    "               'Count_Unaccompanied_prev_NAME_TYPE_SUITE', 'Count_Accompanied_prev_NAME_TYPE_SUITE', \n",
    "               'Count_Other_NAME_TYPE_SUITE', 'Count_Repeater_prev_NAME_CLIENT_TYPE', \n",
    "               'Count_New_prev_NAME_CLIENT_TYPE', 'Count_Refreshed_prev_NAME_CLIENT_TYPE', \n",
    "               'Count_POS_prev_NAME_PORTFOLIO', 'Count_Cash_prev_NAME_PORTFOLIO', \n",
    "               'Count_Cards_prev_NAME_PORTFOLIO', 'Count_Other_prev_NAME_PORTFOLIO', \n",
    "               'Count_XNA_prev_NAME_PRODUCT_TYPE', 'Count_xsell_prev_NAME_PRODUCT_TYPE', \n",
    "               'Count_walkin_prev_NAME_PRODUCT_TYPE', 'Count_0_prev_NFLAG_INSURED_ON_APPROVAL', \n",
    "               'Count_1_prev_NFLAG_INSURED_ON_APPROVAL']\n",
    "\n",
    "con_feature = ['AMT_INCOME_TOTAL', 'AMT_CREDIT', 'AMT_ANNUITY', 'AMT_GOODS_PRICE', \n",
    "               'REGION_POPULATION_RELATIVE', 'DAYS_BIRTH', 'DAYS_EMPLOYED', \n",
    "               'DAYS_REGISTRATION', 'DAYS_ID_PUBLISH', 'EXT_SOURCE_2', \n",
    "               'EXT_SOURCE_3', 'DAYS_LAST_PHONE_CHANGE', 'Sum_CASH_MONTH_BALANCE', \n",
    "               'Mean_CASH_MONTH_BALANCE', 'Median_CASH_MONTH_BALANCE', 'Sum_CASH_CNT_INSTALMENT', \n",
    "               'Mean_CASH_CNT_INSTALMENT', 'Median_CASH_CNT_INSTALMENT', \n",
    "               'Sum_CASH_CNT_INSTALMENT_FUTURE', 'Mean_CASH_CNT_INSTALMENT_FUTURE', \n",
    "               'Median_CASH_CNT_INSTALMENT_FUTURE', 'Active_CASH_CONTRACT', \n",
    "               'Sum_CASH_SK_DPD', 'Mean_CASH_SK_DPD', 'Median_CASH_SK_DPD', 'Sum_CASH_SK_DPD_DEF', \n",
    "               'Mean_CASH_SK_DPD_DEF', 'Median_CASH_SK_DPD_DEF', 'Sum_NUM_INSTALMENT_VERSION', \n",
    "               'Mean_NUM_INSTALMENT_VERSION', 'Median_NUM_INSTALMENT_VERSION', \n",
    "               'Sum_NUM_INSTALMENT_NUMBER', 'Mean_NUM_INSTALMENT_NUMBER', \n",
    "               'Median_NUM_INSTALMENT_NUMBER', 'Sum_DAYS_INSTALMENT', 'Mean_DAYS_INSTALMENT',\n",
    "               'Median_DAYS_INSTALMENT', 'Sum_DAYS_ENTRY_PAYMENT', 'Mean_DAYS_ENTRY_PAYMENT', \n",
    "               'Median_DAYS_ENTRY_PAYMENT', 'Sum_AMT_INSTALMENT', 'Mean_AMT_INSTALMENT', \n",
    "               'Median_AMT_INSTALMENT', 'Sum_AMT_PAYMENT', 'Mean_AMT_PAYMENT', 'Median_AMT_PAYMENT',\n",
    "               'Sum_prev_AMT_ANNUITY', 'Mean_prev_AMT_ANNUITY', 'Median_prev_AMT_ANNUITY', \n",
    "               'Sum_prev_AMT_APPLICATION', 'Mean_prev_AMT_APPLICATION', 'Median_prev_AMT_APPLICATION', \n",
    "               'Sum_prev_AMT_CREDIT', 'Mean_prev_AMT_CREDIT', 'Median_prev_AMT_CREDIT', \n",
    "               'Sum_prev_AMT_DOWN_PAYMENT', 'Sum_prev_AMT_GOODS_PRICE',  'Mean_prev_AMT_GOODS_PRICE', \n",
    "               'Median_prev_AMT_GOODS_PRICE', 'Sum_prev_RATE_DOWN_PAYMENT', 'Sum_prev_DAYS_DECISION', \n",
    "               'Mean_prev_DAYS_DECISION', 'Median_prev_DAYS_DECISION','Sum_prev_CNT_PAYMENT', \n",
    "               'Mean_prev_CNT_PAYMENT', 'Median_prev_CNT_PAYMENT']\n",
    "\n",
    "features = cat_feature + dis_feature + con_feature\n",
    "\n",
    "# define numerical and categorical features\n",
    "print('Categorical:\\t', len(cat_feature))\n",
    "print('Discrete:\\t', len(dis_feature))\n",
    "print('Continuous:\\t', len(con_feature))\n",
    "print('Total:\\t\\t', len(features))"
   ]
  },
  {
   "cell_type": "markdown",
   "metadata": {},
   "source": [
    "# CatBoost Data Preparation"
   ]
  },
  {
   "cell_type": "code",
   "execution_count": 4,
   "metadata": {},
   "outputs": [],
   "source": [
    "# create Pool object\n",
    "train_pool = Pool(data=train[features], label=train['TARGET'].values, feature_names=features, \n",
    "                  cat_features=np.array(range(len(cat_feature))))\n",
    "\n",
    "test_pool = Pool(data=test[features], feature_names=features, \n",
    "                 cat_features=np.array(range(len(cat_feature))))"
   ]
  },
  {
   "cell_type": "code",
   "execution_count": 5,
   "metadata": {},
   "outputs": [
    {
     "name": "stdout",
     "output_type": "stream",
     "text": [
      "Negative class:\t 282682\n",
      "Positive class:\t 24824\n",
      "Neg / Pos:\t 11.3874476313\n"
     ]
    }
   ],
   "source": [
    "train_labels = train['TARGET'].values\n",
    "print('Negative class:\\t', sum(train_labels == 0))\n",
    "print('Positive class:\\t', sum(train_labels == 1))\n",
    "print('Neg / Pos:\\t', sum(train_labels == 0) / sum(train_labels == 1))"
   ]
  },
  {
   "cell_type": "code",
   "execution_count": 6,
   "metadata": {},
   "outputs": [],
   "source": [
    "# # encoding categorical data into numerical format\n",
    "# label_encoders = []\n",
    "# for name in cat_feature:\n",
    "#     encoder = LabelEncoder()\n",
    "#     train[name] = encoder.fit_transform(train[name])\n",
    "#     test[name] = encoder.transform(test[name])\n",
    "#     label_encoders.append(encoder)"
   ]
  },
  {
   "cell_type": "code",
   "execution_count": 7,
   "metadata": {},
   "outputs": [],
   "source": [
    "# # prepare the dataset\n",
    "# train_data = FeaturesData(\n",
    "#     num_feature_data=np.array(train[dis_feature + con_feature].values, dtype=np.float32), \n",
    "#     cat_feature_data=np.array(train[cat_feature].values, dtype=object), \n",
    "#     num_feature_names=dis_feature + con_feature,\n",
    "#     cat_feature_names=cat_feature)\n",
    "\n",
    "# train_labels = train['TARGET'].values\n",
    "\n",
    "# test_data = FeaturesData(\n",
    "#     num_feature_data=np.array(test[dis_feature + con_feature].values, dtype=np.float32), \n",
    "#     cat_feature_data=np.array(test[cat_feature].values, dtype=object), \n",
    "#     num_feature_names=dis_feature + con_feature,\n",
    "#     cat_feature_names=cat_feature)"
   ]
  },
  {
   "cell_type": "markdown",
   "metadata": {},
   "source": [
    "# CatBoost Cross Validation"
   ]
  },
  {
   "cell_type": "code",
   "execution_count": 17,
   "metadata": {},
   "outputs": [
    {
     "name": "stdout",
     "output_type": "stream",
     "text": [
      "0:\tlearn: 0.7077831\ttest: 0.7067908\tbest: 0.7067908 (0)\ttotal: 10.3s\tremaining: 1m 32s\n",
      "9:\tlearn: 0.7230963\ttest: 0.7214691\tbest: 0.7214691 (9)\ttotal: 1m 24s\tremaining: 0us\n"
     ]
    }
   ],
   "source": [
    "# define parameters\n",
    "params = {'loss_function': 'Logloss', \n",
    "          'custom_metric': 'AUC', \n",
    "          'eval_metric': 'AUC',\n",
    "          'learning_rate': 0.03, \n",
    "          'random_seed': 42, \n",
    "          'l2_leaf_reg': None,\n",
    "          'bootstrap_type': 'Bayesian', \n",
    "          'bagging_temperature': 1, \n",
    "          'depth': 6,  \n",
    "          'has_time': False, \n",
    "          'class_weights': [1, 11]}\n",
    "\n",
    "scores = cv(pool=train_pool, params=params, iterations=10, fold_count=5,\n",
    "            seed=42, shuffle=True, logging_level=None, stratified=True,\n",
    "            as_pandas=False, metric_period=50, verbose=None, plot=False,\n",
    "            early_stopping_rounds=10)"
   ]
  },
  {
   "cell_type": "code",
   "execution_count": 39,
   "metadata": {},
   "outputs": [
    {
     "data": {
      "image/png": "[encoded data removed]",
      "text/plain": [
       "<Figure size 720x432 with 1 Axes>"
      ]
     },
     "metadata": {},
     "output_type": "display_data"
    }
   ],
   "source": [
    "# get results\n",
    "train_auc_mean = np.array(scores['train-AUC-mean'])\n",
    "train_auc_std = np.array(scores['train-AUC-std'])\n",
    "test_auc_mean = np.array(scores['test-AUC-mean'])\n",
    "test_auc_std = np.array(scores['test-AUC-std'])\n",
    "\n",
    "fig, ax = plt.subplots(figsize=(10, 6))\n",
    "ax.plot(range(1, len(train_auc_mean)+1), train_auc_mean, label='Train AUC')\n",
    "ax.plot(range(1, len(test_auc_mean)+1), test_auc_mean, label='Test AUC')\n",
    "ax.fill_between(range(1, len(train_auc_mean)+1), train_auc_mean+train_auc_std, \n",
    "                train_auc_mean-train_auc_std, alpha=0.1, label='Train Error')\n",
    "ax.fill_between(range(1, len(test_auc_mean)+1), test_auc_mean+test_auc_std, \n",
    "                test_auc_mean-test_auc_std, alpha=0.1, label='Test Error')\n",
    "ax.legend(fontsize=12)\n",
    "plt.show()"
   ]
  },
  {
   "cell_type": "markdown",
   "metadata": {},
   "source": [
    "# CatBoost Random Search"
   ]
  },
  {
   "cell_type": "code",
   "execution_count": 28,
   "metadata": {},
   "outputs": [],
   "source": [
    "learning_rate_list = []\n",
    "bootstrap_type_list = []\n",
    "depth_list = []"
   ]
  },
  {
   "cell_type": "code",
   "execution_count": null,
   "metadata": {},
   "outputs": [],
   "source": []
  },
  {
   "cell_type": "code",
   "execution_count": null,
   "metadata": {},
   "outputs": [],
   "source": []
  },
  {
   "cell_type": "code",
   "execution_count": null,
   "metadata": {},
   "outputs": [],
   "source": []
  },
  {
   "cell_type": "code",
   "execution_count": null,
   "metadata": {},
   "outputs": [],
   "source": []
  },
  {
   "cell_type": "markdown",
   "metadata": {},
   "source": [
    "# CatBoost Boosting"
   ]
  },
  {
   "cell_type": "code",
   "execution_count": 14,
   "metadata": {},
   "outputs": [
    {
     "name": "stdout",
     "output_type": "stream",
     "text": [
      "Learning rate set to 0.084759\n",
      "0:\ttotal: 2.17s\tremaining: 36m 6s\n",
      "50:\ttotal: 1m 31s\tremaining: 28m 27s\n",
      "100:\ttotal: 2m 59s\tremaining: 26m 40s\n",
      "150:\ttotal: 4m 29s\tremaining: 25m 13s\n",
      "200:\ttotal: 5m 57s\tremaining: 23m 42s\n",
      "250:\ttotal: 7m 28s\tremaining: 22m 17s\n",
      "300:\ttotal: 8m 57s\tremaining: 20m 48s\n",
      "350:\ttotal: 10m 26s\tremaining: 19m 19s\n",
      "400:\ttotal: 11m 57s\tremaining: 17m 51s\n",
      "450:\ttotal: 13m 29s\tremaining: 16m 24s\n",
      "500:\ttotal: 14m 58s\tremaining: 14m 54s\n",
      "550:\ttotal: 16m 27s\tremaining: 13m 25s\n",
      "600:\ttotal: 17m 57s\tremaining: 11m 55s\n",
      "650:\ttotal: 19m 26s\tremaining: 10m 25s\n",
      "700:\ttotal: 20m 56s\tremaining: 8m 55s\n",
      "750:\ttotal: 22m 25s\tremaining: 7m 26s\n",
      "800:\ttotal: 23m 54s\tremaining: 5m 56s\n",
      "850:\ttotal: 25m 24s\tremaining: 4m 26s\n",
      "900:\ttotal: 26m 52s\tremaining: 2m 57s\n",
      "950:\ttotal: 28m 22s\tremaining: 1m 27s\n",
      "999:\ttotal: 29m 48s\tremaining: 0us\n"
     ]
    },
    {
     "data": {
      "text/plain": [
       "<catboost.core.CatBoostClassifier at 0x7fe402756b00>"
      ]
     },
     "execution_count": 14,
     "metadata": {},
     "output_type": "execute_result"
    }
   ],
   "source": [
    "# build CatBoost classifier\n",
    "model = CatBoostClassifier(loss_function='Logloss', custom_metric='AUC', eval_metric='AUC',\n",
    "                           iterations=1000, learning_rate=None, random_seed=42, l2_leaf_reg=None,\n",
    "                           bootstrap_type=None, bagging_temperature=None, subsample=None,\n",
    "                           random_strength=None, use_best_model=None, depth=6, ignored_features=None,\n",
    "                           one_hot_max_size=None, has_time=False, rsm=None, nan_mode=None,\n",
    "                           leaf_estimation_iterations=None, leaf_estimation_method=None,\n",
    "                           fold_len_multiplier=None, approx_on_full_history=None, class_weights=[1, 11],\n",
    "                           boosting_type=None, allow_const_label=None, od_pval=None, od_wait=None,\n",
    "                           od_type=None, border_count=None, feature_border_type=None, classes_count=None,\n",
    "                           thread_count=None, used_ram_limit=None, gpu_ram_part=None, name=None, \n",
    "                           gpu_cat_features_storage=None, data_partition=None, task_type=None, devices=None,\n",
    "                           train_dir=None, model_size_reg=None, allow_writing_files=None, save_snapshot=None,  \n",
    "                           snapshot_file=None, simple_ctr=None, combinations_ctr=None, per_feature_ctr=None, \n",
    "                           counter_calc_method=None, max_ctr_complexity=None, ctr_leaf_count_limit=None, \n",
    "                           store_all_simple_ctr=None, final_ctr_computation_mode=None)\n",
    "\n",
    "model.fit(X=train_pool, eval_set=None, verbose=None, logging_level=None, \n",
    "          plot=False, column_description=None, verbose_eval=None, \n",
    "          metric_period=50, silent=None, early_stopping_rounds=None)\n",
    "\n",
    "catboost_test_pred = model.predict_proba(data=test_pool)[:, 1]"
   ]
  },
  {
   "cell_type": "code",
   "execution_count": 27,
   "metadata": {},
   "outputs": [],
   "source": [
    "# make prediction files\n",
    "test_id = test['SK_ID_CURR'].values\n",
    "test_pred = catboost_test_pred\n",
    "\n",
    "catboost_csv = pd.DataFrame({'SK_ID_CURR': test_id, 'TARGET': test_pred}, \n",
    "                            columns=['SK_ID_CURR', 'TARGET'])\n",
    "catboost_csv.to_csv('./result/boosting_catboost_balanced.csv', index=False)"
   ]
  },
  {
   "cell_type": "code",
   "execution_count": null,
   "metadata": {},
   "outputs": [],
   "source": []
  }
 ],
 "metadata": {
  "kernelspec": {
   "display_name": "Python 3",
   "language": "python",
   "name": "python3"
  },
  "language_info": {
   "codemirror_mode": {
    "name": "ipython",
    "version": 3
   },
   "file_extension": ".py",
   "mimetype": "text/x-python",
   "name": "python",
   "nbconvert_exporter": "python",
   "pygments_lexer": "ipython3",
   "version": "3.6.5"
  }
 },
 "nbformat": 4,
 "nbformat_minor": 2
}
