{
 "cells": [
  {
   "cell_type": "code",
   "execution_count": 1,
   "metadata": {},
   "outputs": [],
   "source": [
    "import warnings\n",
    "warnings.simplefilter('ignore')\n",
    "\n",
    "import numpy as np\n",
    "import pandas as pd\n",
    "import seaborn as sns\n",
    "import matplotlib.pyplot as plt\n",
    "import gc\n",
    "from sklearn.metrics import auc, roc_curve\n",
    "from sklearn.preprocessing import LabelEncoder\n",
    "\n",
    "import h2o\n",
    "from h2o.frame import H2OFrame\n",
    "from h2o.estimators.glm import H2OGeneralizedLinearEstimator\n",
    "from h2o.grid.grid_search import H2OGridSearch\n",
    "\n",
    "import lightgbm as lgb\n",
    "\n",
    "%matplotlib inline"
   ]
  },
  {
   "cell_type": "markdown",
   "metadata": {},
   "source": [
    "# Load Data"
   ]
  },
  {
   "cell_type": "code",
   "execution_count": 2,
   "metadata": {},
   "outputs": [
    {
     "name": "stdout",
     "output_type": "stream",
     "text": [
      "Train:\t (307506, 172)\n",
      "Test: \t (48744, 171)\n"
     ]
    }
   ],
   "source": [
    "train = pd.read_csv('./data/train_clean.csv')\n",
    "test = pd.read_csv('./data/test_clean.csv')\n",
    "print('Train:\\t', train.shape)\n",
    "print('Test: \\t', test.shape)"
   ]
  },
  {
   "cell_type": "code",
   "execution_count": 3,
   "metadata": {},
   "outputs": [
    {
     "name": "stdout",
     "output_type": "stream",
     "text": [
      "Categorical:\t 49\n",
      "Discrete:\t 55\n",
      "Continuous:\t 66\n",
      "Total:\t\t 170\n"
     ]
    }
   ],
   "source": [
    "# define categorical features\n",
    "cat_feature = ['NAME_CONTRACT_TYPE', 'CODE_GENDER', 'FLAG_OWN_CAR', 'FLAG_OWN_REALTY', \n",
    "               'NAME_TYPE_SUITE', 'NAME_INCOME_TYPE', 'NAME_EDUCATION_TYPE', \n",
    "               'NAME_FAMILY_STATUS', 'NAME_HOUSING_TYPE', 'OCCUPATION_TYPE', \n",
    "               'WEEKDAY_APPR_PROCESS_START', 'ORGANIZATION_TYPE', 'FONDKAPREMONT_MODE', \n",
    "               'HOUSETYPE_MODE', 'WALLSMATERIAL_MODE', 'EMERGENCYSTATE_MODE', \n",
    "               'Binary_CREDIT_DAY_OVERDUE', 'FLAG_MOBIL', 'FLAG_EMP_PHONE', \n",
    "               'FLAG_WORK_PHONE', 'FLAG_CONT_MOBILE', 'FLAG_PHONE', 'FLAG_EMAIL', \n",
    "               'REG_REGION_NOT_LIVE_REGION', 'REG_REGION_NOT_WORK_REGION',  \n",
    "               'LIVE_REGION_NOT_WORK_REGION', 'REG_CITY_NOT_LIVE_CITY', \n",
    "               'REG_CITY_NOT_WORK_CITY', 'LIVE_CITY_NOT_WORK_CITY', 'FLAG_DOCUMENT_2', \n",
    "               'FLAG_DOCUMENT_3', 'FLAG_DOCUMENT_4', 'FLAG_DOCUMENT_5', \n",
    "               'FLAG_DOCUMENT_6', 'FLAG_DOCUMENT_7', 'FLAG_DOCUMENT_8', \n",
    "               'FLAG_DOCUMENT_9', 'FLAG_DOCUMENT_10', 'FLAG_DOCUMENT_11', \n",
    "               'FLAG_DOCUMENT_12', 'FLAG_DOCUMENT_13', 'FLAG_DOCUMENT_14', \n",
    "               'FLAG_DOCUMENT_15', 'FLAG_DOCUMENT_16', 'FLAG_DOCUMENT_17', \n",
    "               'FLAG_DOCUMENT_18', 'FLAG_DOCUMENT_19',  'FLAG_DOCUMENT_20', \n",
    "               'FLAG_DOCUMENT_21', ]\n",
    "\n",
    "dis_feature = ['CNT_CHILDREN', 'CNT_FAM_MEMBERS', 'REGION_RATING_CLIENT', \n",
    "               'REGION_RATING_CLIENT_W_CITY', 'HOUR_APPR_PROCESS_START', \n",
    "               'OBS_30_CNT_SOCIAL_CIRCLE', 'DEF_30_CNT_SOCIAL_CIRCLE', \n",
    "               'OBS_60_CNT_SOCIAL_CIRCLE', 'DEF_60_CNT_SOCIAL_CIRCLE', \n",
    "               'Total_BUREAU', 'Closed_BUREAU', 'Active_BUREAU', 'Sold_BUREAU', \n",
    "               'Bad_BUREAU', 'Count_AMT_CREDIT_MAX_OVERDUE', 'Credit_CREDIT_TYPE', \n",
    "               'Loan_CREDIT_TYPE', 'Count_POS_CASH', 'Completed_CASH_CONTRACT', \n",
    "               'Other_CASH_CONTRACT', 'Count_Credit_Card', 'Active_Credit_CONTRACT', \n",
    "               'Completed_Credit_CONTRACT', 'Other_Credit_CONTRACT', 'Count_installment', \n",
    "               'Count_prev', 'Count_prev_Cash_loan', 'Count_prev_Consumer_loan', \n",
    "               'Count_prev_Revolving_loan', 'Count_Y_prev_FLAG_LAST_APPL_PER_CONTRACT', \n",
    "               'Count_N_prev_FLAG_LAST_APPL_PER_CONTRACT', 'Count_1_prev_NFLAG_LAST_APPL_IN_DAY', \n",
    "               'Count_0_prev_NFLAG_LAST_APPL_IN_DAY', 'Count_Approved_prev_NAME_CONTRACT_STATUS', \n",
    "               'Count_Canceled_prev_NAME_CONTRACT_STATUS', 'Count_Refused_prev_NAME_CONTRACT_STATUS', \n",
    "               'Count_Unused_prev_NAME_CONTRACT_STATUS',  'Count_Cash_prev_NAME_PAYMENT_TYPE',\n",
    "               'Count_XNA_prev_NAME_PAYMENT_TYPE', 'Count_Noncash_prev_NAME_PAYMENT_TYPE', \n",
    "               'Count_Unaccompanied_prev_NAME_TYPE_SUITE', 'Count_Accompanied_prev_NAME_TYPE_SUITE', \n",
    "               'Count_Other_NAME_TYPE_SUITE', 'Count_Repeater_prev_NAME_CLIENT_TYPE', \n",
    "               'Count_New_prev_NAME_CLIENT_TYPE', 'Count_Refreshed_prev_NAME_CLIENT_TYPE', \n",
    "               'Count_POS_prev_NAME_PORTFOLIO', 'Count_Cash_prev_NAME_PORTFOLIO', \n",
    "               'Count_Cards_prev_NAME_PORTFOLIO', 'Count_Other_prev_NAME_PORTFOLIO', \n",
    "               'Count_XNA_prev_NAME_PRODUCT_TYPE', 'Count_xsell_prev_NAME_PRODUCT_TYPE', \n",
    "               'Count_walkin_prev_NAME_PRODUCT_TYPE', 'Count_0_prev_NFLAG_INSURED_ON_APPROVAL', \n",
    "               'Count_1_prev_NFLAG_INSURED_ON_APPROVAL']\n",
    "\n",
    "con_feature = ['AMT_INCOME_TOTAL', 'AMT_CREDIT', 'AMT_ANNUITY', 'AMT_GOODS_PRICE', \n",
    "               'REGION_POPULATION_RELATIVE', 'DAYS_BIRTH', 'DAYS_EMPLOYED', \n",
    "               'DAYS_REGISTRATION', 'DAYS_ID_PUBLISH', 'EXT_SOURCE_2', \n",
    "               'EXT_SOURCE_3', 'DAYS_LAST_PHONE_CHANGE', 'Sum_CASH_MONTH_BALANCE', \n",
    "               'Mean_CASH_MONTH_BALANCE', 'Median_CASH_MONTH_BALANCE', 'Sum_CASH_CNT_INSTALMENT', \n",
    "               'Mean_CASH_CNT_INSTALMENT', 'Median_CASH_CNT_INSTALMENT', \n",
    "               'Sum_CASH_CNT_INSTALMENT_FUTURE', 'Mean_CASH_CNT_INSTALMENT_FUTURE', \n",
    "               'Median_CASH_CNT_INSTALMENT_FUTURE', 'Active_CASH_CONTRACT', \n",
    "               'Sum_CASH_SK_DPD', 'Mean_CASH_SK_DPD', 'Median_CASH_SK_DPD', 'Sum_CASH_SK_DPD_DEF', \n",
    "               'Mean_CASH_SK_DPD_DEF', 'Median_CASH_SK_DPD_DEF', 'Sum_NUM_INSTALMENT_VERSION', \n",
    "               'Mean_NUM_INSTALMENT_VERSION', 'Median_NUM_INSTALMENT_VERSION', \n",
    "               'Sum_NUM_INSTALMENT_NUMBER', 'Mean_NUM_INSTALMENT_NUMBER', \n",
    "               'Median_NUM_INSTALMENT_NUMBER', 'Sum_DAYS_INSTALMENT', 'Mean_DAYS_INSTALMENT',\n",
    "               'Median_DAYS_INSTALMENT', 'Sum_DAYS_ENTRY_PAYMENT', 'Mean_DAYS_ENTRY_PAYMENT', \n",
    "               'Median_DAYS_ENTRY_PAYMENT', 'Sum_AMT_INSTALMENT', 'Mean_AMT_INSTALMENT', \n",
    "               'Median_AMT_INSTALMENT', 'Sum_AMT_PAYMENT', 'Mean_AMT_PAYMENT', 'Median_AMT_PAYMENT',\n",
    "               'Sum_prev_AMT_ANNUITY', 'Mean_prev_AMT_ANNUITY', 'Median_prev_AMT_ANNUITY', \n",
    "               'Sum_prev_AMT_APPLICATION', 'Mean_prev_AMT_APPLICATION', 'Median_prev_AMT_APPLICATION', \n",
    "               'Sum_prev_AMT_CREDIT', 'Mean_prev_AMT_CREDIT', 'Median_prev_AMT_CREDIT', \n",
    "               'Sum_prev_AMT_DOWN_PAYMENT', 'Sum_prev_AMT_GOODS_PRICE',  'Mean_prev_AMT_GOODS_PRICE', \n",
    "               'Median_prev_AMT_GOODS_PRICE', 'Sum_prev_RATE_DOWN_PAYMENT', 'Sum_prev_DAYS_DECISION', \n",
    "               'Mean_prev_DAYS_DECISION', 'Median_prev_DAYS_DECISION','Sum_prev_CNT_PAYMENT', \n",
    "               'Mean_prev_CNT_PAYMENT', 'Median_prev_CNT_PAYMENT']\n",
    "\n",
    "features = cat_feature + dis_feature + con_feature\n",
    "\n",
    "# define numerical and categorical features\n",
    "print('Categorical:\\t', len(cat_feature))\n",
    "print('Discrete:\\t', len(dis_feature))\n",
    "print('Continuous:\\t', len(con_feature))\n",
    "print('Total:\\t\\t', len(features))"
   ]
  },
  {
   "cell_type": "markdown",
   "metadata": {},
   "source": [
    "# H2O Logistic Regression"
   ]
  },
  {
   "cell_type": "code",
   "execution_count": 4,
   "metadata": {},
   "outputs": [
    {
     "name": "stdout",
     "output_type": "stream",
     "text": [
      "Checking whether there is an H2O instance running at http://localhost:54321..... not found.\n",
      "Attempting to start a local H2O server...\n",
      "  Java Version: openjdk version \"1.8.0_121\"; OpenJDK Runtime Environment (Zulu 8.20.0.5-linux64) (build 1.8.0_121-b15); OpenJDK 64-Bit Server VM (Zulu 8.20.0.5-linux64) (build 25.121-b15, mixed mode)\n",
      "  Starting server from /home/ubuntu/anaconda3/lib/python3.6/site-packages/h2o/backend/bin/h2o.jar\n",
      "  Ice root: /tmp/tmphe8082_2\n",
      "  JVM stdout: /tmp/tmphe8082_2/h2o_ubuntu_started_from_python.out\n",
      "  JVM stderr: /tmp/tmphe8082_2/h2o_ubuntu_started_from_python.err\n",
      "  Server is running at http://127.0.0.1:54321\n",
      "Connecting to H2O server at http://127.0.0.1:54321... successful.\n"
     ]
    },
    {
     "data": {
      "text/html": [
       "<div style=\"overflow:auto\"><table style=\"width:50%\"><tr><td>H2O cluster uptime:</td>\n",
       "<td>02 secs</td></tr>\n",
       "<tr><td>H2O cluster timezone:</td>\n",
       "<td>Etc/UTC</td></tr>\n",
       "<tr><td>H2O data parsing timezone:</td>\n",
       "<td>UTC</td></tr>\n",
       "<tr><td>H2O cluster version:</td>\n",
       "<td>3.18.0.11</td></tr>\n",
       "<tr><td>H2O cluster version age:</td>\n",
       "<td>1 month and 26 days </td></tr>\n",
       "<tr><td>H2O cluster name:</td>\n",
       "<td>H2O_from_python_ubuntu_a63uu4</td></tr>\n",
       "<tr><td>H2O cluster total nodes:</td>\n",
       "<td>1</td></tr>\n",
       "<tr><td>H2O cluster free memory:</td>\n",
       "<td>40 Gb</td></tr>\n",
       "<tr><td>H2O cluster total cores:</td>\n",
       "<td>4</td></tr>\n",
       "<tr><td>H2O cluster allowed cores:</td>\n",
       "<td>4</td></tr>\n",
       "<tr><td>H2O cluster status:</td>\n",
       "<td>accepting new members, healthy</td></tr>\n",
       "<tr><td>H2O connection url:</td>\n",
       "<td>http://127.0.0.1:54321</td></tr>\n",
       "<tr><td>H2O connection proxy:</td>\n",
       "<td>None</td></tr>\n",
       "<tr><td>H2O internal security:</td>\n",
       "<td>False</td></tr>\n",
       "<tr><td>H2O API Extensions:</td>\n",
       "<td>XGBoost, Algos, AutoML, Core V3, Core V4</td></tr>\n",
       "<tr><td>Python version:</td>\n",
       "<td>3.6.3 final</td></tr></table></div>"
      ],
      "text/plain": [
       "--------------------------  ----------------------------------------\n",
       "H2O cluster uptime:         02 secs\n",
       "H2O cluster timezone:       Etc/UTC\n",
       "H2O data parsing timezone:  UTC\n",
       "H2O cluster version:        3.18.0.11\n",
       "H2O cluster version age:    1 month and 26 days\n",
       "H2O cluster name:           H2O_from_python_ubuntu_a63uu4\n",
       "H2O cluster total nodes:    1\n",
       "H2O cluster free memory:    40 Gb\n",
       "H2O cluster total cores:    4\n",
       "H2O cluster allowed cores:  4\n",
       "H2O cluster status:         accepting new members, healthy\n",
       "H2O connection url:         http://127.0.0.1:54321\n",
       "H2O connection proxy:\n",
       "H2O internal security:      False\n",
       "H2O API Extensions:         XGBoost, Algos, AutoML, Core V3, Core V4\n",
       "Python version:             3.6.3 final\n",
       "--------------------------  ----------------------------------------"
      ]
     },
     "metadata": {},
     "output_type": "display_data"
    },
    {
     "name": "stdout",
     "output_type": "stream",
     "text": [
      "Parse progress: |█████████████████████████████████████████████████████████| 100%\n",
      "Parse progress: |█████████████████████████████████████████████████████████| 100%\n"
     ]
    }
   ],
   "source": [
    "# # Initialize H2O cluster\n",
    "# h2o.init(nthreads=-1, max_mem_size='45G')\n",
    "# h2o.remove_all()\n",
    "\n",
    "# # Transform to H2O Frame, and make sure the target variable is categorical\n",
    "# h2o_train = H2OFrame(train[features + ['TARGET']])\n",
    "# h2o_test = H2OFrame(test[features])\n",
    "\n",
    "# # transform into categorical\n",
    "# h2o_train['TARGET'] = h2o_train['TARGET'].asfactor()\n",
    "\n",
    "# for name in cat_feature:\n",
    "#     h2o_train[name] = h2o_train[name].asfactor()\n",
    "#     h2o_test[name] = h2o_test[name].asfactor()"
   ]
  },
  {
   "cell_type": "code",
   "execution_count": 5,
   "metadata": {},
   "outputs": [
    {
     "name": "stdout",
     "output_type": "stream",
     "text": [
      "glm Grid Build progress: |████████████████████████████████████████████████| 100%\n"
     ]
    }
   ],
   "source": [
    "# # Train logistic regression model with Lasso using grid search\n",
    "# hyper_parameters = {'alpha': [0, 0.2, 0.4, 0.6, 0.8, 1.0], \n",
    "#                     'lambda': [0, 1e-6, 1e-5, 1e-4, 1e-3, 1e-2, 1e-1, 1]}\n",
    "\n",
    "# # Create GLM model\n",
    "# glm = H2OGeneralizedLinearEstimator(family='binomial', balance_classes=False, \n",
    "#                                     early_stopping=True, custom_metric_func='auc',\n",
    "#                                     keep_cross_validation_predictions=True, nfolds=5)\n",
    "\n",
    "# # Grid search\n",
    "# glm_grid = H2OGridSearch(glm, hyper_parameters, grid_id='GLM')\n",
    "# glm_grid.train(x=features, y='TARGET', training_frame=h2o_train)"
   ]
  },
  {
   "cell_type": "code",
   "execution_count": 6,
   "metadata": {},
   "outputs": [
    {
     "name": "stdout",
     "output_type": "stream",
     "text": [
      "      alpha    lambda     model_ids                  auc\n",
      "0     [0.6]     [0.0]   GLM_model_3   0.7625809382617911\n",
      "1     [0.2]  [1.0E-6]   GLM_model_7    0.762359770013403\n",
      "2     [1.0]     [0.0]   GLM_model_5    0.762315330900026\n",
      "3     [0.8]     [0.0]   GLM_model_4   0.7622445826572887\n",
      "4     [0.0]  [1.0E-5]  GLM_model_12   0.7622422076690701\n",
      "5     [1.0]  [1.0E-6]  GLM_model_11   0.7622236662018853\n",
      "6     [0.4]  [1.0E-5]  GLM_model_14   0.7622003362106626\n",
      "7     [0.2]     [0.0]   GLM_model_1   0.7621587422094772\n",
      "8     [1.0]  [1.0E-5]  GLM_model_17   0.7621483032912021\n",
      "9     [0.0]     [0.0]   GLM_model_0   0.7620923202045793\n",
      "10    [0.0]  [1.0E-6]   GLM_model_6   0.7620759740980689\n",
      "11    [0.8]  [1.0E-5]  GLM_model_16   0.7620694935409931\n",
      "12    [0.8]  [1.0E-6]  GLM_model_10   0.7620598417490485\n",
      "13    [0.6]  [1.0E-6]   GLM_model_9   0.7620425955810004\n",
      "14    [0.6]  [1.0E-5]  GLM_model_15   0.7620174882675012\n",
      "15    [0.0]  [1.0E-4]  GLM_model_18   0.7619917815780001\n",
      "16    [0.4]     [0.0]   GLM_model_2   0.7619882220170247\n",
      "17    [0.2]  [1.0E-5]  GLM_model_13   0.7619725047137973\n",
      "18    [0.4]  [1.0E-6]   GLM_model_8   0.7619389454291448\n",
      "19    [0.4]  [1.0E-4]  GLM_model_20   0.7614876238500352\n",
      "20    [0.2]  [1.0E-4]  GLM_model_19   0.7614664759665226\n",
      "21    [0.6]  [1.0E-4]  GLM_model_21   0.7610264665050347\n",
      "22    [0.8]  [1.0E-4]  GLM_model_22   0.7609907384368889\n",
      "23    [1.0]  [1.0E-4]  GLM_model_23   0.7602425572959509\n",
      "24    [0.0]   [0.001]  GLM_model_24   0.7602134085408414\n",
      "25    [0.2]   [0.001]  GLM_model_25   0.7570632055566149\n",
      "26    [0.4]   [0.001]  GLM_model_26   0.7550188141732903\n",
      "27    [0.0]    [0.01]  GLM_model_30   0.7548389526360212\n",
      "28    [0.6]   [0.001]  GLM_model_27   0.7530219672296521\n",
      "29    [0.8]   [0.001]  GLM_model_28   0.7510997174461155\n",
      "30    [1.0]   [0.001]  GLM_model_29   0.7496412045617157\n",
      "31    [0.2]    [0.01]  GLM_model_31   0.7407280427171964\n",
      "32    [0.0]     [0.1]  GLM_model_36   0.7403272354530863\n",
      "33    [0.4]    [0.01]  GLM_model_32   0.7268927743642309\n",
      "34    [0.6]    [0.01]  GLM_model_33   0.7167584030828204\n",
      "35    [0.8]    [0.01]  GLM_model_34   0.7112995046329206\n",
      "36    [1.0]    [0.01]  GLM_model_35   0.7079961890111947\n",
      "37    [0.0]     [1.0]  GLM_model_42   0.7066988137904877\n",
      "38    [0.2]     [0.1]  GLM_model_37   0.7062739705654181\n",
      "39    [0.6]     [0.1]  GLM_model_39   0.4975119904299894\n",
      "40    [0.2]     [1.0]  GLM_model_43  0.49742383028589676\n",
      "41    [0.8]     [0.1]  GLM_model_40   0.4970611367660254\n",
      "42    [0.8]     [1.0]  GLM_model_46  0.49680479401013805\n",
      "43    [0.4]     [0.1]  GLM_model_38  0.49669405544615747\n",
      "44    [1.0]     [0.1]  GLM_model_41   0.4959127899184571\n",
      "45    [1.0]     [1.0]  GLM_model_47  0.49563091326037306\n",
      "46    [0.6]     [1.0]  GLM_model_45  0.49559692660324556\n",
      "47    [0.4]     [1.0]  GLM_model_44  0.49538242502345453\n"
     ]
    },
    {
     "data": {
      "text/plain": []
     },
     "execution_count": 6,
     "metadata": {},
     "output_type": "execute_result"
    }
   ],
   "source": [
    "# # Get the grid search result, sorted by AUC\n",
    "# glm_models = glm_grid.get_grid(sort_by='auc', decreasing=True)\n",
    "\n",
    "# # Choose the best model\n",
    "# best_glm = glm_grid.models[0]\n",
    "\n",
    "# glm_models"
   ]
  },
  {
   "cell_type": "code",
   "execution_count": 7,
   "metadata": {},
   "outputs": [
    {
     "name": "stdout",
     "output_type": "stream",
     "text": [
      "glm prediction progress: |████████████████████████████████████████████████| 100%\n",
      "glm prediction progress: |████████████████████████████████████████████████| 100%\n"
     ]
    },
    {
     "data": {
      "image/png": "[encoded data removed]",
      "text/plain": [
       "<Figure size 576x432 with 1 Axes>"
      ]
     },
     "metadata": {},
     "output_type": "display_data"
    }
   ],
   "source": [
    "# # Make predictions\n",
    "# glm_train_pred = best_glm.predict(h2o_train).as_data_frame()['p1'].values\n",
    "# glm_test_pred = best_glm.predict(h2o_test).as_data_frame()['p1'].values\n",
    "\n",
    "# # Build the ROC curve\n",
    "# glm_fpr, glm_tpr, _ = roc_curve(train['TARGET'].values, glm_train_pred)\n",
    "# glm_auc = np.round(auc(glm_fpr, glm_tpr), 3)\n",
    "\n",
    "# fig, ax = plt.subplots(figsize=(8, 6))\n",
    "# ax.plot(glm_fpr, glm_tpr, label='AUC: ' + str(glm_auc))\n",
    "# ax.plot(glm_fpr, glm_fpr, 'k:')\n",
    "# ax.set_xlabel('False Positive Rate', fontsize=12)\n",
    "# ax.set_ylabel('True Positive Rate', fontsize=12)\n",
    "# ax.legend(fontsize=12)\n",
    "# plt.show()"
   ]
  },
  {
   "cell_type": "code",
   "execution_count": 9,
   "metadata": {},
   "outputs": [
    {
     "name": "stdout",
     "output_type": "stream",
     "text": [
      "H2O session _sid_a3c3 closed.\n"
     ]
    }
   ],
   "source": [
    "# # make prediction file\n",
    "# test_id = test['SK_ID_CURR'].values\n",
    "# test_pred = glm_test_pred\n",
    "\n",
    "# glm_csv = pd.DataFrame({'SK_ID_CURR': test_id, 'TARGET': test_pred}, \n",
    "#                        columns=['SK_ID_CURR', 'TARGET'])\n",
    "# glm_csv.to_csv('./result/all_feature_h2o_logistic_regression_naive.csv', index=False)\n",
    "\n",
    "# # Shutdown h2o instance\n",
    "# h2o.cluster().shutdown()"
   ]
  },
  {
   "cell_type": "markdown",
   "metadata": {},
   "source": [
    "# LightGBM Random Forest"
   ]
  },
  {
   "cell_type": "code",
   "execution_count": null,
   "metadata": {},
   "outputs": [],
   "source": []
  },
  {
   "cell_type": "code",
   "execution_count": null,
   "metadata": {},
   "outputs": [],
   "source": []
  },
  {
   "cell_type": "code",
   "execution_count": null,
   "metadata": {},
   "outputs": [],
   "source": []
  },
  {
   "cell_type": "code",
   "execution_count": null,
   "metadata": {},
   "outputs": [],
   "source": []
  },
  {
   "cell_type": "markdown",
   "metadata": {},
   "source": [
    "# LightGBM Boosting"
   ]
  },
  {
   "cell_type": "code",
   "execution_count": null,
   "metadata": {},
   "outputs": [],
   "source": []
  },
  {
   "cell_type": "code",
   "execution_count": null,
   "metadata": {},
   "outputs": [],
   "source": []
  },
  {
   "cell_type": "code",
   "execution_count": null,
   "metadata": {},
   "outputs": [],
   "source": []
  },
  {
   "cell_type": "code",
   "execution_count": null,
   "metadata": {},
   "outputs": [],
   "source": []
  },
  {
   "cell_type": "code",
   "execution_count": null,
   "metadata": {},
   "outputs": [],
   "source": []
  }
 ],
 "metadata": {
  "kernelspec": {
   "display_name": "Python 3",
   "language": "python",
   "name": "python3"
  },
  "language_info": {
   "codemirror_mode": {
    "name": "ipython",
    "version": 3
   },
   "file_extension": ".py",
   "mimetype": "text/x-python",
   "name": "python",
   "nbconvert_exporter": "python",
   "pygments_lexer": "ipython3",
   "version": "3.6.3"
  }
 },
 "nbformat": 4,
 "nbformat_minor": 2
}
