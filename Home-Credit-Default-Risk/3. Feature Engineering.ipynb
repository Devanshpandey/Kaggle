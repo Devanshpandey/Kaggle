{
 "cells": [
  {
   "cell_type": "code",
   "execution_count": 1,
   "metadata": {},
   "outputs": [],
   "source": [
    "import warnings\n",
    "warnings.simplefilter('ignore')\n",
    "\n",
    "import numpy as np\n",
    "import pandas as pd\n",
    "import seaborn as sns\n",
    "import matplotlib.pyplot as plt\n",
    "\n",
    "%matplotlib inline"
   ]
  },
  {
   "cell_type": "markdown",
   "metadata": {},
   "source": [
    "# Load Data"
   ]
  },
  {
   "cell_type": "code",
   "execution_count": 2,
   "metadata": {},
   "outputs": [
    {
     "name": "stdout",
     "output_type": "stream",
     "text": [
      "Train:\t (307511, 320)\n",
      "Test: \t (48744, 319)\n"
     ]
    }
   ],
   "source": [
    "train = pd.read_csv('./data/train.csv')\n",
    "test = pd.read_csv('./data/test.csv')\n",
    "print('Train:\\t', train.shape)\n",
    "print('Test: \\t', test.shape)"
   ]
  },
  {
   "cell_type": "markdown",
   "metadata": {},
   "source": [
    "# Summary"
   ]
  },
  {
   "cell_type": "markdown",
   "metadata": {},
   "source": [
    "#### Categorical Variable\n",
    "+ Fill missing value with 'NA'\n",
    "+ Remove `CODE_GENDER` = 'XNA' from training data\n",
    "+ Remove `NAME_FAMILY_STATUS` = 'Unknown' from training data"
   ]
  },
  {
   "cell_type": "markdown",
   "metadata": {},
   "source": [
    "#### Discrete Variable\n",
    "+ Fill missing value with 0\n",
    "+ Replace `OBS_30_CNT_SOCIAL_CIRCLE` >= 50 to be 50\n",
    "+ Replace `DEF_30_CNT_SOCIAL_CIRCLE` >= 9 to be 9\n",
    "+ Replace `OBS_60_CNT_SOCIAL_CIRCLE` >= 50 to be 50\n",
    "+ Replace `DEF_60_CNT_SOCIAL_CIRCLE` >= 9 to be 9"
   ]
  },
  {
   "cell_type": "markdown",
   "metadata": {},
   "source": [
    "#### Continuous Variable\n",
    "* Fill missing value with median\n",
    "* Remove `AMT_INCOME_TOTAL` = 117000000.0\n",
    "* Replace `DAYS_EMPLOYED` = 365243 to be 1"
   ]
  },
  {
   "cell_type": "markdown",
   "metadata": {},
   "source": [
    "# Simple Cleaning"
   ]
  },
  {
   "cell_type": "code",
   "execution_count": 3,
   "metadata": {},
   "outputs": [],
   "source": [
    "# drop useless columns (features with training missing rate > 0.1)\n",
    "drop_columns = ['Median_Credit_AMT_PAYMENT_CURRENT', 'Mean_Credit_AMT_PAYMENT_CURRENT',\n",
    "       'Median_Credit_AMT_DRAWINGS_POS_CURRENT', 'Median_Credit_CNT_DRAWINGS_POS_CURRENT',\n",
    "       'Mean_Credit_CNT_DRAWINGS_ATM_CURRENT', 'Median_Credit_CNT_DRAWINGS_ATM_CURRENT',\n",
    "       'Mean_Credit_AMT_DRAWINGS_ATM_CURRENT', 'Median_Credit_AMT_DRAWINGS_ATM_CURRENT',\n",
    "       'Mean_Credit_CNT_DRAWINGS_OTHER_CURRENT', 'Mean_Credit_AMT_DRAWINGS_OTHER_CURRENT',\n",
    "       'Median_Credit_AMT_DRAWINGS_OTHER_CURRENT', 'Median_Credit_CNT_DRAWINGS_OTHER_CURRENT',\n",
    "       'Mean_Credit_AMT_DRAWINGS_POS_CURRENT', 'Mean_Credit_CNT_DRAWINGS_POS_CURRENT',\n",
    "       'Mean_AMT_CREDIT_MAX_OVERDUE', 'Median_AMT_CREDIT_MAX_OVERDUE', 'Mean_AMT_ANNUITY', \n",
    "       'Median_AMT_ANNUITY', 'Sum_Credit_CNT_INSTALMENT_MATURE_CUM', 'Sum_Credit_CNT_DRAWINGS_POS_CURRENT', \n",
    "       'Sum_Credit_MONTH_BALANCE', 'Sum_Credit_CNT_DRAWINGS_ATM_CURRENT', \n",
    "       'Sum_Credit_CNT_DRAWINGS_CURRENT', 'Sum_Credit_SK_DPD', 'Mean_Credit_CNT_DRAWINGS_CURRENT',\n",
    "       'Median_Credit_CNT_DRAWINGS_CURRENT', 'Sum_Credit_CNT_DRAWINGS_OTHER_CURRENT', \n",
    "       'Median_Credit_CNT_INSTALMENT_MATURE_CUM', 'Mean_Credit_CNT_INSTALMENT_MATURE_CUM',\n",
    "       'Median_Credit_MONTH_BALANCE', 'Mean_Credit_MONTH_BALANCE', 'Sum_Credit_AMT_BALANCE', \n",
    "       'Median_Credit_AMT_TOTAL_RECEIVABLE', 'Mean_Credit_AMT_BALANCE', 'Median_Credit_AMT_RECIVABLE',\n",
    "       'Mean_Credit_AMT_RECIVABLE', 'Sum_Credit_AMT_RECIVABLE', 'Median_Credit_AMT_RECEIVABLE_PRINCIPAL',\n",
    "       'Mean_Credit_AMT_RECEIVABLE_PRINCIPAL', 'Sum_Credit_AMT_RECEIVABLE_PRINCIPAL',\n",
    "       'Median_Credit_AMT_PAYMENT_TOTAL_CURRENT', 'Mean_Credit_AMT_PAYMENT_TOTAL_CURRENT',\n",
    "       'Sum_Credit_AMT_PAYMENT_TOTAL_CURRENT', 'Sum_Credit_AMT_PAYMENT_CURRENT',\n",
    "       'Median_Credit_AMT_INST_MIN_REGULARITY', 'Mean_Credit_AMT_INST_MIN_REGULARITY',\n",
    "       'Sum_Credit_AMT_INST_MIN_REGULARITY', 'Sum_Credit_AMT_DRAWINGS_POS_CURRENT',\n",
    "       'Sum_Credit_AMT_DRAWINGS_OTHER_CURRENT', 'Median_Credit_AMT_DRAWINGS_CURRENT',\n",
    "       'Mean_Credit_AMT_DRAWINGS_CURRENT', 'Sum_Credit_AMT_DRAWINGS_CURRENT',\n",
    "       'Sum_Credit_AMT_DRAWINGS_ATM_CURRENT', 'Median_Credit_AMT_CREDIT_LIMIT_ACTUAL',\n",
    "       'Mean_Credit_AMT_CREDIT_LIMIT_ACTUAL', 'Mean_Credit_AMT_TOTAL_RECEIVABLE', \n",
    "       'Median_Credit_AMT_BALANCE', 'Sum_Credit_AMT_CREDIT_LIMIT_ACTUAL',\n",
    "       'Sum_Credit_AMT_TOTAL_RECEIVABLE', 'Mean_Credit_SK_DPD_DEF', 'Sum_Credit_SK_DPD_DEF', \n",
    "       'Median_Credit_SK_DPD', 'Median_Credit_SK_DPD_DEF', 'Mean_Credit_SK_DPD',\n",
    "       'Median_MONTHS_COUNT', 'Mean_MONTHS_COUNT', 'COMMONAREA_MEDI', 'COMMONAREA_MODE', \n",
    "       'COMMONAREA_AVG', 'NONLIVINGAPARTMENTS_MODE', 'NONLIVINGAPARTMENTS_MEDI', \n",
    "       'NONLIVINGAPARTMENTS_AVG', 'LIVINGAPARTMENTS_AVG', 'LIVINGAPARTMENTS_MEDI', \n",
    "       'LIVINGAPARTMENTS_MODE', 'FLOORSMIN_MEDI', 'FLOORSMIN_AVG', 'FLOORSMIN_MODE', \n",
    "       'YEARS_BUILD_MODE', 'YEARS_BUILD_AVG', 'YEARS_BUILD_MEDI', 'OWN_CAR_AGE', 'LANDAREA_MEDI', \n",
    "       'LANDAREA_AVG', 'LANDAREA_MODE', 'BASEMENTAREA_AVG', 'BASEMENTAREA_MEDI', 'BASEMENTAREA_MODE', \n",
    "       'EXT_SOURCE_1', 'NONLIVINGAREA_MEDI', 'NONLIVINGAREA_MODE', 'NONLIVINGAREA_AVG', 'ELEVATORS_MEDI', \n",
    "       'ELEVATORS_MODE', 'ELEVATORS_AVG', 'APARTMENTS_AVG', 'APARTMENTS_MODE', 'APARTMENTS_MEDI', \n",
    "       'ENTRANCES_MODE', 'ENTRANCES_MEDI', 'ENTRANCES_AVG', 'LIVINGAREA_MODE', 'LIVINGAREA_MEDI', \n",
    "       'LIVINGAREA_AVG', 'FLOORSMAX_MODE', 'FLOORSMAX_AVG', 'FLOORSMAX_MEDI', 'YEARS_BEGINEXPLUATATION_MEDI', \n",
    "       'YEARS_BEGINEXPLUATATION_AVG', 'YEARS_BEGINEXPLUATATION_MODE', 'TOTALAREA_MODE',\n",
    "       'Mean_DAYS_ENDDATE_FACT', 'Median_DAYS_ENDDATE_FACT', 'Mean_AMT_CREDIT_SUM_LIMIT', \n",
    "       'Median_AMT_CREDIT_SUM_LIMIT', 'Mean_AMT_CREDIT_SUM_DEBT', 'Median_AMT_CREDIT_SUM_DEBT',\n",
    "       'Median_DAYS_CREDIT_ENDDATE', 'Mean_DAYS_CREDIT_ENDDATE', 'Mean_AMT_CREDIT_SUM', \n",
    "       'Median_AMT_CREDIT_SUM', 'Sum_AMT_CREDIT_MAX_OVERDUE', 'Sum_DAYS_ENDDATE_FACT',\n",
    "       'Sum_DAYS_CREDIT', 'Mean_DAYS_CREDIT', 'Median_DAYS_CREDIT', 'Sum_DAYS_CREDIT_ENDDATE', \n",
    "       'Sum_MONTHS_COUNT', 'Sum_CNT_CREDIT_PROLONG', 'Mean_CNT_CREDIT_PROLONG', 'Median_CNT_CREDIT_PROLONG', \n",
    "       'Sum_AMT_CREDIT_SUM', 'Sum_AMT_CREDIT_SUM_DEBT', 'Sum_AMT_CREDIT_SUM_LIMIT',\n",
    "       'Sum_AMT_CREDIT_SUM_OVERDUE', 'Mean_AMT_CREDIT_SUM_OVERDUE', 'Median_AMT_CREDIT_SUM_OVERDUE', \n",
    "       'Sum_AMT_ANNUITY', 'AMT_REQ_CREDIT_BUREAU_QRT', 'AMT_REQ_CREDIT_BUREAU_YEAR', \n",
    "       'AMT_REQ_CREDIT_BUREAU_MON', 'AMT_REQ_CREDIT_BUREAU_DAY', 'AMT_REQ_CREDIT_BUREAU_HOUR', \n",
    "       'AMT_REQ_CREDIT_BUREAU_WEEK', 'Median_prev_RATE_DOWN_PAYMENT', 'Mean_prev_RATE_DOWN_PAYMENT', \n",
    "       'Median_prev_AMT_DOWN_PAYMENT', 'Mean_prev_AMT_DOWN_PAYMENT']"
   ]
  },
  {
   "cell_type": "code",
   "execution_count": 4,
   "metadata": {},
   "outputs": [
    {
     "name": "stdout",
     "output_type": "stream",
     "text": [
      "Train:\t (307511, 172)\n",
      "Test: \t (48744, 171)\n"
     ]
    }
   ],
   "source": [
    "train = train.drop(labels=drop_columns, axis=1)\n",
    "test = test.drop(labels=drop_columns, axis=1)\n",
    "print('Train:\\t', train.shape)\n",
    "print('Test: \\t', test.shape)"
   ]
  },
  {
   "cell_type": "code",
   "execution_count": 5,
   "metadata": {},
   "outputs": [],
   "source": [
    "# define categorical features\n",
    "cat_feature = ['NAME_CONTRACT_TYPE', 'CODE_GENDER', 'FLAG_OWN_CAR', 'FLAG_OWN_REALTY', \n",
    "               'NAME_TYPE_SUITE', 'NAME_INCOME_TYPE', 'NAME_EDUCATION_TYPE', \n",
    "               'NAME_FAMILY_STATUS', 'NAME_HOUSING_TYPE', 'OCCUPATION_TYPE', \n",
    "               'WEEKDAY_APPR_PROCESS_START', 'ORGANIZATION_TYPE', 'FONDKAPREMONT_MODE', \n",
    "               'HOUSETYPE_MODE', 'WALLSMATERIAL_MODE', 'EMERGENCYSTATE_MODE', \n",
    "               'Binary_CREDIT_DAY_OVERDUE', 'FLAG_MOBIL', 'FLAG_EMP_PHONE', \n",
    "               'FLAG_WORK_PHONE', 'FLAG_CONT_MOBILE', 'FLAG_PHONE', 'FLAG_EMAIL', \n",
    "               'REG_REGION_NOT_LIVE_REGION', 'REG_REGION_NOT_WORK_REGION',  \n",
    "               'LIVE_REGION_NOT_WORK_REGION', 'REG_CITY_NOT_LIVE_CITY', \n",
    "               'REG_CITY_NOT_WORK_CITY', 'LIVE_CITY_NOT_WORK_CITY', 'FLAG_DOCUMENT_2', \n",
    "               'FLAG_DOCUMENT_3', 'FLAG_DOCUMENT_4', 'FLAG_DOCUMENT_5', \n",
    "               'FLAG_DOCUMENT_6', 'FLAG_DOCUMENT_7', 'FLAG_DOCUMENT_8', \n",
    "               'FLAG_DOCUMENT_9', 'FLAG_DOCUMENT_10', 'FLAG_DOCUMENT_11', \n",
    "               'FLAG_DOCUMENT_12', 'FLAG_DOCUMENT_13', 'FLAG_DOCUMENT_14', \n",
    "               'FLAG_DOCUMENT_15', 'FLAG_DOCUMENT_16', 'FLAG_DOCUMENT_17', \n",
    "               'FLAG_DOCUMENT_18', 'FLAG_DOCUMENT_19',  'FLAG_DOCUMENT_20', \n",
    "               'FLAG_DOCUMENT_21', ]\n",
    "\n",
    "dis_feature = ['CNT_CHILDREN', 'CNT_FAM_MEMBERS', 'REGION_RATING_CLIENT', \n",
    "               'REGION_RATING_CLIENT_W_CITY', 'HOUR_APPR_PROCESS_START', \n",
    "               'OBS_30_CNT_SOCIAL_CIRCLE', 'DEF_30_CNT_SOCIAL_CIRCLE', \n",
    "               'OBS_60_CNT_SOCIAL_CIRCLE', 'DEF_60_CNT_SOCIAL_CIRCLE', \n",
    "               'Total_BUREAU', 'Closed_BUREAU', 'Active_BUREAU', 'Sold_BUREAU', \n",
    "               'Bad_BUREAU', 'Count_AMT_CREDIT_MAX_OVERDUE', 'Credit_CREDIT_TYPE', \n",
    "               'Loan_CREDIT_TYPE', 'Count_POS_CASH', 'Completed_CASH_CONTRACT', \n",
    "               'Other_CASH_CONTRACT', 'Count_Credit_Card', 'Active_Credit_CONTRACT', \n",
    "               'Completed_Credit_CONTRACT', 'Other_Credit_CONTRACT', 'Count_installment', \n",
    "               'Count_prev', 'Count_prev_Cash_loan', 'Count_prev_Consumer_loan', \n",
    "               'Count_prev_Revolving_loan', 'Count_Y_prev_FLAG_LAST_APPL_PER_CONTRACT', \n",
    "               'Count_N_prev_FLAG_LAST_APPL_PER_CONTRACT', 'Count_1_prev_NFLAG_LAST_APPL_IN_DAY', \n",
    "               'Count_0_prev_NFLAG_LAST_APPL_IN_DAY', 'Count_Approved_prev_NAME_CONTRACT_STATUS', \n",
    "               'Count_Canceled_prev_NAME_CONTRACT_STATUS', 'Count_Refused_prev_NAME_CONTRACT_STATUS', \n",
    "               'Count_Unused_prev_NAME_CONTRACT_STATUS',  'Count_Cash_prev_NAME_PAYMENT_TYPE',\n",
    "               'Count_XNA_prev_NAME_PAYMENT_TYPE', 'Count_Noncash_prev_NAME_PAYMENT_TYPE', \n",
    "               'Count_Unaccompanied_prev_NAME_TYPE_SUITE', 'Count_Accompanied_prev_NAME_TYPE_SUITE', \n",
    "               'Count_Other_NAME_TYPE_SUITE', 'Count_Repeater_prev_NAME_CLIENT_TYPE', \n",
    "               'Count_New_prev_NAME_CLIENT_TYPE', 'Count_Refreshed_prev_NAME_CLIENT_TYPE', \n",
    "               'Count_POS_prev_NAME_PORTFOLIO', 'Count_Cash_prev_NAME_PORTFOLIO', \n",
    "               'Count_Cards_prev_NAME_PORTFOLIO', 'Count_Other_prev_NAME_PORTFOLIO', \n",
    "               'Count_XNA_prev_NAME_PRODUCT_TYPE', 'Count_xsell_prev_NAME_PRODUCT_TYPE', \n",
    "               'Count_walkin_prev_NAME_PRODUCT_TYPE', 'Count_0_prev_NFLAG_INSURED_ON_APPROVAL', \n",
    "               'Count_1_prev_NFLAG_INSURED_ON_APPROVAL']\n",
    "\n",
    "con_feature = ['AMT_INCOME_TOTAL', 'AMT_CREDIT', 'AMT_ANNUITY', 'AMT_GOODS_PRICE', \n",
    "               'REGION_POPULATION_RELATIVE', 'DAYS_BIRTH', 'DAYS_EMPLOYED', \n",
    "               'DAYS_REGISTRATION', 'DAYS_ID_PUBLISH', 'EXT_SOURCE_2', \n",
    "               'EXT_SOURCE_3', 'DAYS_LAST_PHONE_CHANGE', 'Sum_CASH_MONTH_BALANCE', \n",
    "               'Mean_CASH_MONTH_BALANCE', 'Median_CASH_MONTH_BALANCE', 'Sum_CASH_CNT_INSTALMENT', \n",
    "               'Mean_CASH_CNT_INSTALMENT', 'Median_CASH_CNT_INSTALMENT', \n",
    "               'Sum_CASH_CNT_INSTALMENT_FUTURE', 'Mean_CASH_CNT_INSTALMENT_FUTURE', \n",
    "               'Median_CASH_CNT_INSTALMENT_FUTURE', 'Active_CASH_CONTRACT', \n",
    "               'Sum_CASH_SK_DPD', 'Mean_CASH_SK_DPD', 'Median_CASH_SK_DPD', 'Sum_CASH_SK_DPD_DEF', \n",
    "               'Mean_CASH_SK_DPD_DEF', 'Median_CASH_SK_DPD_DEF', 'Sum_NUM_INSTALMENT_VERSION', \n",
    "               'Mean_NUM_INSTALMENT_VERSION', 'Median_NUM_INSTALMENT_VERSION', \n",
    "               'Sum_NUM_INSTALMENT_NUMBER', 'Mean_NUM_INSTALMENT_NUMBER', \n",
    "               'Median_NUM_INSTALMENT_NUMBER', 'Sum_DAYS_INSTALMENT', 'Mean_DAYS_INSTALMENT',\n",
    "               'Median_DAYS_INSTALMENT', 'Sum_DAYS_ENTRY_PAYMENT', 'Mean_DAYS_ENTRY_PAYMENT', \n",
    "               'Median_DAYS_ENTRY_PAYMENT', 'Sum_AMT_INSTALMENT', 'Mean_AMT_INSTALMENT', \n",
    "               'Median_AMT_INSTALMENT', 'Sum_AMT_PAYMENT', 'Mean_AMT_PAYMENT', 'Median_AMT_PAYMENT',\n",
    "               'Sum_prev_AMT_ANNUITY', 'Mean_prev_AMT_ANNUITY', 'Median_prev_AMT_ANNUITY', \n",
    "               'Sum_prev_AMT_APPLICATION', 'Mean_prev_AMT_APPLICATION', 'Median_prev_AMT_APPLICATION', \n",
    "               'Sum_prev_AMT_CREDIT', 'Mean_prev_AMT_CREDIT', 'Median_prev_AMT_CREDIT', \n",
    "               'Sum_prev_AMT_DOWN_PAYMENT', 'Sum_prev_AMT_GOODS_PRICE',  'Mean_prev_AMT_GOODS_PRICE', \n",
    "               'Median_prev_AMT_GOODS_PRICE', 'Sum_prev_RATE_DOWN_PAYMENT', 'Sum_prev_DAYS_DECISION', \n",
    "               'Mean_prev_DAYS_DECISION', 'Median_prev_DAYS_DECISION','Sum_prev_CNT_PAYMENT', \n",
    "               'Mean_prev_CNT_PAYMENT', 'Median_prev_CNT_PAYMENT']"
   ]
  },
  {
   "cell_type": "code",
   "execution_count": 6,
   "metadata": {},
   "outputs": [
    {
     "name": "stdout",
     "output_type": "stream",
     "text": [
      "Categorical:\t 49\n",
      "Discrete:\t 55\n",
      "Continuous:\t 66\n"
     ]
    }
   ],
   "source": [
    "# define numerical and categorical features\n",
    "print('Categorical:\\t', len(cat_feature))\n",
    "print('Discrete:\\t', len(dis_feature))\n",
    "print('Continuous:\\t', len(con_feature))"
   ]
  },
  {
   "cell_type": "markdown",
   "metadata": {},
   "source": [
    "# Categorical Features"
   ]
  },
  {
   "cell_type": "code",
   "execution_count": 7,
   "metadata": {
    "scrolled": false
   },
   "outputs": [
    {
     "name": "stdout",
     "output_type": "stream",
     "text": [
      "0 0\n"
     ]
    }
   ],
   "source": [
    "# feature engineering\n",
    "cat_missing = ['FONDKAPREMONT_MODE', 'WALLSMATERIAL_MODE', 'HOUSETYPE_MODE', 'NAME_TYPE_SUITE', \n",
    "               'EMERGENCYSTATE_MODE', 'OCCUPATION_TYPE', 'Binary_CREDIT_DAY_OVERDUE']\n",
    "\n",
    "# fill missing vcat_missingth 'NA'\n",
    "for feature in cat_missing:\n",
    "    train[feature] = train[feature].fillna(value='Missed')\n",
    "    test[feature] = test[feature].fillna(value='Missed')\n",
    "    \n",
    "# remove useless records from training set\n",
    "train = train[train['CODE_GENDER'] != 'XNA']\n",
    "tran = train[train['NAME_FAMILY_STATUS'] != 'Unknown']\n",
    "\n",
    "# double check the missing values\n",
    "print(train[cat_feature].isnull().sum().sum(), test[cat_feature].isnull().sum().sum())"
   ]
  },
  {
   "cell_type": "markdown",
   "metadata": {},
   "source": [
    "# Discrete Features"
   ]
  },
  {
   "cell_type": "code",
   "execution_count": 8,
   "metadata": {},
   "outputs": [
    {
     "name": "stdout",
     "output_type": "stream",
     "text": [
      "0 0\n"
     ]
    }
   ],
   "source": [
    "# feature engineering\n",
    "dis_missing = ['Count_Credit_Card', 'Other_Credit_CONTRACT', 'Completed_Credit_CONTRACT', \n",
    "               'Active_Credit_CONTRACT', 'Sold_BUREAU', 'Loan_CREDIT_TYPE', \n",
    "               'Count_AMT_CREDIT_MAX_OVERDUE', 'Bad_BUREAU', 'Credit_CREDIT_TYPE', \n",
    "               'Active_BUREAU', 'Closed_BUREAU', 'Total_BUREAU', 'Count_POS_CASH',\n",
    "               'Completed_CASH_CONTRACT', 'Other_CASH_CONTRACT', \n",
    "               'Count_POS_prev_NAME_PORTFOLIO', 'Count_Other_NAME_TYPE_SUITE',\n",
    "               'Count_Accompanied_prev_NAME_TYPE_SUITE', 'Count_Unaccompanied_prev_NAME_TYPE_SUITE',\n",
    "               'Count_Noncash_prev_NAME_PAYMENT_TYPE', 'Count_Repeater_prev_NAME_CLIENT_TYPE',\n",
    "               'Count_New_prev_NAME_CLIENT_TYPE', 'Count_Refreshed_prev_NAME_CLIENT_TYPE',\n",
    "               'Count_Y_prev_FLAG_LAST_APPL_PER_CONTRACT', 'Count_Cash_prev_NAME_PORTFOLIO',\n",
    "               'Count_Cards_prev_NAME_PORTFOLIO', 'Count_Other_prev_NAME_PORTFOLIO',\n",
    "               'Count_XNA_prev_NAME_PRODUCT_TYPE', 'Count_Cash_prev_NAME_PAYMENT_TYPE',\n",
    "               'Count_xsell_prev_NAME_PRODUCT_TYPE', 'Count_walkin_prev_NAME_PRODUCT_TYPE',\n",
    "               'Count_0_prev_NFLAG_INSURED_ON_APPROVAL', 'Count_XNA_prev_NAME_PAYMENT_TYPE',\n",
    "               'Count_1_prev_NFLAG_INSURED_ON_APPROVAL', 'Count_Unused_prev_NAME_CONTRACT_STATUS',\n",
    "               'Count_N_prev_FLAG_LAST_APPL_PER_CONTRACT', 'Count_prev', 'Count_prev_Cash_loan', \n",
    "               'Count_prev_Consumer_loan', 'Count_Refused_prev_NAME_CONTRACT_STATUS', \n",
    "               'Count_prev_Revolving_loan', 'Count_1_prev_NFLAG_LAST_APPL_IN_DAY',\n",
    "               'Count_0_prev_NFLAG_LAST_APPL_IN_DAY', 'Count_Approved_prev_NAME_CONTRACT_STATUS',\n",
    "               'Count_Canceled_prev_NAME_CONTRACT_STATUS', 'Count_installment', 'OBS_30_CNT_SOCIAL_CIRCLE', \n",
    "               'DEF_60_CNT_SOCIAL_CIRCLE', 'OBS_60_CNT_SOCIAL_CIRCLE', 'DEF_30_CNT_SOCIAL_CIRCLE',\n",
    "               'CNT_FAM_MEMBERS']\n",
    "\n",
    "# fill missing dis_missing with 0\n",
    "for feature in dis_missing:\n",
    "    train[feature] = train[feature].fillna(value=0)\n",
    "    test[feature] = test[feature].fillna(value=0)\n",
    "    \n",
    "# process OBS data\n",
    "train[train['OBS_30_CNT_SOCIAL_CIRCLE'] >= 50]['OBS_30_CNT_SOCIAL_CIRCLE'] = 50\n",
    "train[train['DEF_30_CNT_SOCIAL_CIRCLE'] >= 9]['DEF_30_CNT_SOCIAL_CIRCLE'] = 9\n",
    "train[train['OBS_60_CNT_SOCIAL_CIRCLE'] >= 50]['OBS_60_CNT_SOCIAL_CIRCLE'] = 50\n",
    "train[train['DEF_60_CNT_SOCIAL_CIRCLE'] >= 9]['DEF_60_CNT_SOCIAL_CIRCLE'] = 9\n",
    "   \n",
    "# double check the missing values\n",
    "print(train[dis_feature].isnull().sum().sum(), test[dis_feature].isnull().sum().sum())"
   ]
  },
  {
   "cell_type": "markdown",
   "metadata": {},
   "source": [
    "# Continuous Features"
   ]
  },
  {
   "cell_type": "code",
   "execution_count": 9,
   "metadata": {},
   "outputs": [
    {
     "name": "stdout",
     "output_type": "stream",
     "text": [
      "0 0\n"
     ]
    }
   ],
   "source": [
    "# feature engineering\n",
    "con_missing = ['EXT_SOURCE_3', 'Median_CASH_CNT_INSTALMENT',\n",
    "       'Median_CASH_CNT_INSTALMENT_FUTURE', 'Mean_CASH_CNT_INSTALMENT',\n",
    "       'Mean_CASH_CNT_INSTALMENT_FUTURE', 'Sum_CASH_CNT_INSTALMENT_FUTURE', \n",
    "       'Sum_CASH_SK_DPD_DEF', 'Median_CASH_SK_DPD', 'Mean_CASH_SK_DPD', \n",
    "       'Sum_CASH_SK_DPD', 'Active_CASH_CONTRACT', 'Median_CASH_SK_DPD_DEF',\n",
    "       'Sum_CASH_CNT_INSTALMENT', 'Median_CASH_MONTH_BALANCE',\n",
    "       'Mean_CASH_MONTH_BALANCE', 'Sum_CASH_MONTH_BALANCE',\n",
    "       'Mean_CASH_SK_DPD_DEF', 'Median_prev_AMT_GOODS_PRICE',\n",
    "       'Mean_prev_AMT_GOODS_PRICE', 'Median_prev_AMT_ANNUITY',\n",
    "       'Mean_prev_AMT_ANNUITY', 'Median_prev_CNT_PAYMENT',\n",
    "       'Mean_prev_CNT_PAYMENT', 'Mean_prev_AMT_CREDIT',\n",
    "       'Sum_prev_AMT_ANNUITY', 'Sum_prev_AMT_APPLICATION',\n",
    "       'Mean_prev_AMT_APPLICATION', 'Median_prev_AMT_APPLICATION',\n",
    "       'Sum_prev_AMT_CREDIT', 'Mean_prev_DAYS_DECISION',\n",
    "       'Median_prev_DAYS_DECISION', 'Median_prev_AMT_CREDIT',\n",
    "       'Sum_prev_AMT_DOWN_PAYMENT', 'Sum_prev_AMT_GOODS_PRICE',\n",
    "       'Sum_prev_CNT_PAYMENT', 'Sum_prev_RATE_DOWN_PAYMENT',\n",
    "       'Sum_prev_DAYS_DECISION', 'Median_DAYS_ENTRY_PAYMENT',\n",
    "       'Mean_AMT_PAYMENT', 'Median_AMT_PAYMENT', 'Mean_DAYS_ENTRY_PAYMENT', \n",
    "       'Median_DAYS_INSTALMENT', 'Sum_AMT_PAYMENT', 'Median_AMT_INSTALMENT',\n",
    "       'Sum_NUM_INSTALMENT_VERSION', 'Mean_NUM_INSTALMENT_VERSION',\n",
    "       'Median_NUM_INSTALMENT_VERSION', 'Sum_NUM_INSTALMENT_NUMBER',\n",
    "       'Mean_NUM_INSTALMENT_NUMBER', 'Median_NUM_INSTALMENT_NUMBER',\n",
    "       'Sum_DAYS_INSTALMENT', 'Mean_DAYS_INSTALMENT', 'Sum_DAYS_ENTRY_PAYMENT', \n",
    "       'Sum_AMT_INSTALMENT', 'Mean_AMT_INSTALMENT', 'EXT_SOURCE_2', 'AMT_GOODS_PRICE',\n",
    "       'AMT_ANNUITY', 'DAYS_LAST_PHONE_CHANGE']\n",
    "\n",
    "# fill missing feature with median\n",
    "for feature in con_missing:\n",
    "    median = train[feature].median()\n",
    "    train[feature] = train[feature].fillna(value=median)\n",
    "    test[feature] = test[feature].fillna(value=median)\n",
    "    \n",
    "# process outlier\n",
    "train = train[train['AMT_INCOME_TOTAL'] != 117000000]\n",
    "train.loc[train['DAYS_EMPLOYED'] == 365243, 'DAYS_EMPLOYED'] = 1\n",
    "test.loc[test['DAYS_EMPLOYED'] == 365243, 'DAYS_EMPLOYED'] = 1\n",
    "    \n",
    "# double check the missing values\n",
    "print(train[con_missing].isnull().sum().sum(), test[con_missing].isnull().sum().sum())"
   ]
  },
  {
   "cell_type": "code",
   "execution_count": 10,
   "metadata": {},
   "outputs": [
    {
     "name": "stdout",
     "output_type": "stream",
     "text": [
      "Train missing:\t 0\n",
      "Test missing:\t 0\n"
     ]
    }
   ],
   "source": [
    "# save to disk\n",
    "train.to_csv('./data/train_clean.csv', index=False)\n",
    "test.to_csv('./data/test_clean.csv', index=False)\n",
    "\n",
    "print('Train missing:\\t', train.isnull().sum().sum())\n",
    "print('Test missing:\\t', test.isnull().sum().sum())"
   ]
  },
  {
   "cell_type": "code",
   "execution_count": null,
   "metadata": {},
   "outputs": [],
   "source": []
  }
 ],
 "metadata": {
  "kernelspec": {
   "display_name": "Python 3",
   "language": "python",
   "name": "python3"
  },
  "language_info": {
   "codemirror_mode": {
    "name": "ipython",
    "version": 3
   },
   "file_extension": ".py",
   "mimetype": "text/x-python",
   "name": "python",
   "nbconvert_exporter": "python",
   "pygments_lexer": "ipython3",
   "version": "3.6.3"
  }
 },
 "nbformat": 4,
 "nbformat_minor": 2
}
